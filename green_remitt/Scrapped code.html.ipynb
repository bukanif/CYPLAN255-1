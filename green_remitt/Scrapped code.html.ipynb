{
 "cells": [
  {
   "cell_type": "code",
   "execution_count": null,
   "id": "04c0768e",
   "metadata": {},
   "outputs": [],
   "source": [
    "# Key findings dropdown\n",
    "        <form action=\"/action_page.php\">\n",
    "        <select name=\"findings\" id=\"findings\">\n",
    "          <option value=\"\" onclick=\"w3_close()\" class=\"w3-bar-item w3-button w3-hover-white\"></option>\n",
    "          <option value=\"inward\" onclick=\"w3_close()\" class=\"w3-bar-item w3-button w3-hover-white\">Receiving Countries</option>\n",
    "          <option value=\"outward\" onclick=\"w3_close()\" class=\"w3-bar-item w3-button w3-hover-white\">Sending Countries</option>\n",
    "        </select>\n",
    "        \n"
   ]
  }
 ],
 "metadata": {
  "kernelspec": {
   "display_name": "Python 3 (ipykernel)",
   "language": "python",
   "name": "python3"
  },
  "language_info": {
   "codemirror_mode": {
    "name": "ipython",
    "version": 3
   },
   "file_extension": ".py",
   "mimetype": "text/x-python",
   "name": "python",
   "nbconvert_exporter": "python",
   "pygments_lexer": "ipython3",
   "version": "3.9.7"
  }
 },
 "nbformat": 4,
 "nbformat_minor": 5
}
