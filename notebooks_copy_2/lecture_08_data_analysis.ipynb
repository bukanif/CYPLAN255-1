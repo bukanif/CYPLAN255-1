{
 "cells": [
  {
   "cell_type": "markdown",
   "id": "b40ef5a4",
   "metadata": {
    "slideshow": {
     "slide_type": "slide"
    }
   },
   "source": [
    "# CYPLAN255\n",
    "### Urban Informatics and Visualization"
   ]
  },
  {
   "cell_type": "markdown",
   "id": "2adc2c5d",
   "metadata": {
    "slideshow": {
     "slide_type": "slide"
    }
   },
   "source": [
    "HIT RECORD and TRANSCRIBE"
   ]
  },
  {
   "cell_type": "markdown",
   "id": "0ceea7a8",
   "metadata": {
    "slideshow": {
     "slide_type": "slide"
    }
   },
   "source": [
    "# Lecture 08 -- Data Analysis\n",
    "*******\n",
    "February 16, 2022"
   ]
  },
  {
   "cell_type": "markdown",
   "id": "75f7d376",
   "metadata": {
    "slideshow": {
     "slide_type": "slide"
    }
   },
   "source": [
    "# Agenda\n",
    "1. Announcements\n",
    "2. Review of last session\n",
    "3. Data Analysis\n",
    "4. For next time\n",
    "5. Questions\n"
   ]
  },
  {
   "cell_type": "markdown",
   "id": "4f1c0cef",
   "metadata": {
    "slideshow": {
     "slide_type": "slide"
    }
   },
   "source": [
    "# 1. Announcements"
   ]
  },
  {
   "cell_type": "markdown",
   "id": "8e5d336f",
   "metadata": {
    "slideshow": {
     "slide_type": "fragment"
    }
   },
   "source": [
    "1. Assignment 2 due _Sunday_\n",
    "2. Update to GitHub guide\n",
    "3. Dante and Virgil"
   ]
  },
  {
   "cell_type": "markdown",
   "id": "b221723a",
   "metadata": {
    "slideshow": {
     "slide_type": "slide"
    }
   },
   "source": [
    "## 1.3 Dante and Virgil\n",
    "\n",
    "<img src=\"https://upload.wikimedia.org/wikipedia/commons/7/70/Eug%C3%A8ne_Delacroix_-_The_Barque_of_Dante.jpg\" width=50%>\n",
    "\n",
    "_The Barque of Dante_, Eugène Delacroix (1822)"
   ]
  },
  {
   "cell_type": "markdown",
   "id": "27b61f31",
   "metadata": {
    "slideshow": {
     "slide_type": "slide"
    }
   },
   "source": [
    "# 2. Review from Intro to Data Analysis"
   ]
  },
  {
   "cell_type": "markdown",
   "id": "69a93919",
   "metadata": {
    "slideshow": {
     "slide_type": "fragment"
    }
   },
   "source": [
    "## 2.1 Indexing and Selecting"
   ]
  },
  {
   "cell_type": "markdown",
   "id": "4783c11d",
   "metadata": {
    "slideshow": {
     "slide_type": "fragment"
    }
   },
   "source": [
    "- use `[<row>, <column>]` indexing with `loc` (labels) and `iloc` (positions)\n",
    "- use `df[<col>]` to select a column/Series from a DataFrame by column label\n",
    "- use `df[[<col1>, <col2>]]` to select a subset of a DataFrame by column label"
   ]
  },
  {
   "cell_type": "markdown",
   "id": "368bc62c",
   "metadata": {
    "slideshow": {
     "slide_type": "slide"
    }
   },
   "source": [
    "## 2.2 Merge Methods\n",
    "\n",
    "Most of the below is taken directly from the pandas [docs](https://pandas.pydata.org/pandas-docs/stable/user_guide/merging.html#brief-primer-on-merge-methods-relational-algebra)."
   ]
  },
  {
   "cell_type": "markdown",
   "id": "d45af0e4",
   "metadata": {
    "slideshow": {
     "slide_type": "fragment"
    }
   },
   "source": [
    "There are 4 main types of merges, but all of them require **four** arguments:\n",
    "- `left`: first `DataFrame` or `Series` to merge\n",
    "- `right`: second `DataFrame` or `Series` to merge with the first \n",
    "- `on`: the name of the \"key\" column(s) you'll use to identify matching/corresponding rows in each table\n",
    "- `how`: the type of merge to perform (default is \"inner\")"
   ]
  },
  {
   "cell_type": "markdown",
   "id": "79a53b90",
   "metadata": {
    "slideshow": {
     "slide_type": "slide"
    }
   },
   "source": [
    "Let's see how this works in practice. First we'll create some data:"
   ]
  },
  {
   "cell_type": "code",
   "execution_count": 1,
   "id": "b4e09938",
   "metadata": {
    "slideshow": {
     "slide_type": "fragment"
    }
   },
   "outputs": [],
   "source": [
    "import pandas as pd\n",
    "\n",
    "left = pd.DataFrame(\n",
    "\n",
    "    {\n",
    "        \"key1\": [\"K0\", \"K0\", \"K1\", \"K2\"],\n",
    "        \"key2\": [\"K0\", \"K1\", \"K0\", \"K1\"],\n",
    "        \"A\": [\"A0\", \"A1\", \"A2\", \"A3\"],\n",
    "        \"B\": [\"B0\", \"B1\", \"B2\", \"B3\"],\n",
    "    }\n",
    "\n",
    ")\n",
    "\n",
    "right = pd.DataFrame(\n",
    "    {\n",
    "        \"key1\": [\"K0\", \"K1\", \"K1\", \"K2\"],\n",
    "        \"key2\": [\"K0\", \"K0\", \"K0\", \"K0\"],\n",
    "        \"C\": [\"C0\", \"C1\", \"C2\", \"C3\"],\n",
    "        \"D\": [\"D0\", \"D1\", \"D2\", \"D3\"],\n",
    "    }\n",
    ")"
   ]
  },
  {
   "cell_type": "markdown",
   "id": "7106da4b",
   "metadata": {
    "slideshow": {
     "slide_type": "slide"
    }
   },
   "source": [
    "And now we'll do some merges\n",
    "\n",
    "**inner** join\n",
    "![](https://pandas.pydata.org/pandas-docs/stable/_images/merging_merge_on_key_multiple.png)"
   ]
  },
  {
   "cell_type": "code",
   "execution_count": 2,
   "id": "56ca7931",
   "metadata": {
    "slideshow": {
     "slide_type": "fragment"
    }
   },
   "outputs": [
    {
     "data": {
      "text/html": [
       "<div>\n",
       "<style scoped>\n",
       "    .dataframe tbody tr th:only-of-type {\n",
       "        vertical-align: middle;\n",
       "    }\n",
       "\n",
       "    .dataframe tbody tr th {\n",
       "        vertical-align: top;\n",
       "    }\n",
       "\n",
       "    .dataframe thead th {\n",
       "        text-align: right;\n",
       "    }\n",
       "</style>\n",
       "<table border=\"1\" class=\"dataframe\">\n",
       "  <thead>\n",
       "    <tr style=\"text-align: right;\">\n",
       "      <th></th>\n",
       "      <th>key1</th>\n",
       "      <th>key2</th>\n",
       "      <th>A</th>\n",
       "      <th>B</th>\n",
       "      <th>C</th>\n",
       "      <th>D</th>\n",
       "    </tr>\n",
       "  </thead>\n",
       "  <tbody>\n",
       "    <tr>\n",
       "      <th>0</th>\n",
       "      <td>K0</td>\n",
       "      <td>K0</td>\n",
       "      <td>A0</td>\n",
       "      <td>B0</td>\n",
       "      <td>C0</td>\n",
       "      <td>D0</td>\n",
       "    </tr>\n",
       "    <tr>\n",
       "      <th>1</th>\n",
       "      <td>K1</td>\n",
       "      <td>K0</td>\n",
       "      <td>A2</td>\n",
       "      <td>B2</td>\n",
       "      <td>C1</td>\n",
       "      <td>D1</td>\n",
       "    </tr>\n",
       "    <tr>\n",
       "      <th>2</th>\n",
       "      <td>K1</td>\n",
       "      <td>K0</td>\n",
       "      <td>A2</td>\n",
       "      <td>B2</td>\n",
       "      <td>C2</td>\n",
       "      <td>D2</td>\n",
       "    </tr>\n",
       "  </tbody>\n",
       "</table>\n",
       "</div>"
      ],
      "text/plain": [
       "  key1 key2   A   B   C   D\n",
       "0   K0   K0  A0  B0  C0  D0\n",
       "1   K1   K0  A2  B2  C1  D1\n",
       "2   K1   K0  A2  B2  C2  D2"
      ]
     },
     "execution_count": 2,
     "metadata": {},
     "output_type": "execute_result"
    }
   ],
   "source": [
    "pd.merge(left, right, on=[\"key1\", \"key2\"])  \n",
    "# inner is default \"how\", so we don't need to specify it\n",
    "# will return rows that match on key 1 and key 2 --> everything joins except row 3"
   ]
  },
  {
   "cell_type": "markdown",
   "id": "26d322aa",
   "metadata": {
    "slideshow": {
     "slide_type": "slide"
    }
   },
   "source": [
    "**left** join\n",
    "![](https://pandas.pydata.org/pandas-docs/stable/_images/merging_merge_on_key_left.png)"
   ]
  },
  {
   "cell_type": "code",
   "execution_count": 3,
   "id": "9047366f",
   "metadata": {
    "slideshow": {
     "slide_type": "fragment"
    }
   },
   "outputs": [
    {
     "data": {
      "text/html": [
       "<div>\n",
       "<style scoped>\n",
       "    .dataframe tbody tr th:only-of-type {\n",
       "        vertical-align: middle;\n",
       "    }\n",
       "\n",
       "    .dataframe tbody tr th {\n",
       "        vertical-align: top;\n",
       "    }\n",
       "\n",
       "    .dataframe thead th {\n",
       "        text-align: right;\n",
       "    }\n",
       "</style>\n",
       "<table border=\"1\" class=\"dataframe\">\n",
       "  <thead>\n",
       "    <tr style=\"text-align: right;\">\n",
       "      <th></th>\n",
       "      <th>key1</th>\n",
       "      <th>key2</th>\n",
       "      <th>A</th>\n",
       "      <th>B</th>\n",
       "      <th>C</th>\n",
       "      <th>D</th>\n",
       "    </tr>\n",
       "  </thead>\n",
       "  <tbody>\n",
       "    <tr>\n",
       "      <th>0</th>\n",
       "      <td>K0</td>\n",
       "      <td>K0</td>\n",
       "      <td>A0</td>\n",
       "      <td>B0</td>\n",
       "      <td>C0</td>\n",
       "      <td>D0</td>\n",
       "    </tr>\n",
       "    <tr>\n",
       "      <th>1</th>\n",
       "      <td>K0</td>\n",
       "      <td>K1</td>\n",
       "      <td>A1</td>\n",
       "      <td>B1</td>\n",
       "      <td>NaN</td>\n",
       "      <td>NaN</td>\n",
       "    </tr>\n",
       "    <tr>\n",
       "      <th>2</th>\n",
       "      <td>K1</td>\n",
       "      <td>K0</td>\n",
       "      <td>A2</td>\n",
       "      <td>B2</td>\n",
       "      <td>C1</td>\n",
       "      <td>D1</td>\n",
       "    </tr>\n",
       "    <tr>\n",
       "      <th>3</th>\n",
       "      <td>K1</td>\n",
       "      <td>K0</td>\n",
       "      <td>A2</td>\n",
       "      <td>B2</td>\n",
       "      <td>C2</td>\n",
       "      <td>D2</td>\n",
       "    </tr>\n",
       "    <tr>\n",
       "      <th>4</th>\n",
       "      <td>K2</td>\n",
       "      <td>K1</td>\n",
       "      <td>A3</td>\n",
       "      <td>B3</td>\n",
       "      <td>NaN</td>\n",
       "      <td>NaN</td>\n",
       "    </tr>\n",
       "  </tbody>\n",
       "</table>\n",
       "</div>"
      ],
      "text/plain": [
       "  key1 key2   A   B    C    D\n",
       "0   K0   K0  A0  B0   C0   D0\n",
       "1   K0   K1  A1  B1  NaN  NaN\n",
       "2   K1   K0  A2  B2   C1   D1\n",
       "3   K1   K0  A2  B2   C2   D2\n",
       "4   K2   K1  A3  B3  NaN  NaN"
      ]
     },
     "execution_count": 3,
     "metadata": {},
     "output_type": "execute_result"
    }
   ],
   "source": [
    "pd.merge(left, right, how=\"left\", on=[\"key1\", \"key2\"])\n",
    "# Python preserves all rows in LEFT table even if there's no matches"
   ]
  },
  {
   "cell_type": "markdown",
   "id": "10a175a1",
   "metadata": {
    "slideshow": {
     "slide_type": "slide"
    }
   },
   "source": [
    "**right** join\n",
    "![](https://pandas.pydata.org/pandas-docs/stable/_images/merging_merge_on_key_right.png)"
   ]
  },
  {
   "cell_type": "code",
   "execution_count": 4,
   "id": "7f241bae",
   "metadata": {
    "slideshow": {
     "slide_type": "fragment"
    }
   },
   "outputs": [
    {
     "data": {
      "text/html": [
       "<div>\n",
       "<style scoped>\n",
       "    .dataframe tbody tr th:only-of-type {\n",
       "        vertical-align: middle;\n",
       "    }\n",
       "\n",
       "    .dataframe tbody tr th {\n",
       "        vertical-align: top;\n",
       "    }\n",
       "\n",
       "    .dataframe thead th {\n",
       "        text-align: right;\n",
       "    }\n",
       "</style>\n",
       "<table border=\"1\" class=\"dataframe\">\n",
       "  <thead>\n",
       "    <tr style=\"text-align: right;\">\n",
       "      <th></th>\n",
       "      <th>key1</th>\n",
       "      <th>key2</th>\n",
       "      <th>A</th>\n",
       "      <th>B</th>\n",
       "      <th>C</th>\n",
       "      <th>D</th>\n",
       "    </tr>\n",
       "  </thead>\n",
       "  <tbody>\n",
       "    <tr>\n",
       "      <th>0</th>\n",
       "      <td>K0</td>\n",
       "      <td>K0</td>\n",
       "      <td>A0</td>\n",
       "      <td>B0</td>\n",
       "      <td>C0</td>\n",
       "      <td>D0</td>\n",
       "    </tr>\n",
       "    <tr>\n",
       "      <th>1</th>\n",
       "      <td>K1</td>\n",
       "      <td>K0</td>\n",
       "      <td>A2</td>\n",
       "      <td>B2</td>\n",
       "      <td>C1</td>\n",
       "      <td>D1</td>\n",
       "    </tr>\n",
       "    <tr>\n",
       "      <th>2</th>\n",
       "      <td>K1</td>\n",
       "      <td>K0</td>\n",
       "      <td>A2</td>\n",
       "      <td>B2</td>\n",
       "      <td>C2</td>\n",
       "      <td>D2</td>\n",
       "    </tr>\n",
       "    <tr>\n",
       "      <th>3</th>\n",
       "      <td>K2</td>\n",
       "      <td>K0</td>\n",
       "      <td>NaN</td>\n",
       "      <td>NaN</td>\n",
       "      <td>C3</td>\n",
       "      <td>D3</td>\n",
       "    </tr>\n",
       "  </tbody>\n",
       "</table>\n",
       "</div>"
      ],
      "text/plain": [
       "  key1 key2    A    B   C   D\n",
       "0   K0   K0   A0   B0  C0  D0\n",
       "1   K1   K0   A2   B2  C1  D1\n",
       "2   K1   K0   A2   B2  C2  D2\n",
       "3   K2   K0  NaN  NaN  C3  D3"
      ]
     },
     "execution_count": 4,
     "metadata": {},
     "output_type": "execute_result"
    }
   ],
   "source": [
    "pd.merge(left, right, how=\"right\", on=[\"key1\", \"key2\"])\n",
    "# Python preserves all rows in RIGHT table even if there's no matches\n",
    "# Pandas will fill empty spaces (null) with 'NaN' (= 'not a number')"
   ]
  },
  {
   "cell_type": "markdown",
   "id": "2cd4b6a0",
   "metadata": {
    "slideshow": {
     "slide_type": "slide"
    }
   },
   "source": [
    "**outer** (A.K.A. full) join\n",
    "![](https://pandas.pydata.org/pandas-docs/stable/_images/merging_merge_on_key_outer.png)"
   ]
  },
  {
   "cell_type": "code",
   "execution_count": null,
   "id": "bfe044ad",
   "metadata": {
    "slideshow": {
     "slide_type": "fragment"
    }
   },
   "outputs": [],
   "source": [
    "pd.merge(left, right, how=\"outer\", on=[\"key1\", \"key2\"])\n",
    "# OUTER join is left and right join at the same time\n",
    "# does not drop any rows & guarantees NaN entries"
   ]
  },
  {
   "cell_type": "markdown",
   "id": "f209cc05",
   "metadata": {
    "slideshow": {
     "slide_type": "slide"
    }
   },
   "source": [
    "**cross** join (A.K.A. Cartesian Product)\n",
    "![](https://pandas.pydata.org/pandas-docs/stable/_images/merging_merge_cross.png)"
   ]
  },
  {
   "cell_type": "code",
   "execution_count": 5,
   "id": "dc70f3c0",
   "metadata": {
    "slideshow": {
     "slide_type": "fragment"
    }
   },
   "outputs": [
    {
     "data": {
      "text/html": [
       "<div>\n",
       "<style scoped>\n",
       "    .dataframe tbody tr th:only-of-type {\n",
       "        vertical-align: middle;\n",
       "    }\n",
       "\n",
       "    .dataframe tbody tr th {\n",
       "        vertical-align: top;\n",
       "    }\n",
       "\n",
       "    .dataframe thead th {\n",
       "        text-align: right;\n",
       "    }\n",
       "</style>\n",
       "<table border=\"1\" class=\"dataframe\">\n",
       "  <thead>\n",
       "    <tr style=\"text-align: right;\">\n",
       "      <th></th>\n",
       "      <th>key1_x</th>\n",
       "      <th>key2_x</th>\n",
       "      <th>A</th>\n",
       "      <th>B</th>\n",
       "      <th>key1_y</th>\n",
       "      <th>key2_y</th>\n",
       "      <th>C</th>\n",
       "      <th>D</th>\n",
       "    </tr>\n",
       "  </thead>\n",
       "  <tbody>\n",
       "    <tr>\n",
       "      <th>0</th>\n",
       "      <td>K0</td>\n",
       "      <td>K0</td>\n",
       "      <td>A0</td>\n",
       "      <td>B0</td>\n",
       "      <td>K0</td>\n",
       "      <td>K0</td>\n",
       "      <td>C0</td>\n",
       "      <td>D0</td>\n",
       "    </tr>\n",
       "    <tr>\n",
       "      <th>1</th>\n",
       "      <td>K0</td>\n",
       "      <td>K0</td>\n",
       "      <td>A0</td>\n",
       "      <td>B0</td>\n",
       "      <td>K1</td>\n",
       "      <td>K0</td>\n",
       "      <td>C1</td>\n",
       "      <td>D1</td>\n",
       "    </tr>\n",
       "    <tr>\n",
       "      <th>2</th>\n",
       "      <td>K0</td>\n",
       "      <td>K0</td>\n",
       "      <td>A0</td>\n",
       "      <td>B0</td>\n",
       "      <td>K1</td>\n",
       "      <td>K0</td>\n",
       "      <td>C2</td>\n",
       "      <td>D2</td>\n",
       "    </tr>\n",
       "    <tr>\n",
       "      <th>3</th>\n",
       "      <td>K0</td>\n",
       "      <td>K0</td>\n",
       "      <td>A0</td>\n",
       "      <td>B0</td>\n",
       "      <td>K2</td>\n",
       "      <td>K0</td>\n",
       "      <td>C3</td>\n",
       "      <td>D3</td>\n",
       "    </tr>\n",
       "    <tr>\n",
       "      <th>4</th>\n",
       "      <td>K0</td>\n",
       "      <td>K1</td>\n",
       "      <td>A1</td>\n",
       "      <td>B1</td>\n",
       "      <td>K0</td>\n",
       "      <td>K0</td>\n",
       "      <td>C0</td>\n",
       "      <td>D0</td>\n",
       "    </tr>\n",
       "  </tbody>\n",
       "</table>\n",
       "</div>"
      ],
      "text/plain": [
       "  key1_x key2_x   A   B key1_y key2_y   C   D\n",
       "0     K0     K0  A0  B0     K0     K0  C0  D0\n",
       "1     K0     K0  A0  B0     K1     K0  C1  D1\n",
       "2     K0     K0  A0  B0     K1     K0  C2  D2\n",
       "3     K0     K0  A0  B0     K2     K0  C3  D3\n",
       "4     K0     K1  A1  B1     K0     K0  C0  D0"
      ]
     },
     "execution_count": 5,
     "metadata": {},
     "output_type": "execute_result"
    }
   ],
   "source": [
    "pd.merge(left, right, how=\"cross\").head()\n",
    "# preserves all possible combinations of all values in tables\n",
    "# To preserve all columns, including those with the same same, Python automatically\n",
    "# appends suffixes to indicate which table they came from"
   ]
  },
  {
   "cell_type": "markdown",
   "id": "1cbd29dc",
   "metadata": {
    "slideshow": {
     "slide_type": "slide"
    }
   },
   "source": [
    "## 2.3 Handling duplicate column names"
   ]
  },
  {
   "cell_type": "code",
   "execution_count": 6,
   "id": "ecff9174",
   "metadata": {
    "slideshow": {
     "slide_type": "slide"
    }
   },
   "outputs": [
    {
     "data": {
      "text/html": [
       "<div>\n",
       "<style scoped>\n",
       "    .dataframe tbody tr th:only-of-type {\n",
       "        vertical-align: middle;\n",
       "    }\n",
       "\n",
       "    .dataframe tbody tr th {\n",
       "        vertical-align: top;\n",
       "    }\n",
       "\n",
       "    .dataframe thead th {\n",
       "        text-align: right;\n",
       "    }\n",
       "</style>\n",
       "<table border=\"1\" class=\"dataframe\">\n",
       "  <thead>\n",
       "    <tr style=\"text-align: right;\">\n",
       "      <th></th>\n",
       "      <th>A_x</th>\n",
       "      <th>B</th>\n",
       "      <th>C</th>\n",
       "      <th>A_y</th>\n",
       "      <th>D</th>\n",
       "    </tr>\n",
       "  </thead>\n",
       "  <tbody>\n",
       "    <tr>\n",
       "      <th>0</th>\n",
       "      <td>4</td>\n",
       "      <td>2</td>\n",
       "      <td>5</td>\n",
       "      <td>4</td>\n",
       "      <td>9</td>\n",
       "    </tr>\n",
       "    <tr>\n",
       "      <th>1</th>\n",
       "      <td>4</td>\n",
       "      <td>2</td>\n",
       "      <td>5</td>\n",
       "      <td>5</td>\n",
       "      <td>8</td>\n",
       "    </tr>\n",
       "    <tr>\n",
       "      <th>2</th>\n",
       "      <td>4</td>\n",
       "      <td>2</td>\n",
       "      <td>5</td>\n",
       "      <td>6</td>\n",
       "      <td>1</td>\n",
       "    </tr>\n",
       "    <tr>\n",
       "      <th>3</th>\n",
       "      <td>5</td>\n",
       "      <td>2</td>\n",
       "      <td>7</td>\n",
       "      <td>4</td>\n",
       "      <td>9</td>\n",
       "    </tr>\n",
       "    <tr>\n",
       "      <th>4</th>\n",
       "      <td>5</td>\n",
       "      <td>2</td>\n",
       "      <td>7</td>\n",
       "      <td>5</td>\n",
       "      <td>8</td>\n",
       "    </tr>\n",
       "    <tr>\n",
       "      <th>5</th>\n",
       "      <td>5</td>\n",
       "      <td>2</td>\n",
       "      <td>7</td>\n",
       "      <td>6</td>\n",
       "      <td>1</td>\n",
       "    </tr>\n",
       "  </tbody>\n",
       "</table>\n",
       "</div>"
      ],
      "text/plain": [
       "   A_x  B  C  A_y  D\n",
       "0    4  2  5    4  9\n",
       "1    4  2  5    5  8\n",
       "2    4  2  5    6  1\n",
       "3    5  2  7    4  9\n",
       "4    5  2  7    5  8\n",
       "5    5  2  7    6  1"
      ]
     },
     "execution_count": 6,
     "metadata": {},
     "output_type": "execute_result"
    }
   ],
   "source": [
    "left = pd.DataFrame({\"A\": [4, 5], \"B\": [2, 2], \"C\": [5, 7]})\n",
    "right = pd.DataFrame({\"A\": [4, 5, 6], \"B\": [2, 2, 2], \"D\": [9, 8, 1]})\n",
    "pd.merge(left, right, on=\"B\", how=\"inner\")\n",
    "# merging on B --> Pandas doesn't know what to do with A\n"
   ]
  },
  {
   "cell_type": "code",
   "execution_count": 7,
   "id": "8fae1931",
   "metadata": {},
   "outputs": [
    {
     "data": {
      "text/html": [
       "<div>\n",
       "<style scoped>\n",
       "    .dataframe tbody tr th:only-of-type {\n",
       "        vertical-align: middle;\n",
       "    }\n",
       "\n",
       "    .dataframe tbody tr th {\n",
       "        vertical-align: top;\n",
       "    }\n",
       "\n",
       "    .dataframe thead th {\n",
       "        text-align: right;\n",
       "    }\n",
       "</style>\n",
       "<table border=\"1\" class=\"dataframe\">\n",
       "  <thead>\n",
       "    <tr style=\"text-align: right;\">\n",
       "      <th></th>\n",
       "      <th>A</th>\n",
       "      <th>B</th>\n",
       "      <th>C</th>\n",
       "      <th>D</th>\n",
       "    </tr>\n",
       "  </thead>\n",
       "  <tbody>\n",
       "    <tr>\n",
       "      <th>0</th>\n",
       "      <td>4</td>\n",
       "      <td>2</td>\n",
       "      <td>5</td>\n",
       "      <td>9</td>\n",
       "    </tr>\n",
       "    <tr>\n",
       "      <th>1</th>\n",
       "      <td>5</td>\n",
       "      <td>2</td>\n",
       "      <td>7</td>\n",
       "      <td>8</td>\n",
       "    </tr>\n",
       "  </tbody>\n",
       "</table>\n",
       "</div>"
      ],
      "text/plain": [
       "   A  B  C  D\n",
       "0  4  2  5  9\n",
       "1  5  2  7  8"
      ]
     },
     "execution_count": 7,
     "metadata": {},
     "output_type": "execute_result"
    }
   ],
   "source": [
    "pd.merge(left, right, on=[\"A\", \"B\"], how=\"inner\")\n",
    "# merging on A AND B"
   ]
  },
  {
   "cell_type": "markdown",
   "id": "367e6fce",
   "metadata": {
    "slideshow": {
     "slide_type": "slide"
    }
   },
   "source": [
    "### 2.3.1 Define your own suffixes!"
   ]
  },
  {
   "cell_type": "markdown",
   "id": "07c00fec",
   "metadata": {
    "slideshow": {
     "slide_type": "fragment"
    }
   },
   "source": [
    "**Keep all columns, but give them meaningful names**"
   ]
  },
  {
   "cell_type": "code",
   "execution_count": 8,
   "id": "881400a5",
   "metadata": {
    "slideshow": {
     "slide_type": "fragment"
    }
   },
   "outputs": [
    {
     "data": {
      "text/html": [
       "<div>\n",
       "<style scoped>\n",
       "    .dataframe tbody tr th:only-of-type {\n",
       "        vertical-align: middle;\n",
       "    }\n",
       "\n",
       "    .dataframe tbody tr th {\n",
       "        vertical-align: top;\n",
       "    }\n",
       "\n",
       "    .dataframe thead th {\n",
       "        text-align: right;\n",
       "    }\n",
       "</style>\n",
       "<table border=\"1\" class=\"dataframe\">\n",
       "  <thead>\n",
       "    <tr style=\"text-align: right;\">\n",
       "      <th></th>\n",
       "      <th>A_left</th>\n",
       "      <th>B</th>\n",
       "      <th>C</th>\n",
       "      <th>A_right</th>\n",
       "      <th>D</th>\n",
       "    </tr>\n",
       "  </thead>\n",
       "  <tbody>\n",
       "    <tr>\n",
       "      <th>0</th>\n",
       "      <td>4</td>\n",
       "      <td>2</td>\n",
       "      <td>5</td>\n",
       "      <td>4</td>\n",
       "      <td>9</td>\n",
       "    </tr>\n",
       "    <tr>\n",
       "      <th>1</th>\n",
       "      <td>4</td>\n",
       "      <td>2</td>\n",
       "      <td>5</td>\n",
       "      <td>5</td>\n",
       "      <td>8</td>\n",
       "    </tr>\n",
       "    <tr>\n",
       "      <th>2</th>\n",
       "      <td>4</td>\n",
       "      <td>2</td>\n",
       "      <td>5</td>\n",
       "      <td>6</td>\n",
       "      <td>1</td>\n",
       "    </tr>\n",
       "    <tr>\n",
       "      <th>3</th>\n",
       "      <td>5</td>\n",
       "      <td>2</td>\n",
       "      <td>7</td>\n",
       "      <td>4</td>\n",
       "      <td>9</td>\n",
       "    </tr>\n",
       "    <tr>\n",
       "      <th>4</th>\n",
       "      <td>5</td>\n",
       "      <td>2</td>\n",
       "      <td>7</td>\n",
       "      <td>5</td>\n",
       "      <td>8</td>\n",
       "    </tr>\n",
       "    <tr>\n",
       "      <th>5</th>\n",
       "      <td>5</td>\n",
       "      <td>2</td>\n",
       "      <td>7</td>\n",
       "      <td>6</td>\n",
       "      <td>1</td>\n",
       "    </tr>\n",
       "  </tbody>\n",
       "</table>\n",
       "</div>"
      ],
      "text/plain": [
       "   A_left  B  C  A_right  D\n",
       "0       4  2  5        4  9\n",
       "1       4  2  5        5  8\n",
       "2       4  2  5        6  1\n",
       "3       5  2  7        4  9\n",
       "4       5  2  7        5  8\n",
       "5       5  2  7        6  1"
      ]
     },
     "execution_count": 8,
     "metadata": {},
     "output_type": "execute_result"
    }
   ],
   "source": [
    "pd.merge(left, right, on=\"B\", how=\"inner\", suffixes=('_left', '_right'))"
   ]
  },
  {
   "cell_type": "markdown",
   "id": "0e7ead92",
   "metadata": {
    "slideshow": {
     "slide_type": "slide"
    }
   },
   "source": [
    "**Use suffixes to drop duplicate columns after merge**"
   ]
  },
  {
   "cell_type": "code",
   "execution_count": 10,
   "id": "25f771a6",
   "metadata": {
    "slideshow": {
     "slide_type": "fragment"
    }
   },
   "outputs": [
    {
     "data": {
      "text/html": [
       "<div>\n",
       "<style scoped>\n",
       "    .dataframe tbody tr th:only-of-type {\n",
       "        vertical-align: middle;\n",
       "    }\n",
       "\n",
       "    .dataframe tbody tr th {\n",
       "        vertical-align: top;\n",
       "    }\n",
       "\n",
       "    .dataframe thead th {\n",
       "        text-align: right;\n",
       "    }\n",
       "</style>\n",
       "<table border=\"1\" class=\"dataframe\">\n",
       "  <thead>\n",
       "    <tr style=\"text-align: right;\">\n",
       "      <th></th>\n",
       "      <th>A_trash</th>\n",
       "      <th>B</th>\n",
       "      <th>C</th>\n",
       "      <th>A</th>\n",
       "      <th>D</th>\n",
       "    </tr>\n",
       "  </thead>\n",
       "  <tbody>\n",
       "    <tr>\n",
       "      <th>0</th>\n",
       "      <td>4</td>\n",
       "      <td>2</td>\n",
       "      <td>5</td>\n",
       "      <td>4</td>\n",
       "      <td>9</td>\n",
       "    </tr>\n",
       "    <tr>\n",
       "      <th>1</th>\n",
       "      <td>4</td>\n",
       "      <td>2</td>\n",
       "      <td>5</td>\n",
       "      <td>5</td>\n",
       "      <td>8</td>\n",
       "    </tr>\n",
       "    <tr>\n",
       "      <th>2</th>\n",
       "      <td>4</td>\n",
       "      <td>2</td>\n",
       "      <td>5</td>\n",
       "      <td>6</td>\n",
       "      <td>1</td>\n",
       "    </tr>\n",
       "    <tr>\n",
       "      <th>3</th>\n",
       "      <td>5</td>\n",
       "      <td>2</td>\n",
       "      <td>7</td>\n",
       "      <td>4</td>\n",
       "      <td>9</td>\n",
       "    </tr>\n",
       "    <tr>\n",
       "      <th>4</th>\n",
       "      <td>5</td>\n",
       "      <td>2</td>\n",
       "      <td>7</td>\n",
       "      <td>5</td>\n",
       "      <td>8</td>\n",
       "    </tr>\n",
       "    <tr>\n",
       "      <th>5</th>\n",
       "      <td>5</td>\n",
       "      <td>2</td>\n",
       "      <td>7</td>\n",
       "      <td>6</td>\n",
       "      <td>1</td>\n",
       "    </tr>\n",
       "  </tbody>\n",
       "</table>\n",
       "</div>"
      ],
      "text/plain": [
       "   A_trash  B  C  A  D\n",
       "0        4  2  5  4  9\n",
       "1        4  2  5  5  8\n",
       "2        4  2  5  6  1\n",
       "3        5  2  7  4  9\n",
       "4        5  2  7  5  8\n",
       "5        5  2  7  6  1"
      ]
     },
     "execution_count": 10,
     "metadata": {},
     "output_type": "execute_result"
    }
   ],
   "source": [
    "result = pd.merge(left, right, on=\"B\", how=\"inner\", suffixes=('_trash', ''))\n",
    "result"
   ]
  },
  {
   "cell_type": "code",
   "execution_count": 13,
   "id": "f7bcafe0",
   "metadata": {
    "slideshow": {
     "slide_type": "fragment"
    }
   },
   "outputs": [
    {
     "data": {
      "text/plain": [
       "['B', 'C', 'A', 'D']"
      ]
     },
     "execution_count": 13,
     "metadata": {},
     "output_type": "execute_result"
    }
   ],
   "source": [
    "# keep only cols you want\n",
    "good_cols = [col for col in result.columns if not 'trash' in col]\n",
    "result[good_cols]\n",
    "\n",
    "good_cols\n",
    "\n",
    "#LIST COMPREHENSION is a for loop done in 1 line in a list"
   ]
  },
  {
   "cell_type": "code",
   "execution_count": null,
   "id": "4ffa493e",
   "metadata": {},
   "outputs": [],
   "source": [
    "# SAME AS  \n",
    "good_cols = []\n",
    "    for col in result.columns\n",
    "        if not 'trash' in col:\n",
    "            good_cols.append(col)\n",
    "'''"
   ]
  },
  {
   "cell_type": "code",
   "execution_count": 14,
   "id": "5ef30a41",
   "metadata": {
    "slideshow": {
     "slide_type": "fragment"
    }
   },
   "outputs": [
    {
     "data": {
      "text/html": [
       "<div>\n",
       "<style scoped>\n",
       "    .dataframe tbody tr th:only-of-type {\n",
       "        vertical-align: middle;\n",
       "    }\n",
       "\n",
       "    .dataframe tbody tr th {\n",
       "        vertical-align: top;\n",
       "    }\n",
       "\n",
       "    .dataframe thead th {\n",
       "        text-align: right;\n",
       "    }\n",
       "</style>\n",
       "<table border=\"1\" class=\"dataframe\">\n",
       "  <thead>\n",
       "    <tr style=\"text-align: right;\">\n",
       "      <th></th>\n",
       "      <th>B</th>\n",
       "      <th>C</th>\n",
       "      <th>A</th>\n",
       "      <th>D</th>\n",
       "    </tr>\n",
       "  </thead>\n",
       "  <tbody>\n",
       "    <tr>\n",
       "      <th>0</th>\n",
       "      <td>2</td>\n",
       "      <td>5</td>\n",
       "      <td>4</td>\n",
       "      <td>9</td>\n",
       "    </tr>\n",
       "    <tr>\n",
       "      <th>1</th>\n",
       "      <td>2</td>\n",
       "      <td>5</td>\n",
       "      <td>5</td>\n",
       "      <td>8</td>\n",
       "    </tr>\n",
       "    <tr>\n",
       "      <th>2</th>\n",
       "      <td>2</td>\n",
       "      <td>5</td>\n",
       "      <td>6</td>\n",
       "      <td>1</td>\n",
       "    </tr>\n",
       "    <tr>\n",
       "      <th>3</th>\n",
       "      <td>2</td>\n",
       "      <td>7</td>\n",
       "      <td>4</td>\n",
       "      <td>9</td>\n",
       "    </tr>\n",
       "    <tr>\n",
       "      <th>4</th>\n",
       "      <td>2</td>\n",
       "      <td>7</td>\n",
       "      <td>5</td>\n",
       "      <td>8</td>\n",
       "    </tr>\n",
       "    <tr>\n",
       "      <th>5</th>\n",
       "      <td>2</td>\n",
       "      <td>7</td>\n",
       "      <td>6</td>\n",
       "      <td>1</td>\n",
       "    </tr>\n",
       "  </tbody>\n",
       "</table>\n",
       "</div>"
      ],
      "text/plain": [
       "   B  C  A  D\n",
       "0  2  5  4  9\n",
       "1  2  5  5  8\n",
       "2  2  5  6  1\n",
       "3  2  7  4  9\n",
       "4  2  7  5  8\n",
       "5  2  7  6  1"
      ]
     },
     "execution_count": 14,
     "metadata": {},
     "output_type": "execute_result"
    }
   ],
   "source": [
    "# drop cols you don't want ('trash') & tell drop to drop columns using axis=1 (<row>,<column>) = (0,1)\n",
    "trash_cols = [col for col in result.columns if 'trash' in col]\n",
    "result.drop(trash_cols, axis=1)  # \"axis\" tells pandas to drop columns (axis=1) or rows (axis=2)"
   ]
  },
  {
   "cell_type": "markdown",
   "id": "c691b7aa",
   "metadata": {
    "slideshow": {
     "slide_type": "slide"
    }
   },
   "source": [
    "### 2.3.2 Filter out duplicate columns before you merge!"
   ]
  },
  {
   "cell_type": "code",
   "execution_count": 15,
   "id": "c7fabb32",
   "metadata": {
    "slideshow": {
     "slide_type": "fragment"
    }
   },
   "outputs": [
    {
     "data": {
      "text/html": [
       "<div>\n",
       "<style scoped>\n",
       "    .dataframe tbody tr th:only-of-type {\n",
       "        vertical-align: middle;\n",
       "    }\n",
       "\n",
       "    .dataframe tbody tr th {\n",
       "        vertical-align: top;\n",
       "    }\n",
       "\n",
       "    .dataframe thead th {\n",
       "        text-align: right;\n",
       "    }\n",
       "</style>\n",
       "<table border=\"1\" class=\"dataframe\">\n",
       "  <thead>\n",
       "    <tr style=\"text-align: right;\">\n",
       "      <th></th>\n",
       "      <th>B</th>\n",
       "      <th>C</th>\n",
       "      <th>A</th>\n",
       "      <th>D</th>\n",
       "    </tr>\n",
       "  </thead>\n",
       "  <tbody>\n",
       "    <tr>\n",
       "      <th>0</th>\n",
       "      <td>2</td>\n",
       "      <td>5</td>\n",
       "      <td>4</td>\n",
       "      <td>9</td>\n",
       "    </tr>\n",
       "    <tr>\n",
       "      <th>1</th>\n",
       "      <td>2</td>\n",
       "      <td>5</td>\n",
       "      <td>5</td>\n",
       "      <td>8</td>\n",
       "    </tr>\n",
       "    <tr>\n",
       "      <th>2</th>\n",
       "      <td>2</td>\n",
       "      <td>5</td>\n",
       "      <td>6</td>\n",
       "      <td>1</td>\n",
       "    </tr>\n",
       "    <tr>\n",
       "      <th>3</th>\n",
       "      <td>2</td>\n",
       "      <td>7</td>\n",
       "      <td>4</td>\n",
       "      <td>9</td>\n",
       "    </tr>\n",
       "    <tr>\n",
       "      <th>4</th>\n",
       "      <td>2</td>\n",
       "      <td>7</td>\n",
       "      <td>5</td>\n",
       "      <td>8</td>\n",
       "    </tr>\n",
       "    <tr>\n",
       "      <th>5</th>\n",
       "      <td>2</td>\n",
       "      <td>7</td>\n",
       "      <td>6</td>\n",
       "      <td>1</td>\n",
       "    </tr>\n",
       "  </tbody>\n",
       "</table>\n",
       "</div>"
      ],
      "text/plain": [
       "   B  C  A  D\n",
       "0  2  5  4  9\n",
       "1  2  5  5  8\n",
       "2  2  5  6  1\n",
       "3  2  7  4  9\n",
       "4  2  7  5  8\n",
       "5  2  7  6  1"
      ]
     },
     "execution_count": 15,
     "metadata": {},
     "output_type": "execute_result"
    }
   ],
   "source": [
    "key = \"B\"\n",
    "left_col_mask = [col for col in left.columns if (col not in right.columns) or (col == key)]\n",
    "pd.merge(left[left_col_mask], right, on=\"B\", how=\"inner\")\n",
    "# left_col_mask will contain all col from left table than DONT appear in right table + key column\n",
    "# we need at least 1 col to overlap in order to do merge"
   ]
  },
  {
   "cell_type": "markdown",
   "id": "9fb9afbb",
   "metadata": {
    "slideshow": {
     "slide_type": "slide"
    }
   },
   "source": [
    "# 3. Exploratory Data Analysis with pandas"
   ]
  },
  {
   "cell_type": "markdown",
   "id": "e01815ca",
   "metadata": {
    "slideshow": {
     "slide_type": "slide"
    }
   },
   "source": [
    "**READ THE DOCS**\n",
    "\n",
    "Most of the pandas-related material we saw **yesterday** corresponds to three sections of the pandas user guide:\n",
    "1. [Basics](https://pandas.pydata.org/pandas-docs/stable/user_guide/basics.html)\n",
    "2. [Indexing and Selecting](https://pandas.pydata.org/pandas-docs/stable/user_guide/indexing.html)\n",
    "3. [Merge, join, concatenate, and compare](https://pandas.pydata.org/pandas-docs/stable/user_guide/merging.html)\n",
    "\n",
    "\n",
    "Most of the material we're covering **today** is also covered in the following three sections of the pandas user guide:\n",
    "1. [Group by: split-apply-combine](https://pandas.pydata.org/pandas-docs/stable/user_guide/groupby.html)\n",
    "2. [Reshaping and pivot tables](https://pandas.pydata.org/pandas-docs/stable/user_guide/reshaping.html)\n",
    "3. [Chart visualization](https://pandas.pydata.org/pandas-docs/stable/user_guide/visualization.html)\n",
    "\n",
    "**Everything** we're covering in pandas is summarized nicely in the [10 minutes to pandas](https://pandas.pydata.org/pandas-docs/stable/user_guide/10min.html) section."
   ]
  },
  {
   "cell_type": "markdown",
   "id": "937ec377",
   "metadata": {
    "slideshow": {
     "slide_type": "slide"
    }
   },
   "source": [
    "## 3.1 The `groupby()` method"
   ]
  },
  {
   "cell_type": "markdown",
   "id": "03f8246b",
   "metadata": {
    "slideshow": {
     "slide_type": "slide"
    }
   },
   "source": [
    "For the first part of this lesson, we're going to be analyzing some Bay Area Census data which I've already grabbed for you (specifically the Summary File 1 (SF1) data from the 2010 Census). Refer to the [SF1 Data Dictionary](https://www.census.gov/prod/cen2010/doc/sf1.pdf) to see the list of column codes. I've compiled this data into an HDF5 file, which is kind of like a .zip archive that lets you unzip one file at a time."
   ]
  },
  {
   "cell_type": "code",
   "execution_count": 16,
   "id": "fa082556",
   "metadata": {
    "scrolled": true,
    "slideshow": {
     "slide_type": "fragment"
    }
   },
   "outputs": [
    {
     "data": {
      "text/html": [
       "<div>\n",
       "<style scoped>\n",
       "    .dataframe tbody tr th:only-of-type {\n",
       "        vertical-align: middle;\n",
       "    }\n",
       "\n",
       "    .dataframe tbody tr th {\n",
       "        vertical-align: top;\n",
       "    }\n",
       "\n",
       "    .dataframe thead th {\n",
       "        text-align: right;\n",
       "    }\n",
       "</style>\n",
       "<table border=\"1\" class=\"dataframe\">\n",
       "  <thead>\n",
       "    <tr style=\"text-align: right;\">\n",
       "      <th></th>\n",
       "      <th>logrecno</th>\n",
       "      <th>blockfips</th>\n",
       "      <th>state</th>\n",
       "      <th>county</th>\n",
       "      <th>tract</th>\n",
       "      <th>blkgrp</th>\n",
       "      <th>block</th>\n",
       "      <th>arealand</th>\n",
       "      <th>P0010001</th>\n",
       "      <th>P0020001</th>\n",
       "      <th>...</th>\n",
       "      <th>H0040003</th>\n",
       "      <th>H0040004</th>\n",
       "      <th>H0050001</th>\n",
       "      <th>H0050002</th>\n",
       "      <th>H0050003</th>\n",
       "      <th>H0050004</th>\n",
       "      <th>H0050005</th>\n",
       "      <th>H0050006</th>\n",
       "      <th>H0050007</th>\n",
       "      <th>H0050008</th>\n",
       "    </tr>\n",
       "  </thead>\n",
       "  <tbody>\n",
       "    <tr>\n",
       "      <th>0</th>\n",
       "      <td>25</td>\n",
       "      <td>060014271001000</td>\n",
       "      <td>06</td>\n",
       "      <td>001</td>\n",
       "      <td>427100</td>\n",
       "      <td>1</td>\n",
       "      <td>1000</td>\n",
       "      <td>0</td>\n",
       "      <td>0</td>\n",
       "      <td>0</td>\n",
       "      <td>...</td>\n",
       "      <td>0</td>\n",
       "      <td>0</td>\n",
       "      <td>0</td>\n",
       "      <td>0</td>\n",
       "      <td>0</td>\n",
       "      <td>0</td>\n",
       "      <td>0</td>\n",
       "      <td>0</td>\n",
       "      <td>0</td>\n",
       "      <td>0</td>\n",
       "    </tr>\n",
       "    <tr>\n",
       "      <th>1</th>\n",
       "      <td>26</td>\n",
       "      <td>060014271001001</td>\n",
       "      <td>06</td>\n",
       "      <td>001</td>\n",
       "      <td>427100</td>\n",
       "      <td>1</td>\n",
       "      <td>1001</td>\n",
       "      <td>79696</td>\n",
       "      <td>113</td>\n",
       "      <td>113</td>\n",
       "      <td>...</td>\n",
       "      <td>1</td>\n",
       "      <td>4</td>\n",
       "      <td>0</td>\n",
       "      <td>0</td>\n",
       "      <td>0</td>\n",
       "      <td>0</td>\n",
       "      <td>0</td>\n",
       "      <td>0</td>\n",
       "      <td>0</td>\n",
       "      <td>0</td>\n",
       "    </tr>\n",
       "    <tr>\n",
       "      <th>2</th>\n",
       "      <td>27</td>\n",
       "      <td>060014271001002</td>\n",
       "      <td>06</td>\n",
       "      <td>001</td>\n",
       "      <td>427100</td>\n",
       "      <td>1</td>\n",
       "      <td>1002</td>\n",
       "      <td>739</td>\n",
       "      <td>0</td>\n",
       "      <td>0</td>\n",
       "      <td>...</td>\n",
       "      <td>0</td>\n",
       "      <td>0</td>\n",
       "      <td>0</td>\n",
       "      <td>0</td>\n",
       "      <td>0</td>\n",
       "      <td>0</td>\n",
       "      <td>0</td>\n",
       "      <td>0</td>\n",
       "      <td>0</td>\n",
       "      <td>0</td>\n",
       "    </tr>\n",
       "    <tr>\n",
       "      <th>3</th>\n",
       "      <td>28</td>\n",
       "      <td>060014271001003</td>\n",
       "      <td>06</td>\n",
       "      <td>001</td>\n",
       "      <td>427100</td>\n",
       "      <td>1</td>\n",
       "      <td>1003</td>\n",
       "      <td>19546</td>\n",
       "      <td>29</td>\n",
       "      <td>29</td>\n",
       "      <td>...</td>\n",
       "      <td>0</td>\n",
       "      <td>7</td>\n",
       "      <td>3</td>\n",
       "      <td>0</td>\n",
       "      <td>0</td>\n",
       "      <td>1</td>\n",
       "      <td>0</td>\n",
       "      <td>0</td>\n",
       "      <td>0</td>\n",
       "      <td>2</td>\n",
       "    </tr>\n",
       "    <tr>\n",
       "      <th>4</th>\n",
       "      <td>29</td>\n",
       "      <td>060014271001004</td>\n",
       "      <td>06</td>\n",
       "      <td>001</td>\n",
       "      <td>427100</td>\n",
       "      <td>1</td>\n",
       "      <td>1004</td>\n",
       "      <td>14364</td>\n",
       "      <td>26</td>\n",
       "      <td>26</td>\n",
       "      <td>...</td>\n",
       "      <td>0</td>\n",
       "      <td>6</td>\n",
       "      <td>0</td>\n",
       "      <td>0</td>\n",
       "      <td>0</td>\n",
       "      <td>0</td>\n",
       "      <td>0</td>\n",
       "      <td>0</td>\n",
       "      <td>0</td>\n",
       "      <td>0</td>\n",
       "    </tr>\n",
       "  </tbody>\n",
       "</table>\n",
       "<p>5 rows × 42 columns</p>\n",
       "</div>"
      ],
      "text/plain": [
       "   logrecno        blockfips state county   tract  blkgrp block  arealand  \\\n",
       "0        25  060014271001000    06    001  427100       1  1000         0   \n",
       "1        26  060014271001001    06    001  427100       1  1001     79696   \n",
       "2        27  060014271001002    06    001  427100       1  1002       739   \n",
       "3        28  060014271001003    06    001  427100       1  1003     19546   \n",
       "4        29  060014271001004    06    001  427100       1  1004     14364   \n",
       "\n",
       "   P0010001  P0020001  ...  H0040003  H0040004  H0050001  H0050002  H0050003  \\\n",
       "0         0         0  ...         0         0         0         0         0   \n",
       "1       113       113  ...         1         4         0         0         0   \n",
       "2         0         0  ...         0         0         0         0         0   \n",
       "3        29        29  ...         0         7         3         0         0   \n",
       "4        26        26  ...         0         6         0         0         0   \n",
       "\n",
       "   H0050004  H0050005  H0050006  H0050007  H0050008  \n",
       "0         0         0         0         0         0  \n",
       "1         0         0         0         0         0  \n",
       "2         0         0         0         0         0  \n",
       "3         1         0         0         0         2  \n",
       "4         0         0         0         0         0  \n",
       "\n",
       "[5 rows x 42 columns]"
      ]
     },
     "execution_count": 16,
     "metadata": {},
     "output_type": "execute_result"
    }
   ],
   "source": [
    "sf1 = pd.read_hdf('data/bay_sf1_small.h5', 'sf1_extract')\n",
    "sf1.head()\n",
    "# hdf useful when working wiht large data sets bc it allows us to unzip/open one file at a time rather than entire folder"
   ]
  },
  {
   "cell_type": "markdown",
   "id": "7897d0c9",
   "metadata": {
    "slideshow": {
     "slide_type": "slide"
    }
   },
   "source": [
    "**Note on HDF5 dependencies**\n",
    "\n",
    "pandas uses the `pytables` library to interact with .h5 files. If you don't have it installed and you try to run the cell above, Python may complain. Fear not. Did you know you can execute bash terminal commands directly from a notebook?"
   ]
  },
  {
   "cell_type": "code",
   "execution_count": null,
   "id": "13110b3e",
   "metadata": {
    "slideshow": {
     "slide_type": "fragment"
    }
   },
   "outputs": [],
   "source": [
    "!conda install pytables\n",
    "\n",
    "# ! allows us to operate bash/Terminal commands from Jupyter notebook!"
   ]
  },
  {
   "cell_type": "markdown",
   "id": "19ed74a3",
   "metadata": {
    "slideshow": {
     "slide_type": "slide"
    }
   },
   "source": [
    "### 3.1.1 Basic Data Transformations\n",
    "\n",
    "In the world of machine learning, data transformation is sometimes called **feature extraction**. Both terms refer to the process of taking \"raw\" input data and manipulating it to create new, useful data. In the example below, we convert population totals to percentages:"
   ]
  },
  {
   "cell_type": "code",
   "execution_count": 18,
   "id": "dacbb937",
   "metadata": {
    "slideshow": {
     "slide_type": "fragment"
    }
   },
   "outputs": [
    {
     "data": {
      "text/html": [
       "<div>\n",
       "<style scoped>\n",
       "    .dataframe tbody tr th:only-of-type {\n",
       "        vertical-align: middle;\n",
       "    }\n",
       "\n",
       "    .dataframe tbody tr th {\n",
       "        vertical-align: top;\n",
       "    }\n",
       "\n",
       "    .dataframe thead th {\n",
       "        text-align: right;\n",
       "    }\n",
       "</style>\n",
       "<table border=\"1\" class=\"dataframe\">\n",
       "  <thead>\n",
       "    <tr style=\"text-align: right;\">\n",
       "      <th></th>\n",
       "      <th>logrecno</th>\n",
       "      <th>blockfips</th>\n",
       "      <th>state</th>\n",
       "      <th>county</th>\n",
       "      <th>tract</th>\n",
       "      <th>blkgrp</th>\n",
       "      <th>block</th>\n",
       "      <th>arealand</th>\n",
       "      <th>P0010001</th>\n",
       "      <th>P0020001</th>\n",
       "      <th>...</th>\n",
       "      <th>H0050003</th>\n",
       "      <th>H0050004</th>\n",
       "      <th>H0050005</th>\n",
       "      <th>H0050006</th>\n",
       "      <th>H0050007</th>\n",
       "      <th>H0050008</th>\n",
       "      <th>pct_black</th>\n",
       "      <th>pct_asian</th>\n",
       "      <th>pct_white</th>\n",
       "      <th>pct_hisp</th>\n",
       "    </tr>\n",
       "  </thead>\n",
       "  <tbody>\n",
       "    <tr>\n",
       "      <th>56011</th>\n",
       "      <td>593703</td>\n",
       "      <td>060750601001073</td>\n",
       "      <td>06</td>\n",
       "      <td>075</td>\n",
       "      <td>060100</td>\n",
       "      <td>1</td>\n",
       "      <td>1073</td>\n",
       "      <td>13789</td>\n",
       "      <td>0</td>\n",
       "      <td>0</td>\n",
       "      <td>...</td>\n",
       "      <td>0</td>\n",
       "      <td>0</td>\n",
       "      <td>0</td>\n",
       "      <td>0</td>\n",
       "      <td>0</td>\n",
       "      <td>0</td>\n",
       "      <td>NaN</td>\n",
       "      <td>NaN</td>\n",
       "      <td>NaN</td>\n",
       "      <td>NaN</td>\n",
       "    </tr>\n",
       "    <tr>\n",
       "      <th>45757</th>\n",
       "      <td>315077</td>\n",
       "      <td>060411060021029</td>\n",
       "      <td>06</td>\n",
       "      <td>041</td>\n",
       "      <td>106002</td>\n",
       "      <td>1</td>\n",
       "      <td>1029</td>\n",
       "      <td>10137</td>\n",
       "      <td>19</td>\n",
       "      <td>19</td>\n",
       "      <td>...</td>\n",
       "      <td>0</td>\n",
       "      <td>0</td>\n",
       "      <td>0</td>\n",
       "      <td>0</td>\n",
       "      <td>0</td>\n",
       "      <td>0</td>\n",
       "      <td>0.0</td>\n",
       "      <td>0.0</td>\n",
       "      <td>100.0</td>\n",
       "      <td>0.0</td>\n",
       "    </tr>\n",
       "    <tr>\n",
       "      <th>37823</th>\n",
       "      <td>56613</td>\n",
       "      <td>060133551121193</td>\n",
       "      <td>06</td>\n",
       "      <td>013</td>\n",
       "      <td>355112</td>\n",
       "      <td>1</td>\n",
       "      <td>1193</td>\n",
       "      <td>41555</td>\n",
       "      <td>0</td>\n",
       "      <td>0</td>\n",
       "      <td>...</td>\n",
       "      <td>0</td>\n",
       "      <td>0</td>\n",
       "      <td>0</td>\n",
       "      <td>0</td>\n",
       "      <td>0</td>\n",
       "      <td>0</td>\n",
       "      <td>NaN</td>\n",
       "      <td>NaN</td>\n",
       "      <td>NaN</td>\n",
       "      <td>NaN</td>\n",
       "    </tr>\n",
       "  </tbody>\n",
       "</table>\n",
       "<p>3 rows × 46 columns</p>\n",
       "</div>"
      ],
      "text/plain": [
       "       logrecno        blockfips state county   tract  blkgrp block  arealand  \\\n",
       "56011    593703  060750601001073    06    075  060100       1  1073     13789   \n",
       "45757    315077  060411060021029    06    041  106002       1  1029     10137   \n",
       "37823     56613  060133551121193    06    013  355112       1  1193     41555   \n",
       "\n",
       "       P0010001  P0020001  ...  H0050003  H0050004  H0050005  H0050006  \\\n",
       "56011         0         0  ...         0         0         0         0   \n",
       "45757        19        19  ...         0         0         0         0   \n",
       "37823         0         0  ...         0         0         0         0   \n",
       "\n",
       "       H0050007  H0050008  pct_black  pct_asian  pct_white  pct_hisp  \n",
       "56011         0         0        NaN        NaN        NaN       NaN  \n",
       "45757         0         0        0.0        0.0      100.0       0.0  \n",
       "37823         0         0        NaN        NaN        NaN       NaN  \n",
       "\n",
       "[3 rows x 46 columns]"
      ]
     },
     "execution_count": 18,
     "metadata": {},
     "output_type": "execute_result"
    }
   ],
   "source": [
    "sf1['pct_black'] = sf1['P0030003'] / sf1['P0030001'] * 100\n",
    "sf1['pct_asian'] = sf1['P0030005'] / sf1['P0030001'] * 100\n",
    "sf1['pct_white'] = sf1['P0030002'] / sf1['P0030001'] * 100\n",
    "sf1['pct_hisp'] = sf1['P0040003'] / sf1['P0040001'] * 100\n",
    "sf1.sample(3)\n",
    "\n",
    "# percent = segment of pop pop / total pop\n",
    "# output is random sample of 3 rows"
   ]
  },
  {
   "cell_type": "markdown",
   "id": "970fa3a4",
   "metadata": {
    "slideshow": {
     "slide_type": "slide"
    }
   },
   "source": [
    "Now add colums with percentage rental and population per square mile."
   ]
  },
  {
   "cell_type": "code",
   "execution_count": 20,
   "id": "90637963",
   "metadata": {
    "slideshow": {
     "slide_type": "fragment"
    }
   },
   "outputs": [
    {
     "data": {
      "text/plain": [
       "0               NaN\n",
       "1         80.000000\n",
       "2               NaN\n",
       "3         70.000000\n",
       "4         75.000000\n",
       "            ...    \n",
       "109223          NaN\n",
       "109224    50.000000\n",
       "109225    25.714286\n",
       "109226    50.000000\n",
       "109227          NaN\n",
       "Name: pct_rent, Length: 109228, dtype: float64"
      ]
     },
     "execution_count": 20,
     "metadata": {},
     "output_type": "execute_result"
    }
   ],
   "source": [
    "sf1['pct_rent'] = sf1['H0040004'] / sf1['H0040001'] * 100\n",
    "sf1['pct_rent']\n",
    "\n",
    "# on left, we're creating NEW SERIES from other series\n",
    "# Pandas automatically appends those new series on the right side of table"
   ]
  },
  {
   "cell_type": "code",
   "execution_count": 21,
   "id": "524730f7",
   "metadata": {},
   "outputs": [
    {
     "data": {
      "text/html": [
       "<div>\n",
       "<style scoped>\n",
       "    .dataframe tbody tr th:only-of-type {\n",
       "        vertical-align: middle;\n",
       "    }\n",
       "\n",
       "    .dataframe tbody tr th {\n",
       "        vertical-align: top;\n",
       "    }\n",
       "\n",
       "    .dataframe thead th {\n",
       "        text-align: right;\n",
       "    }\n",
       "</style>\n",
       "<table border=\"1\" class=\"dataframe\">\n",
       "  <thead>\n",
       "    <tr style=\"text-align: right;\">\n",
       "      <th></th>\n",
       "      <th>logrecno</th>\n",
       "      <th>blockfips</th>\n",
       "      <th>state</th>\n",
       "      <th>county</th>\n",
       "      <th>tract</th>\n",
       "      <th>blkgrp</th>\n",
       "      <th>block</th>\n",
       "      <th>arealand</th>\n",
       "      <th>P0010001</th>\n",
       "      <th>P0020001</th>\n",
       "      <th>...</th>\n",
       "      <th>H0050005</th>\n",
       "      <th>H0050006</th>\n",
       "      <th>H0050007</th>\n",
       "      <th>H0050008</th>\n",
       "      <th>pct_black</th>\n",
       "      <th>pct_asian</th>\n",
       "      <th>pct_white</th>\n",
       "      <th>pct_hisp</th>\n",
       "      <th>pct_rent</th>\n",
       "      <th>pop_sqmi</th>\n",
       "    </tr>\n",
       "  </thead>\n",
       "  <tbody>\n",
       "    <tr>\n",
       "      <th>106125</th>\n",
       "      <td>718563</td>\n",
       "      <td>060971529032010</td>\n",
       "      <td>06</td>\n",
       "      <td>097</td>\n",
       "      <td>152903</td>\n",
       "      <td>2</td>\n",
       "      <td>2010</td>\n",
       "      <td>10527</td>\n",
       "      <td>111</td>\n",
       "      <td>111</td>\n",
       "      <td>...</td>\n",
       "      <td>0</td>\n",
       "      <td>0</td>\n",
       "      <td>0</td>\n",
       "      <td>0</td>\n",
       "      <td>5.405405</td>\n",
       "      <td>7.207207</td>\n",
       "      <td>57.657658</td>\n",
       "      <td>36.936937</td>\n",
       "      <td>47.058824</td>\n",
       "      <td>27309.648333</td>\n",
       "    </tr>\n",
       "    <tr>\n",
       "      <th>25928</th>\n",
       "      <td>43761</td>\n",
       "      <td>060133141021015</td>\n",
       "      <td>06</td>\n",
       "      <td>013</td>\n",
       "      <td>314102</td>\n",
       "      <td>1</td>\n",
       "      <td>1015</td>\n",
       "      <td>3166</td>\n",
       "      <td>40</td>\n",
       "      <td>40</td>\n",
       "      <td>...</td>\n",
       "      <td>0</td>\n",
       "      <td>1</td>\n",
       "      <td>0</td>\n",
       "      <td>0</td>\n",
       "      <td>0.000000</td>\n",
       "      <td>0.000000</td>\n",
       "      <td>62.500000</td>\n",
       "      <td>70.000000</td>\n",
       "      <td>6.250000</td>\n",
       "      <td>32722.526848</td>\n",
       "    </tr>\n",
       "    <tr>\n",
       "      <th>62634</th>\n",
       "      <td>628320</td>\n",
       "      <td>060816134001018</td>\n",
       "      <td>06</td>\n",
       "      <td>081</td>\n",
       "      <td>613400</td>\n",
       "      <td>1</td>\n",
       "      <td>1018</td>\n",
       "      <td>29190</td>\n",
       "      <td>9</td>\n",
       "      <td>9</td>\n",
       "      <td>...</td>\n",
       "      <td>0</td>\n",
       "      <td>0</td>\n",
       "      <td>0</td>\n",
       "      <td>0</td>\n",
       "      <td>0.000000</td>\n",
       "      <td>22.222222</td>\n",
       "      <td>77.777778</td>\n",
       "      <td>22.222222</td>\n",
       "      <td>25.000000</td>\n",
       "      <td>798.557451</td>\n",
       "    </tr>\n",
       "  </tbody>\n",
       "</table>\n",
       "<p>3 rows × 48 columns</p>\n",
       "</div>"
      ],
      "text/plain": [
       "        logrecno        blockfips state county   tract  blkgrp block  \\\n",
       "106125    718563  060971529032010    06    097  152903       2  2010   \n",
       "25928      43761  060133141021015    06    013  314102       1  1015   \n",
       "62634     628320  060816134001018    06    081  613400       1  1018   \n",
       "\n",
       "        arealand  P0010001  P0020001  ...  H0050005  H0050006  H0050007  \\\n",
       "106125     10527       111       111  ...         0         0         0   \n",
       "25928       3166        40        40  ...         0         1         0   \n",
       "62634      29190         9         9  ...         0         0         0   \n",
       "\n",
       "        H0050008  pct_black  pct_asian  pct_white   pct_hisp   pct_rent  \\\n",
       "106125         0   5.405405   7.207207  57.657658  36.936937  47.058824   \n",
       "25928          0   0.000000   0.000000  62.500000  70.000000   6.250000   \n",
       "62634          0   0.000000  22.222222  77.777778  22.222222  25.000000   \n",
       "\n",
       "            pop_sqmi  \n",
       "106125  27309.648333  \n",
       "25928   32722.526848  \n",
       "62634     798.557451  \n",
       "\n",
       "[3 rows x 48 columns]"
      ]
     },
     "execution_count": 21,
     "metadata": {},
     "output_type": "execute_result"
    }
   ],
   "source": [
    "sf1['pct_rent'] = sf1['H0040004'] / sf1['H0040001'] * 100\n",
    "sf1['pop_sqmi'] = (sf1['P0010001'] / (sf1['arealand'] / 2589988))\n",
    "sf1 = sf1[sf1['P0030001'] > 0]\n",
    "sf1.sample(3)"
   ]
  },
  {
   "cell_type": "markdown",
   "id": "541bdea1",
   "metadata": {
    "slideshow": {
     "slide_type": "fragment"
    }
   },
   "source": [
    "Notice how when we create new columns they get automatically appended to the end (right) of the table"
   ]
  },
  {
   "cell_type": "markdown",
   "id": "650d0faf",
   "metadata": {
    "slideshow": {
     "slide_type": "slide"
    }
   },
   "source": [
    "Now let's add county names to the dataframe so we get more readable output. First we'll create a dictionary to map the FIPS codes to county names"
   ]
  },
  {
   "cell_type": "code",
   "execution_count": 22,
   "id": "5ffb53da",
   "metadata": {
    "slideshow": {
     "slide_type": "fragment"
    }
   },
   "outputs": [],
   "source": [
    "county_fips_to_name = {\n",
    "    '001': 'Alameda', '013': 'Contra Costa', '041': 'Marin', '055': 'Napa', '075': 'San Francisco',\n",
    "    '081': 'San Mateo', '085': 'Santa Clara', '095': 'Solano', '097': 'Sonoma'}\n",
    "\n",
    "# Must rename codes to readable names. Use dictionary to map codes to names\n",
    "# use vectorization to create keys and values"
   ]
  },
  {
   "cell_type": "markdown",
   "id": "85167252",
   "metadata": {
    "slideshow": {
     "slide_type": "fragment"
    }
   },
   "source": [
    "Then we pass that dictionary to the `pd.Series.replace()` method to perform the conversion.\n",
    "\n",
    "We could use the same assignment-based approach to create our new column:"
   ]
  },
  {
   "cell_type": "code",
   "execution_count": 23,
   "id": "c79042f7",
   "metadata": {
    "slideshow": {
     "slide_type": "fragment"
    }
   },
   "outputs": [],
   "source": [
    "sf1['county_name'] = sf1['county'].replace(county_fips_to_name)\n",
    "\n",
    "# passed thru replace method, it will take every row from series and search the value in dictionary \n",
    "# will return dictionary value"
   ]
  },
  {
   "cell_type": "markdown",
   "id": "1eff23bb",
   "metadata": {
    "slideshow": {
     "slide_type": "slide"
    }
   },
   "source": [
    "or we can use `pd.DataFrame.insert()` to tell pandas exactly where to stick the new column"
   ]
  },
  {
   "cell_type": "code",
   "execution_count": 24,
   "id": "2f1bd090",
   "metadata": {
    "slideshow": {
     "slide_type": "fragment"
    }
   },
   "outputs": [
    {
     "data": {
      "text/html": [
       "<div>\n",
       "<style scoped>\n",
       "    .dataframe tbody tr th:only-of-type {\n",
       "        vertical-align: middle;\n",
       "    }\n",
       "\n",
       "    .dataframe tbody tr th {\n",
       "        vertical-align: top;\n",
       "    }\n",
       "\n",
       "    .dataframe thead th {\n",
       "        text-align: right;\n",
       "    }\n",
       "</style>\n",
       "<table border=\"1\" class=\"dataframe\">\n",
       "  <thead>\n",
       "    <tr style=\"text-align: right;\">\n",
       "      <th></th>\n",
       "      <th>logrecno</th>\n",
       "      <th>blockfips</th>\n",
       "      <th>state</th>\n",
       "      <th>county</th>\n",
       "      <th>county_name</th>\n",
       "      <th>tract</th>\n",
       "      <th>blkgrp</th>\n",
       "      <th>block</th>\n",
       "      <th>arealand</th>\n",
       "      <th>P0010001</th>\n",
       "      <th>...</th>\n",
       "      <th>H0050005</th>\n",
       "      <th>H0050006</th>\n",
       "      <th>H0050007</th>\n",
       "      <th>H0050008</th>\n",
       "      <th>pct_black</th>\n",
       "      <th>pct_asian</th>\n",
       "      <th>pct_white</th>\n",
       "      <th>pct_hisp</th>\n",
       "      <th>pct_rent</th>\n",
       "      <th>pop_sqmi</th>\n",
       "    </tr>\n",
       "  </thead>\n",
       "  <tbody>\n",
       "    <tr>\n",
       "      <th>1</th>\n",
       "      <td>26</td>\n",
       "      <td>060014271001001</td>\n",
       "      <td>06</td>\n",
       "      <td>001</td>\n",
       "      <td>Alameda</td>\n",
       "      <td>427100</td>\n",
       "      <td>1</td>\n",
       "      <td>1001</td>\n",
       "      <td>79696</td>\n",
       "      <td>113</td>\n",
       "      <td>...</td>\n",
       "      <td>0</td>\n",
       "      <td>0</td>\n",
       "      <td>0</td>\n",
       "      <td>0</td>\n",
       "      <td>13.274336</td>\n",
       "      <td>5.309735</td>\n",
       "      <td>78.761062</td>\n",
       "      <td>1.769912</td>\n",
       "      <td>80.0</td>\n",
       "      <td>3672.312839</td>\n",
       "    </tr>\n",
       "    <tr>\n",
       "      <th>3</th>\n",
       "      <td>28</td>\n",
       "      <td>060014271001003</td>\n",
       "      <td>06</td>\n",
       "      <td>001</td>\n",
       "      <td>Alameda</td>\n",
       "      <td>427100</td>\n",
       "      <td>1</td>\n",
       "      <td>1003</td>\n",
       "      <td>19546</td>\n",
       "      <td>29</td>\n",
       "      <td>...</td>\n",
       "      <td>0</td>\n",
       "      <td>0</td>\n",
       "      <td>0</td>\n",
       "      <td>2</td>\n",
       "      <td>13.793103</td>\n",
       "      <td>27.586207</td>\n",
       "      <td>37.931034</td>\n",
       "      <td>24.137931</td>\n",
       "      <td>70.0</td>\n",
       "      <td>3842.712166</td>\n",
       "    </tr>\n",
       "    <tr>\n",
       "      <th>4</th>\n",
       "      <td>29</td>\n",
       "      <td>060014271001004</td>\n",
       "      <td>06</td>\n",
       "      <td>001</td>\n",
       "      <td>Alameda</td>\n",
       "      <td>427100</td>\n",
       "      <td>1</td>\n",
       "      <td>1004</td>\n",
       "      <td>14364</td>\n",
       "      <td>26</td>\n",
       "      <td>...</td>\n",
       "      <td>0</td>\n",
       "      <td>0</td>\n",
       "      <td>0</td>\n",
       "      <td>0</td>\n",
       "      <td>0.000000</td>\n",
       "      <td>38.461538</td>\n",
       "      <td>34.615385</td>\n",
       "      <td>0.000000</td>\n",
       "      <td>75.0</td>\n",
       "      <td>4688.087441</td>\n",
       "    </tr>\n",
       "  </tbody>\n",
       "</table>\n",
       "<p>3 rows × 49 columns</p>\n",
       "</div>"
      ],
      "text/plain": [
       "   logrecno        blockfips state county county_name   tract  blkgrp block  \\\n",
       "1        26  060014271001001    06    001     Alameda  427100       1  1001   \n",
       "3        28  060014271001003    06    001     Alameda  427100       1  1003   \n",
       "4        29  060014271001004    06    001     Alameda  427100       1  1004   \n",
       "\n",
       "   arealand  P0010001  ...  H0050005  H0050006  H0050007  H0050008  pct_black  \\\n",
       "1     79696       113  ...         0         0         0         0  13.274336   \n",
       "3     19546        29  ...         0         0         0         2  13.793103   \n",
       "4     14364        26  ...         0         0         0         0   0.000000   \n",
       "\n",
       "   pct_asian  pct_white   pct_hisp  pct_rent     pop_sqmi  \n",
       "1   5.309735  78.761062   1.769912      80.0  3672.312839  \n",
       "3  27.586207  37.931034  24.137931      70.0  3842.712166  \n",
       "4  38.461538  34.615385   0.000000      75.0  4688.087441  \n",
       "\n",
       "[3 rows x 49 columns]"
      ]
     },
     "execution_count": 24,
     "metadata": {},
     "output_type": "execute_result"
    }
   ],
   "source": [
    "del sf1['county_name']  \n",
    "# drop the column we just created\n",
    "sf1.insert(4, 'county_name', sf1['county'].replace(county_fips_to_name))\n",
    "# tells Pandas to insert sf1 in 4th position\n",
    "sf1.head(3)    \n",
    "# show first 3 lines of sf1 table"
   ]
  },
  {
   "cell_type": "markdown",
   "id": "a844ea65",
   "metadata": {
    "slideshow": {
     "slide_type": "fragment"
    }
   },
   "source": [
    "Notice how `insert()` operates \"in-place\"?"
   ]
  },
  {
   "cell_type": "markdown",
   "id": "7dde65a4",
   "metadata": {
    "slideshow": {
     "slide_type": "slide"
    }
   },
   "source": [
    "### 3.1.2 Split-Apply-Combine"
   ]
  },
  {
   "cell_type": "markdown",
   "id": "6b10c691",
   "metadata": {
    "slideshow": {
     "slide_type": "fragment"
    }
   },
   "source": [
    "Groupby is a powerful method in pandas that follows the split-apply-combine approach to data manipulation.\n",
    "\n",
    "<center><img src=\"images/groupby.png\" width=75%></center>\n",
    "\n",
    "source: Fig. 10-1 _Python for Data Analysis_, McKinney (2017)"
   ]
  },
  {
   "cell_type": "markdown",
   "id": "36d3d41b",
   "metadata": {
    "slideshow": {
     "slide_type": "slide"
    }
   },
   "source": [
    "**SPLIT**\n",
    "\n",
    "Let's apply this approach to computing total population in each county in our dataset. First we create a groupby object, using county codes to group all the census blocks in sf1 into groups that share the same county code. This represents the **split** part of the workflow in the figure above"
   ]
  },
  {
   "cell_type": "code",
   "execution_count": 26,
   "id": "5baf8385",
   "metadata": {
    "slideshow": {
     "slide_type": "fragment"
    }
   },
   "outputs": [
    {
     "data": {
      "text/html": [
       "<div>\n",
       "<style scoped>\n",
       "    .dataframe tbody tr th:only-of-type {\n",
       "        vertical-align: middle;\n",
       "    }\n",
       "\n",
       "    .dataframe tbody tr th {\n",
       "        vertical-align: top;\n",
       "    }\n",
       "\n",
       "    .dataframe thead th {\n",
       "        text-align: right;\n",
       "    }\n",
       "</style>\n",
       "<table border=\"1\" class=\"dataframe\">\n",
       "  <thead>\n",
       "    <tr style=\"text-align: right;\">\n",
       "      <th></th>\n",
       "      <th>P0010001</th>\n",
       "      <th>county_name</th>\n",
       "    </tr>\n",
       "  </thead>\n",
       "  <tbody>\n",
       "    <tr>\n",
       "      <th>1</th>\n",
       "      <td>113</td>\n",
       "      <td>Alameda</td>\n",
       "    </tr>\n",
       "    <tr>\n",
       "      <th>3</th>\n",
       "      <td>29</td>\n",
       "      <td>Alameda</td>\n",
       "    </tr>\n",
       "    <tr>\n",
       "      <th>4</th>\n",
       "      <td>26</td>\n",
       "      <td>Alameda</td>\n",
       "    </tr>\n",
       "    <tr>\n",
       "      <th>6</th>\n",
       "      <td>2</td>\n",
       "      <td>Alameda</td>\n",
       "    </tr>\n",
       "    <tr>\n",
       "      <th>7</th>\n",
       "      <td>30</td>\n",
       "      <td>Alameda</td>\n",
       "    </tr>\n",
       "    <tr>\n",
       "      <th>...</th>\n",
       "      <td>...</td>\n",
       "      <td>...</td>\n",
       "    </tr>\n",
       "    <tr>\n",
       "      <th>109220</th>\n",
       "      <td>3</td>\n",
       "      <td>Sonoma</td>\n",
       "    </tr>\n",
       "    <tr>\n",
       "      <th>109222</th>\n",
       "      <td>1</td>\n",
       "      <td>Sonoma</td>\n",
       "    </tr>\n",
       "    <tr>\n",
       "      <th>109224</th>\n",
       "      <td>9</td>\n",
       "      <td>Sonoma</td>\n",
       "    </tr>\n",
       "    <tr>\n",
       "      <th>109225</th>\n",
       "      <td>64</td>\n",
       "      <td>Sonoma</td>\n",
       "    </tr>\n",
       "    <tr>\n",
       "      <th>109226</th>\n",
       "      <td>5</td>\n",
       "      <td>Sonoma</td>\n",
       "    </tr>\n",
       "  </tbody>\n",
       "</table>\n",
       "<p>68797 rows × 2 columns</p>\n",
       "</div>"
      ],
      "text/plain": [
       "        P0010001 county_name\n",
       "1            113     Alameda\n",
       "3             29     Alameda\n",
       "4             26     Alameda\n",
       "6              2     Alameda\n",
       "7             30     Alameda\n",
       "...          ...         ...\n",
       "109220         3      Sonoma\n",
       "109222         1      Sonoma\n",
       "109224         9      Sonoma\n",
       "109225        64      Sonoma\n",
       "109226         5      Sonoma\n",
       "\n",
       "[68797 rows x 2 columns]"
      ]
     },
     "execution_count": 26,
     "metadata": {},
     "output_type": "execute_result"
    }
   ],
   "source": [
    "grouped = sf1[['P0010001', 'county_name']]\n",
    "grouped\n",
    "\n",
    "# preview data"
   ]
  },
  {
   "cell_type": "markdown",
   "id": "42a3a6aa",
   "metadata": {
    "slideshow": {
     "slide_type": "slide"
    }
   },
   "source": [
    "**APPLY**\n",
    "\n",
    "Now were ready to apply an operation to each group we've split. We call these **aggregation** methods because for each group they will take a series of values and combine them to produce one value, like a min/max/mean. pandas provides a bunch of built-in aggregation functions for use with `groupby` object. Some of the most common ones include:\n",
    "\n",
    "* `count`\n",
    "* `sum`\n",
    "* `mean`\n",
    "* `median`\n",
    "* `std`, `var`\n",
    "* `min`, `max`\n",
    "* `idxmax`, `idxmin`\n",
    "* `first`, `last`\n",
    "* `quantile`\n",
    "\n",
    "But you can also define and apply your own functions to use for aggregation."
   ]
  },
  {
   "cell_type": "code",
   "execution_count": 39,
   "id": "e925db64",
   "metadata": {},
   "outputs": [
    {
     "data": {
      "text/html": [
       "<div>\n",
       "<style scoped>\n",
       "    .dataframe tbody tr th:only-of-type {\n",
       "        vertical-align: middle;\n",
       "    }\n",
       "\n",
       "    .dataframe tbody tr th {\n",
       "        vertical-align: top;\n",
       "    }\n",
       "\n",
       "    .dataframe thead th {\n",
       "        text-align: right;\n",
       "    }\n",
       "</style>\n",
       "<table border=\"1\" class=\"dataframe\">\n",
       "  <thead>\n",
       "    <tr style=\"text-align: right;\">\n",
       "      <th></th>\n",
       "      <th>P0010001</th>\n",
       "      <th>county_name</th>\n",
       "    </tr>\n",
       "  </thead>\n",
       "  <tbody>\n",
       "    <tr>\n",
       "      <th>1</th>\n",
       "      <td>113</td>\n",
       "      <td>Alameda</td>\n",
       "    </tr>\n",
       "    <tr>\n",
       "      <th>3</th>\n",
       "      <td>29</td>\n",
       "      <td>Alameda</td>\n",
       "    </tr>\n",
       "    <tr>\n",
       "      <th>4</th>\n",
       "      <td>26</td>\n",
       "      <td>Alameda</td>\n",
       "    </tr>\n",
       "    <tr>\n",
       "      <th>6</th>\n",
       "      <td>2</td>\n",
       "      <td>Alameda</td>\n",
       "    </tr>\n",
       "    <tr>\n",
       "      <th>7</th>\n",
       "      <td>30</td>\n",
       "      <td>Alameda</td>\n",
       "    </tr>\n",
       "    <tr>\n",
       "      <th>...</th>\n",
       "      <td>...</td>\n",
       "      <td>...</td>\n",
       "    </tr>\n",
       "    <tr>\n",
       "      <th>109220</th>\n",
       "      <td>3</td>\n",
       "      <td>Sonoma</td>\n",
       "    </tr>\n",
       "    <tr>\n",
       "      <th>109222</th>\n",
       "      <td>1</td>\n",
       "      <td>Sonoma</td>\n",
       "    </tr>\n",
       "    <tr>\n",
       "      <th>109224</th>\n",
       "      <td>9</td>\n",
       "      <td>Sonoma</td>\n",
       "    </tr>\n",
       "    <tr>\n",
       "      <th>109225</th>\n",
       "      <td>64</td>\n",
       "      <td>Sonoma</td>\n",
       "    </tr>\n",
       "    <tr>\n",
       "      <th>109226</th>\n",
       "      <td>5</td>\n",
       "      <td>Sonoma</td>\n",
       "    </tr>\n",
       "  </tbody>\n",
       "</table>\n",
       "<p>68797 rows × 2 columns</p>\n",
       "</div>"
      ],
      "text/plain": [
       "        P0010001 county_name\n",
       "1            113     Alameda\n",
       "3             29     Alameda\n",
       "4             26     Alameda\n",
       "6              2     Alameda\n",
       "7             30     Alameda\n",
       "...          ...         ...\n",
       "109220         3      Sonoma\n",
       "109222         1      Sonoma\n",
       "109224         9      Sonoma\n",
       "109225        64      Sonoma\n",
       "109226         5      Sonoma\n",
       "\n",
       "[68797 rows x 2 columns]"
      ]
     },
     "execution_count": 39,
     "metadata": {},
     "output_type": "execute_result"
    }
   ],
   "source": [
    "grouped.groupby('county_name')\n",
    "grouped"
   ]
  },
  {
   "cell_type": "markdown",
   "id": "8af9edb6",
   "metadata": {
    "slideshow": {
     "slide_type": "slide"
    }
   },
   "source": [
    "**COMBINE**\n",
    "\n",
    "To apply your chosen aggregation, you can call it directly as a method of your `groupby` object. The object pandas returns will be the **combined** outputs of this method for each of your groups:"
   ]
  },
  {
   "cell_type": "code",
   "execution_count": 41,
   "id": "5577d6dd",
   "metadata": {
    "scrolled": true,
    "slideshow": {
     "slide_type": "fragment"
    }
   },
   "outputs": [
    {
     "data": {
      "text/plain": [
       "P0010001                                                 7150739\n",
       "county_name    AlamedaAlamedaAlamedaAlamedaAlamedaAlamedaAlam...\n",
       "dtype: object"
      ]
     },
     "execution_count": 41,
     "metadata": {},
     "output_type": "execute_result"
    }
   ],
   "source": [
    "grouped.sum()\n",
    "# should produce sum of population column (total_pop)"
   ]
  },
  {
   "cell_type": "markdown",
   "id": "e75a1262",
   "metadata": {
    "slideshow": {
     "slide_type": "slide"
    }
   },
   "source": [
    "**SPLIT-APPLY-COMBINE**\n",
    "\n",
    "Doing this in two steps like above is really just to clarify the two parts of the split and apply process that happen within a groupy operation. Normally we would not bother separately creating a groupby object -- we would just do this in one line:"
   ]
  },
  {
   "cell_type": "code",
   "execution_count": 43,
   "id": "820460db",
   "metadata": {
    "slideshow": {
     "slide_type": "fragment"
    }
   },
   "outputs": [
    {
     "data": {
      "text/html": [
       "<div>\n",
       "<style scoped>\n",
       "    .dataframe tbody tr th:only-of-type {\n",
       "        vertical-align: middle;\n",
       "    }\n",
       "\n",
       "    .dataframe tbody tr th {\n",
       "        vertical-align: top;\n",
       "    }\n",
       "\n",
       "    .dataframe thead th {\n",
       "        text-align: right;\n",
       "    }\n",
       "</style>\n",
       "<table border=\"1\" class=\"dataframe\">\n",
       "  <thead>\n",
       "    <tr style=\"text-align: right;\">\n",
       "      <th></th>\n",
       "      <th>total_pop</th>\n",
       "    </tr>\n",
       "    <tr>\n",
       "      <th>county_name</th>\n",
       "      <th></th>\n",
       "    </tr>\n",
       "  </thead>\n",
       "  <tbody>\n",
       "    <tr>\n",
       "      <th>Alameda</th>\n",
       "      <td>1510271</td>\n",
       "    </tr>\n",
       "    <tr>\n",
       "      <th>Contra Costa</th>\n",
       "      <td>1049025</td>\n",
       "    </tr>\n",
       "    <tr>\n",
       "      <th>Marin</th>\n",
       "      <td>252409</td>\n",
       "    </tr>\n",
       "    <tr>\n",
       "      <th>Napa</th>\n",
       "      <td>136484</td>\n",
       "    </tr>\n",
       "    <tr>\n",
       "      <th>San Francisco</th>\n",
       "      <td>805235</td>\n",
       "    </tr>\n",
       "    <tr>\n",
       "      <th>San Mateo</th>\n",
       "      <td>718451</td>\n",
       "    </tr>\n",
       "    <tr>\n",
       "      <th>Santa Clara</th>\n",
       "      <td>1781642</td>\n",
       "    </tr>\n",
       "    <tr>\n",
       "      <th>Solano</th>\n",
       "      <td>413344</td>\n",
       "    </tr>\n",
       "    <tr>\n",
       "      <th>Sonoma</th>\n",
       "      <td>483878</td>\n",
       "    </tr>\n",
       "  </tbody>\n",
       "</table>\n",
       "</div>"
      ],
      "text/plain": [
       "               total_pop\n",
       "county_name             \n",
       "Alameda          1510271\n",
       "Contra Costa     1049025\n",
       "Marin             252409\n",
       "Napa              136484\n",
       "San Francisco     805235\n",
       "San Mateo         718451\n",
       "Santa Clara      1781642\n",
       "Solano            413344\n",
       "Sonoma            483878"
      ]
     },
     "execution_count": 43,
     "metadata": {},
     "output_type": "execute_result"
    }
   ],
   "source": [
    "county_pop = sf1[['county_name', 'P0010001']].groupby('county_name').sum().rename(columns={'P0010001': 'total_pop'})\n",
    "county_pop\n",
    "\n",
    "# in one chained sequence: ____________ \n",
    "# and lastly rename last col into something more readable"
   ]
  },
  {
   "cell_type": "markdown",
   "id": "d455639c",
   "metadata": {
    "slideshow": {
     "slide_type": "slide"
    }
   },
   "source": [
    "## 3.2 Aggregating on multiple columns"
   ]
  },
  {
   "cell_type": "markdown",
   "id": "2f7c53a1",
   "metadata": {
    "slideshow": {
     "slide_type": "fragment"
    }
   },
   "source": [
    "Let's merge the county totals with the original sf1 data"
   ]
  },
  {
   "cell_type": "code",
   "execution_count": 44,
   "id": "4e29baa1",
   "metadata": {
    "scrolled": true,
    "slideshow": {
     "slide_type": "fragment"
    }
   },
   "outputs": [
    {
     "data": {
      "text/html": [
       "<div>\n",
       "<style scoped>\n",
       "    .dataframe tbody tr th:only-of-type {\n",
       "        vertical-align: middle;\n",
       "    }\n",
       "\n",
       "    .dataframe tbody tr th {\n",
       "        vertical-align: top;\n",
       "    }\n",
       "\n",
       "    .dataframe thead th {\n",
       "        text-align: right;\n",
       "    }\n",
       "</style>\n",
       "<table border=\"1\" class=\"dataframe\">\n",
       "  <thead>\n",
       "    <tr style=\"text-align: right;\">\n",
       "      <th></th>\n",
       "      <th>logrecno</th>\n",
       "      <th>blockfips</th>\n",
       "      <th>state</th>\n",
       "      <th>county</th>\n",
       "      <th>county_name</th>\n",
       "      <th>tract</th>\n",
       "      <th>blkgrp</th>\n",
       "      <th>block</th>\n",
       "      <th>arealand</th>\n",
       "      <th>P0010001</th>\n",
       "      <th>...</th>\n",
       "      <th>H0050006</th>\n",
       "      <th>H0050007</th>\n",
       "      <th>H0050008</th>\n",
       "      <th>pct_black</th>\n",
       "      <th>pct_asian</th>\n",
       "      <th>pct_white</th>\n",
       "      <th>pct_hisp</th>\n",
       "      <th>pct_rent</th>\n",
       "      <th>pop_sqmi</th>\n",
       "      <th>total_pop</th>\n",
       "    </tr>\n",
       "  </thead>\n",
       "  <tbody>\n",
       "    <tr>\n",
       "      <th>1</th>\n",
       "      <td>26</td>\n",
       "      <td>060014271001001</td>\n",
       "      <td>06</td>\n",
       "      <td>001</td>\n",
       "      <td>Alameda</td>\n",
       "      <td>427100</td>\n",
       "      <td>1</td>\n",
       "      <td>1001</td>\n",
       "      <td>79696</td>\n",
       "      <td>113</td>\n",
       "      <td>...</td>\n",
       "      <td>0</td>\n",
       "      <td>0</td>\n",
       "      <td>0</td>\n",
       "      <td>13.274336</td>\n",
       "      <td>5.309735</td>\n",
       "      <td>78.761062</td>\n",
       "      <td>1.769912</td>\n",
       "      <td>80.000000</td>\n",
       "      <td>3672.312839</td>\n",
       "      <td>1510271</td>\n",
       "    </tr>\n",
       "    <tr>\n",
       "      <th>3</th>\n",
       "      <td>28</td>\n",
       "      <td>060014271001003</td>\n",
       "      <td>06</td>\n",
       "      <td>001</td>\n",
       "      <td>Alameda</td>\n",
       "      <td>427100</td>\n",
       "      <td>1</td>\n",
       "      <td>1003</td>\n",
       "      <td>19546</td>\n",
       "      <td>29</td>\n",
       "      <td>...</td>\n",
       "      <td>0</td>\n",
       "      <td>0</td>\n",
       "      <td>2</td>\n",
       "      <td>13.793103</td>\n",
       "      <td>27.586207</td>\n",
       "      <td>37.931034</td>\n",
       "      <td>24.137931</td>\n",
       "      <td>70.000000</td>\n",
       "      <td>3842.712166</td>\n",
       "      <td>1510271</td>\n",
       "    </tr>\n",
       "    <tr>\n",
       "      <th>4</th>\n",
       "      <td>29</td>\n",
       "      <td>060014271001004</td>\n",
       "      <td>06</td>\n",
       "      <td>001</td>\n",
       "      <td>Alameda</td>\n",
       "      <td>427100</td>\n",
       "      <td>1</td>\n",
       "      <td>1004</td>\n",
       "      <td>14364</td>\n",
       "      <td>26</td>\n",
       "      <td>...</td>\n",
       "      <td>0</td>\n",
       "      <td>0</td>\n",
       "      <td>0</td>\n",
       "      <td>0.000000</td>\n",
       "      <td>38.461538</td>\n",
       "      <td>34.615385</td>\n",
       "      <td>0.000000</td>\n",
       "      <td>75.000000</td>\n",
       "      <td>4688.087441</td>\n",
       "      <td>1510271</td>\n",
       "    </tr>\n",
       "    <tr>\n",
       "      <th>6</th>\n",
       "      <td>31</td>\n",
       "      <td>060014271001006</td>\n",
       "      <td>06</td>\n",
       "      <td>001</td>\n",
       "      <td>Alameda</td>\n",
       "      <td>427100</td>\n",
       "      <td>1</td>\n",
       "      <td>1006</td>\n",
       "      <td>1281</td>\n",
       "      <td>2</td>\n",
       "      <td>...</td>\n",
       "      <td>0</td>\n",
       "      <td>0</td>\n",
       "      <td>0</td>\n",
       "      <td>0.000000</td>\n",
       "      <td>50.000000</td>\n",
       "      <td>0.000000</td>\n",
       "      <td>100.000000</td>\n",
       "      <td>100.000000</td>\n",
       "      <td>4043.697112</td>\n",
       "      <td>1510271</td>\n",
       "    </tr>\n",
       "    <tr>\n",
       "      <th>7</th>\n",
       "      <td>32</td>\n",
       "      <td>060014271001007</td>\n",
       "      <td>06</td>\n",
       "      <td>001</td>\n",
       "      <td>Alameda</td>\n",
       "      <td>427100</td>\n",
       "      <td>1</td>\n",
       "      <td>1007</td>\n",
       "      <td>19020</td>\n",
       "      <td>30</td>\n",
       "      <td>...</td>\n",
       "      <td>0</td>\n",
       "      <td>0</td>\n",
       "      <td>0</td>\n",
       "      <td>0.000000</td>\n",
       "      <td>43.333333</td>\n",
       "      <td>50.000000</td>\n",
       "      <td>0.000000</td>\n",
       "      <td>33.333333</td>\n",
       "      <td>4085.154574</td>\n",
       "      <td>1510271</td>\n",
       "    </tr>\n",
       "  </tbody>\n",
       "</table>\n",
       "<p>5 rows × 50 columns</p>\n",
       "</div>"
      ],
      "text/plain": [
       "   logrecno        blockfips state county county_name   tract  blkgrp block  \\\n",
       "1        26  060014271001001    06    001     Alameda  427100       1  1001   \n",
       "3        28  060014271001003    06    001     Alameda  427100       1  1003   \n",
       "4        29  060014271001004    06    001     Alameda  427100       1  1004   \n",
       "6        31  060014271001006    06    001     Alameda  427100       1  1006   \n",
       "7        32  060014271001007    06    001     Alameda  427100       1  1007   \n",
       "\n",
       "   arealand  P0010001  ...  H0050006  H0050007  H0050008  pct_black  \\\n",
       "1     79696       113  ...         0         0         0  13.274336   \n",
       "3     19546        29  ...         0         0         2  13.793103   \n",
       "4     14364        26  ...         0         0         0   0.000000   \n",
       "6      1281         2  ...         0         0         0   0.000000   \n",
       "7     19020        30  ...         0         0         0   0.000000   \n",
       "\n",
       "   pct_asian  pct_white    pct_hisp    pct_rent     pop_sqmi  total_pop  \n",
       "1   5.309735  78.761062    1.769912   80.000000  3672.312839    1510271  \n",
       "3  27.586207  37.931034   24.137931   70.000000  3842.712166    1510271  \n",
       "4  38.461538  34.615385    0.000000   75.000000  4688.087441    1510271  \n",
       "6  50.000000   0.000000  100.000000  100.000000  4043.697112    1510271  \n",
       "7  43.333333  50.000000    0.000000   33.333333  4085.154574    1510271  \n",
       "\n",
       "[5 rows x 50 columns]"
      ]
     },
     "execution_count": 44,
     "metadata": {},
     "output_type": "execute_result"
    }
   ],
   "source": [
    "sf2 = pd.merge(sf1, county_pop, left_on='county_name', right_index=True)\n",
    "sf2.head()"
   ]
  },
  {
   "cell_type": "markdown",
   "id": "c05622b4",
   "metadata": {
    "slideshow": {
     "slide_type": "slide"
    }
   },
   "source": [
    "Let's say we wanted to compute the population per square mile by county.  We could go ahead and create another dataframe with total area by county than then divide the total population by total area."
   ]
  },
  {
   "cell_type": "code",
   "execution_count": 45,
   "id": "2b448110",
   "metadata": {
    "slideshow": {
     "slide_type": "fragment"
    }
   },
   "outputs": [
    {
     "data": {
      "text/html": [
       "<div>\n",
       "<style scoped>\n",
       "    .dataframe tbody tr th:only-of-type {\n",
       "        vertical-align: middle;\n",
       "    }\n",
       "\n",
       "    .dataframe tbody tr th {\n",
       "        vertical-align: top;\n",
       "    }\n",
       "\n",
       "    .dataframe thead th {\n",
       "        text-align: right;\n",
       "    }\n",
       "</style>\n",
       "<table border=\"1\" class=\"dataframe\">\n",
       "  <thead>\n",
       "    <tr style=\"text-align: right;\">\n",
       "      <th></th>\n",
       "      <th>arealand</th>\n",
       "    </tr>\n",
       "    <tr>\n",
       "      <th>county_name</th>\n",
       "      <th></th>\n",
       "    </tr>\n",
       "  </thead>\n",
       "  <tbody>\n",
       "    <tr>\n",
       "      <th>Alameda</th>\n",
       "      <td>1190434861</td>\n",
       "    </tr>\n",
       "    <tr>\n",
       "      <th>Contra Costa</th>\n",
       "      <td>1095085515</td>\n",
       "    </tr>\n",
       "    <tr>\n",
       "      <th>Marin</th>\n",
       "      <td>1046029032</td>\n",
       "    </tr>\n",
       "    <tr>\n",
       "      <th>Napa</th>\n",
       "      <td>1556005658</td>\n",
       "    </tr>\n",
       "    <tr>\n",
       "      <th>San Francisco</th>\n",
       "      <td>95535946</td>\n",
       "    </tr>\n",
       "    <tr>\n",
       "      <th>San Mateo</th>\n",
       "      <td>884654868</td>\n",
       "    </tr>\n",
       "    <tr>\n",
       "      <th>Santa Clara</th>\n",
       "      <td>2378681334</td>\n",
       "    </tr>\n",
       "    <tr>\n",
       "      <th>Solano</th>\n",
       "      <td>1224964331</td>\n",
       "    </tr>\n",
       "    <tr>\n",
       "      <th>Sonoma</th>\n",
       "      <td>3206326062</td>\n",
       "    </tr>\n",
       "  </tbody>\n",
       "</table>\n",
       "</div>"
      ],
      "text/plain": [
       "                 arealand\n",
       "county_name              \n",
       "Alameda        1190434861\n",
       "Contra Costa   1095085515\n",
       "Marin          1046029032\n",
       "Napa           1556005658\n",
       "San Francisco    95535946\n",
       "San Mateo       884654868\n",
       "Santa Clara    2378681334\n",
       "Solano         1224964331\n",
       "Sonoma         3206326062"
      ]
     },
     "execution_count": 45,
     "metadata": {},
     "output_type": "execute_result"
    }
   ],
   "source": [
    "county_land = sf1[['county_name', 'arealand']].groupby(sf1['county_name']).sum()\n",
    "county_land\n",
    "\n",
    "# take sum of arealand"
   ]
  },
  {
   "cell_type": "code",
   "execution_count": 46,
   "id": "69a8e7f5",
   "metadata": {
    "slideshow": {
     "slide_type": "fragment"
    }
   },
   "outputs": [
    {
     "data": {
      "text/plain": [
       "county_name\n",
       "Alameda           3285.844577\n",
       "Contra Costa      2481.050329\n",
       "Marin              624.969565\n",
       "Napa               227.179082\n",
       "San Francisco    21829.993454\n",
       "San Mateo         2103.396042\n",
       "Santa Clara       1939.911635\n",
       "Solano             873.948750\n",
       "Sonoma             390.864261\n",
       "dtype: float64"
      ]
     },
     "execution_count": 46,
     "metadata": {},
     "output_type": "execute_result"
    }
   ],
   "source": [
    "sq_m_to_sq_mi = 2589988.11 \n",
    "county_pop['total_pop'] / county_land['arealand'] * sq_m_to_sq_mi\n",
    "# converting square meters to square mi"
   ]
  },
  {
   "cell_type": "markdown",
   "id": "3c8f68b1",
   "metadata": {
    "slideshow": {
     "slide_type": "slide"
    }
   },
   "source": [
    "Or, we could have done both aggregations at the same time!"
   ]
  },
  {
   "cell_type": "code",
   "execution_count": 47,
   "id": "5f93fc1d",
   "metadata": {
    "slideshow": {
     "slide_type": "fragment"
    }
   },
   "outputs": [
    {
     "data": {
      "text/html": [
       "<div>\n",
       "<style scoped>\n",
       "    .dataframe tbody tr th:only-of-type {\n",
       "        vertical-align: middle;\n",
       "    }\n",
       "\n",
       "    .dataframe tbody tr th {\n",
       "        vertical-align: top;\n",
       "    }\n",
       "\n",
       "    .dataframe thead th {\n",
       "        text-align: right;\n",
       "    }\n",
       "</style>\n",
       "<table border=\"1\" class=\"dataframe\">\n",
       "  <thead>\n",
       "    <tr style=\"text-align: right;\">\n",
       "      <th></th>\n",
       "      <th>P0010001</th>\n",
       "      <th>arealand</th>\n",
       "      <th>pop_density</th>\n",
       "    </tr>\n",
       "    <tr>\n",
       "      <th>county_name</th>\n",
       "      <th></th>\n",
       "      <th></th>\n",
       "      <th></th>\n",
       "    </tr>\n",
       "  </thead>\n",
       "  <tbody>\n",
       "    <tr>\n",
       "      <th>Alameda</th>\n",
       "      <td>1510271</td>\n",
       "      <td>1190434861</td>\n",
       "      <td>3285.844577</td>\n",
       "    </tr>\n",
       "    <tr>\n",
       "      <th>Contra Costa</th>\n",
       "      <td>1049025</td>\n",
       "      <td>1095085515</td>\n",
       "      <td>2481.050329</td>\n",
       "    </tr>\n",
       "    <tr>\n",
       "      <th>Marin</th>\n",
       "      <td>252409</td>\n",
       "      <td>1046029032</td>\n",
       "      <td>624.969565</td>\n",
       "    </tr>\n",
       "    <tr>\n",
       "      <th>Napa</th>\n",
       "      <td>136484</td>\n",
       "      <td>1556005658</td>\n",
       "      <td>227.179082</td>\n",
       "    </tr>\n",
       "    <tr>\n",
       "      <th>San Francisco</th>\n",
       "      <td>805235</td>\n",
       "      <td>95535946</td>\n",
       "      <td>21829.993454</td>\n",
       "    </tr>\n",
       "    <tr>\n",
       "      <th>San Mateo</th>\n",
       "      <td>718451</td>\n",
       "      <td>884654868</td>\n",
       "      <td>2103.396042</td>\n",
       "    </tr>\n",
       "    <tr>\n",
       "      <th>Santa Clara</th>\n",
       "      <td>1781642</td>\n",
       "      <td>2378681334</td>\n",
       "      <td>1939.911635</td>\n",
       "    </tr>\n",
       "    <tr>\n",
       "      <th>Solano</th>\n",
       "      <td>413344</td>\n",
       "      <td>1224964331</td>\n",
       "      <td>873.948750</td>\n",
       "    </tr>\n",
       "    <tr>\n",
       "      <th>Sonoma</th>\n",
       "      <td>483878</td>\n",
       "      <td>3206326062</td>\n",
       "      <td>390.864261</td>\n",
       "    </tr>\n",
       "  </tbody>\n",
       "</table>\n",
       "</div>"
      ],
      "text/plain": [
       "               P0010001    arealand   pop_density\n",
       "county_name                                      \n",
       "Alameda         1510271  1190434861   3285.844577\n",
       "Contra Costa    1049025  1095085515   2481.050329\n",
       "Marin            252409  1046029032    624.969565\n",
       "Napa             136484  1556005658    227.179082\n",
       "San Francisco    805235    95535946  21829.993454\n",
       "San Mateo        718451   884654868   2103.396042\n",
       "Santa Clara     1781642  2378681334   1939.911635\n",
       "Solano           413344  1224964331    873.948750\n",
       "Sonoma           483878  3206326062    390.864261"
      ]
     },
     "execution_count": 47,
     "metadata": {},
     "output_type": "execute_result"
    }
   ],
   "source": [
    "county_totals = sf1[['county_name', 'P0010001', 'arealand']].groupby('county_name').sum()\n",
    "county_totals['pop_density'] = county_totals['P0010001'] / county_totals['arealand'] * sq_m_to_sq_mi\n",
    "county_totals\n",
    "\n",
    "# Chained Assignment:\n",
    "# take sf1 data the columns selected, group by county name, and sum the rest of the culumns not included in groupby\n",
    "# outout"
   ]
  },
  {
   "cell_type": "markdown",
   "id": "9b23f687",
   "metadata": {
    "slideshow": {
     "slide_type": "slide"
    }
   },
   "source": [
    "What if we want to apply different aggregations to different columns? "
   ]
  },
  {
   "cell_type": "code",
   "execution_count": null,
   "id": "2e36fbad",
   "metadata": {
    "slideshow": {
     "slide_type": "fragment"
    }
   },
   "outputs": [],
   "source": [
    "sf1.groupby('county_name').agg({'pct_asian': 'mean', 'P0010001': 'sum'})\n",
    "\n",
    "# aggregation method takes dictionary (keys are columns & values are the operation to be performed)"
   ]
  },
  {
   "cell_type": "markdown",
   "id": "13f04798",
   "metadata": {
    "slideshow": {
     "slide_type": "fragment"
    }
   },
   "source": [
    "**Question**\n",
    "\n",
    "Sometimes I write `df[<list of columns>].groupby()`, but sometimes I just do `df.groupby()`. Why group subset of data frame vs. entire data frame?\n",
    "\n",
    "Subset data by certain columns and perform operation rather than operating indiscriminately on all columns"
   ]
  },
  {
   "cell_type": "markdown",
   "id": "336dfb7a",
   "metadata": {
    "slideshow": {
     "slide_type": "slide"
    }
   },
   "source": [
    "## 3.3 Exercises:\n",
    "\n",
    "Count the number of census blocks per county.\n",
    "\n",
    "Calculate total households per county.\n",
    "\n",
    "Calculate percent renters by county. (Careful not to calculate the mean percent rental across blocks in a county)\n",
    "\n",
    "Calculate percent vacant by county.\n",
    "\n",
    "Calculate mean, min and max pop_sqmi (at the block level) by county.\n",
    "\n",
    "Calculate the 90th percentile of pop_sqmi (at the block level) by county."
   ]
  },
  {
   "cell_type": "code",
   "execution_count": null,
   "id": "023cb9d4",
   "metadata": {
    "scrolled": true,
    "slideshow": {
     "slide_type": "skip"
    }
   },
   "outputs": [],
   "source": [
    "print('Number of census blocks per county:')"
   ]
  },
  {
   "cell_type": "code",
   "execution_count": null,
   "id": "7ae86fba",
   "metadata": {
    "scrolled": true,
    "slideshow": {
     "slide_type": "skip"
    }
   },
   "outputs": [],
   "source": [
    "print('Total households per county')"
   ]
  },
  {
   "cell_type": "code",
   "execution_count": null,
   "id": "9f74de19",
   "metadata": {
    "scrolled": true,
    "slideshow": {
     "slide_type": "skip"
    }
   },
   "outputs": [],
   "source": [
    "print('percent renters by county')"
   ]
  },
  {
   "cell_type": "code",
   "execution_count": null,
   "id": "079f9eab",
   "metadata": {
    "slideshow": {
     "slide_type": "skip"
    }
   },
   "outputs": [],
   "source": [
    "print('Percent vacant by county')"
   ]
  },
  {
   "cell_type": "code",
   "execution_count": null,
   "id": "594474e1",
   "metadata": {
    "slideshow": {
     "slide_type": "skip"
    }
   },
   "outputs": [],
   "source": [
    "print('Min, Max and Mean Population per SQMI by Census Block')"
   ]
  },
  {
   "cell_type": "code",
   "execution_count": null,
   "id": "f83535ab",
   "metadata": {
    "slideshow": {
     "slide_type": "skip"
    }
   },
   "outputs": [],
   "source": [
    "print('90th Percentile of Population per SQMI at block level by County')"
   ]
  },
  {
   "cell_type": "markdown",
   "id": "e866bdcb",
   "metadata": {
    "slideshow": {
     "slide_type": "slide"
    }
   },
   "source": [
    "## 3.4 Cleaning Messy Data -- Craigslist Rental Listings"
   ]
  },
  {
   "cell_type": "markdown",
   "id": "d8cc2c27",
   "metadata": {
    "slideshow": {
     "slide_type": "slide"
    }
   },
   "source": [
    "### 3.4.1 Loading data\n",
    "Let's load some rental listings I scraped from Craigslist.  "
   ]
  },
  {
   "cell_type": "code",
   "execution_count": 48,
   "id": "3acfcd9f",
   "metadata": {
    "scrolled": true,
    "slideshow": {
     "slide_type": "fragment"
    }
   },
   "outputs": [
    {
     "data": {
      "text/html": [
       "<div>\n",
       "<style scoped>\n",
       "    .dataframe tbody tr th:only-of-type {\n",
       "        vertical-align: middle;\n",
       "    }\n",
       "\n",
       "    .dataframe tbody tr th {\n",
       "        vertical-align: top;\n",
       "    }\n",
       "\n",
       "    .dataframe thead th {\n",
       "        text-align: right;\n",
       "    }\n",
       "</style>\n",
       "<table border=\"1\" class=\"dataframe\">\n",
       "  <thead>\n",
       "    <tr style=\"text-align: right;\">\n",
       "      <th></th>\n",
       "      <th>neighborhood</th>\n",
       "      <th>title</th>\n",
       "      <th>price</th>\n",
       "      <th>beds_sqft</th>\n",
       "      <th>pid</th>\n",
       "      <th>longitude</th>\n",
       "      <th>date</th>\n",
       "      <th>subregion</th>\n",
       "      <th>link</th>\n",
       "      <th>latitude</th>\n",
       "    </tr>\n",
       "  </thead>\n",
       "  <tbody>\n",
       "    <tr>\n",
       "      <th>0</th>\n",
       "      <td>(bayview)</td>\n",
       "      <td>Take A TOUR ON OUR ONE FURNISHED BEDROOM TODAY</td>\n",
       "      <td>$950</td>\n",
       "      <td>/ 1br -</td>\n",
       "      <td>4076905111</td>\n",
       "      <td>-122.396965</td>\n",
       "      <td>Sep 18 2013</td>\n",
       "      <td>SF</td>\n",
       "      <td>/sfc/apa/4076905111.html</td>\n",
       "      <td>37.761216</td>\n",
       "    </tr>\n",
       "    <tr>\n",
       "      <th>1</th>\n",
       "      <td>(bayview)</td>\n",
       "      <td>Only walking distance to major shopping centers.</td>\n",
       "      <td>$950</td>\n",
       "      <td>/ 1br -</td>\n",
       "      <td>4076901755</td>\n",
       "      <td>-122.396793</td>\n",
       "      <td>Sep 18 2013</td>\n",
       "      <td>SF</td>\n",
       "      <td>/sfc/apa/4076901755.html</td>\n",
       "      <td>37.761080</td>\n",
       "    </tr>\n",
       "    <tr>\n",
       "      <th>2</th>\n",
       "      <td>(bayview)</td>\n",
       "      <td>furnished - 1 Bedroom(s), 1 Bath(s), Air Condi...</td>\n",
       "      <td>$950</td>\n",
       "      <td>/ 1br -</td>\n",
       "      <td>4076899340</td>\n",
       "      <td>-122.397100</td>\n",
       "      <td>Sep 18 2013</td>\n",
       "      <td>SF</td>\n",
       "      <td>/sfc/apa/4076899340.html</td>\n",
       "      <td>37.762100</td>\n",
       "    </tr>\n",
       "    <tr>\n",
       "      <th>3</th>\n",
       "      <td>(financial district)</td>\n",
       "      <td>*NEW* Beautiful, Upscale Condo in Historic Jac...</td>\n",
       "      <td>$3300</td>\n",
       "      <td>/ 1br - 830ft² -</td>\n",
       "      <td>4067393707</td>\n",
       "      <td>-122.399747</td>\n",
       "      <td>Sep 18 2013</td>\n",
       "      <td>SF</td>\n",
       "      <td>/sfc/apa/4067393707.html</td>\n",
       "      <td>37.798108</td>\n",
       "    </tr>\n",
       "    <tr>\n",
       "      <th>4</th>\n",
       "      <td>(visitacion valley)</td>\n",
       "      <td>楼上全层3房</td>\n",
       "      <td>$2000</td>\n",
       "      <td>/ 3br - 1280ft² -</td>\n",
       "      <td>4076901071</td>\n",
       "      <td>NaN</td>\n",
       "      <td>Sep 18 2013</td>\n",
       "      <td>SF</td>\n",
       "      <td>/sfc/apa/4076901071.html</td>\n",
       "      <td>NaN</td>\n",
       "    </tr>\n",
       "  </tbody>\n",
       "</table>\n",
       "</div>"
      ],
      "text/plain": [
       "            neighborhood                                              title  \\\n",
       "0              (bayview)     Take A TOUR ON OUR ONE FURNISHED BEDROOM TODAY   \n",
       "1              (bayview)   Only walking distance to major shopping centers.   \n",
       "2              (bayview)  furnished - 1 Bedroom(s), 1 Bath(s), Air Condi...   \n",
       "3   (financial district)  *NEW* Beautiful, Upscale Condo in Historic Jac...   \n",
       "4    (visitacion valley)                                             楼上全层3房   \n",
       "\n",
       "   price                 beds_sqft         pid   longitude         date  \\\n",
       "0   $950               / 1br -      4076905111 -122.396965  Sep 18 2013   \n",
       "1   $950               / 1br -      4076901755 -122.396793  Sep 18 2013   \n",
       "2   $950               / 1br -      4076899340 -122.397100  Sep 18 2013   \n",
       "3  $3300      / 1br - 830ft² -      4067393707 -122.399747  Sep 18 2013   \n",
       "4  $2000     / 3br - 1280ft² -      4076901071         NaN  Sep 18 2013   \n",
       "\n",
       "  subregion                      link   latitude  \n",
       "0        SF  /sfc/apa/4076905111.html  37.761216  \n",
       "1        SF  /sfc/apa/4076901755.html  37.761080  \n",
       "2        SF  /sfc/apa/4076899340.html  37.762100  \n",
       "3        SF  /sfc/apa/4067393707.html  37.798108  \n",
       "4        SF  /sfc/apa/4076901071.html        NaN  "
      ]
     },
     "execution_count": 48,
     "metadata": {},
     "output_type": "execute_result"
    }
   ],
   "source": [
    "df = pd.read_csv('data/bay.csv')\n",
    "df.head()"
   ]
  },
  {
   "cell_type": "markdown",
   "id": "7603679b",
   "metadata": {
    "slideshow": {
     "slide_type": "fragment"
    }
   },
   "source": [
    "It turns out to be pretty messy. What problems do you see?"
   ]
  },
  {
   "cell_type": "markdown",
   "id": "3427a5c2",
   "metadata": {
    "slideshow": {
     "slide_type": "slide"
    }
   },
   "source": [
    "\n",
    "- Neighborhood names are in parentheses...\n",
    "- Bedrooms and Square Feet are embedded in a single string in the bedrooms column along with other text...\n",
    "- Price is formatted as a string with a dollar sign...\n",
    "- Date is a string in a non-standard format...\n",
    "\n",
    "So how can we go about cleaning these data up to use them for analysis?\n",
    "\n",
    "Let's start with cleaning up the Price and Neighborhood variables."
   ]
  },
  {
   "cell_type": "markdown",
   "id": "1372b48c",
   "metadata": {
    "slideshow": {
     "slide_type": "slide"
    }
   },
   "source": [
    "### 3.4.2 String Ops"
   ]
  },
  {
   "cell_type": "code",
   "execution_count": 49,
   "id": "d7316842",
   "metadata": {
    "scrolled": true,
    "slideshow": {
     "slide_type": "fragment"
    }
   },
   "outputs": [
    {
     "data": {
      "text/html": [
       "<div>\n",
       "<style scoped>\n",
       "    .dataframe tbody tr th:only-of-type {\n",
       "        vertical-align: middle;\n",
       "    }\n",
       "\n",
       "    .dataframe tbody tr th {\n",
       "        vertical-align: top;\n",
       "    }\n",
       "\n",
       "    .dataframe thead th {\n",
       "        text-align: right;\n",
       "    }\n",
       "</style>\n",
       "<table border=\"1\" class=\"dataframe\">\n",
       "  <thead>\n",
       "    <tr style=\"text-align: right;\">\n",
       "      <th></th>\n",
       "      <th>neighborhood</th>\n",
       "      <th>title</th>\n",
       "      <th>price</th>\n",
       "      <th>beds_sqft</th>\n",
       "      <th>pid</th>\n",
       "      <th>longitude</th>\n",
       "      <th>date</th>\n",
       "      <th>subregion</th>\n",
       "      <th>link</th>\n",
       "      <th>latitude</th>\n",
       "    </tr>\n",
       "  </thead>\n",
       "  <tbody>\n",
       "    <tr>\n",
       "      <th>0</th>\n",
       "      <td>bayview</td>\n",
       "      <td>Take A TOUR ON OUR ONE FURNISHED BEDROOM TODAY</td>\n",
       "      <td>950.0</td>\n",
       "      <td>/ 1br -</td>\n",
       "      <td>4076905111</td>\n",
       "      <td>-122.396965</td>\n",
       "      <td>Sep 18 2013</td>\n",
       "      <td>SF</td>\n",
       "      <td>/sfc/apa/4076905111.html</td>\n",
       "      <td>37.761216</td>\n",
       "    </tr>\n",
       "    <tr>\n",
       "      <th>1</th>\n",
       "      <td>bayview</td>\n",
       "      <td>Only walking distance to major shopping centers.</td>\n",
       "      <td>950.0</td>\n",
       "      <td>/ 1br -</td>\n",
       "      <td>4076901755</td>\n",
       "      <td>-122.396793</td>\n",
       "      <td>Sep 18 2013</td>\n",
       "      <td>SF</td>\n",
       "      <td>/sfc/apa/4076901755.html</td>\n",
       "      <td>37.761080</td>\n",
       "    </tr>\n",
       "    <tr>\n",
       "      <th>2</th>\n",
       "      <td>bayview</td>\n",
       "      <td>furnished - 1 Bedroom(s), 1 Bath(s), Air Condi...</td>\n",
       "      <td>950.0</td>\n",
       "      <td>/ 1br -</td>\n",
       "      <td>4076899340</td>\n",
       "      <td>-122.397100</td>\n",
       "      <td>Sep 18 2013</td>\n",
       "      <td>SF</td>\n",
       "      <td>/sfc/apa/4076899340.html</td>\n",
       "      <td>37.762100</td>\n",
       "    </tr>\n",
       "    <tr>\n",
       "      <th>3</th>\n",
       "      <td>financial district</td>\n",
       "      <td>*NEW* Beautiful, Upscale Condo in Historic Jac...</td>\n",
       "      <td>3300.0</td>\n",
       "      <td>/ 1br - 830ft² -</td>\n",
       "      <td>4067393707</td>\n",
       "      <td>-122.399747</td>\n",
       "      <td>Sep 18 2013</td>\n",
       "      <td>SF</td>\n",
       "      <td>/sfc/apa/4067393707.html</td>\n",
       "      <td>37.798108</td>\n",
       "    </tr>\n",
       "    <tr>\n",
       "      <th>4</th>\n",
       "      <td>visitacion valley</td>\n",
       "      <td>楼上全层3房</td>\n",
       "      <td>2000.0</td>\n",
       "      <td>/ 3br - 1280ft² -</td>\n",
       "      <td>4076901071</td>\n",
       "      <td>NaN</td>\n",
       "      <td>Sep 18 2013</td>\n",
       "      <td>SF</td>\n",
       "      <td>/sfc/apa/4076901071.html</td>\n",
       "      <td>NaN</td>\n",
       "    </tr>\n",
       "  </tbody>\n",
       "</table>\n",
       "</div>"
      ],
      "text/plain": [
       "         neighborhood                                              title  \\\n",
       "0             bayview     Take A TOUR ON OUR ONE FURNISHED BEDROOM TODAY   \n",
       "1             bayview   Only walking distance to major shopping centers.   \n",
       "2             bayview  furnished - 1 Bedroom(s), 1 Bath(s), Air Condi...   \n",
       "3  financial district  *NEW* Beautiful, Upscale Condo in Historic Jac...   \n",
       "4   visitacion valley                                             楼上全层3房   \n",
       "\n",
       "    price                 beds_sqft         pid   longitude         date  \\\n",
       "0   950.0               / 1br -      4076905111 -122.396965  Sep 18 2013   \n",
       "1   950.0               / 1br -      4076901755 -122.396793  Sep 18 2013   \n",
       "2   950.0               / 1br -      4076899340 -122.397100  Sep 18 2013   \n",
       "3  3300.0      / 1br - 830ft² -      4067393707 -122.399747  Sep 18 2013   \n",
       "4  2000.0     / 3br - 1280ft² -      4076901071         NaN  Sep 18 2013   \n",
       "\n",
       "  subregion                      link   latitude  \n",
       "0        SF  /sfc/apa/4076905111.html  37.761216  \n",
       "1        SF  /sfc/apa/4076901755.html  37.761080  \n",
       "2        SF  /sfc/apa/4076899340.html  37.762100  \n",
       "3        SF  /sfc/apa/4067393707.html  37.798108  \n",
       "4        SF  /sfc/apa/4076901071.html        NaN  "
      ]
     },
     "execution_count": 49,
     "metadata": {},
     "output_type": "execute_result"
    }
   ],
   "source": [
    "df['price'] = df['price'].str.strip('$').astype('float64')\n",
    "df['neighborhood'] = df['neighborhood'].str.strip().str.strip('(').str.strip(')')\n",
    "df.head()\n",
    "\n",
    "# need .str to use string operations\n",
    "# strip will remove dollar signs and then convert to float for math operations\n",
    "# strip white space from neighborhood, also strip ( left paren & right paren )"
   ]
  },
  {
   "cell_type": "markdown",
   "id": "bf863ada",
   "metadata": {
    "slideshow": {
     "slide_type": "slide"
    }
   },
   "source": [
    "OK, now lets create Year, Month and Day columns"
   ]
  },
  {
   "cell_type": "code",
   "execution_count": 50,
   "id": "7e8c8f16",
   "metadata": {
    "slideshow": {
     "slide_type": "fragment"
    }
   },
   "outputs": [
    {
     "data": {
      "text/html": [
       "<div>\n",
       "<style scoped>\n",
       "    .dataframe tbody tr th:only-of-type {\n",
       "        vertical-align: middle;\n",
       "    }\n",
       "\n",
       "    .dataframe tbody tr th {\n",
       "        vertical-align: top;\n",
       "    }\n",
       "\n",
       "    .dataframe thead th {\n",
       "        text-align: right;\n",
       "    }\n",
       "</style>\n",
       "<table border=\"1\" class=\"dataframe\">\n",
       "  <thead>\n",
       "    <tr style=\"text-align: right;\">\n",
       "      <th></th>\n",
       "      <th>neighborhood</th>\n",
       "      <th>title</th>\n",
       "      <th>price</th>\n",
       "      <th>beds_sqft</th>\n",
       "      <th>pid</th>\n",
       "      <th>longitude</th>\n",
       "      <th>date</th>\n",
       "      <th>subregion</th>\n",
       "      <th>link</th>\n",
       "      <th>latitude</th>\n",
       "      <th>month</th>\n",
       "      <th>day</th>\n",
       "      <th>year</th>\n",
       "    </tr>\n",
       "  </thead>\n",
       "  <tbody>\n",
       "    <tr>\n",
       "      <th>0</th>\n",
       "      <td>bayview</td>\n",
       "      <td>Take A TOUR ON OUR ONE FURNISHED BEDROOM TODAY</td>\n",
       "      <td>950.0</td>\n",
       "      <td>/ 1br -</td>\n",
       "      <td>4076905111</td>\n",
       "      <td>-122.396965</td>\n",
       "      <td>Sep 18 2013</td>\n",
       "      <td>SF</td>\n",
       "      <td>/sfc/apa/4076905111.html</td>\n",
       "      <td>37.761216</td>\n",
       "      <td>Sep</td>\n",
       "      <td>18</td>\n",
       "      <td>2013</td>\n",
       "    </tr>\n",
       "    <tr>\n",
       "      <th>1</th>\n",
       "      <td>bayview</td>\n",
       "      <td>Only walking distance to major shopping centers.</td>\n",
       "      <td>950.0</td>\n",
       "      <td>/ 1br -</td>\n",
       "      <td>4076901755</td>\n",
       "      <td>-122.396793</td>\n",
       "      <td>Sep 18 2013</td>\n",
       "      <td>SF</td>\n",
       "      <td>/sfc/apa/4076901755.html</td>\n",
       "      <td>37.761080</td>\n",
       "      <td>Sep</td>\n",
       "      <td>18</td>\n",
       "      <td>2013</td>\n",
       "    </tr>\n",
       "    <tr>\n",
       "      <th>2</th>\n",
       "      <td>bayview</td>\n",
       "      <td>furnished - 1 Bedroom(s), 1 Bath(s), Air Condi...</td>\n",
       "      <td>950.0</td>\n",
       "      <td>/ 1br -</td>\n",
       "      <td>4076899340</td>\n",
       "      <td>-122.397100</td>\n",
       "      <td>Sep 18 2013</td>\n",
       "      <td>SF</td>\n",
       "      <td>/sfc/apa/4076899340.html</td>\n",
       "      <td>37.762100</td>\n",
       "      <td>Sep</td>\n",
       "      <td>18</td>\n",
       "      <td>2013</td>\n",
       "    </tr>\n",
       "    <tr>\n",
       "      <th>3</th>\n",
       "      <td>financial district</td>\n",
       "      <td>*NEW* Beautiful, Upscale Condo in Historic Jac...</td>\n",
       "      <td>3300.0</td>\n",
       "      <td>/ 1br - 830ft² -</td>\n",
       "      <td>4067393707</td>\n",
       "      <td>-122.399747</td>\n",
       "      <td>Sep 18 2013</td>\n",
       "      <td>SF</td>\n",
       "      <td>/sfc/apa/4067393707.html</td>\n",
       "      <td>37.798108</td>\n",
       "      <td>Sep</td>\n",
       "      <td>18</td>\n",
       "      <td>2013</td>\n",
       "    </tr>\n",
       "    <tr>\n",
       "      <th>4</th>\n",
       "      <td>visitacion valley</td>\n",
       "      <td>楼上全层3房</td>\n",
       "      <td>2000.0</td>\n",
       "      <td>/ 3br - 1280ft² -</td>\n",
       "      <td>4076901071</td>\n",
       "      <td>NaN</td>\n",
       "      <td>Sep 18 2013</td>\n",
       "      <td>SF</td>\n",
       "      <td>/sfc/apa/4076901071.html</td>\n",
       "      <td>NaN</td>\n",
       "      <td>Sep</td>\n",
       "      <td>18</td>\n",
       "      <td>2013</td>\n",
       "    </tr>\n",
       "  </tbody>\n",
       "</table>\n",
       "</div>"
      ],
      "text/plain": [
       "         neighborhood                                              title  \\\n",
       "0             bayview     Take A TOUR ON OUR ONE FURNISHED BEDROOM TODAY   \n",
       "1             bayview   Only walking distance to major shopping centers.   \n",
       "2             bayview  furnished - 1 Bedroom(s), 1 Bath(s), Air Condi...   \n",
       "3  financial district  *NEW* Beautiful, Upscale Condo in Historic Jac...   \n",
       "4   visitacion valley                                             楼上全层3房   \n",
       "\n",
       "    price                 beds_sqft         pid   longitude         date  \\\n",
       "0   950.0               / 1br -      4076905111 -122.396965  Sep 18 2013   \n",
       "1   950.0               / 1br -      4076901755 -122.396793  Sep 18 2013   \n",
       "2   950.0               / 1br -      4076899340 -122.397100  Sep 18 2013   \n",
       "3  3300.0      / 1br - 830ft² -      4067393707 -122.399747  Sep 18 2013   \n",
       "4  2000.0     / 3br - 1280ft² -      4076901071         NaN  Sep 18 2013   \n",
       "\n",
       "  subregion                      link   latitude month  day  year  \n",
       "0        SF  /sfc/apa/4076905111.html  37.761216   Sep   18  2013  \n",
       "1        SF  /sfc/apa/4076901755.html  37.761080   Sep   18  2013  \n",
       "2        SF  /sfc/apa/4076899340.html  37.762100   Sep   18  2013  \n",
       "3        SF  /sfc/apa/4067393707.html  37.798108   Sep   18  2013  \n",
       "4        SF  /sfc/apa/4076901071.html        NaN   Sep   18  2013  "
      ]
     },
     "execution_count": 50,
     "metadata": {},
     "output_type": "execute_result"
    }
   ],
   "source": [
    "df['month'] = df['date'].str.split().str[0]\n",
    "df['day'] = df['date'].str.split().str[1].astype('int32')\n",
    "df['year'] = df['date'].str.split().str[2].astype('int32')\n",
    "df.head()"
   ]
  },
  {
   "cell_type": "markdown",
   "id": "76411b30",
   "metadata": {
    "slideshow": {
     "slide_type": "slide"
    }
   },
   "source": [
    "### 3.4.3 Datetime ops\n",
    "\n",
    "pandas has special functions for dealing with `datetime` data types which make it much easier to do what we just did above. First we have to convert our date-like column to a `datetime` column"
   ]
  },
  {
   "cell_type": "code",
   "execution_count": 51,
   "id": "c95df894",
   "metadata": {
    "scrolled": true,
    "slideshow": {
     "slide_type": "fragment"
    }
   },
   "outputs": [],
   "source": [
    "df['date'] = pd.to_datetime(df['date'])"
   ]
  },
  {
   "cell_type": "markdown",
   "id": "c8f78082",
   "metadata": {
    "slideshow": {
     "slide_type": "fragment"
    }
   },
   "source": [
    "Now we can use the `dt` method (just like `.str.` for string ops) to get month, day, year, and whatever else we want:"
   ]
  },
  {
   "cell_type": "code",
   "execution_count": 52,
   "id": "aa5df511",
   "metadata": {},
   "outputs": [],
   "source": [
    "df['year'] = df['date'].dt.year\n",
    "df['month'] = df['date'].dt.month_name()\n",
    "df['day'] = df['date'].dt.day\n",
    "df['day_of_week'] = df['date'].dt.day_name()\n",
    "\n",
    "# dt method to utilize date/time operators"
   ]
  },
  {
   "cell_type": "code",
   "execution_count": null,
   "id": "30d4783c",
   "metadata": {},
   "outputs": [],
   "source": [
    "df[['date', 'day', 'month', 'year', 'day_of_week']].head()"
   ]
  },
  {
   "cell_type": "markdown",
   "id": "c8c8eab1",
   "metadata": {
    "slideshow": {
     "slide_type": "slide"
    }
   },
   "source": [
    "### 3.4.4 Complex string processing"
   ]
  },
  {
   "cell_type": "markdown",
   "id": "8458455d",
   "metadata": {
    "slideshow": {
     "slide_type": "slide"
    }
   },
   "source": [
    "Let's see how we might extract the bedrooms..."
   ]
  },
  {
   "cell_type": "code",
   "execution_count": null,
   "id": "e0d02877",
   "metadata": {
    "slideshow": {
     "slide_type": "fragment"
    }
   },
   "outputs": [],
   "source": [
    "df.beds_sqft.sample(5)"
   ]
  },
  {
   "cell_type": "code",
   "execution_count": null,
   "id": "ef0d9aea",
   "metadata": {
    "scrolled": false,
    "slideshow": {
     "slide_type": "slide"
    }
   },
   "outputs": [],
   "source": [
    "def clean_bdrm(value):\n",
    "\n",
    "    if isinstance(value, str):\n",
    "        end = value.find('br')\n",
    "\n",
    "        if end == -1:\n",
    "            return\n",
    "        \n",
    "        else:\n",
    "            start = value.find('/') + 2\n",
    "            return int(value[start:end])\n",
    "\n",
    "    else:\n",
    "        return\n",
    "\n",
    "df['bedrooms'] = df['beds_sqft'].map(clean_bdrm)"
   ]
  },
  {
   "cell_type": "code",
   "execution_count": null,
   "id": "3e893181",
   "metadata": {
    "slideshow": {
     "slide_type": "slide"
    }
   },
   "outputs": [],
   "source": [
    "df[['bedrooms', 'beds_sqft']]"
   ]
  },
  {
   "cell_type": "markdown",
   "id": "b5707b47",
   "metadata": {
    "slideshow": {
     "slide_type": "slide"
    }
   },
   "source": [
    "And the same approach might work for creating a sqft column."
   ]
  },
  {
   "cell_type": "code",
   "execution_count": null,
   "id": "5aad99fe",
   "metadata": {
    "scrolled": true,
    "slideshow": {
     "slide_type": "fragment"
    }
   },
   "outputs": [],
   "source": [
    "def clean_sqft(value):\n",
    "\n",
    "    if isinstance(value, str):\n",
    "        end = value.find('ft')\n",
    "        \n",
    "        if end == -1:\n",
    "            return\n",
    "\n",
    "        else:\n",
    "            if value.find('br') == -1:\n",
    "                start = value.find('/') + 2\n",
    "            else:\n",
    "                start = value.find('-') + 2\n",
    "\n",
    "            return int(value[start:end])\n",
    "\n",
    "    else:\n",
    "        return"
   ]
  },
  {
   "cell_type": "code",
   "execution_count": null,
   "id": "dd414daf",
   "metadata": {
    "slideshow": {
     "slide_type": "slide"
    }
   },
   "outputs": [],
   "source": [
    "df['sqft'] = df['beds_sqft'].map(clean_sqft)\n",
    "df.head()"
   ]
  },
  {
   "cell_type": "markdown",
   "id": "aca6d624",
   "metadata": {
    "slideshow": {
     "slide_type": "slide"
    }
   },
   "source": [
    "## 3.5 Summarizing your data"
   ]
  },
  {
   "cell_type": "markdown",
   "id": "d923dcae",
   "metadata": {
    "slideshow": {
     "slide_type": "slide"
    }
   },
   "source": [
    "Let's have a look at a statistical profile of our data"
   ]
  },
  {
   "cell_type": "code",
   "execution_count": null,
   "id": "3703328d",
   "metadata": {
    "scrolled": false,
    "slideshow": {
     "slide_type": "fragment"
    }
   },
   "outputs": [],
   "source": [
    "df.describe()"
   ]
  },
  {
   "cell_type": "markdown",
   "id": "60d29550",
   "metadata": {
    "slideshow": {
     "slide_type": "fragment"
    }
   },
   "source": [
    "- Why are there different counts on the columns?\n",
    "- How do the price (rent) variable ranges look?  1 dollar in rent as min?  35,000 in rent as  maximum?\n",
    "- What about sqft?  1 sqft min and 12,700 sqft max?\n",
    "- You are now in the realm of real-world data, with **outliers**!"
   ]
  },
  {
   "cell_type": "markdown",
   "id": "3115e8bc",
   "metadata": {
    "slideshow": {
     "slide_type": "slide"
    }
   },
   "source": [
    "## 3.6 Dealing with outliers\n",
    "When we talk about **outliers**, we're not talking about the Malcom Gladwell kind. The kind of outliers we're talking about are the kind that are so far-fetched that they more likely represent bad data than real observations. And even if they are real, they're so amazingly rare that we don't want them to bias our analysis. In either case, we need to get rid of them.\n",
    "\n",
    "In the case of our Craigslist listings, we'll do this in three steps:\n",
    "1. Find outliers in rent, say the top and bottom 1%\n",
    "1. Analyze the data without missing data\n",
    "1. Create a dataset that removes the outliers"
   ]
  },
  {
   "cell_type": "markdown",
   "id": "1ced5457",
   "metadata": {
    "slideshow": {
     "slide_type": "slide"
    }
   },
   "source": [
    "### 3.6.1 Price"
   ]
  },
  {
   "cell_type": "markdown",
   "id": "183f2b2a",
   "metadata": {
    "slideshow": {
     "slide_type": "fragment"
    }
   },
   "source": [
    "Let's get a quantile value at the 1st percentile to see the value that the top one percent of our records exceed"
   ]
  },
  {
   "cell_type": "code",
   "execution_count": null,
   "id": "c4d3fb83",
   "metadata": {
    "slideshow": {
     "slide_type": "fragment"
    }
   },
   "outputs": [],
   "source": [
    "low = df['price'].dropna().quantile(.01)\n",
    "print(low)"
   ]
  },
  {
   "cell_type": "markdown",
   "id": "1c50f675",
   "metadata": {
    "slideshow": {
     "slide_type": "slide"
    }
   },
   "source": [
    "And now the top 1%"
   ]
  },
  {
   "cell_type": "code",
   "execution_count": null,
   "id": "6d407e2f",
   "metadata": {
    "slideshow": {
     "slide_type": "fragment"
    }
   },
   "outputs": [],
   "source": [
    "high = df['price'].dropna().quantile(.99)\n",
    "print(high)"
   ]
  },
  {
   "cell_type": "markdown",
   "id": "f21d2618",
   "metadata": {
    "slideshow": {
     "slide_type": "fragment"
    }
   },
   "source": [
    "<center><img src=\"https://static01.nyt.com/images/2021/01/26/multimedia/26xp-photog/26xp-photog-superJumbo.jpg\" width=45%></center>"
   ]
  },
  {
   "cell_type": "markdown",
   "id": "9481592a",
   "metadata": {
    "slideshow": {
     "slide_type": "slide"
    }
   },
   "source": [
    "Now let's apply our filters:"
   ]
  },
  {
   "cell_type": "code",
   "execution_count": null,
   "id": "535c0166",
   "metadata": {
    "scrolled": false,
    "slideshow": {
     "slide_type": "fragment"
    }
   },
   "outputs": [],
   "source": [
    "cleaned = df[(df['price'] < high) & (df['price'] > low)]"
   ]
  },
  {
   "cell_type": "markdown",
   "id": "feca7b62",
   "metadata": {
    "slideshow": {
     "slide_type": "fragment"
    }
   },
   "source": [
    "And maybe we can filter on # bedrooms, too. And why not drop rows with missing data while we're at it."
   ]
  },
  {
   "cell_type": "code",
   "execution_count": null,
   "id": "fc287d64",
   "metadata": {
    "scrolled": false,
    "slideshow": {
     "slide_type": "fragment"
    }
   },
   "outputs": [],
   "source": [
    "cleaned = cleaned[cleaned['bedrooms'] < 4].dropna()\n",
    "cleaned.describe()"
   ]
  },
  {
   "cell_type": "markdown",
   "id": "20412654",
   "metadata": {
    "slideshow": {
     "slide_type": "slide"
    }
   },
   "source": [
    "## 3.7 Continuous vs Categorical Data"
   ]
  },
  {
   "cell_type": "code",
   "execution_count": null,
   "id": "f98cdb06",
   "metadata": {
    "slideshow": {
     "slide_type": "fragment"
    }
   },
   "outputs": [],
   "source": [
    "from matplotlib import pyplot as plt\n",
    "fig, axarr = plt.subplots(1, 2, figsize=(13,5))\n",
    "cleaned['subregion'].value_counts(sort=False).plot(kind='bar', ax=axarr[0], title='Sub-region')\n",
    "axarr[0].set_ylabel(\"count\")\n",
    "cleaned['price'].plot(kind='kde', ax=axarr[1], title='Price ($)')"
   ]
  },
  {
   "cell_type": "markdown",
   "id": "8231bca1",
   "metadata": {
    "slideshow": {
     "slide_type": "slide"
    }
   },
   "source": [
    "### 3.7.1 Binning your data\n",
    "Sometimes you'll want to convert a continuous variable to categorical. pandas provides us with a few options for doing this:\n",
    "- `pd.cut()`: evenly _spaced_ bins, or define your own breaks\n",
    "- `pd.qcut()`: evenly _populated_ bins, or define your own percentile breaks"
   ]
  },
  {
   "cell_type": "markdown",
   "id": "0a52f85e",
   "metadata": {
    "slideshow": {
     "slide_type": "slide"
    }
   },
   "source": [
    "#### 3.7.1.1 `pd.cut()`"
   ]
  },
  {
   "cell_type": "code",
   "execution_count": null,
   "id": "823e46c5",
   "metadata": {
    "slideshow": {
     "slide_type": "fragment"
    }
   },
   "outputs": [],
   "source": [
    "pd.cut(cleaned['price'], 3, labels=['low', 'medium', 'high']).value_counts(sort=False).plot(kind='bar')"
   ]
  },
  {
   "cell_type": "code",
   "execution_count": null,
   "id": "18a1f026",
   "metadata": {
    "slideshow": {
     "slide_type": "fragment"
    }
   },
   "outputs": [],
   "source": [
    "pd.cut(\n",
    "    cleaned['price'], [0, 1000, 5000, 20000],\n",
    "    labels=['low', 'medium', 'high']).value_counts(sort=False).plot(kind='bar')"
   ]
  },
  {
   "cell_type": "markdown",
   "id": "58b0d728",
   "metadata": {
    "slideshow": {
     "slide_type": "slide"
    }
   },
   "source": [
    "#### 3.7.1.2 `pd.qcut()`"
   ]
  },
  {
   "cell_type": "code",
   "execution_count": null,
   "id": "53d1e083",
   "metadata": {
    "slideshow": {
     "slide_type": "slide"
    }
   },
   "outputs": [],
   "source": [
    "pd.qcut(\n",
    "    cleaned['price'], 5,\n",
    "    labels=['very low', 'low', 'average', 'high', 'very high']).value_counts(sort=False).plot(kind='bar')"
   ]
  },
  {
   "cell_type": "code",
   "execution_count": null,
   "id": "ade172d3",
   "metadata": {
    "slideshow": {
     "slide_type": "fragment"
    }
   },
   "outputs": [],
   "source": [
    "pd.qcut(\n",
    "    cleaned['price'], [0, .1, .3, .7, .9, 1],\n",
    "    labels=['very low', 'low', 'medium', 'high', 'very high']).value_counts(sort=False).plot(kind='bar')"
   ]
  },
  {
   "cell_type": "markdown",
   "id": "adb3b133",
   "metadata": {
    "slideshow": {
     "slide_type": "slide"
    }
   },
   "source": [
    "### 3.7.2 Dummy variables"
   ]
  },
  {
   "cell_type": "markdown",
   "id": "71d7ff71",
   "metadata": {
    "slideshow": {
     "slide_type": "fragment"
    }
   },
   "source": [
    "Sometimes you might want to do the opposite: convert a categorical variable to a continuous or numeric variable. The way to do this is to create \"dummy variables\", where each category becomes its own _column_ with values that equal 1 if the _row_ belongs to the category and 0 otherwise:"
   ]
  },
  {
   "cell_type": "code",
   "execution_count": null,
   "id": "3c1b23f6",
   "metadata": {
    "slideshow": {
     "slide_type": "fragment"
    }
   },
   "outputs": [],
   "source": [
    "pd.get_dummies(cleaned['subregion']).sample(5)"
   ]
  },
  {
   "cell_type": "markdown",
   "id": "bf8ff333",
   "metadata": {
    "slideshow": {
     "slide_type": "slide"
    }
   },
   "source": [
    "You can then merge your dummy columns back onto the main dataframe"
   ]
  },
  {
   "cell_type": "code",
   "execution_count": null,
   "id": "7a5a6a80",
   "metadata": {
    "slideshow": {
     "slide_type": "fragment"
    }
   },
   "outputs": [],
   "source": [
    "cleaned.join(pd.get_dummies(cleaned['bedrooms'].astype(int), prefix='beds')).loc[:, 'bedrooms':].sample(5)"
   ]
  },
  {
   "cell_type": "markdown",
   "id": "969609ff",
   "metadata": {
    "slideshow": {
     "slide_type": "slide"
    }
   },
   "source": [
    "## 3.8 Putting it all together: Craigslist Rental Listings + SF1\n",
    "\n",
    "Let's load another set of rental listings. This one is a dataset I've already cleaned for you. I've also geocoded the addresses to get lat/lon coordinates and Census Block IDs."
   ]
  },
  {
   "cell_type": "markdown",
   "id": "8e2d759e",
   "metadata": {},
   "source": [
    "### 3.8.1 Merging data from two different sources"
   ]
  },
  {
   "cell_type": "code",
   "execution_count": null,
   "id": "48b14db7",
   "metadata": {
    "slideshow": {
     "slide_type": "fragment"
    }
   },
   "outputs": [],
   "source": [
    "rentals = pd.read_csv(\n",
    "    'data/sfbay_geocoded.csv',\n",
    "    usecols=['rent', 'bedrooms', 'sqft', 'fips_block', 'longitude', 'latitude'],\n",
    "    dtype={'fips_block': str}  # load fips_block as str, numeric type will drop leading zero\n",
    ")  \n",
    "rentals.head()"
   ]
  },
  {
   "cell_type": "markdown",
   "id": "db3c5174",
   "metadata": {
    "slideshow": {
     "slide_type": "slide"
    }
   },
   "source": [
    "And merge it with the census data using the FIPS block codes, which are named differently in the two DataFrames."
   ]
  },
  {
   "cell_type": "code",
   "execution_count": null,
   "id": "8be0256c",
   "metadata": {
    "slideshow": {
     "slide_type": "fragment"
    }
   },
   "outputs": [],
   "source": [
    "rentals_sf1 = pd.merge(rentals, sf1, left_on='fips_block', right_on='blockfips')\n",
    "rentals_sf1.head()"
   ]
  },
  {
   "cell_type": "markdown",
   "id": "a06d41a3",
   "metadata": {},
   "source": [
    "### 3.8.2 Multi-column group-by's"
   ]
  },
  {
   "cell_type": "markdown",
   "id": "84e9a7d0",
   "metadata": {
    "slideshow": {
     "slide_type": "slide"
    }
   },
   "source": [
    "Now we can begin looking at this merged dataset.  Let's start by computing mean rents by county."
   ]
  },
  {
   "cell_type": "code",
   "execution_count": null,
   "id": "f54a8bf6",
   "metadata": {
    "scrolled": false,
    "slideshow": {
     "slide_type": "fragment"
    }
   },
   "outputs": [],
   "source": [
    "county_rents = rentals_sf1.groupby(\n",
    "    rentals_sf1['county_name'])[['rent']].mean().sort_values(by='rent', ascending=False)\n",
    "county_rents.plot(kind='bar')"
   ]
  },
  {
   "cell_type": "markdown",
   "id": "7d09f905",
   "metadata": {
    "slideshow": {
     "slide_type": "fragment"
    }
   },
   "source": [
    "This result generally conforms to our expectations, with San Francisco having the highest average rent and Solano lowest. But what if Solano just has a higher percentage of 1 bedroom apartments? Could that bias our findings? How might we account for this possibility?"
   ]
  },
  {
   "cell_type": "markdown",
   "id": "a390a01d",
   "metadata": {
    "slideshow": {
     "slide_type": "slide"
    }
   },
   "source": [
    "One way we could investigate the effect of total bedrooms is to include bedrooms as an additional segmentation variable:"
   ]
  },
  {
   "cell_type": "code",
   "execution_count": null,
   "id": "2755b62d",
   "metadata": {
    "scrolled": false,
    "slideshow": {
     "slide_type": "fragment"
    }
   },
   "outputs": [],
   "source": [
    "rentals_sf1.groupby(['county_name', 'bedrooms'])['rent'].mean().plot(kind='bar')"
   ]
  },
  {
   "cell_type": "markdown",
   "id": "988719b9",
   "metadata": {
    "slideshow": {
     "slide_type": "fragment"
    }
   },
   "source": [
    "That bar chart is not ideal. Too small, and it would be nicer to make it separate colors for each number of bedrooms.  Also notice how the use of two groupby variables produces a MultiIndex, which makes for ugly axis labels at the very least. "
   ]
  },
  {
   "cell_type": "markdown",
   "id": "322a49dc",
   "metadata": {
    "slideshow": {
     "slide_type": "slide"
    }
   },
   "source": [
    "We can use `unstack()` to convert one of the indices from row values to columns:"
   ]
  },
  {
   "cell_type": "code",
   "execution_count": null,
   "id": "b20021cc",
   "metadata": {
    "slideshow": {
     "slide_type": "fragment"
    }
   },
   "outputs": [],
   "source": [
    "rentals_sf1.groupby(['county_name', 'bedrooms'])[['rent']].mean().unstack()"
   ]
  },
  {
   "cell_type": "markdown",
   "id": "20b8cc4a",
   "metadata": {
    "slideshow": {
     "slide_type": "slide"
    }
   },
   "source": [
    "Now we can plot a bar chart with the unstacked data, add a title, and set the figure size."
   ]
  },
  {
   "cell_type": "code",
   "execution_count": null,
   "id": "844af383",
   "metadata": {
    "slideshow": {
     "slide_type": "fragment"
    }
   },
   "outputs": [],
   "source": [
    "rentals_sf1.groupby(\n",
    "    ['county_name', 'bedrooms'])['rent'].mean().unstack().plot(\n",
    "    kind='bar', figsize=(14,6), title='Average Rents by County and # Bedrooms', ylabel='rent ($)', xlabel='county')"
   ]
  },
  {
   "cell_type": "markdown",
   "id": "33ef3250",
   "metadata": {
    "slideshow": {
     "slide_type": "fragment"
    }
   },
   "source": [
    "Note that in one line of code we can filter, groupby, and plot our results."
   ]
  },
  {
   "cell_type": "markdown",
   "id": "db99825e",
   "metadata": {
    "slideshow": {
     "slide_type": "slide"
    }
   },
   "source": [
    "**Question:** What's wrong with the plot above? Is it really showing us what we're interested in?"
   ]
  },
  {
   "cell_type": "code",
   "execution_count": null,
   "id": "1c1f5b0a",
   "metadata": {},
   "outputs": [],
   "source": [
    "rentals_sf1.groupby(\n",
    "    ['bedrooms', 'county_name'])['rent'].mean().unstack().plot(\n",
    "    kind='bar', figsize=(14,6), title='Average Rents by County and # Bedrooms', ylabel='rent ($)', xlabel='# bedrooms')"
   ]
  },
  {
   "cell_type": "markdown",
   "id": "e4c01799",
   "metadata": {
    "slideshow": {
     "slide_type": "slide"
    }
   },
   "source": [
    "### 3.8.3 Pivot tables and Crosstabs"
   ]
  },
  {
   "cell_type": "markdown",
   "id": "94b4f5f2",
   "metadata": {
    "slideshow": {
     "slide_type": "slide"
    }
   },
   "source": [
    "Remember when I said that in programming there is always more than one way to skin a cat? Here is another way of skinning this one that should look familiar to all of you excel power users out there:"
   ]
  },
  {
   "cell_type": "code",
   "execution_count": null,
   "id": "46321176",
   "metadata": {
    "slideshow": {
     "slide_type": "fragment"
    }
   },
   "outputs": [],
   "source": [
    "pd.pivot_table(rentals_sf1, values='rent', index=['bedrooms'], columns=['county_name']).plot(\n",
    "    kind='bar', figsize=(14,6), title='Average Rents by County and Bedrooms')"
   ]
  },
  {
   "cell_type": "markdown",
   "id": "30516cff",
   "metadata": {
    "slideshow": {
     "slide_type": "slide"
    }
   },
   "source": [
    "The `pivot_table()` function makes it easy to add also can add partial totals, or \"marginals\", to our data:"
   ]
  },
  {
   "cell_type": "code",
   "execution_count": null,
   "id": "e3f1f5b0",
   "metadata": {
    "slideshow": {
     "slide_type": "fragment"
    }
   },
   "outputs": [],
   "source": [
    "pd.pivot_table(rentals_sf1, values='rent', index='county_name', columns='bedrooms', margins=True)"
   ]
  },
  {
   "cell_type": "markdown",
   "id": "4e600565",
   "metadata": {
    "slideshow": {
     "slide_type": "slide"
    }
   },
   "source": [
    "Although mean is the default type of aggregation in pivot_table, you can use any aggregation method:"
   ]
  },
  {
   "cell_type": "code",
   "execution_count": null,
   "id": "8191f13d",
   "metadata": {
    "slideshow": {
     "slide_type": "fragment"
    }
   },
   "outputs": [],
   "source": [
    "pd.pivot_table(\n",
    "    rentals_sf1, values='rent', index='county_name', columns='bedrooms', aggfunc=\"max\", margins=True)"
   ]
  },
  {
   "cell_type": "markdown",
   "id": "8d23e7fc",
   "metadata": {
    "slideshow": {
     "slide_type": "fragment"
    }
   },
   "source": [
    "We could use the `count` aggregation method to get a full frequency distribution or cross-tabulation"
   ]
  },
  {
   "cell_type": "markdown",
   "id": "6e60730e",
   "metadata": {
    "slideshow": {
     "slide_type": "slide"
    }
   },
   "source": [
    "But then again, there's an even simpler way to do this in pandas"
   ]
  },
  {
   "cell_type": "code",
   "execution_count": null,
   "id": "1a0b7a2c",
   "metadata": {
    "slideshow": {
     "slide_type": "fragment"
    }
   },
   "outputs": [],
   "source": [
    "pd.crosstab(rentals_sf1['county_name'], rentals_sf1['bedrooms'], margins=True)"
   ]
  },
  {
   "cell_type": "markdown",
   "id": "b14aa77f",
   "metadata": {
    "slideshow": {
     "slide_type": "slide"
    }
   },
   "source": [
    "And the `crosstab()` function comes with its own bells and whistles. For example, setting `normalize=True` will tells us the fraction of the region's total listings that are in each combination of county and number of bedrooms."
   ]
  },
  {
   "cell_type": "code",
   "execution_count": null,
   "id": "1268166a",
   "metadata": {
    "slideshow": {
     "slide_type": "fragment"
    }
   },
   "outputs": [],
   "source": [
    "pd.crosstab(rentals_sf1['county_name'], rentals_sf1['bedrooms'], margins=True, normalize=True)"
   ]
  },
  {
   "cell_type": "markdown",
   "id": "39c43b02",
   "metadata": {
    "slideshow": {
     "slide_type": "slide"
    }
   },
   "source": [
    "We could also normalize just the rows (index) or the just the columns:"
   ]
  },
  {
   "cell_type": "code",
   "execution_count": null,
   "id": "90c424f4",
   "metadata": {
    "slideshow": {
     "slide_type": "fragment"
    }
   },
   "outputs": [],
   "source": [
    "pd.crosstab(rentals_sf1['county_name'], rentals_sf1['bedrooms'], margins=True, normalize='index')"
   ]
  },
  {
   "cell_type": "code",
   "execution_count": null,
   "id": "d835bb61",
   "metadata": {
    "slideshow": {
     "slide_type": "slide"
    }
   },
   "outputs": [],
   "source": [
    "pd.crosstab(rentals_sf1['county_name'], rentals_sf1['bedrooms'], margins=True, normalize='columns')"
   ]
  },
  {
   "cell_type": "markdown",
   "id": "016c247e",
   "metadata": {
    "slideshow": {
     "slide_type": "slide"
    }
   },
   "source": [
    "What if we want to look at more statistics than just mean? We can combine several aggregation methods and compute them at one time."
   ]
  },
  {
   "cell_type": "code",
   "execution_count": null,
   "id": "63a8e818",
   "metadata": {
    "slideshow": {
     "slide_type": "fragment"
    }
   },
   "outputs": [],
   "source": [
    "rentals_sf1[rentals_sf1['bedrooms'] < 4].groupby(\n",
    "    ['county_name', 'bedrooms'])['rent'].agg(['mean', 'std', 'min', 'max']).reset_index().head()"
   ]
  },
  {
   "cell_type": "markdown",
   "id": "c7011d01",
   "metadata": {
    "slideshow": {
     "slide_type": "slide"
    }
   },
   "source": [
    "### 3.8.4 Exploring correlations in your data\n",
    "\n",
    "Pandas provides simple ways of computing correlation coefficients among the columns in your DataFrame."
   ]
  },
  {
   "cell_type": "code",
   "execution_count": null,
   "id": "1b40353f",
   "metadata": {
    "slideshow": {
     "slide_type": "fragment"
    }
   },
   "outputs": [],
   "source": [
    "rentals_sf1[['rent', 'sqft']].corr()"
   ]
  },
  {
   "cell_type": "markdown",
   "id": "5ef28a8c",
   "metadata": {
    "slideshow": {
     "slide_type": "slide"
    }
   },
   "source": [
    "And this method can be combined with groupby to compute correlation tables by group."
   ]
  },
  {
   "cell_type": "code",
   "execution_count": null,
   "id": "ef9285e7",
   "metadata": {
    "slideshow": {
     "slide_type": "fragment"
    }
   },
   "outputs": [],
   "source": [
    "rentals_sf1.groupby('county_name')[['rent', 'sqft']].corr()"
   ]
  },
  {
   "cell_type": "code",
   "execution_count": null,
   "id": "bce37b79",
   "metadata": {},
   "outputs": [],
   "source": [
    "rentals_sf1.groupby('bedrooms')[['rent', 'sqft']].corr()"
   ]
  },
  {
   "cell_type": "markdown",
   "id": "dfed45a8",
   "metadata": {
    "slideshow": {
     "slide_type": "slide"
    }
   },
   "source": [
    "### 3.8.5 Quantiles and User-defined Aggregation Functions\n",
    "\n",
    "Below the `cut()` function to create categories for ranges of a variable. In this example we use 4 even intervals."
   ]
  },
  {
   "cell_type": "code",
   "execution_count": null,
   "id": "bbe151fa",
   "metadata": {
    "slideshow": {
     "slide_type": "fragment"
    }
   },
   "outputs": [],
   "source": [
    "sqft_cat = pd.cut(rentals_sf1['sqft'], 4)\n",
    "sqft_cat.head()"
   ]
  },
  {
   "cell_type": "markdown",
   "id": "50026487",
   "metadata": {
    "slideshow": {
     "slide_type": "slide"
    }
   },
   "source": [
    "Let's define our own aggregation function to get a standardized maximum rent for each sqft category. Standardization is the process of transforming your data such the the mean is 0 and the standard deviation is 1, which is accomplished by subtracting the mean and dividing by the standard deviation. By standardizing your data, you are able to make more generalized comparisons across groups."
   ]
  },
  {
   "cell_type": "code",
   "execution_count": null,
   "id": "1b104cda",
   "metadata": {
    "slideshow": {
     "slide_type": "fragment"
    }
   },
   "outputs": [],
   "source": [
    "rentals_sf1.groupby(sqft_cat)['rent'].agg(\n",
    "    max_rent='max', standardized_max=lambda x: (x.max() - x.mean()) / x.std())"
   ]
  },
  {
   "cell_type": "markdown",
   "id": "6db0caa0",
   "metadata": {
    "slideshow": {
     "slide_type": "fragment"
    }
   },
   "source": [
    "So even though the smallest apartment size category has the lowest maximum rent, it is the most _extreme_ maximum rent relative to its group mean!"
   ]
  },
  {
   "cell_type": "markdown",
   "id": "48187d8c",
   "metadata": {
    "slideshow": {
     "slide_type": "slide"
    }
   },
   "source": [
    "## 3.9 Exercises\n",
    "\n",
    "Try practicing these techniques on your own, to do the following:\n",
    "\n",
    "* Calculate the mean sqft of rental listings by county\n",
    "* Calculate the standard deviation (std) of sqft of rental listings by county and bedroom\n",
    "* Add a new column with a normalized sqft, substracting the mean sqft by bedroom from each listing's sqft \n",
    "* Compute correlation coefficients among rent, sqft, pct_white, pct_black, pct_asian and pct_hisp, by county and for the region\n",
    "* Redo the statistical profile on rents by categories of sqft range using 10 quantiles rather than 4 equal bins\n"
   ]
  },
  {
   "cell_type": "code",
   "execution_count": null,
   "id": "d54790e1",
   "metadata": {},
   "outputs": [],
   "source": []
  }
 ],
 "metadata": {
  "kernelspec": {
   "display_name": "Python 3 (ipykernel)",
   "language": "python",
   "name": "python3"
  },
  "language_info": {
   "codemirror_mode": {
    "name": "ipython",
    "version": 3
   },
   "file_extension": ".py",
   "mimetype": "text/x-python",
   "name": "python",
   "nbconvert_exporter": "python",
   "pygments_lexer": "ipython3",
   "version": "3.9.7"
  },
  "toc": {
   "base_numbering": 1,
   "nav_menu": {},
   "number_sections": false,
   "sideBar": false,
   "skip_h1_title": false,
   "title_cell": "Table of Contents",
   "title_sidebar": "Contents",
   "toc_cell": false,
   "toc_position": {},
   "toc_section_display": true,
   "toc_window_display": false
  }
 },
 "nbformat": 4,
 "nbformat_minor": 5
}
