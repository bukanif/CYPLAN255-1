{
 "cells": [
  {
   "cell_type": "code",
   "execution_count": 124,
   "id": "dd8d1ede",
   "metadata": {
    "slideshow": {
     "slide_type": "skip"
    }
   },
   "outputs": [],
   "source": [
    "import pandas as pd\n",
    "from matplotlib import pyplot as plt\n",
    "from matplotlib.colors import ListedColormap\n",
    "import numpy as np\n",
    "import seaborn as sns"
   ]
  },
  {
   "cell_type": "code",
   "execution_count": 164,
   "id": "28452486",
   "metadata": {
    "slideshow": {
     "slide_type": "slide"
    }
   },
   "outputs": [
    {
     "data": {
      "text/html": [
       "<div>\n",
       "<style scoped>\n",
       "    .dataframe tbody tr th:only-of-type {\n",
       "        vertical-align: middle;\n",
       "    }\n",
       "\n",
       "    .dataframe tbody tr th {\n",
       "        vertical-align: top;\n",
       "    }\n",
       "\n",
       "    .dataframe thead th {\n",
       "        text-align: right;\n",
       "    }\n",
       "</style>\n",
       "<table border=\"1\" class=\"dataframe\">\n",
       "  <thead>\n",
       "    <tr style=\"text-align: right;\">\n",
       "      <th></th>\n",
       "      <th>first_name</th>\n",
       "      <th>last_name</th>\n",
       "      <th>email</th>\n",
       "      <th>district</th>\n",
       "      <th>school</th>\n",
       "      <th>What were the factors that influenced your decision where to work?</th>\n",
       "      <th>class</th>\n",
       "      <th>interest</th>\n",
       "      <th>Please explain your response to the previous question.</th>\n",
       "      <th>May we follow up with you regarding your responses?</th>\n",
       "    </tr>\n",
       "  </thead>\n",
       "  <tbody>\n",
       "    <tr>\n",
       "      <th>0</th>\n",
       "      <td>Precious</td>\n",
       "      <td>Listana</td>\n",
       "      <td>preshlistana@berkeley.edu</td>\n",
       "      <td>Oakland</td>\n",
       "      <td>NaN</td>\n",
       "      <td>how long CS has been taught in the school, men...</td>\n",
       "      <td>Web Design, AP CS Principles</td>\n",
       "      <td>Interested</td>\n",
       "      <td>NaN</td>\n",
       "      <td>NaN</td>\n",
       "    </tr>\n",
       "    <tr>\n",
       "      <th>1</th>\n",
       "      <td>Cassidy</td>\n",
       "      <td>Nealon</td>\n",
       "      <td>cassidynealon@gmail.com</td>\n",
       "      <td>Oakland</td>\n",
       "      <td>NaN</td>\n",
       "      <td>Curriculum and  mission statement</td>\n",
       "      <td>Chemistry and Physics</td>\n",
       "      <td>Interested</td>\n",
       "      <td>I would be interested in being able to provide...</td>\n",
       "      <td>Yes</td>\n",
       "    </tr>\n",
       "    <tr>\n",
       "      <th>2</th>\n",
       "      <td>Katie</td>\n",
       "      <td>Nguyen</td>\n",
       "      <td>katie_nguyen@berkeley.edu</td>\n",
       "      <td>Oakland</td>\n",
       "      <td>Oakland High School</td>\n",
       "      <td>I student-taught at Oakland High and really li...</td>\n",
       "      <td>English 1, English 3, Academic ELD</td>\n",
       "      <td>Slightly Interested</td>\n",
       "      <td>Iâ€™m primarily an English teacher and that is...</td>\n",
       "      <td>Yes</td>\n",
       "    </tr>\n",
       "    <tr>\n",
       "      <th>3</th>\n",
       "      <td>Kaili</td>\n",
       "      <td>Carr</td>\n",
       "      <td>lkaicarr@gmail.com</td>\n",
       "      <td>Oakland</td>\n",
       "      <td>Coliseum College Prep Academy</td>\n",
       "      <td>Mission and vision of the school and colleague...</td>\n",
       "      <td>Science 6/7th grade</td>\n",
       "      <td>Slightly Interested</td>\n",
       "      <td>I have little to no experience and have not be...</td>\n",
       "      <td>Yes</td>\n",
       "    </tr>\n",
       "    <tr>\n",
       "      <th>4</th>\n",
       "      <td>Rebecca</td>\n",
       "      <td>Longworth</td>\n",
       "      <td>rebecca.longworth@gmail.com</td>\n",
       "      <td>Albany</td>\n",
       "      <td>Albany High School</td>\n",
       "      <td>Salary, school climate, total # students, tota...</td>\n",
       "      <td>English 1 and Senior Composition / Science Fic...</td>\n",
       "      <td>Slightly Interested</td>\n",
       "      <td>I am more interested in integrating digital li...</td>\n",
       "      <td>Yes</td>\n",
       "    </tr>\n",
       "    <tr>\n",
       "      <th>5</th>\n",
       "      <td>Tsu-Ann</td>\n",
       "      <td>Chen</td>\n",
       "      <td>suzanne_chen@berkeley.edu</td>\n",
       "      <td>West Contra Costa</td>\n",
       "      <td>Richmond High School</td>\n",
       "      <td>Previous familiarity with school staff and com...</td>\n",
       "      <td>English 2 and CSU Expository Reading and Writing</td>\n",
       "      <td>Slightly Interested</td>\n",
       "      <td>I am interested in computer science-integrated...</td>\n",
       "      <td>Yes</td>\n",
       "    </tr>\n",
       "    <tr>\n",
       "      <th>6</th>\n",
       "      <td>Edward</td>\n",
       "      <td>Tahmassian</td>\n",
       "      <td>edtahmassian@berkeley.edu</td>\n",
       "      <td>Glendale</td>\n",
       "      <td>Glendale High School</td>\n",
       "      <td>To provide modern education to a community wit...</td>\n",
       "      <td>Chemistry</td>\n",
       "      <td>Slightly Interested</td>\n",
       "      <td>Since I do not have a degree in computer scien...</td>\n",
       "      <td>Yes</td>\n",
       "    </tr>\n",
       "    <tr>\n",
       "      <th>7</th>\n",
       "      <td>Emily</td>\n",
       "      <td>Blumenthal</td>\n",
       "      <td>emnibl@gmail.com</td>\n",
       "      <td>Oakland</td>\n",
       "      <td>Oakland High School</td>\n",
       "      <td>I really was interested in working at a school...</td>\n",
       "      <td>Algebra 1 Success and Algebra 2</td>\n",
       "      <td>Slightly Interested</td>\n",
       "      <td>I'm potentially interested in teaching compute...</td>\n",
       "      <td>Yes</td>\n",
       "    </tr>\n",
       "    <tr>\n",
       "      <th>8</th>\n",
       "      <td>Courtney</td>\n",
       "      <td>McGuire</td>\n",
       "      <td>mcguirec87@gmail.com</td>\n",
       "      <td>Oakland</td>\n",
       "      <td>Madison Park Academy</td>\n",
       "      <td>Helpful coworkers and supervisors, care for st...</td>\n",
       "      <td>6th Grade Math and Science</td>\n",
       "      <td>Interested</td>\n",
       "      <td>I am interested in teaching computer science, ...</td>\n",
       "      <td>Yes</td>\n",
       "    </tr>\n",
       "    <tr>\n",
       "      <th>9</th>\n",
       "      <td>Isabella</td>\n",
       "      <td>Elmore</td>\n",
       "      <td>isabella_elmore@berkeley.edu</td>\n",
       "      <td>Oakland</td>\n",
       "      <td>NaN</td>\n",
       "      <td>My student teaching placement, and the fact th...</td>\n",
       "      <td>I am currently teaching a 2nd grade multiple s...</td>\n",
       "      <td>Slightly Interested</td>\n",
       "      <td>I am interested in teaching Computer Science a...</td>\n",
       "      <td>Yes</td>\n",
       "    </tr>\n",
       "    <tr>\n",
       "      <th>10</th>\n",
       "      <td>Mitch</td>\n",
       "      <td>Xia</td>\n",
       "      <td>mxia22@gmail.com</td>\n",
       "      <td>Oakland</td>\n",
       "      <td>Skyline High School</td>\n",
       "      <td>school climate, size, course line, interaction...</td>\n",
       "      <td>world history, AP world history</td>\n",
       "      <td>Slightly Interested</td>\n",
       "      <td>I am interested in teaching history with a CTE...</td>\n",
       "      <td>Yes</td>\n",
       "    </tr>\n",
       "    <tr>\n",
       "      <th>11</th>\n",
       "      <td>Matt</td>\n",
       "      <td>Simon</td>\n",
       "      <td>mwsimon@gmail.com</td>\n",
       "      <td>San Francisco</td>\n",
       "      <td>Thurgood Marshall Academic High School</td>\n",
       "      <td>Where I wanted to live, hearsay about the dist...</td>\n",
       "      <td>world history, government, economics</td>\n",
       "      <td>Slightly Interested</td>\n",
       "      <td>I like teaching history and social science a l...</td>\n",
       "      <td>Yes</td>\n",
       "    </tr>\n",
       "    <tr>\n",
       "      <th>12</th>\n",
       "      <td>Nathaniel</td>\n",
       "      <td>Ng</td>\n",
       "      <td>Nathaniel.ng271@gmail.com</td>\n",
       "      <td>Oakland</td>\n",
       "      <td>Urban Promise Academy</td>\n",
       "      <td>I wanted to work in an environment where there...</td>\n",
       "      <td>Humanities, but mostly English</td>\n",
       "      <td>Slightly Interested</td>\n",
       "      <td>I was hoping to learn more coding so I felt co...</td>\n",
       "      <td>Yes</td>\n",
       "    </tr>\n",
       "    <tr>\n",
       "      <th>13</th>\n",
       "      <td>Derek</td>\n",
       "      <td>Macario</td>\n",
       "      <td>derekmacario@gmail.com</td>\n",
       "      <td>San Francisco</td>\n",
       "      <td>NaN</td>\n",
       "      <td>SFUSD is where I attended K-12, and this is wh...</td>\n",
       "      <td>9th and 12th grade English</td>\n",
       "      <td>Slightly Interested</td>\n",
       "      <td>I took computer science classes in high school...</td>\n",
       "      <td>Yes</td>\n",
       "    </tr>\n",
       "    <tr>\n",
       "      <th>14</th>\n",
       "      <td>Sagarika</td>\n",
       "      <td>Gami</td>\n",
       "      <td>sagarikagami@gmail.com</td>\n",
       "      <td>NaN</td>\n",
       "      <td>NaN</td>\n",
       "      <td>NaN</td>\n",
       "      <td>NaN</td>\n",
       "      <td>Interested</td>\n",
       "      <td>I loved the BE-3 Computer Science Authorizatio...</td>\n",
       "      <td>Yes</td>\n",
       "    </tr>\n",
       "  </tbody>\n",
       "</table>\n",
       "</div>"
      ],
      "text/plain": [
       "   first_name   last_name                         email           district  \\\n",
       "0    Precious     Listana     preshlistana@berkeley.edu            Oakland   \n",
       "1     Cassidy      Nealon       cassidynealon@gmail.com            Oakland   \n",
       "2       Katie      Nguyen     katie_nguyen@berkeley.edu            Oakland   \n",
       "3       Kaili        Carr            lkaicarr@gmail.com            Oakland   \n",
       "4     Rebecca   Longworth   rebecca.longworth@gmail.com             Albany   \n",
       "5    Tsu-Ann         Chen    suzanne_chen@berkeley.edu   West Contra Costa   \n",
       "6      Edward  Tahmassian     edtahmassian@berkeley.edu           Glendale   \n",
       "7       Emily  Blumenthal              emnibl@gmail.com            Oakland   \n",
       "8    Courtney     McGuire          mcguirec87@gmail.com            Oakland   \n",
       "9   Isabella       Elmore  isabella_elmore@berkeley.edu            Oakland   \n",
       "10      Mitch         Xia              mxia22@gmail.com            Oakland   \n",
       "11       Matt       Simon             mwsimon@gmail.com      San Francisco   \n",
       "12  Nathaniel          Ng     Nathaniel.ng271@gmail.com            Oakland   \n",
       "13      Derek     Macario        derekmacario@gmail.com      San Francisco   \n",
       "14   Sagarika        Gami        sagarikagami@gmail.com                NaN   \n",
       "\n",
       "                                    school  \\\n",
       "0                                      NaN   \n",
       "1                                      NaN   \n",
       "2                      Oakland High School   \n",
       "3            Coliseum College Prep Academy   \n",
       "4                       Albany High School   \n",
       "5                     Richmond High School   \n",
       "6                     Glendale High School   \n",
       "7                      Oakland High School   \n",
       "8                     Madison Park Academy   \n",
       "9                                      NaN   \n",
       "10                     Skyline High School   \n",
       "11  Thurgood Marshall Academic High School   \n",
       "12                   Urban Promise Academy   \n",
       "13                                     NaN   \n",
       "14                                     NaN   \n",
       "\n",
       "   What were the factors that influenced your decision where to work?  \\\n",
       "0   how long CS has been taught in the school, men...                   \n",
       "1                  Curriculum and  mission statement                    \n",
       "2   I student-taught at Oakland High and really li...                   \n",
       "3   Mission and vision of the school and colleague...                   \n",
       "4   Salary, school climate, total # students, tota...                   \n",
       "5   Previous familiarity with school staff and com...                   \n",
       "6   To provide modern education to a community wit...                   \n",
       "7   I really was interested in working at a school...                   \n",
       "8   Helpful coworkers and supervisors, care for st...                   \n",
       "9   My student teaching placement, and the fact th...                   \n",
       "10  school climate, size, course line, interaction...                   \n",
       "11  Where I wanted to live, hearsay about the dist...                   \n",
       "12  I wanted to work in an environment where there...                   \n",
       "13  SFUSD is where I attended K-12, and this is wh...                   \n",
       "14                                                NaN                   \n",
       "\n",
       "                                                class             interest  \\\n",
       "0                        Web Design, AP CS Principles           Interested   \n",
       "1                               Chemistry and Physics           Interested   \n",
       "2                  English 1, English 3, Academic ELD  Slightly Interested   \n",
       "3                                 Science 6/7th grade  Slightly Interested   \n",
       "4   English 1 and Senior Composition / Science Fic...  Slightly Interested   \n",
       "5    English 2 and CSU Expository Reading and Writing  Slightly Interested   \n",
       "6                                           Chemistry  Slightly Interested   \n",
       "7                     Algebra 1 Success and Algebra 2  Slightly Interested   \n",
       "8                          6th Grade Math and Science           Interested   \n",
       "9   I am currently teaching a 2nd grade multiple s...  Slightly Interested   \n",
       "10                   world history, AP world history   Slightly Interested   \n",
       "11               world history, government, economics  Slightly Interested   \n",
       "12                     Humanities, but mostly English  Slightly Interested   \n",
       "13                         9th and 12th grade English  Slightly Interested   \n",
       "14                                                NaN           Interested   \n",
       "\n",
       "   Please explain your response to the previous question.  \\\n",
       "0                                                 NaN       \n",
       "1   I would be interested in being able to provide...       \n",
       "2   Iâ€™m primarily an English teacher and that is...       \n",
       "3   I have little to no experience and have not be...       \n",
       "4   I am more interested in integrating digital li...       \n",
       "5   I am interested in computer science-integrated...       \n",
       "6   Since I do not have a degree in computer scien...       \n",
       "7   I'm potentially interested in teaching compute...       \n",
       "8   I am interested in teaching computer science, ...       \n",
       "9   I am interested in teaching Computer Science a...       \n",
       "10  I am interested in teaching history with a CTE...       \n",
       "11  I like teaching history and social science a l...       \n",
       "12  I was hoping to learn more coding so I felt co...       \n",
       "13  I took computer science classes in high school...       \n",
       "14  I loved the BE-3 Computer Science Authorizatio...       \n",
       "\n",
       "   May we follow up with you regarding your responses?  \n",
       "0                                                 NaN   \n",
       "1                                                 Yes   \n",
       "2                                                 Yes   \n",
       "3                                                 Yes   \n",
       "4                                                 Yes   \n",
       "5                                                 Yes   \n",
       "6                                                 Yes   \n",
       "7                                                 Yes   \n",
       "8                                                 Yes   \n",
       "9                                                 Yes   \n",
       "10                                                Yes   \n",
       "11                                                Yes   \n",
       "12                                                Yes   \n",
       "13                                                Yes   \n",
       "14                                                Yes   "
      ]
     },
     "execution_count": 164,
     "metadata": {},
     "output_type": "execute_result"
    }
   ],
   "source": [
    "ints = pd.read_excel('data/interest.xlsx')\n",
    "ints = ints.rename(columns={ints.columns[8]:'interest'}).drop('Timestamp',axis=1)\n",
    "ints.at[2,'school'] = 'Oakland High School'\n",
    "ints"
   ]
  },
  {
   "cell_type": "code",
   "execution_count": 298,
   "id": "62062f41",
   "metadata": {
    "slideshow": {
     "slide_type": "skip"
    }
   },
   "outputs": [
    {
     "data": {
      "image/png": "[encoded data removed]",
      "text/html": [
       "<div style=\"vertical-align: middle;\"><strong>hsl</strong> </div><div class=\"cmap\"><img alt=\"hsl colormap\" title=\"hsl\" style=\"border: 1px solid #555;\" src=\"data:image/png;base64,iVBORw0KGgoAAAANSUhEUgAAAgAAAABACAYAAABsv8+/AAAAEnRFWHRUaXRsZQBoc2wgY29sb3JtYXDcuF9aAAAAGHRFWHREZXNjcmlwdGlvbgBoc2wgY29sb3JtYXDQkC0AAAAAMHRFWHRBdXRob3IATWF0cGxvdGxpYiB2My41LjEsIGh0dHBzOi8vbWF0cGxvdGxpYi5vcmf3t87PAAAAMnRFWHRTb2Z0d2FyZQBNYXRwbG90bGliIHYzLjUuMSwgaHR0cHM6Ly9tYXRwbG90bGliLm9yZ9kRUegAAAJoSURBVHic7dbbdtMwEAVQqUlbCj/LZ/DDlNJczEOkgJwlknT17ez9Mp2RnLi2s3zq6/cfSymllHI4ldpq2Zd/57Xux/m534219v699a2W362+tflrq79On/rQvm3Tau8fTqd3qOP82NfrpP/k2i7S3esX89Yv9+4rd+6fHPdZ/fo6H1bza/2+1zL2u17L2L+3+raqP0tffzr9sXxtk5dWn1s9rdflsfW9bse69P70INZWy0VtD9yy6ie1nvev1+vkuPW83/ixr7N90+OvrE/q3/P//76rnzc9/2vne+W69Ot8sX92/W69P+N9rhf3fay1z5fxudq0+bf2w31p9Uurz60+tR/YU+sfr9Ttqvb5ps+P4/pmmfTHsV/Xi/WP9qu6ncw3h9X6YTXv/b737Yv6+6u/n+rhtnp+z/X5cZiX6fyj/XH43Fpu21em+9b/z2y+G/r+lAMAQQQAAAgkAABAIAEAAAIJAAAQSAAAgEACAAAEEgAAIJAAAACBBAAACCQAAEAgAQAAAgkAABBIAACAQAIAAAQSAAAgkAAAAIEEAAAIJAAAQCABAAACCQAAEEgAAIBAAgAABBIAACCQAAAAgQQAAAgkAABAIAEAAAIJAAAQSAAAgEACAAAEEgAAIJAAAACBBAAACCQAAEAgAQAAAgkAABBIAACAQAIAAAQSAAAgkAAAAIEEAAAIJAAAQCABAAACCQAAEEgAAIBAAgAABBIAACCQAAAAgQQAAAgkAABAIAEAAAIJAAAQSAAAgEACAAAEEgAAIJAAAACBBAAACCQAAEAgAQAAAgkAABBIAACAQAIAAAT6AwBXwnCa65sxAAAAAElFTkSuQmCC\"></div><div style=\"vertical-align: middle; max-width: 514px; display: flex; justify-content: space-between;\"><div style=\"float: left;\"><div title=\"#f77189ff\" style=\"display: inline-block; width: 1em; height: 1em; margin: 0; vertical-align: middle; border: 1px solid #555; background-color: #f77189ff;\"></div> under</div><div style=\"margin: 0 auto; display: inline-block;\">bad <div title=\"#00000000\" style=\"display: inline-block; width: 1em; height: 1em; margin: 0; vertical-align: middle; border: 1px solid #555; background-color: #00000000;\"></div></div><div style=\"float: right;\">over <div title=\"#f7708cff\" style=\"display: inline-block; width: 1em; height: 1em; margin: 0; vertical-align: middle; border: 1px solid #555; background-color: #f7708cff;\"></div></div>"
      ],
      "text/plain": [
       "<matplotlib.colors.ListedColormap at 0x15c9a1c90>"
      ]
     },
     "execution_count": 298,
     "metadata": {},
     "output_type": "execute_result"
    }
   ],
   "source": [
    "col = sns.color_palette(\"husl\", as_cmap=True)\n",
    "col"
   ]
  },
  {
   "cell_type": "markdown",
   "id": "779d7bc9",
   "metadata": {
    "slideshow": {
     "slide_type": "slide"
    }
   },
   "source": [
    "## Districts Represented in survey"
   ]
  },
  {
   "cell_type": "code",
   "execution_count": 165,
   "id": "156c2722",
   "metadata": {
    "slideshow": {
     "slide_type": "subslide"
    }
   },
   "outputs": [
    {
     "data": {
      "text/plain": [
       "Text(0.5, 1.0, 'Districts Represented')"
      ]
     },
     "execution_count": 165,
     "metadata": {},
     "output_type": "execute_result"
    },
    {
     "data": {
      "image/png": "[encoded data removed]",
      "text/plain": [
       "<Figure size 432x288 with 1 Axes>"
      ]
     },
     "metadata": {},
     "output_type": "display_data"
    }
   ],
   "source": [
    "district = ints.district.value_counts().plot(kind='pie')\n",
    "plt.plot(color=col)\n",
    "plt.legend(ints.district.value_counts(), title='Freq.', loc='best')\n",
    "plt.title(label='Districts Represented', fontsize=16)"
   ]
  },
  {
   "cell_type": "markdown",
   "id": "16ad08b2",
   "metadata": {
    "slideshow": {
     "slide_type": "slide"
    }
   },
   "source": [
    "## Schools Represented in survey"
   ]
  },
  {
   "cell_type": "code",
   "execution_count": 316,
   "id": "c1e01f8c",
   "metadata": {
    "slideshow": {
     "slide_type": "subslide"
    }
   },
   "outputs": [
    {
     "data": {
      "text/plain": [
       "Text(0.5, 1.0, 'Schools Represented')"
      ]
     },
     "execution_count": 316,
     "metadata": {},
     "output_type": "execute_result"
    },
    {
     "data": {
      "image/png": "[encoded data removed]",
      "text/plain": [
       "<Figure size 432x288 with 1 Axes>"
      ]
     },
     "metadata": {},
     "output_type": "display_data"
    }
   ],
   "source": [
    "school = ints.school.value_counts().plot(kind='pie', colors=['dodgerblue','deepskyblue','seagreen','firebrick','blueviolet','dodgerblue','deepskyblue','darkorange','deepskyblue'])\n",
    "plt.legend(labels=['2'], loc='upper right')\n",
    "plt.title(label='Schools Represented', fontsize=16)"
   ]
  },
  {
   "cell_type": "markdown",
   "id": "69d6b6f0",
   "metadata": {
    "slideshow": {
     "slide_type": "fragment"
    }
   },
   "source": [
    "Colors correspond to district level. Blue = OUSD | Orange = SFUSD | Green = AUSD | Red = WCCUSD | Purple = GUSD"
   ]
  },
  {
   "cell_type": "code",
   "execution_count": 260,
   "id": "cb51ad0a",
   "metadata": {
    "slideshow": {
     "slide_type": "skip"
    }
   },
   "outputs": [],
   "source": [
    "# create figure and axes\n",
    "fig, (ax1, ax2) = plt.subplots(1, 2, figsize=(10, 5))\n",
    "\n",
    "ax2 = ints.school.value_counts().plot(kind='pie')\n",
    "ax1 = ints.district.value_counts().plot(kind='pie')\n",
    "plt.legend(loc='best')\n",
    "\n",
    "ax2.pie?\n",
    "plt.close()"
   ]
  },
  {
   "cell_type": "code",
   "execution_count": 259,
   "id": "fb1dc354",
   "metadata": {
    "slideshow": {
     "slide_type": "skip"
    }
   },
   "outputs": [
    {
     "name": "stderr",
     "output_type": "stream",
     "text": [
      "No artists with labels found to put in legend.  Note that artists whose label start with an underscore are ignored when legend() is called with no argument.\n"
     ]
    }
   ],
   "source": [
    "# create figure and axes\n",
    "fig, (ax1, ax2) = plt.subplots(1, 2, figsize=(10, 5))\n",
    "\n",
    "ax1.pie(ints.district.value_counts())\n",
    "ax2.pie(ints.school.value_counts())\n",
    "plt.legend(loc='best')\n",
    "\n",
    "# needs labels\n",
    "plt.close()"
   ]
  },
  {
   "cell_type": "code",
   "execution_count": 319,
   "id": "c6194a33",
   "metadata": {
    "slideshow": {
     "slide_type": "skip"
    }
   },
   "outputs": [],
   "source": [
    "fig, ax = plt.subplots()\n",
    "\n",
    "size = 0.5\n",
    "vals = np.array([[60., 32.], [37., 40.], [29., 10.]])\n",
    "\n",
    "cmap = plt.colormaps[\"tab20c\"]\n",
    "outer_colors = cmap(np.arange(3)*4)\n",
    "inner_colors = cmap([1, 2, 5, 6, 9, 10])\n",
    "\n",
    "ax.pie(vals.sum(axis=1), radius=1, colors=outer_colors,\n",
    "       wedgeprops=dict(width=size, edgecolor='w'))\n",
    "\n",
    "ax.pie(vals.flatten(), radius=1-size, colors=inner_colors,\n",
    "       wedgeprops=dict(width=size, edgecolor='w'))\n",
    "\n",
    "ax.set(aspect='equal', title='INCOMPLETE Pie plot of Districts and Schools')\n",
    "plt.close()"
   ]
  },
  {
   "cell_type": "code",
   "execution_count": null,
   "id": "fa03b47f",
   "metadata": {
    "slideshow": {
     "slide_type": "skip"
    }
   },
   "outputs": [],
   "source": [
    "outer = ints.groupby('district').sum()\n",
    "inner = ints.groupby(['district', 'school']).sum()\n",
    "inner_labels = inner.index.get_level_values(1)\n",
    "\n",
    "fig, ax = plt.subplots(figsize=(24,12))\n",
    "size = 0.3\n",
    "\n",
    "ax.pie(outer.index.values.flatten(), radius=1,\n",
    "       labels=outer.index,\n",
    "       wedgeprops=dict(width=size, edgecolor='w'))\n",
    "\n",
    "ax.pie(inner.index.values.flatten(), radius=1-size, \n",
    "       labels=inner_labels,\n",
    "       wedgeprops=dict(width=size, edgecolor='w'))\n",
    "ax.set(aspect=\"equal\", title='Pie plot with `ax.pie`')\n",
    "plt.show()"
   ]
  },
  {
   "cell_type": "markdown",
   "id": "2528f5e3",
   "metadata": {
    "slideshow": {
     "slide_type": "slide"
    }
   },
   "source": [
    "## Subjects taught by respondents"
   ]
  },
  {
   "cell_type": "markdown",
   "id": "70af0393",
   "metadata": {
    "slideshow": {
     "slide_type": "subslide"
    }
   },
   "source": [
    "### Humanities vs. STEM"
   ]
  },
  {
   "cell_type": "code",
   "execution_count": 321,
   "id": "a2cfd9cc",
   "metadata": {
    "slideshow": {
     "slide_type": "fragment"
    }
   },
   "outputs": [
    {
     "data": {
      "text/plain": [
       "<matplotlib.legend.Legend at 0x15a864af0>"
      ]
     },
     "execution_count": 321,
     "metadata": {},
     "output_type": "execute_result"
    },
    {
     "data": {
      "image/png": "[encoded data removed]",
      "text/plain": [
       "<Figure size 432x288 with 1 Axes>"
      ]
     },
     "metadata": {},
     "output_type": "display_data"
    }
   ],
   "source": [
    "stem_plot = subj['subj'].value_counts().plot(kind='pie', colors=['c', 'b'])\n",
    "plt.title(label='Subjects Taught', fontsize=16)\n",
    "plt.legend(subj.subj.value_counts())"
   ]
  },
  {
   "cell_type": "code",
   "execution_count": 266,
   "id": "6afc2eb9",
   "metadata": {
    "slideshow": {
     "slide_type": "slide"
    }
   },
   "outputs": [
    {
     "data": {
      "text/plain": [
       "<matplotlib.legend.Legend at 0x15bad6bf0>"
      ]
     },
     "execution_count": 266,
     "metadata": {},
     "output_type": "execute_result"
    },
    {
     "data": {
      "image/png": "[encoded data removed]",
      "text/plain": [
       "<Figure size 432x288 with 1 Axes>"
      ]
     },
     "metadata": {},
     "output_type": "display_data"
    }
   ],
   "source": [
    "ints['class'].tolist()\n",
    "pd.Series(range(2),['web design', 'AP CS'])\n",
    "\n",
    "subj = pd.Series(['web design', 'AP CS', 'chemistry', 'physics', 'engligh (1-3)', 'science (6th)', 'english (1-3)', 'science fiction', 'chemistry', 'algebra (1-2)', 'math', 'science (6th)', 'math', 'reading', 'science', 'social studies', 'world history', 'AP world hist', 'world history', 'government', 'economics', 'english (1-3)', 'english (1-3)'], range(23))\n",
    "subjects = subj.value_counts().plot(kind='pie')\n",
    "plt.title(label='Subjects Taught', fontsize=16)\n",
    "plt.legend(labels=['3', '2'], title='Freq.', loc='best')\n"
   ]
  },
  {
   "cell_type": "code",
   "execution_count": 267,
   "id": "e5c5541c",
   "metadata": {
    "slideshow": {
     "slide_type": "skip"
    }
   },
   "outputs": [],
   "source": [
    "stem = ['web design', 'AP CS', 'chemistry', 'physics', 'science (6th)', 'science fiction', 'algebra (1-2)', 'math']\n",
    "subj = pd.DataFrame(subj).rename(columns={0:'subject'})\n",
    "subj['subj'] = np.nan\n",
    "\n",
    "for i in subj.index:\n",
    "    if subj.loc[i, 'subject'] in stem:\n",
    "        subj.loc[i, 'subj'] = 'STEM'\n",
    "    else:\n",
    "        subj.loc[i, 'subj'] = 'Humanities'"
   ]
  },
  {
   "cell_type": "markdown",
   "id": "e0eced53",
   "metadata": {
    "slideshow": {
     "slide_type": "slide"
    }
   },
   "source": [
    "## Interest in Teaching CS"
   ]
  },
  {
   "cell_type": "code",
   "execution_count": 320,
   "id": "ada3bff9",
   "metadata": {
    "slideshow": {
     "slide_type": "subslide"
    }
   },
   "outputs": [
    {
     "data": {
      "text/plain": [
       "Text(0.5, 1.0, 'Interest in Teaching CS')"
      ]
     },
     "execution_count": 320,
     "metadata": {},
     "output_type": "execute_result"
    },
    {
     "data": {
      "image/png": "[encoded data removed]",
      "text/plain": [
       "<Figure size 432x288 with 1 Axes>"
      ]
     },
     "metadata": {},
     "output_type": "display_data"
    }
   ],
   "source": [
    "interest = ints.interest.value_counts().plot(kind='pie', colors=['yellowgreen','darkolivegreen'])\n",
    "plt.legend(ints.interest.value_counts(), loc='best')\n",
    "plt.title(label='Interest in Teaching CS', fontsize=16)"
   ]
  },
  {
   "cell_type": "markdown",
   "id": "435de741",
   "metadata": {
    "slideshow": {
     "slide_type": "slide"
    }
   },
   "source": [
    "## Key Takeaways from Teachers"
   ]
  },
  {
   "cell_type": "markdown",
   "id": "93460b58",
   "metadata": {
    "slideshow": {
     "slide_type": "subslide"
    }
   },
   "source": [
    "### Key Takeaways\n",
    "NOT READY:\n",
    "- Desire to Integrate CS into both non-STEM (Eng, Hist) and STEM (Alg) courses as an interdisciplinary subject\n",
    "- BUT lacking technical capacity (and confidence) to teach CS (Eng, Sci, Alg). Need more hands-on experience coding/programming\n",
    "    - Hope to understand best practices and develop personal pedagogy\n",
    "- Need better time management to engage with & benefit from BE3 workshops and learning materials\"\n",
    "- CS doesn't seem as impactful as other topics when it comes to helping students shape their worldviews\n",
    "- CS is not widely available to teach at schools\n",
    "\n",
    "READY:\n",
    "- Ready to teach CS but lacking reference materials (ie. curricula on hand). Would be ready given materials\n",
    "- Some are already integrating basic CS into STEM courses. Open to expanding content knowledge to diversify curriculum (Chem)"
   ]
  }
 ],
 "metadata": {
  "celltoolbar": "Slideshow",
  "kernelspec": {
   "display_name": "Python 3 (ipykernel)",
   "language": "python",
   "name": "python3"
  },
  "language_info": {
   "codemirror_mode": {
    "name": "ipython",
    "version": 3
   },
   "file_extension": ".py",
   "mimetype": "text/x-python",
   "name": "python",
   "nbconvert_exporter": "python",
   "pygments_lexer": "ipython3",
   "version": "3.10.4"
  }
 },
 "nbformat": 4,
 "nbformat_minor": 5
}
