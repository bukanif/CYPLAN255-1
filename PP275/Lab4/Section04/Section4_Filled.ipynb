{
 "cells": [
  {
   "cell_type": "markdown",
   "id": "a96935e4-73ae-4648-8ec2-14b917ec42ef",
   "metadata": {},
   "source": [
    "# PP275: Section 4\n",
    "September 16, 2022\n",
    "GSI: Simon Greenhill\n",
    "\n",
    "# Today\n",
    "1. Announcements\n",
    "1. Going over Lab 2\n",
    "1. Shapely and Geopandas\n",
    "1. Prepping for Lab 4"
   ]
  },
  {
   "cell_type": "markdown",
   "id": "41fa4ce5-d3d4-47b8-a2da-a4fa8d3b91ef",
   "metadata": {},
   "source": [
    "# Announcements\n",
    "- Congrats on being done with Lab 3!\n",
    "    - Questions, feedback, encouragement?\n",
    "- DataCamp access\n",
    "- Office House are now all on Monday\n",
    "    - 12-1: Walk in\n",
    "    - 1-2: By appoinmtent (sign up [here](https://docs.google.com/spreadsheets/d/11g-MvHz9DngEtCg5pLY1dKCTMAzv-2i2NIQ18r1JgmM/edit#gid=0), same sheet sa before)\n",
    "    - All in 203 Giannini Hall\n",
    "- Lab 4 is posted--start early!"
   ]
  },
  {
   "cell_type": "markdown",
   "id": "91760499-a40a-4562-a9f7-60e410e70794",
   "metadata": {},
   "source": [
    "# Going over Lab 2\n",
    "- Please submit PDFs!\n",
    "- Avoid hard-coding\n",
    "- Indexing and ranges\n",
    "- Plotting best practices\n",
    "\n",
    "## PDFs\n",
    "As a reminder, please submit a PDF *in addition to* the .ipynb file. This makes grading much easier for us. Let us know if you have trouble with PDF conversion.\n",
    "\n",
    "## Indexing and ranges\n",
    "- Remember that `range(a, b)` returns the range from `a` to `b - 1`. \n",
    "- Always check your outputs for bugs\n",
    "    - I like to check the first, last, and one or multiple in the middle"
   ]
  },
  {
   "cell_type": "code",
   "execution_count": 1,
   "id": "922e5ac4-60ea-4e7c-b47e-a9f9c7b15b30",
   "metadata": {},
   "outputs": [
    {
     "name": "stdout",
     "output_type": "stream",
     "text": [
      "0\n",
      "1\n",
      "2\n",
      "3\n",
      "4\n",
      "5\n",
      "6\n",
      "7\n",
      "8\n",
      "9\n"
     ]
    }
   ],
   "source": [
    "# Recall how `range` works\n",
    "_ = [print(i) for i in range(0, 10)]"
   ]
  },
  {
   "cell_type": "markdown",
   "id": "35b58c4a-0f85-4cc5-a110-570649122c41",
   "metadata": {},
   "source": [
    "## Avoid hard coding"
   ]
  },
  {
   "cell_type": "code",
   "execution_count": 2,
   "id": "9161d330-2c97-49ab-89d7-4b63e14adaa4",
   "metadata": {},
   "outputs": [],
   "source": [
    "# given this\n",
    "x = [1, 2, 3]\n",
    "\n",
    "# writing this\n",
    "x0 = x[0]\n",
    "\n",
    "# is much better than this\n",
    "x0 = 1\n",
    "\n",
    "# even if they are the same in practice"
   ]
  },
  {
   "cell_type": "code",
   "execution_count": 3,
   "id": "b31261da-cb17-4fbc-be69-f2c21c9f52ce",
   "metadata": {},
   "outputs": [
    {
     "ename": "NameError",
     "evalue": "name 'np' is not defined",
     "output_type": "error",
     "traceback": [
      "\u001b[0;31m---------------------------------------------------------------------------\u001b[0m",
      "\u001b[0;31mNameError\u001b[0m                                 Traceback (most recent call last)",
      "\u001b[0;32m/var/folders/wq/t7rcncjj6s956tl_y8_y18080000gn/T/ipykernel_55799/2403060102.py\u001b[0m in \u001b[0;36m<module>\u001b[0;34m\u001b[0m\n\u001b[1;32m      1\u001b[0m \u001b[0;31m# a more realistic example\u001b[0m\u001b[0;34m\u001b[0m\u001b[0;34m\u001b[0m\u001b[0m\n\u001b[0;32m----> 2\u001b[0;31m \u001b[0mdata\u001b[0m \u001b[0;34m=\u001b[0m \u001b[0mnp\u001b[0m\u001b[0;34m.\u001b[0m\u001b[0mload\u001b[0m\u001b[0;34m(\u001b[0m\u001b[0;34m'Lab2_houses.p'\u001b[0m\u001b[0;34m,\u001b[0m \u001b[0mallow_pickle\u001b[0m\u001b[0;34m=\u001b[0m\u001b[0;32mTrue\u001b[0m\u001b[0;34m)\u001b[0m\u001b[0;34m\u001b[0m\u001b[0;34m\u001b[0m\u001b[0m\n\u001b[0m",
      "\u001b[0;31mNameError\u001b[0m: name 'np' is not defined"
     ]
    }
   ],
   "source": [
    "# a more realistic example\n",
    "data = np.load('Lab2_houses.p', allow_pickle=True)"
   ]
  },
  {
   "cell_type": "code",
   "execution_count": null,
   "id": "221a3be9-4a55-4ad5-8754-dcd1a2b59541",
   "metadata": {},
   "outputs": [],
   "source": [
    "data"
   ]
  },
  {
   "cell_type": "code",
   "execution_count": null,
   "id": "3aa039db-84c2-4fbb-af98-478cfb375518",
   "metadata": {},
   "outputs": [],
   "source": [
    "# let's say you want to create an array containing the x coordinates of the schools\n",
    "# this\n",
    "schools_x = data['schools_x']\n",
    "\n",
    "# is waaaay better than this\n",
    "schools_x = np.array([10, 24, 40])\n",
    "\n",
    "# any ideas why?"
   ]
  },
  {
   "cell_type": "markdown",
   "id": "0a69e30a-70fc-441d-8a66-caab38f83f88",
   "metadata": {},
   "source": [
    "# Plotting best practices\n",
    "- The most important rule: look at your plots!\n",
    "    - Put yourself in the shoes of someone who is encountering your project for the first time\n",
    "    - What do I learn from this plot? \n",
    "    - Is there anything on this plot that is impeding my ability to read it?\n",
    "- Every plot should include:\n",
    "    - Descriptive axis labels\n",
    "    - A descriptive title\n",
    "    - A legend, if appropriate\n",
    "- Avoid:\n",
    "    - Superfluous axis markings\n",
    "    - Overlap between labels (this makes text hard to read)\n",
    "    - Non-colorblind friendly color palettes"
   ]
  },
  {
   "cell_type": "code",
   "execution_count": null,
   "id": "f0d1f59b-6cf6-47f2-b33e-6bf917744158",
   "metadata": {},
   "outputs": [],
   "source": [
    "import pickle\n",
    "import numpy as np\n",
    "import matplotlib.pyplot as plt\n",
    "from mpl_toolkits.mplot3d import Axes3D"
   ]
  },
  {
   "cell_type": "code",
   "execution_count": null,
   "id": "cc719f8b-4028-448b-84fc-049716392b1c",
   "metadata": {},
   "outputs": [],
   "source": [
    "# example: plotting schools\n",
    "with open('Lab2_houses.p', 'rb') as f:\n",
    "    d = pickle.load(f)\n",
    "\n",
    "# a not-so-great plot\n",
    "houses_x = d['houses_x']\n",
    "houses_y = d['houses_y']\n",
    "schools_x = d['schools_x']\n",
    "schools_y = d['schools_y']\n",
    "plt.plot(houses_x, houses_y, 'gs')\n",
    "plt.plot(schools_x, schools_y, 'r*')\n",
    "plt.title('Somewhere')\n",
    "plt.show()"
   ]
  },
  {
   "cell_type": "code",
   "execution_count": null,
   "id": "532d53d7-768e-48ea-a896-8e77968ecdfe",
   "metadata": {},
   "outputs": [],
   "source": [
    "# a better plot:\n",
    "# - added a legend\n",
    "# - removed the axis lines, since the units we're telling us anything\n",
    "# - Made the color palette more friendly\n",
    "plt.scatter(houses_x, houses_y, c='tab:blue', marker='o')\n",
    "plt.scatter(schools_x, schools_y, c='tab:orange', marker='*')\n",
    "plt.title('Map of houses and schools in the Somewhere School District')\n",
    "plt.legend(['house', 'school'])\n",
    "plt.axis(False)\n",
    "plt.show()"
   ]
  },
  {
   "cell_type": "code",
   "execution_count": null,
   "id": "6e879330-6f44-43aa-ac3e-fedbb4c5cfe0",
   "metadata": {},
   "outputs": [],
   "source": [
    "# an ok plot\n",
    "with open('Lab2_mountain.p', 'rb') as f:\n",
    "    d = pickle.load(f)\n",
    "    x = d['x']\n",
    "    y = d['y']\n",
    "    z = d['z']\n",
    "    t = d['t']\n",
    "\n",
    "fig = plt.figure()\n",
    "ax = fig.add_subplot(1, 1, 1, projection='3d')\n",
    "ax.plot(x, y, z, 'r')\n",
    "ax.bar3d(x, y, np.zeros_like(x), 0.2, 0.2, z, 'b')"
   ]
  },
  {
   "cell_type": "code",
   "execution_count": null,
   "id": "e53736a9-dee8-4260-86a5-98bd37582c1a",
   "metadata": {},
   "outputs": [],
   "source": [
    "# a better plot\n",
    "# - add axis labels and title\n",
    "# - rotate plot so 3-D is more visible\n",
    "# - better colors\n",
    "\n",
    "# make the plot interactive\n",
    "%matplotlib notebook\n",
    "\n",
    "fig = plt.figure()\n",
    "ax = fig.add_subplot(1, 1, 1, projection='3d')\n",
    "ax.plot(x, y, z, 'tab:orange')\n",
    "ax.bar3d(x, y, np.zeros_like(x), 0.2, 0.2, z, 'tab:blue')\n",
    "ax.set_title('The Climber\\'s Path in 3D')\n",
    "ax.set_xlabel('X coordinate')\n",
    "ax.set_ylabel('Y coordinate')\n",
    "ax.set_zlabel('Elevation')"
   ]
  },
  {
   "cell_type": "code",
   "execution_count": null,
   "id": "ea16406d",
   "metadata": {},
   "outputs": [],
   "source": [
    "# Do it without the interactive mode\n",
    "# use the view_init method\n",
    "%matplotlib inline\n",
    "fig = plt.figure()\n",
    "ax = fig.add_subplot(1, 1, 1, projection='3d')\n",
    "ax.plot(x, y, z, 'tab:orange')\n",
    "ax.bar3d(x, y, np.zeros_like(x), 0.2, 0.2, z, 'tab:blue')\n",
    "ax.set_title('The Climber\\'s Path in 3D')\n",
    "ax.set_xlabel('X coordinate')\n",
    "ax.set_ylabel('Y coordinate')\n",
    "ax.set_zlabel('Elevation')\n",
    "\n",
    "ax.view_init(30, -30)"
   ]
  },
  {
   "cell_type": "markdown",
   "id": "305b4ab6-f4d4-43a2-ba3b-5435cef87bf5",
   "metadata": {},
   "source": [
    "# Shapely"
   ]
  },
  {
   "cell_type": "markdown",
   "id": "a4df884a-c509-4959-8a4e-2e7db336cf7c",
   "metadata": {},
   "source": [
    "- Shapely is a Python package for representing geometries\n",
    "\n",
    "Types of geometries:\n",
    "* A `Point` is a collection of two (three) numbers, each representing x, y, (z,) coordinates.\n",
    "* A `LinearRing` is a sequence of points, with the last point being the same as the first one. (Here we skip the discussion on validity of geometries.)\n",
    "* A Polygon (e.g., `rectangles`) has one exterior `rectangles.exterior` (a `LinearRing`) and potentially multiple interiors `triangle.interiors` (each element, e.g. `triangle.interiors[0]`, is a `LinearRing`).\n",
    "* A `MultiPolygon` is a sequence of `Polygon`'s."
   ]
  },
  {
   "cell_type": "code",
   "execution_count": null,
   "id": "2eda1d17-3f97-4fc2-af2e-f05a128ffb94",
   "metadata": {},
   "outputs": [],
   "source": [
    "# note this is yet another way of importing things \n",
    "# (individual functions from a module)\n",
    "from shapely.geometry import (Point, LinearRing,\n",
    "                              Polygon, MultiPolygon)"
   ]
  },
  {
   "cell_type": "code",
   "execution_count": null,
   "id": "28bdea73",
   "metadata": {},
   "outputs": [],
   "source": []
  },
  {
   "cell_type": "code",
   "execution_count": null,
   "id": "987d0e98-26db-434f-bf50-9821b5f64f2f",
   "metadata": {},
   "outputs": [],
   "source": [
    "p = Point((1, 2))\n",
    "ring = LinearRing([(1, 2), (8, 4),\n",
    "                   (5, 10), (1, 2)])\n",
    "triangle = Polygon([(1, 2), (8, 4),\n",
    "                    (5, 10), (1, 2)])\n",
    "rectangles = Polygon(\n",
    "    # these are the exterior coordinates\n",
    "    [(2.5, 7), (9, 7), (9, 12), (2.5, 12), (2.5, 7)],\n",
    "    # these are the interior coordinates (the holes)\n",
    "    [[(3, 8), (4, 8), (4, 9), (3, 9), (3, 8)],\n",
    "     [(7, 10), (8, 10), (8, 11), (7, 11), (7, 10)]])\n",
    "mp = MultiPolygon([triangle, rectangles])\n",
    "mp"
   ]
  },
  {
   "cell_type": "markdown",
   "id": "975e53a5-21e0-4d92-be7b-dd71a0ab033a",
   "metadata": {},
   "source": [
    "### Shapely integrates nicely with Jupyter notebooks.\n",
    "When you call a `shapely.geometry` object, it is automatically visualized."
   ]
  },
  {
   "cell_type": "code",
   "execution_count": null,
   "id": "ffc5aee7-0ced-4355-8aa0-23d8eff76b85",
   "metadata": {},
   "outputs": [],
   "source": [
    "p"
   ]
  },
  {
   "cell_type": "code",
   "execution_count": null,
   "id": "631ed627-b260-4926-8548-a34c30279034",
   "metadata": {},
   "outputs": [],
   "source": [
    "ring"
   ]
  },
  {
   "cell_type": "code",
   "execution_count": null,
   "id": "6a31da93-5d81-40bd-8713-00b1543b4a24",
   "metadata": {},
   "outputs": [],
   "source": [
    "triangle"
   ]
  },
  {
   "cell_type": "code",
   "execution_count": null,
   "id": "8b73eb2c-ac64-4160-a7c3-8c6ac07a2345",
   "metadata": {},
   "outputs": [],
   "source": [
    "rectangles"
   ]
  },
  {
   "cell_type": "code",
   "execution_count": null,
   "id": "0c791fe9-56f0-4728-817e-7c69145fe0fb",
   "metadata": {},
   "outputs": [],
   "source": [
    "mp"
   ]
  },
  {
   "cell_type": "markdown",
   "id": "e3656458-5cf4-4877-bbd0-e3811edd53f8",
   "metadata": {},
   "source": [
    "### Shapely also makes it easy to do geometric operations."
   ]
  },
  {
   "cell_type": "code",
   "execution_count": null,
   "id": "62713962-bd08-403d-8b73-618d89154b9d",
   "metadata": {},
   "outputs": [],
   "source": [
    "triangle.union(rectangles)"
   ]
  },
  {
   "cell_type": "code",
   "execution_count": null,
   "id": "c558845d-07a9-49a8-b24c-f6c7ecf9ecc7",
   "metadata": {},
   "outputs": [],
   "source": [
    "# Notice the zoom level is automatic\n",
    "triangle.intersection(rectangles)"
   ]
  },
  {
   "cell_type": "markdown",
   "id": "0d183de9-26db-463c-bd14-8f6b033fc4b6",
   "metadata": {},
   "source": [
    "<div class=\"alert alert-block alert-info\">\n",
    "<b>Your turn!</b> \n",
    "\n",
    "1. What is the intersection of the point and the triangle?\n",
    "1. What is the union of the point and the rectangles?\n",
    "1. What is the intersection of the point and the rectangles?\n",
    "1. What is the intersection of the ring and the rectangles?\n",
    "    \n",
    "</div>"
   ]
  },
  {
   "cell_type": "code",
   "execution_count": null,
   "id": "6eeb7106-b8ef-460b-8d2d-9036a07958e2",
   "metadata": {},
   "outputs": [],
   "source": [
    "# write your answers here"
   ]
  },
  {
   "cell_type": "markdown",
   "id": "16a82c4a-7791-4f2b-8c84-621f2ad6ea10",
   "metadata": {},
   "source": [
    "## Plotting shapely objects using matplotlib\n",
    "Although shapely integrates nicely with jupyter notebooks, it doesn't integrate so nicely with matplotlib."
   ]
  },
  {
   "cell_type": "code",
   "execution_count": null,
   "id": "712280d5-9d70-44aa-a824-a9a4bc550a65",
   "metadata": {},
   "outputs": [],
   "source": [
    "%matplotlib inline"
   ]
  },
  {
   "cell_type": "code",
   "execution_count": null,
   "id": "149bbd86-30b0-49c2-ac61-d54fe48b0761",
   "metadata": {},
   "outputs": [],
   "source": [
    "triangle.exterior.xy"
   ]
  },
  {
   "cell_type": "code",
   "execution_count": null,
   "id": "81a20bba-aedf-424b-a565-24a2a8580afd",
   "metadata": {},
   "outputs": [],
   "source": [
    "# for a single shape, you can do it in one line\n",
    "x, y = rectangles.exterior.xy\n",
    "plt.plot(x, y)"
   ]
  },
  {
   "cell_type": "code",
   "execution_count": null,
   "id": "7fd22659-c969-41b7-92f2-69e090c90e46",
   "metadata": {},
   "outputs": [],
   "source": [
    "# for multiple shapes, you need to loop over values\n",
    "for interior in rectangles.interiors:\n",
    "    x, y = interior.xy\n",
    "    plt.plot(x, y) "
   ]
  },
  {
   "cell_type": "code",
   "execution_count": null,
   "id": "0d4653c5-14a6-407f-97a7-7a0858d1bd9a",
   "metadata": {},
   "outputs": [],
   "source": [
    "# putting the above together\n",
    "# plot exterior\n",
    "ext_x, ext_y = rectangles.exterior.xy\n",
    "plt.plot(ext_x, ext_y) \n",
    "\n",
    "# loop over interiors\n",
    "for interior in rectangles.interiors:\n",
    "    x, y = interior.xy\n",
    "    plt.plot(x, y) \n",
    "\n",
    "plt.show()"
   ]
  },
  {
   "cell_type": "code",
   "execution_count": null,
   "id": "92bffdff-87ee-4422-8b1a-a5e3519b97f0",
   "metadata": {},
   "outputs": [],
   "source": [
    "# plotting a filled shape\n",
    "x, y = triangle.exterior.xy\n",
    "plt.fill(x, y)"
   ]
  },
  {
   "cell_type": "code",
   "execution_count": null,
   "id": "1382361b-0f83-4dec-850f-041b6f60669a",
   "metadata": {},
   "outputs": [],
   "source": [
    "mp.geoms\n"
   ]
  },
  {
   "cell_type": "code",
   "execution_count": null,
   "id": "995eee4e-3b55-4889-967b-d39c4962c69b",
   "metadata": {},
   "outputs": [],
   "source": [
    "# Looping over a multipolygon and plotting each polygon in it\n",
    "for polygon in mp.geoms:\n",
    "    x, y = polygon.exterior.xy\n",
    "    plt.plot(x, y)"
   ]
  },
  {
   "cell_type": "markdown",
   "id": "e2c9971a-286c-414a-91cc-617023c26a2e",
   "metadata": {},
   "source": [
    "## Geometric operations with shapely"
   ]
  },
  {
   "cell_type": "code",
   "execution_count": null,
   "id": "c692208d-cd4a-407d-86f4-5ec77d4c5137",
   "metadata": {},
   "outputs": [],
   "source": [
    "# buffer a geometry\n",
    "p.buffer(1)"
   ]
  },
  {
   "cell_type": "code",
   "execution_count": null,
   "id": "00170412-c160-4aae-aaf6-f85e70041ce8",
   "metadata": {},
   "outputs": [],
   "source": [
    "# plot the centroid of the triangle\n",
    "x, y = triangle.exterior.xy\n",
    "plt.fill(x,y)\n",
    "\n",
    "\n",
    "x_c, y_c = triangle.centroid.xy\n",
    "plt.scatter(x_c, y_c, c='tab:orange')"
   ]
  },
  {
   "cell_type": "markdown",
   "id": "ac6907b7-b896-4aae-9eab-bc20a3f211e4",
   "metadata": {},
   "source": [
    "## A more complicated example: Hawaii\n",
    "These data come from Lab 4!"
   ]
  },
  {
   "cell_type": "code",
   "execution_count": null,
   "id": "b4059e26-b567-4650-9fe5-06a2492b7ff5",
   "metadata": {},
   "outputs": [],
   "source": [
    "hawaii_shp = np.load('Lab4_hawaii.p', allow_pickle=True)\n",
    "hawaii = hawaii_shp['hawaii']\n",
    "oahu = hawaii_shp['oahu']"
   ]
  },
  {
   "cell_type": "code",
   "execution_count": null,
   "id": "2d4ecbb7-6a5b-4b0d-ad62-e31c9f9fd70b",
   "metadata": {},
   "outputs": [],
   "source": [
    "# Show Hawaii in notebook. Does it look right?\n",
    "hawaii"
   ]
  },
  {
   "cell_type": "code",
   "execution_count": null,
   "id": "e07f1678-4be1-4a14-9ef0-7e6e14a127ba",
   "metadata": {},
   "outputs": [],
   "source": [
    "# Check out Oahu (just a centroid)\n",
    "oahu"
   ]
  },
  {
   "cell_type": "markdown",
   "id": "bb7fa861-a3e6-47d7-b14e-af13e590d121",
   "metadata": {},
   "source": [
    "<div class=\"alert alert-block alert-info\">\n",
    "<b>Your turn!</b> \n",
    "\n",
    "1. Make a map of Hawaii\n",
    "1. Add the centroid of Oahu and plot it\n",
    "1. Calculate the centroid of the archipelago as a different color\n",
    "1. Calculate a 2 degree buffer around Oahu and plot it\n",
    "1. Calculate a 0.1 degree buffer around all the Hawaii polygons and plot those, shading their interiors.)\n",
    "1. Add a legend that describes the Oahu centroid, the Hawaii centroid, and the buffers.\n",
    "    \n",
    "</div>"
   ]
  },
  {
   "cell_type": "code",
   "execution_count": null,
   "id": "8184481e-e604-4369-b5ab-bef66b96e913",
   "metadata": {},
   "outputs": [],
   "source": [
    "fig, ax = plt.subplots(figsize=(15, 10))\n",
    "\n",
    "# plot hawaii\n",
    "for poly in hawaii.geoms:\n",
    "    y, x = poly.exterior.xy\n",
    "    ax.plot(x, y, c='black')\n",
    "\n",
    "# plot Oahu centroid\n",
    "ax.scatter(oahu['lon'], oahu['lat'], marker='*', c='tab:red', label='Oahu centroid', s=100)\n",
    "\n",
    "# calculate and plot the whole centroid\n",
    "h_y, h_x = hawaii.centroid.xy\n",
    "ax.scatter(h_x, h_y, marker='*', c='tab:blue', label='Hawaii centroid', s=100)\n",
    "\n",
    "# 2 degree buffer around the Oahu centroid\n",
    "# Create a point from the lon, lat\n",
    "p_oahu = Point((oahu['lon'], oahu['lat']))\n",
    "p_oahu_b = p_oahu.buffer(2)\n",
    "# plot it\n",
    "x, y = p_oahu_b.exterior.xy\n",
    "plt.plot(x, y, c='tab:pink', label='2 degree buffer around Oahu')\n",
    "\n",
    "# 0.5 degree buffer around Hawaii polygons\n",
    "hawaii_b = hawaii.buffer(0.1)\n",
    "\n",
    "for i, poly in enumerate(hawaii_b.geoms):\n",
    "    y, x = poly.exterior.xy\n",
    "    \n",
    "    # only plot legend on first iteration\n",
    "    if i == 0:\n",
    "        plt.fill(x, y, c='tab:orange', label='0.1 degree buffer along coast', alpha=0.5)\n",
    "    else:\n",
    "        plt.fill(x, y, c='tab:orange', alpha=0.5)\n",
    "\n",
    "plt.legend()"
   ]
  },
  {
   "cell_type": "markdown",
   "id": "8068c60a-21ed-4b65-b338-7c4bd2ff72c6",
   "metadata": {},
   "source": [
    "## Aside: (Approximately) converting from degrees to km\n",
    "Recall that 1 degree of latitude is 111 km everywhere in the world.\n",
    "\n",
    "What is 1 degree of longitude? At what specific point?\n",
    "\n",
    "To convert between degrees of longitude and km, we follow this formula:\n",
    "$$\n",
    "1 km = 111 \\times cos(lat)\n",
    "$$\n",
    "In python, we can use the `np.cos` function. Note that this function takes values in radians, so we need to divide by $180$ and multiply by $\\pi$ to convert degrees to radians."
   ]
  },
  {
   "cell_type": "code",
   "execution_count": null,
   "id": "acfdcdc7-3d85-4bf2-8237-b98a9ec1e973",
   "metadata": {},
   "outputs": [],
   "source": [
    "# convert 1 degree of longitude to km in Oahu\n",
    "one_degree_km = 111 * np.cos(oahu['lat'] / 180 * np.pi)\n",
    "\n",
    "# use `np.deg2rad` instead\n",
    "one_degree_km_alt = 111 * np.cos(np.deg2rad(oahu['lat']))\n",
    "\n",
    "assert one_degree_km == one_degree_km_alt"
   ]
  },
  {
   "cell_type": "markdown",
   "id": "ff3643f3-c956-4ffa-bcb3-ce5d54886df6",
   "metadata": {},
   "source": [
    "# Geopandas\n",
    "Geopandas makes someinteractions with shapefiles a lot easier. The basic idea is that a shapefile is basically a dataframe with some spatial information attached to it. Often, we don't really need to work with the specific geometries directly; geopandas deals with this for us."
   ]
  },
  {
   "cell_type": "code",
   "execution_count": null,
   "id": "a08ceff2-0bd8-4f87-8cf9-96d7768a850c",
   "metadata": {},
   "outputs": [],
   "source": [
    "import geopandas as gpd"
   ]
  },
  {
   "cell_type": "code",
   "execution_count": null,
   "id": "59c11dcc-99fc-41c7-b3f8-f5631663445a",
   "metadata": {},
   "outputs": [],
   "source": [
    "# load Vietnam shapefile\n",
    "vnm = gpd.read_file('VNM_adm/VNM_adm1.shp')"
   ]
  },
  {
   "cell_type": "code",
   "execution_count": null,
   "id": "3091698a-f497-4de2-9d35-927f76da76df",
   "metadata": {},
   "outputs": [],
   "source": [
    "# look at the head of the shapefile\n",
    "vnm.head()"
   ]
  },
  {
   "cell_type": "code",
   "execution_count": null,
   "id": "0d7a0517-7289-423c-8518-08196d860f90",
   "metadata": {},
   "outputs": [],
   "source": [
    "# plot vietnam\n",
    "vnm.plot()"
   ]
  },
  {
   "cell_type": "code",
   "execution_count": null,
   "id": "30a8b542-7b32-44bc-89b4-0ed9e8513450",
   "metadata": {},
   "outputs": [],
   "source": [
    "# Color adm1 regions differently\n",
    "vnm.plot(column='NAME_1', legend=False)"
   ]
  },
  {
   "cell_type": "code",
   "execution_count": null,
   "id": "11aff038-bd00-42f5-a98b-569939820e13",
   "metadata": {},
   "outputs": [],
   "source": []
  }
 ],
 "metadata": {
  "kernelspec": {
   "display_name": "Python 3 (ipykernel)",
   "language": "python",
   "name": "python3"
  },
  "language_info": {
   "codemirror_mode": {
    "name": "ipython",
    "version": 3
   },
   "file_extension": ".py",
   "mimetype": "text/x-python",
   "name": "python",
   "nbconvert_exporter": "python",
   "pygments_lexer": "ipython3",
   "version": "3.9.7"
  }
 },
 "nbformat": 4,
 "nbformat_minor": 5
}
