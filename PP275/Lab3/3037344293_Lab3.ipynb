{
 "cells": [
  {
   "cell_type": "markdown",
   "metadata": {},
   "source": [
    "# [Public Policy 275] Spatial Data and Analysis, Fall 2020\n",
    "\n",
    "# Lab 3: Point Processes\n",
    "\n",
    "* University of California, Berkeley\n",
    "* Instructor: Solomon Hsiang\n",
    "* GSI: Simon Greenhill and Hikari Murayama\n",
    "\n",
    "**About This Lab**\n",
    "* Due Date: September 14th, 2022\n",
    "* You may talk with other students about the lab, but each student is responsible for doing all exercises in the lab themselves and turning in their own write up. We will be checking code for evidence of copying and pasting.\n",
    "* When you are done with the lab, please restart the kernel and run all the codes one more time (press the \">>\" button), so that the grader will see a clean notebook. Don't forget to save! Please submit this lab to bCourses as `YOURCAL1ID.ipynb`. This will facilitate anonymous grading.\n",
    "* In addition your `ipynb` file, please also submit a PDF version of it. You can do this by saving and exporting as a PDF. If that's not working, save and export as a HTML, save and export it as an HTML and then print it to a PDF file.\n",
    "* This lab requires that you download the following files and place them in the same directory as this jupyter notebook:\n",
    "    * `Lab3_crime.csv`\n",
    "    * `Lab3_cholera.p`\n",
    "    * `Lab3_poisson_test_data.p`\n",
    "* These labs have been developed over the years by Solomon Hsiang, and past/current GSIs including Ian Bolliger, Tamma Carleton, Shubham Goel, Felipe González, Luna Yue Huang, Jonathan Kadish, Jaecheol Lee, and Jonathan Proctor (in alphabetical order)."
   ]
  },
  {
   "cell_type": "markdown",
   "metadata": {},
   "source": [
    "## Objectives\n",
    "By the end of this lab, you will be able to\n",
    "1. Get to know `pandas`\n",
    "2. Understand functions, classes, attributes and methods in Python\n",
    "3. Run simulations"
   ]
  },
  {
   "cell_type": "code",
   "execution_count": 2,
   "metadata": {},
   "outputs": [],
   "source": [
    "# IMPORT MODULES HERE\n",
    "import pickle\n",
    "import numpy as np\n",
    "import pandas as pd\n",
    "import matplotlib.pyplot as plt\n",
    "%matplotlib inline"
   ]
  },
  {
   "cell_type": "markdown",
   "metadata": {},
   "source": [
    "## 1. Analyzing Crimes by Attributes\n",
    "Use the dataset `Lab3_crime.csv`, it contains the location of 200 crimes as well as information on whether the crime was violent (the variable `violent`=1 if violent, 0 otherwise) and the month in which the crime was committed (the variable `month`). Here we want to see if there are any patterns in crime based on their attributes."
   ]
  },
  {
   "cell_type": "markdown",
   "metadata": {},
   "source": [
    "**1.1.**\n",
    "\n",
    "So far, we have worked with vectors and arrays where information across different vectors might be related (e.g., the first element in a vector lat and a vector lon describe the same position), but we had to keep track ourselves of these various relationships. However, Python will allow us to link vectors or arrays of strings the way we sometimes see datasets structured in the software packages Excel, Stata or R, where individual rows represent observations and columns are different variables. This data format is more restrictive than what we have done so far, but it is often convenient for working with data sets that come in this format since it may help us keep variables organized. To work with data in this format, we can utilize the data structure table, or `DataFrame`, as Python calls it. This data format is also useful because it allows us to read in data from these familiar software packages (keeping strings and numeric data grouped properly) so we can manipulate it in Python. From now on, we will be seeing a lot of the `pandas` module, which is what handles data frames in Python.\n",
    "\n",
    "To use pandas, you would want to first `import` the pandas module (you don't need to install it because it comes with the Anaconda distribution). The convention is to alias it with `pd`, so you would do `import pandas as pd`. Then you would want to read a csv file (using `pd.read_csv()`) and assign it to `df`, which is what people usually call their data frames. Type the variable name `df` to print the data frame in jupyter notebook, and you will see a nicely formatted table.\n",
    "\n",
    "**Let's make a map of all crime events. Choose a symbol that we haven't used before.**\n",
    "\n",
    "(Hint: `pandas.DataFrame` is very much like a dictionary. So you can access columns with `[]`, e.g., `df['violent']` gives the `violent` column in the data frame. A one-column object is called a `pandas.Series`, e.g., `df['violent']` is a pandas series. matplotlib works well with pandas, so you can directly pass a pandas series (as we did with numpy arrays) to `plt.plot()` in order to plot maps (no need to convert it to numpy objects!).)"
   ]
  },
  {
   "cell_type": "code",
   "execution_count": 3,
   "metadata": {},
   "outputs": [
    {
     "data": {
      "text/html": [
       "<div>\n",
       "<style scoped>\n",
       "    .dataframe tbody tr th:only-of-type {\n",
       "        vertical-align: middle;\n",
       "    }\n",
       "\n",
       "    .dataframe tbody tr th {\n",
       "        vertical-align: top;\n",
       "    }\n",
       "\n",
       "    .dataframe thead th {\n",
       "        text-align: right;\n",
       "    }\n",
       "</style>\n",
       "<table border=\"1\" class=\"dataframe\">\n",
       "  <thead>\n",
       "    <tr style=\"text-align: right;\">\n",
       "      <th></th>\n",
       "      <th>violent</th>\n",
       "      <th>month</th>\n",
       "      <th>crime_x</th>\n",
       "      <th>crime_y</th>\n",
       "    </tr>\n",
       "  </thead>\n",
       "  <tbody>\n",
       "    <tr>\n",
       "      <th>0</th>\n",
       "      <td>0</td>\n",
       "      <td>5</td>\n",
       "      <td>2.142546</td>\n",
       "      <td>1.908561</td>\n",
       "    </tr>\n",
       "    <tr>\n",
       "      <th>1</th>\n",
       "      <td>1</td>\n",
       "      <td>6</td>\n",
       "      <td>0.934388</td>\n",
       "      <td>4.375143</td>\n",
       "    </tr>\n",
       "    <tr>\n",
       "      <th>2</th>\n",
       "      <td>0</td>\n",
       "      <td>11</td>\n",
       "      <td>-4.340055</td>\n",
       "      <td>2.053631</td>\n",
       "    </tr>\n",
       "    <tr>\n",
       "      <th>3</th>\n",
       "      <td>0</td>\n",
       "      <td>3</td>\n",
       "      <td>4.478405</td>\n",
       "      <td>-7.323084</td>\n",
       "    </tr>\n",
       "    <tr>\n",
       "      <th>4</th>\n",
       "      <td>0</td>\n",
       "      <td>8</td>\n",
       "      <td>-2.776546</td>\n",
       "      <td>4.977263</td>\n",
       "    </tr>\n",
       "  </tbody>\n",
       "</table>\n",
       "</div>"
      ],
      "text/plain": [
       "   violent  month   crime_x   crime_y\n",
       "0        0      5  2.142546  1.908561\n",
       "1        1      6  0.934388  4.375143\n",
       "2        0     11 -4.340055  2.053631\n",
       "3        0      3  4.478405 -7.323084\n",
       "4        0      8 -2.776546  4.977263"
      ]
     },
     "execution_count": 3,
     "metadata": {},
     "output_type": "execute_result"
    }
   ],
   "source": [
    "import pandas as pd\n",
    "crime = pd.read_csv('Lab3_crime.csv')\n",
    "crime.head()"
   ]
  },
  {
   "cell_type": "code",
   "execution_count": 6,
   "metadata": {},
   "outputs": [
    {
     "data": {
      "text/plain": [
       "[<matplotlib.lines.Line2D at 0x122b27e20>]"
      ]
     },
     "execution_count": 6,
     "metadata": {},
     "output_type": "execute_result"
    },
    {
     "data": {
      "image/png": "[encoded data removed]",
      "text/plain": [
       "<Figure size 432x288 with 1 Axes>"
      ]
     },
     "metadata": {
      "needs_background": "light"
     },
     "output_type": "display_data"
    }
   ],
   "source": [
    "plt.plot(crime.crime_x, crime.crime_y, '^y')"
   ]
  },
  {
   "cell_type": "markdown",
   "metadata": {},
   "source": [
    "**1.2.**\n",
    "\n",
    "Now we want to see if the spatial pattern in violent and non-violent crime is different by plotting them as two different kinds of symbols. We could do this by writing a loop like we did for houses in Lab 2, but this is slow. Python has a simple notation that allows us to more easily isolate observations. This is usually called boolean (a boolean variable takes two values, True or False) indexing. Basically, we want to create a vector (more precisely, a `numpy.ndarray` or a `pandas.Series`) that has the same number of rows as our data frame, and takes on either `True` or `False`, and we will extract all the rows in the data frame with a corresponding `True` value in the vector.\n",
    "\n",
    "Type `df['violent'] == 1` first and watch what happens.\n",
    "\n",
    "The double-equal sign `==` tells Python to check for equality, rather than assigning values (`a = 1` means \"assign a equal to one,\" while `a == 1` means \"check if a is equal to 1\"). `df['violent'] == 1` lets Python return a new vector that is True for each row where the statement is True (the incident is violent), and False where it is False (the incident is non-violent). We can use boolean indexing to identify the crime observations based on the attributes of crimes (whether it is violent, in which month it occurred, etc.).\n",
    "\n",
    "Boolean indexing in pandas can be achieved through `df.loc[row_index, col_index]`. You have to specify two indices, one for row and one for column. For the rows, put the boolean vector in the square brackets and you will get the subset of rows (where the boolean vector says `True`). For the columns, put in `:` to mean that you are selecting all the columns, or put in a string (column name) to select one column.\n",
    "\n",
    "**Now, plot the spatial distribution of violent and non-violent crimes on the same map, using different markers for the two. Be sure to label the plot properly.**"
   ]
  },
  {
   "cell_type": "markdown",
   "metadata": {},
   "source": [
    "### [Quick Aside] Coding Style: Maximum Line Length\n",
    "It is never too early to talk about coding style. PEP-8, the official Python style guide, says that each line of code should not exceed 79 characters. So when you write codes, it is important to wrap long lines appropriately.\n",
    "\n",
    "Why is that? First, most code editors (this applies to Jupyter Notebook, too) do not wrap lines by default. For a language like Python, where line breaks and leading white spaces have semantic meaning, wrapping lines would make codes confusing to the readers. Second, super long lines are almost impossible to read."
   ]
  },
  {
   "cell_type": "code",
   "execution_count": 7,
   "metadata": {},
   "outputs": [
    {
     "data": {
      "text/plain": [
       "\"wouldn't you hate to read this line of code that is so incredibly very very very very very very very very very very very very long?\""
      ]
     },
     "execution_count": 7,
     "metadata": {},
     "output_type": "execute_result"
    }
   ],
   "source": [
    "'wouldn\\'t you hate to read this line of code that is so incredibly very very very very very very very very very very very very long?'"
   ]
  },
  {
   "cell_type": "markdown",
   "metadata": {},
   "source": [
    "The right way to wrap long lines is to use Python's implied line continuation inside parentheses, brackets and braces. If necessary, you can add an extra pair of parentheses around an expression. Here are some good practices.\n",
    "\n",
    "```python\n",
    "# implied line continuation inside parentheses\n",
    "function(param1=argument1,\n",
    "         param2=argument2,\n",
    "         param3=argument3,\n",
    "         param4=argument4,\n",
    "         param5=argument5,\n",
    "         param6=argument6)\n",
    "# sometimes people like to do this\n",
    "# enter a line break right after the parenthese/brackets/braces\n",
    "# and indent by 4 spaces\n",
    "d = {  # this is creating a dictionary\n",
    "    'key1': 'value1',\n",
    "    'key2': 'value2',\n",
    "    'key3': 'value3',\n",
    "    'key4': 'value4',  # leaving a comma here is fine\n",
    "}\n",
    "# for long strings, and with .format()\n",
    "print('{} a long long string '\n",
    "      'that is broken into several parts'\n",
    "      .format('this is'))\n",
    "```"
   ]
  },
  {
   "cell_type": "code",
   "execution_count": 8,
   "metadata": {},
   "outputs": [],
   "source": [
    "# TODO: PLOT YOUR MAP HERE\n",
    "# USE DIFFERENT MARKERS FOR VIOLENT VS NON VIOLENT EVENTS\n",
    "# WRAP LONG LINES APPROPRIATELY\n",
    "# MAKE SURE THAT EACH LINE DOES NOT EXCEED 79 CHARACTERS"
   ]
  },
  {
   "cell_type": "code",
   "execution_count": 4,
   "metadata": {},
   "outputs": [
    {
     "data": {
      "text/plain": [
       "<matplotlib.legend.Legend at 0x122b3ff70>"
      ]
     },
     "execution_count": 4,
     "metadata": {},
     "output_type": "execute_result"
    },
    {
     "data": {
      "image/png": "[encoded data removed]",
      "text/plain": [
       "<Figure size 432x288 with 1 Axes>"
      ]
     },
     "metadata": {
      "needs_background": "light"
     },
     "output_type": "display_data"
    }
   ],
   "source": [
    "vio = crime[crime.violent == 1]\n",
    "plt.plot(vio.crime_x, vio.crime_y, '*r', label='violent crime')\n",
    "\n",
    "nv = crime[crime.violent == 0]\n",
    "plt.plot(nv.crime_x, nv.crime_y, 'sy', label='nonviolent crime')\n",
    "\n",
    "plt.title('Spatial Distro of Crime')\n",
    "plt.legend()"
   ]
  },
  {
   "cell_type": "markdown",
   "metadata": {},
   "source": [
    "## More on Indexing in pandas\n",
    "\n",
    "`df.loc[]` allows us to index **by label**. In pandas, all the rows and columns have labels. Usually, the row labels (a.k.a. indexes) are integers 0,1,2,... (they don't have to be though, they can be strings or other data types), and column names are descriptive strings. For our `df`, each row has a integer ranging from 0 to 199 identifying that observation, and we can select the three observations with the indexes 3, 4 and 5 and assign it to `df1` by doing the following."
   ]
  },
  {
   "cell_type": "markdown",
   "metadata": {},
   "source": [
    "You will notice that the indexes (row labels) are preserved. The first row has an index of 3 instead of 0. Now if you try to do `df1.loc[0, :]`, there will be a `KeyError` because `df1` doesn't have any observations associated with the index 0.\n",
    "\n",
    "We can, however, also index **by position** by doing `df.iloc[]`. The following will give you the first two observations in `df1`."
   ]
  },
  {
   "cell_type": "code",
   "execution_count": null,
   "metadata": {},
   "outputs": [],
   "source": [
    "df1.iloc[0:2, :]"
   ]
  },
  {
   "cell_type": "markdown",
   "metadata": {},
   "source": [
    "As you've seen, `loc[]` and `iloc[]` take in a variety of types of inputs to index data frames. They take in slice objects (e.g., `0:2`), lists, boolean arrays, etc. The [official documentation](https://pandas.pydata.org/pandas-docs/stable/user_guide/indexing.html) goes into more detail on accepted input types.\n",
    "\n",
    "*Indexing and selecting data in pandas can be rather tricky. It can take some time for beginners to get used to it. Be patient, and always visually check your data frame to make sure that you are doing what you think you are doing!*"
   ]
  },
  {
   "cell_type": "markdown",
   "metadata": {},
   "source": [
    "**1.3.**\n",
    "\n",
    "Now examine how the distribution of all crimes evolves month by month by plotting each month separately. To make comparisons across months easier, let's put them all on the same figure as 12 different panels (e.g. January will be a small map next to a separate small map for February). To do this, create a new figure and use the command `plt.subplots()`. subplot will break the figure up into smaller \"subplots\" while also telling Python which of these subplots you want to be drawing on with your current commands. Type `fig, axes = plt.subplots(nrows=3, ncols=4, sharex=True, sharey=True)` to make an array of 12 subplots (3 down and 4 across), with the same x and y axes.\n",
    "\n",
    "This way of creating two things at the same time is very Pythonic and is usually called multiple assignment. It helps keep your codes succint and readable. `plt.subplots()` returns two objects, and we name the first one `fig`, which is basically the large plot, and the second one `axes`, which is a collection of subplots. Each subplot can be accessed through `[]`, e.g., `axes[0, 0]` is the first subplot.\n",
    "\n",
    "We can then specify what we want to do with each subplot. For example, we can do `axes[0, 0].plot(df['crime_x'], df['crime_y'], '+')` to plot onto the first subplot.\n",
    "\n",
    "**Write a short for loop that goes through the months and plots the locations of all crimes in a month on a separate subplot for that month. Put January in the upper left subplot. Help your viewers understand which month they are looking at by labeling each subplot with a title that says the month number for that subplot.** (Hint: this can be done via `axes[i, j].set_title()` and `''.format()`; if the figure looks awful because the labels are cut out / overlapping with each other, `fig.tight_layout()` usually provides a quick fix.)"
   ]
  },
  {
   "cell_type": "code",
   "execution_count": 5,
   "metadata": {},
   "outputs": [
    {
     "data": {
      "image/png": "[encoded data removed]",
      "text/plain": [
       "<Figure size 432x288 with 1 Axes>"
      ]
     },
     "metadata": {
      "needs_background": "light"
     },
     "output_type": "display_data"
    },
    {
     "data": {
      "image/png": "[encoded data removed]",
      "text/plain": [
       "<Figure size 432x288 with 12 Axes>"
      ]
     },
     "metadata": {
      "needs_background": "light"
     },
     "output_type": "display_data"
    }
   ],
   "source": [
    "plt.subplots()\n",
    "fig, axes = plt.subplots(nrows=3, ncols=4, sharex=True, sharey=True)"
   ]
  },
  {
   "cell_type": "code",
   "execution_count": 6,
   "metadata": {},
   "outputs": [
    {
     "data": {
      "image/png": "[encoded data removed]",
      "text/plain": [
       "<Figure size 432x288 with 12 Axes>"
      ]
     },
     "execution_count": 6,
     "metadata": {},
     "output_type": "execute_result"
    }
   ],
   "source": [
    "for row, month in crime.month.items():\n",
    "    if month == 1:\n",
    "        axes[0,0].plot(crime.iloc[row,2], crime.iloc[row,3], '*b')\n",
    "        axes[0,0].set_title('Jan')\n",
    "    elif month == 2:\n",
    "        axes[0,1].plot(crime.iloc[row,2], crime.iloc[row,3], '*b')\n",
    "        axes[0,1].set_title('Feb')\n",
    "    elif month == 3:\n",
    "        axes[0,2].plot(crime.iloc[row,2], crime.iloc[row,3], '*b')\n",
    "        axes[0,2].set_title('Mar')\n",
    "    elif month == 4:\n",
    "        axes[0,3].plot(crime.iloc[row,2], crime.iloc[row,3], '*b')\n",
    "        axes[0,3].set_title('Apr')\n",
    "    elif month == 5:\n",
    "        axes[1,0].plot(crime.iloc[row,2], crime.iloc[row,3], '*k')\n",
    "        axes[1,0].set_title('May')\n",
    "    elif month == 6:\n",
    "        axes[1,1].plot(crime.iloc[row,2], crime.iloc[row,3], '*k')\n",
    "        axes[1,1].set_title('Jun')\n",
    "    elif month == 7:\n",
    "        axes[1,2].plot(crime.iloc[row,2], crime.iloc[row,3], '*k')\n",
    "        axes[1,2].set_title('Jul')\n",
    "    elif month == 8:\n",
    "        axes[1,3].plot(crime.iloc[row,2], crime.iloc[row,3], '*k')\n",
    "        axes[1,3].set_title('Aug')\n",
    "    elif month == 9:\n",
    "        axes[2,0].plot(crime.iloc[row,2], crime.iloc[row,3], '*r')\n",
    "        axes[2,0].set_title('Sep')\n",
    "    elif month == 10:\n",
    "        axes[2,1].plot(crime.iloc[row,2], crime.iloc[row,3], '*r')\n",
    "        axes[2,1].set_title('Oct')\n",
    "    elif month == 11:\n",
    "        axes[2,2].plot(crime.iloc[row,2], crime.iloc[row,3], '*r')\n",
    "        axes[2,2].set_title('Nov')\n",
    "    elif month == 12:\n",
    "        axes[2,3].plot(crime.iloc[row,2], crime.iloc[row,3], '*r')\n",
    "        axes[2,3].set_title('Dec')\n",
    "    else:\n",
    "        pass\n",
    "    \n",
    "\n",
    "fig.tight_layout()\n",
    "fig"
   ]
  },
  {
   "cell_type": "markdown",
   "metadata": {},
   "source": [
    "**1.4.**\n",
    "\n",
    "How many crimes are there in March? How many are violent crimes? (Hint: there are multiple ways to do this, but you may find commands like `df.shape` helpful; you may need to use the logical operator `&` (and).)"
   ]
  },
  {
   "cell_type": "code",
   "execution_count": 4,
   "metadata": {},
   "outputs": [
    {
     "name": "stdout",
     "output_type": "stream",
     "text": [
      "12 total crimes in March. 2 violent crimes\n"
     ]
    },
    {
     "data": {
      "text/html": [
       "<div>\n",
       "<style scoped>\n",
       "    .dataframe tbody tr th:only-of-type {\n",
       "        vertical-align: middle;\n",
       "    }\n",
       "\n",
       "    .dataframe tbody tr th {\n",
       "        vertical-align: top;\n",
       "    }\n",
       "\n",
       "    .dataframe thead th {\n",
       "        text-align: right;\n",
       "    }\n",
       "</style>\n",
       "<table border=\"1\" class=\"dataframe\">\n",
       "  <thead>\n",
       "    <tr style=\"text-align: right;\">\n",
       "      <th></th>\n",
       "      <th>violent</th>\n",
       "      <th>month</th>\n",
       "      <th>crime_x</th>\n",
       "      <th>crime_y</th>\n",
       "    </tr>\n",
       "  </thead>\n",
       "  <tbody>\n",
       "    <tr>\n",
       "      <th>117</th>\n",
       "      <td>1</td>\n",
       "      <td>3</td>\n",
       "      <td>-8.334777</td>\n",
       "      <td>-11.800660</td>\n",
       "    </tr>\n",
       "    <tr>\n",
       "      <th>136</th>\n",
       "      <td>1</td>\n",
       "      <td>3</td>\n",
       "      <td>12.162122</td>\n",
       "      <td>-1.802258</td>\n",
       "    </tr>\n",
       "  </tbody>\n",
       "</table>\n",
       "</div>"
      ],
      "text/plain": [
       "     violent  month    crime_x    crime_y\n",
       "117        1      3  -8.334777 -11.800660\n",
       "136        1      3  12.162122  -1.802258"
      ]
     },
     "execution_count": 4,
     "metadata": {},
     "output_type": "execute_result"
    }
   ],
   "source": [
    "mar = crime[crime.month == 3]\n",
    "mar.count()\n",
    "mar.violent == 1\n",
    "\n",
    "print('12 total crimes in March. 2 violent crimes')\n",
    "crime[(crime['month'] == 3) & (crime['violent'] == 1)]"
   ]
  },
  {
   "cell_type": "markdown",
   "metadata": {},
   "source": [
    "**1.5.**\n",
    "\n",
    "Create a new attribute that describes the Euclidean distance from the location of each crime to the nearest violent crime (the value of this new attribute should be zero for all violent crimes). **Plot a histogram showing the distribution of these nearest-violent-crime distances using the command `plt.hist()`. Why does this distribution look the way it does?**\n",
    "\n",
    "Some tips:\n",
    "\n",
    "* Write a function that can be re-used so that your future self will thank you!\n",
    "* You will likely have to write a double loop, where you loop over the set of source points first, and then inside that loop, you loop over the set of destination points.\n",
    "* `pandas.DataFrame.values` converts the pandas data frame to a numpy array.\n",
    "* `numpy.ndarray.min(axis=1)` takes the minimum of an array along the columns (`axis=0` takes min along the rows)."
   ]
  },
  {
   "cell_type": "code",
   "execution_count": 10,
   "metadata": {},
   "outputs": [],
   "source": [
    "def compute_distances(src_x, src_y, dst_x, dst_y):\n",
    "    \"\"\"Computes the distances from every source point to every destination point.\n",
    "    \n",
    "    Args:\n",
    "        src_x, src_y (numpy.ndarray): the x and y coordinates for source points.\n",
    "            Denote the length of each array as dim_src.\n",
    "        dst_x, dst_y (numpy.ndarray): the x and y coordinates for destination points.\n",
    "            Denote the length of each array as dim_dst.\n",
    "        \n",
    "    Returns:\n",
    "        numpy.ndarray: a dim_src by dim_dst numpy array containing the distances.\n",
    "    \"\"\"\n",
    "    dist = np.zeros((src_x.shape[0], dst_x.shape[0]))\n",
    "    for i in range(src_x.shape[0]):\n",
    "        for j in range(dst_x.shape[0]):\n",
    "            dist[i, j] = np.sqrt((src_x[i] - dst_x[j]) ** 2\n",
    "                                + (src_y[i] - dst_y[j]) ** 2)\n",
    "        return dist"
   ]
  },
  {
   "cell_type": "code",
   "execution_count": null,
   "metadata": {},
   "outputs": [],
   "source": [
    "# TODO: USING THE FUNCTION, ANSWER THE QUESTION HERE\n",
    "dist = compute_distances(\n",
    "    src_x=df.loc[:, 'crime_x'].values,\n",
    "    src_y=df.loc[:, 'crime_y'].values,\n",
    "    dst_x=df.loc[df['violent'] == 1, 'crime_x'].values,\n",
    "    dst_y=df.loc[df['violent'] == 1, 'crime_y'].values)\n",
    "dist = dist.min(axis=1)\n",
    "plt.hist(dist, bins=30)\n",
    "plt.xlabel('Distance to Closest Violent Crime')\n",
    "plt.ylabel('Frequency')\n",
    "plt.title('Distribution of Distances from Each Crime to Closest Violent Crime')\n",
    "plt.show()"
   ]
  },
  {
   "cell_type": "code",
   "execution_count": 37,
   "metadata": {},
   "outputs": [
    {
     "data": {
      "image/png": "[encoded data removed]",
      "text/plain": [
       "<Figure size 432x288 with 1 Axes>"
      ]
     },
     "metadata": {
      "needs_background": "light"
     },
     "output_type": "display_data"
    }
   ],
   "source": [
    "vio = crime[crime.violent == 1]\n",
    "plt.plot(vio.crime_x, vio.crime_y, '*r', label='violent crime')\n",
    "\n",
    "nv = crime[crime.violent == 0]\n",
    "plt.plot(nv.crime_x, nv.crime_y, 'sy', label='nonviolent crime')\n",
    "\n",
    "plt.title('Spatial Distro of Crime')\n",
    "plt.legend()\n",
    "plt.show()"
   ]
  },
  {
   "cell_type": "code",
   "execution_count": 39,
   "metadata": {},
   "outputs": [
    {
     "data": {
      "text/html": [
       "<div>\n",
       "<style scoped>\n",
       "    .dataframe tbody tr th:only-of-type {\n",
       "        vertical-align: middle;\n",
       "    }\n",
       "\n",
       "    .dataframe tbody tr th {\n",
       "        vertical-align: top;\n",
       "    }\n",
       "\n",
       "    .dataframe thead th {\n",
       "        text-align: right;\n",
       "    }\n",
       "</style>\n",
       "<table border=\"1\" class=\"dataframe\">\n",
       "  <thead>\n",
       "    <tr style=\"text-align: right;\">\n",
       "      <th></th>\n",
       "      <th>crime_x</th>\n",
       "      <th>crime_y</th>\n",
       "    </tr>\n",
       "  </thead>\n",
       "  <tbody>\n",
       "    <tr>\n",
       "      <th>0</th>\n",
       "      <td>2.142546</td>\n",
       "      <td>1.908561</td>\n",
       "    </tr>\n",
       "    <tr>\n",
       "      <th>2</th>\n",
       "      <td>-4.340055</td>\n",
       "      <td>2.053631</td>\n",
       "    </tr>\n",
       "    <tr>\n",
       "      <th>3</th>\n",
       "      <td>4.478405</td>\n",
       "      <td>-7.323084</td>\n",
       "    </tr>\n",
       "    <tr>\n",
       "      <th>4</th>\n",
       "      <td>-2.776546</td>\n",
       "      <td>4.977263</td>\n",
       "    </tr>\n",
       "    <tr>\n",
       "      <th>6</th>\n",
       "      <td>-2.927966</td>\n",
       "      <td>6.079521</td>\n",
       "    </tr>\n",
       "    <tr>\n",
       "      <th>...</th>\n",
       "      <td>...</td>\n",
       "      <td>...</td>\n",
       "    </tr>\n",
       "    <tr>\n",
       "      <th>195</th>\n",
       "      <td>-7.303343</td>\n",
       "      <td>6.620709</td>\n",
       "    </tr>\n",
       "    <tr>\n",
       "      <th>196</th>\n",
       "      <td>-4.748051</td>\n",
       "      <td>0.513093</td>\n",
       "    </tr>\n",
       "    <tr>\n",
       "      <th>197</th>\n",
       "      <td>8.577683</td>\n",
       "      <td>11.660725</td>\n",
       "    </tr>\n",
       "    <tr>\n",
       "      <th>198</th>\n",
       "      <td>-7.854998</td>\n",
       "      <td>4.171054</td>\n",
       "    </tr>\n",
       "    <tr>\n",
       "      <th>199</th>\n",
       "      <td>-3.265420</td>\n",
       "      <td>6.514647</td>\n",
       "    </tr>\n",
       "  </tbody>\n",
       "</table>\n",
       "<p>175 rows × 2 columns</p>\n",
       "</div>"
      ],
      "text/plain": [
       "      crime_x    crime_y\n",
       "0    2.142546   1.908561\n",
       "2   -4.340055   2.053631\n",
       "3    4.478405  -7.323084\n",
       "4   -2.776546   4.977263\n",
       "6   -2.927966   6.079521\n",
       "..        ...        ...\n",
       "195 -7.303343   6.620709\n",
       "196 -4.748051   0.513093\n",
       "197  8.577683  11.660725\n",
       "198 -7.854998   4.171054\n",
       "199 -3.265420   6.514647\n",
       "\n",
       "[175 rows x 2 columns]"
      ]
     },
     "execution_count": 39,
     "metadata": {},
     "output_type": "execute_result"
    }
   ],
   "source": [
    "nv = nv[['crime_x', 'crime_y']]\n",
    "nv"
   ]
  },
  {
   "cell_type": "markdown",
   "metadata": {},
   "source": [
    "def initiate_centroids(k, df):\n",
    "    '''\n",
    "    Select k data points as centroids\n",
    "    k: number of centroids\n",
    "    df: pandas dataframe\n",
    "    '''\n",
    "    centroids = df.sample(k)\n",
    "    return centroids"
   ]
  },
  {
   "cell_type": "code",
   "execution_count": 44,
   "metadata": {},
   "outputs": [
    {
     "data": {
      "text/html": [
       "<div>\n",
       "<style scoped>\n",
       "    .dataframe tbody tr th:only-of-type {\n",
       "        vertical-align: middle;\n",
       "    }\n",
       "\n",
       "    .dataframe tbody tr th {\n",
       "        vertical-align: top;\n",
       "    }\n",
       "\n",
       "    .dataframe thead th {\n",
       "        text-align: right;\n",
       "    }\n",
       "</style>\n",
       "<table border=\"1\" class=\"dataframe\">\n",
       "  <thead>\n",
       "    <tr style=\"text-align: right;\">\n",
       "      <th></th>\n",
       "      <th>violent</th>\n",
       "      <th>month</th>\n",
       "      <th>crime_x</th>\n",
       "      <th>crime_y</th>\n",
       "    </tr>\n",
       "  </thead>\n",
       "  <tbody>\n",
       "    <tr>\n",
       "      <th>0</th>\n",
       "      <td>0</td>\n",
       "      <td>5</td>\n",
       "      <td>2.142546</td>\n",
       "      <td>1.908561</td>\n",
       "    </tr>\n",
       "    <tr>\n",
       "      <th>1</th>\n",
       "      <td>1</td>\n",
       "      <td>6</td>\n",
       "      <td>0.934388</td>\n",
       "      <td>4.375143</td>\n",
       "    </tr>\n",
       "    <tr>\n",
       "      <th>2</th>\n",
       "      <td>0</td>\n",
       "      <td>11</td>\n",
       "      <td>-4.340055</td>\n",
       "      <td>2.053631</td>\n",
       "    </tr>\n",
       "    <tr>\n",
       "      <th>3</th>\n",
       "      <td>0</td>\n",
       "      <td>3</td>\n",
       "      <td>4.478405</td>\n",
       "      <td>-7.323084</td>\n",
       "    </tr>\n",
       "    <tr>\n",
       "      <th>4</th>\n",
       "      <td>0</td>\n",
       "      <td>8</td>\n",
       "      <td>-2.776546</td>\n",
       "      <td>4.977263</td>\n",
       "    </tr>\n",
       "    <tr>\n",
       "      <th>...</th>\n",
       "      <td>...</td>\n",
       "      <td>...</td>\n",
       "      <td>...</td>\n",
       "      <td>...</td>\n",
       "    </tr>\n",
       "    <tr>\n",
       "      <th>195</th>\n",
       "      <td>0</td>\n",
       "      <td>4</td>\n",
       "      <td>-7.303343</td>\n",
       "      <td>6.620709</td>\n",
       "    </tr>\n",
       "    <tr>\n",
       "      <th>196</th>\n",
       "      <td>0</td>\n",
       "      <td>3</td>\n",
       "      <td>-4.748051</td>\n",
       "      <td>0.513093</td>\n",
       "    </tr>\n",
       "    <tr>\n",
       "      <th>197</th>\n",
       "      <td>0</td>\n",
       "      <td>5</td>\n",
       "      <td>8.577683</td>\n",
       "      <td>11.660725</td>\n",
       "    </tr>\n",
       "    <tr>\n",
       "      <th>198</th>\n",
       "      <td>0</td>\n",
       "      <td>11</td>\n",
       "      <td>-7.854998</td>\n",
       "      <td>4.171054</td>\n",
       "    </tr>\n",
       "    <tr>\n",
       "      <th>199</th>\n",
       "      <td>0</td>\n",
       "      <td>2</td>\n",
       "      <td>-3.265420</td>\n",
       "      <td>6.514647</td>\n",
       "    </tr>\n",
       "  </tbody>\n",
       "</table>\n",
       "<p>200 rows × 4 columns</p>\n",
       "</div>"
      ],
      "text/plain": [
       "     violent  month   crime_x    crime_y\n",
       "0          0      5  2.142546   1.908561\n",
       "1          1      6  0.934388   4.375143\n",
       "2          0     11 -4.340055   2.053631\n",
       "3          0      3  4.478405  -7.323084\n",
       "4          0      8 -2.776546   4.977263\n",
       "..       ...    ...       ...        ...\n",
       "195        0      4 -7.303343   6.620709\n",
       "196        0      3 -4.748051   0.513093\n",
       "197        0      5  8.577683  11.660725\n",
       "198        0     11 -7.854998   4.171054\n",
       "199        0      2 -3.265420   6.514647\n",
       "\n",
       "[200 rows x 4 columns]"
      ]
     },
     "execution_count": 44,
     "metadata": {},
     "output_type": "execute_result"
    },
    {
     "data": {
      "image/png": "[encoded data removed]",
      "text/plain": [
       "<Figure size 432x288 with 1 Axes>"
      ]
     },
     "metadata": {
      "needs_background": "light"
     },
     "output_type": "display_data"
    }
   ],
   "source": [
    "def set_centroids(k,df):\n",
    "    '''\n",
    "    Set centroids as equal to each violent crime\n",
    "    '''\n",
    "    centroids = vio.iloc[:, 2:4]\n",
    "    return centroids\n",
    "set_centroids(25,crime)\n",
    "plt.plot(set_centroids(25,crime),'*r')\n",
    "\n",
    "crime"
   ]
  },
  {
   "cell_type": "code",
   "execution_count": 43,
   "metadata": {},
   "outputs": [
    {
     "data": {
      "text/html": [
       "<div>\n",
       "<style scoped>\n",
       "    .dataframe tbody tr th:only-of-type {\n",
       "        vertical-align: middle;\n",
       "    }\n",
       "\n",
       "    .dataframe tbody tr th {\n",
       "        vertical-align: top;\n",
       "    }\n",
       "\n",
       "    .dataframe thead th {\n",
       "        text-align: right;\n",
       "    }\n",
       "</style>\n",
       "<table border=\"1\" class=\"dataframe\">\n",
       "  <thead>\n",
       "    <tr style=\"text-align: right;\">\n",
       "      <th></th>\n",
       "      <th>crime_x</th>\n",
       "      <th>crime_y</th>\n",
       "    </tr>\n",
       "  </thead>\n",
       "  <tbody>\n",
       "    <tr>\n",
       "      <th>0</th>\n",
       "      <td>2.142546</td>\n",
       "      <td>1.908561</td>\n",
       "    </tr>\n",
       "    <tr>\n",
       "      <th>2</th>\n",
       "      <td>-4.340055</td>\n",
       "      <td>2.053631</td>\n",
       "    </tr>\n",
       "    <tr>\n",
       "      <th>3</th>\n",
       "      <td>4.478405</td>\n",
       "      <td>-7.323084</td>\n",
       "    </tr>\n",
       "    <tr>\n",
       "      <th>4</th>\n",
       "      <td>-2.776546</td>\n",
       "      <td>4.977263</td>\n",
       "    </tr>\n",
       "    <tr>\n",
       "      <th>6</th>\n",
       "      <td>-2.927966</td>\n",
       "      <td>6.079521</td>\n",
       "    </tr>\n",
       "    <tr>\n",
       "      <th>...</th>\n",
       "      <td>...</td>\n",
       "      <td>...</td>\n",
       "    </tr>\n",
       "    <tr>\n",
       "      <th>195</th>\n",
       "      <td>-7.303343</td>\n",
       "      <td>6.620709</td>\n",
       "    </tr>\n",
       "    <tr>\n",
       "      <th>196</th>\n",
       "      <td>-4.748051</td>\n",
       "      <td>0.513093</td>\n",
       "    </tr>\n",
       "    <tr>\n",
       "      <th>197</th>\n",
       "      <td>8.577683</td>\n",
       "      <td>11.660725</td>\n",
       "    </tr>\n",
       "    <tr>\n",
       "      <th>198</th>\n",
       "      <td>-7.854998</td>\n",
       "      <td>4.171054</td>\n",
       "    </tr>\n",
       "    <tr>\n",
       "      <th>199</th>\n",
       "      <td>-3.265420</td>\n",
       "      <td>6.514647</td>\n",
       "    </tr>\n",
       "  </tbody>\n",
       "</table>\n",
       "<p>175 rows × 2 columns</p>\n",
       "</div>"
      ],
      "text/plain": [
       "      crime_x    crime_y\n",
       "0    2.142546   1.908561\n",
       "2   -4.340055   2.053631\n",
       "3    4.478405  -7.323084\n",
       "4   -2.776546   4.977263\n",
       "6   -2.927966   6.079521\n",
       "..        ...        ...\n",
       "195 -7.303343   6.620709\n",
       "196 -4.748051   0.513093\n",
       "197  8.577683  11.660725\n",
       "198 -7.854998   4.171054\n",
       "199 -3.265420   6.514647\n",
       "\n",
       "[175 rows x 2 columns]"
      ]
     },
     "execution_count": 43,
     "metadata": {},
     "output_type": "execute_result"
    }
   ],
   "source": [
    "nv"
   ]
  },
  {
   "cell_type": "code",
   "execution_count": null,
   "metadata": {},
   "outputs": [],
   "source": [
    "fig, ax = plt.subplots(figsize=(8, 6))\n",
    "plt.scatter(x=nv['crime_x'], y=nv['crime_y'], s=150,\n",
    "            c=blobs['cluster'].astype('category'), \n",
    "            cmap = customcmap)\n",
    "ax.set_xlabel(r'x', fontsize=14)\n",
    "ax.set_ylabel(r'y', fontsize=14)\n",
    "plt.xticks(fontsize=12)\n",
    "plt.yticks(fontsize=12)\n",
    "plt.show()"
   ]
  },
  {
   "cell_type": "code",
   "execution_count": 122,
   "metadata": {},
   "outputs": [
    {
     "data": {
      "text/plain": [
       "175"
      ]
     },
     "execution_count": 122,
     "metadata": {},
     "output_type": "execute_result"
    }
   ],
   "source": [
    "len(crime[crime.violent == 1])\n",
    "crime[crime.violent == 1]\n",
    "len(crime[crime.violent == 0])"
   ]
  },
  {
   "cell_type": "code",
   "execution_count": null,
   "metadata": {},
   "outputs": [],
   "source": [
    "crime\n",
    "max(crime.cluster)\n",
    "crime[[crime.groupby('cluster')]]"
   ]
  },
  {
   "cell_type": "code",
   "execution_count": 48,
   "metadata": {},
   "outputs": [],
   "source": [
    "kmeans.fit_predict?"
   ]
  },
  {
   "cell_type": "code",
   "execution_count": 46,
   "metadata": {},
   "outputs": [
    {
     "ename": "ValueError",
     "evalue": "Length of values (2) does not match length of index (200)",
     "output_type": "error",
     "traceback": [
      "\u001b[0;31m---------------------------------------------------------------------------\u001b[0m",
      "\u001b[0;31mValueError\u001b[0m                                Traceback (most recent call last)",
      "\u001b[0;32m/var/folders/wq/t7rcncjj6s956tl_y8_y18080000gn/T/ipykernel_65685/933626705.py\u001b[0m in \u001b[0;36m<module>\u001b[0;34m\u001b[0m\n\u001b[1;32m      7\u001b[0m \u001b[0;34m\u001b[0m\u001b[0m\n\u001b[1;32m      8\u001b[0m \u001b[0mcentroids\u001b[0m \u001b[0;34m=\u001b[0m \u001b[0mpd\u001b[0m\u001b[0;34m.\u001b[0m\u001b[0mDataFrame\u001b[0m\u001b[0;34m(\u001b[0m\u001b[0mkmeans\u001b[0m\u001b[0;34m.\u001b[0m\u001b[0mcluster_centers_\u001b[0m\u001b[0;34m)\u001b[0m\u001b[0;34m\u001b[0m\u001b[0;34m\u001b[0m\u001b[0m\n\u001b[0;32m----> 9\u001b[0;31m \u001b[0mcrime\u001b[0m\u001b[0;34m[\u001b[0m\u001b[0;34m'cen_x'\u001b[0m\u001b[0;34m]\u001b[0m \u001b[0;34m=\u001b[0m \u001b[0;34m[\u001b[0m\u001b[0mcentroids\u001b[0m\u001b[0;34m.\u001b[0m\u001b[0miloc\u001b[0m\u001b[0;34m[\u001b[0m\u001b[0mi\u001b[0m\u001b[0;34m,\u001b[0m\u001b[0;36m0\u001b[0m\u001b[0;34m]\u001b[0m \u001b[0;32mfor\u001b[0m \u001b[0mi\u001b[0m \u001b[0;32min\u001b[0m \u001b[0mcentroids\u001b[0m\u001b[0;34m]\u001b[0m\u001b[0;34m\u001b[0m\u001b[0;34m\u001b[0m\u001b[0m\n\u001b[0m\u001b[1;32m     10\u001b[0m \u001b[0mcrime\u001b[0m\u001b[0;34m[\u001b[0m\u001b[0;34m'cen_y'\u001b[0m\u001b[0;34m]\u001b[0m \u001b[0;34m=\u001b[0m \u001b[0;34m[\u001b[0m\u001b[0mcentroids\u001b[0m\u001b[0;34m.\u001b[0m\u001b[0miloc\u001b[0m\u001b[0;34m[\u001b[0m\u001b[0mi\u001b[0m\u001b[0;34m,\u001b[0m\u001b[0;36m1\u001b[0m\u001b[0;34m]\u001b[0m \u001b[0;32mfor\u001b[0m \u001b[0mi\u001b[0m \u001b[0;32min\u001b[0m \u001b[0mcentroids\u001b[0m\u001b[0;34m]\u001b[0m\u001b[0;34m\u001b[0m\u001b[0;34m\u001b[0m\u001b[0m\n\u001b[1;32m     11\u001b[0m \u001b[0;34m\u001b[0m\u001b[0m\n",
      "\u001b[0;32m~/opt/anaconda3/lib/python3.9/site-packages/pandas/core/frame.py\u001b[0m in \u001b[0;36m__setitem__\u001b[0;34m(self, key, value)\u001b[0m\n\u001b[1;32m   3610\u001b[0m         \u001b[0;32melse\u001b[0m\u001b[0;34m:\u001b[0m\u001b[0;34m\u001b[0m\u001b[0;34m\u001b[0m\u001b[0m\n\u001b[1;32m   3611\u001b[0m             \u001b[0;31m# set column\u001b[0m\u001b[0;34m\u001b[0m\u001b[0;34m\u001b[0m\u001b[0m\n\u001b[0;32m-> 3612\u001b[0;31m             \u001b[0mself\u001b[0m\u001b[0;34m.\u001b[0m\u001b[0m_set_item\u001b[0m\u001b[0;34m(\u001b[0m\u001b[0mkey\u001b[0m\u001b[0;34m,\u001b[0m \u001b[0mvalue\u001b[0m\u001b[0;34m)\u001b[0m\u001b[0;34m\u001b[0m\u001b[0;34m\u001b[0m\u001b[0m\n\u001b[0m\u001b[1;32m   3613\u001b[0m \u001b[0;34m\u001b[0m\u001b[0m\n\u001b[1;32m   3614\u001b[0m     \u001b[0;32mdef\u001b[0m \u001b[0m_setitem_slice\u001b[0m\u001b[0;34m(\u001b[0m\u001b[0mself\u001b[0m\u001b[0;34m,\u001b[0m \u001b[0mkey\u001b[0m\u001b[0;34m:\u001b[0m \u001b[0mslice\u001b[0m\u001b[0;34m,\u001b[0m \u001b[0mvalue\u001b[0m\u001b[0;34m)\u001b[0m\u001b[0;34m:\u001b[0m\u001b[0;34m\u001b[0m\u001b[0;34m\u001b[0m\u001b[0m\n",
      "\u001b[0;32m~/opt/anaconda3/lib/python3.9/site-packages/pandas/core/frame.py\u001b[0m in \u001b[0;36m_set_item\u001b[0;34m(self, key, value)\u001b[0m\n\u001b[1;32m   3782\u001b[0m         \u001b[0mensure\u001b[0m \u001b[0mhomogeneity\u001b[0m\u001b[0;34m.\u001b[0m\u001b[0;34m\u001b[0m\u001b[0;34m\u001b[0m\u001b[0m\n\u001b[1;32m   3783\u001b[0m         \"\"\"\n\u001b[0;32m-> 3784\u001b[0;31m         \u001b[0mvalue\u001b[0m \u001b[0;34m=\u001b[0m \u001b[0mself\u001b[0m\u001b[0;34m.\u001b[0m\u001b[0m_sanitize_column\u001b[0m\u001b[0;34m(\u001b[0m\u001b[0mvalue\u001b[0m\u001b[0;34m)\u001b[0m\u001b[0;34m\u001b[0m\u001b[0;34m\u001b[0m\u001b[0m\n\u001b[0m\u001b[1;32m   3785\u001b[0m \u001b[0;34m\u001b[0m\u001b[0m\n\u001b[1;32m   3786\u001b[0m         if (\n",
      "\u001b[0;32m~/opt/anaconda3/lib/python3.9/site-packages/pandas/core/frame.py\u001b[0m in \u001b[0;36m_sanitize_column\u001b[0;34m(self, value)\u001b[0m\n\u001b[1;32m   4507\u001b[0m \u001b[0;34m\u001b[0m\u001b[0m\n\u001b[1;32m   4508\u001b[0m         \u001b[0;32mif\u001b[0m \u001b[0mis_list_like\u001b[0m\u001b[0;34m(\u001b[0m\u001b[0mvalue\u001b[0m\u001b[0;34m)\u001b[0m\u001b[0;34m:\u001b[0m\u001b[0;34m\u001b[0m\u001b[0;34m\u001b[0m\u001b[0m\n\u001b[0;32m-> 4509\u001b[0;31m             \u001b[0mcom\u001b[0m\u001b[0;34m.\u001b[0m\u001b[0mrequire_length_match\u001b[0m\u001b[0;34m(\u001b[0m\u001b[0mvalue\u001b[0m\u001b[0;34m,\u001b[0m \u001b[0mself\u001b[0m\u001b[0;34m.\u001b[0m\u001b[0mindex\u001b[0m\u001b[0;34m)\u001b[0m\u001b[0;34m\u001b[0m\u001b[0;34m\u001b[0m\u001b[0m\n\u001b[0m\u001b[1;32m   4510\u001b[0m         \u001b[0;32mreturn\u001b[0m \u001b[0msanitize_array\u001b[0m\u001b[0;34m(\u001b[0m\u001b[0mvalue\u001b[0m\u001b[0;34m,\u001b[0m \u001b[0mself\u001b[0m\u001b[0;34m.\u001b[0m\u001b[0mindex\u001b[0m\u001b[0;34m,\u001b[0m \u001b[0mcopy\u001b[0m\u001b[0;34m=\u001b[0m\u001b[0;32mTrue\u001b[0m\u001b[0;34m,\u001b[0m \u001b[0mallow_2d\u001b[0m\u001b[0;34m=\u001b[0m\u001b[0;32mTrue\u001b[0m\u001b[0;34m)\u001b[0m\u001b[0;34m\u001b[0m\u001b[0;34m\u001b[0m\u001b[0m\n\u001b[1;32m   4511\u001b[0m \u001b[0;34m\u001b[0m\u001b[0m\n",
      "\u001b[0;32m~/opt/anaconda3/lib/python3.9/site-packages/pandas/core/common.py\u001b[0m in \u001b[0;36mrequire_length_match\u001b[0;34m(data, index)\u001b[0m\n\u001b[1;32m    529\u001b[0m     \"\"\"\n\u001b[1;32m    530\u001b[0m     \u001b[0;32mif\u001b[0m \u001b[0mlen\u001b[0m\u001b[0;34m(\u001b[0m\u001b[0mdata\u001b[0m\u001b[0;34m)\u001b[0m \u001b[0;34m!=\u001b[0m \u001b[0mlen\u001b[0m\u001b[0;34m(\u001b[0m\u001b[0mindex\u001b[0m\u001b[0;34m)\u001b[0m\u001b[0;34m:\u001b[0m\u001b[0;34m\u001b[0m\u001b[0;34m\u001b[0m\u001b[0m\n\u001b[0;32m--> 531\u001b[0;31m         raise ValueError(\n\u001b[0m\u001b[1;32m    532\u001b[0m             \u001b[0;34m\"Length of values \"\u001b[0m\u001b[0;34m\u001b[0m\u001b[0;34m\u001b[0m\u001b[0m\n\u001b[1;32m    533\u001b[0m             \u001b[0;34mf\"({len(data)}) \"\u001b[0m\u001b[0;34m\u001b[0m\u001b[0;34m\u001b[0m\u001b[0m\n",
      "\u001b[0;31mValueError\u001b[0m: Length of values (2) does not match length of index (200)"
     ]
    }
   ],
   "source": [
    "from sklearn.cluster import KMeans\n",
    "\n",
    "# k means\n",
    "kmeans = KMeans(n_clusters=25, random_state=0)    # k = 25 clusters, number of violent crimes. each obs can only be mapped to 1\n",
    "crime['cluster'] = np.zeros(len(crime))\n",
    "crime['cluster'] = kmeans.fit_predict(crime[['crime_x', 'crime_y']])\n",
    "\n",
    "centroids = pd.DataFrame(kmeans.cluster_centers_)\n",
    "crime['cen_x'] = [centroids.iloc[i,0] for i in centroids] \n",
    "crime['cen_y'] = [centroids.iloc[i,1] for i in centroids]\n",
    "\n",
    "# add to df\n",
    "#crime['cen_x'] = crime.cluster.map({0:cen_x[0], 1:cen_x[1]})\n",
    "#crime['cen_y'] = crime.cluster.map({0:cen_y[0], 1:cen_y[1]})"
   ]
  },
  {
   "cell_type": "code",
   "execution_count": 204,
   "metadata": {},
   "outputs": [
    {
     "data": {
      "text/html": [
       "<div>\n",
       "<style scoped>\n",
       "    .dataframe tbody tr th:only-of-type {\n",
       "        vertical-align: middle;\n",
       "    }\n",
       "\n",
       "    .dataframe tbody tr th {\n",
       "        vertical-align: top;\n",
       "    }\n",
       "\n",
       "    .dataframe thead th {\n",
       "        text-align: right;\n",
       "    }\n",
       "</style>\n",
       "<table border=\"1\" class=\"dataframe\">\n",
       "  <thead>\n",
       "    <tr style=\"text-align: right;\">\n",
       "      <th></th>\n",
       "      <th>0</th>\n",
       "      <th>1</th>\n",
       "    </tr>\n",
       "  </thead>\n",
       "  <tbody>\n",
       "    <tr>\n",
       "      <th>0</th>\n",
       "      <td>1.228499</td>\n",
       "      <td>7.438955</td>\n",
       "    </tr>\n",
       "    <tr>\n",
       "      <th>1</th>\n",
       "      <td>2.815655</td>\n",
       "      <td>-4.988622</td>\n",
       "    </tr>\n",
       "  </tbody>\n",
       "</table>\n",
       "</div>"
      ],
      "text/plain": [
       "          0         1\n",
       "0  1.228499  7.438955\n",
       "1  2.815655 -4.988622"
      ]
     },
     "execution_count": 204,
     "metadata": {},
     "output_type": "execute_result"
    }
   ],
   "source": [
    "len(centroids)\n",
    "centroids.head(2)"
   ]
  },
  {
   "cell_type": "code",
   "execution_count": 200,
   "metadata": {},
   "outputs": [
    {
     "data": {
      "text/plain": [
       "0       5\n",
       "1       5\n",
       "2       6\n",
       "3      14\n",
       "4       9\n",
       "       ..\n",
       "195     2\n",
       "196     6\n",
       "197     7\n",
       "198     2\n",
       "199    18\n",
       "Name: cluster, Length: 200, dtype: int32"
      ]
     },
     "execution_count": 200,
     "metadata": {},
     "output_type": "execute_result"
    }
   ],
   "source": [
    "# assign centroids\n",
    "crime.cluster\n",
    "for row in crime.cluster:\n",
    "    crime['cen_x'] = centroids[row,0]\n",
    "    crime['cen_y']"
   ]
  },
  {
   "cell_type": "code",
   "execution_count": 194,
   "metadata": {},
   "outputs": [
    {
     "data": {
      "text/plain": [
       "[<matplotlib.lines.Line2D at 0x12dde7220>]"
      ]
     },
     "execution_count": 194,
     "metadata": {},
     "output_type": "execute_result"
    },
    {
     "data": {
      "image/png": "[encoded data removed]",
      "text/plain": [
       "<Figure size 432x288 with 1 Axes>"
      ]
     },
     "metadata": {
      "needs_background": "light"
     },
     "output_type": "display_data"
    }
   ],
   "source": [
    "centroids\n",
    "plt.plot(centroids[0], centroids[1], '*')\n",
    "plt.plot(vio.crime_x, vio.crime_y, '*g')"
   ]
  },
  {
   "cell_type": "code",
   "execution_count": 182,
   "metadata": {},
   "outputs": [
    {
     "data": {
      "text/plain": [
       "1.2284992701575645"
      ]
     },
     "execution_count": 182,
     "metadata": {},
     "output_type": "execute_result"
    }
   ],
   "source": [
    "centroids.iloc[0,0]\n"
   ]
  },
  {
   "cell_type": "code",
   "execution_count": 214,
   "metadata": {},
   "outputs": [
    {
     "ename": "KeyError",
     "evalue": "(29, 0)",
     "output_type": "error",
     "traceback": [
      "\u001b[0;31m---------------------------------------------------------------------------\u001b[0m",
      "\u001b[0;31mKeyError\u001b[0m                                  Traceback (most recent call last)",
      "\u001b[0;32m/var/folders/wq/t7rcncjj6s956tl_y8_y18080000gn/T/ipykernel_4131/4185213646.py\u001b[0m in \u001b[0;36m<module>\u001b[0;34m\u001b[0m\n\u001b[1;32m      1\u001b[0m \u001b[0mcrime\u001b[0m\u001b[0;34m\u001b[0m\u001b[0;34m\u001b[0m\u001b[0m\n\u001b[1;32m      2\u001b[0m \u001b[0mx\u001b[0m \u001b[0;34m=\u001b[0m \u001b[0mpd\u001b[0m\u001b[0;34m.\u001b[0m\u001b[0mDataFrame\u001b[0m\u001b[0;34m(\u001b[0m\u001b[0mkmeans\u001b[0m\u001b[0;34m.\u001b[0m\u001b[0mcluster_centers_\u001b[0m\u001b[0;34m)\u001b[0m\u001b[0;34m\u001b[0m\u001b[0;34m\u001b[0m\u001b[0m\n\u001b[0;32m----> 3\u001b[0;31m \u001b[0mx\u001b[0m \u001b[0;34m[\u001b[0m\u001b[0mi\u001b[0m\u001b[0;34m,\u001b[0m\u001b[0;36m0\u001b[0m\u001b[0;34m]\u001b[0m\u001b[0;34m\u001b[0m\u001b[0;34m\u001b[0m\u001b[0m\n\u001b[0m\u001b[1;32m      4\u001b[0m \u001b[0;34m\u001b[0m\u001b[0m\n\u001b[1;32m      5\u001b[0m \u001b[0my\u001b[0m \u001b[0;34m=\u001b[0m \u001b[0mkmeans\u001b[0m\u001b[0;34m.\u001b[0m\u001b[0mcluster_centers_\u001b[0m\u001b[0;34m\u001b[0m\u001b[0;34m\u001b[0m\u001b[0m\n",
      "\u001b[0;32m~/opt/anaconda3/lib/python3.9/site-packages/pandas/core/frame.py\u001b[0m in \u001b[0;36m__getitem__\u001b[0;34m(self, key)\u001b[0m\n\u001b[1;32m   3456\u001b[0m             \u001b[0;32mif\u001b[0m \u001b[0mself\u001b[0m\u001b[0;34m.\u001b[0m\u001b[0mcolumns\u001b[0m\u001b[0;34m.\u001b[0m\u001b[0mnlevels\u001b[0m \u001b[0;34m>\u001b[0m \u001b[0;36m1\u001b[0m\u001b[0;34m:\u001b[0m\u001b[0;34m\u001b[0m\u001b[0;34m\u001b[0m\u001b[0m\n\u001b[1;32m   3457\u001b[0m                 \u001b[0;32mreturn\u001b[0m \u001b[0mself\u001b[0m\u001b[0;34m.\u001b[0m\u001b[0m_getitem_multilevel\u001b[0m\u001b[0;34m(\u001b[0m\u001b[0mkey\u001b[0m\u001b[0;34m)\u001b[0m\u001b[0;34m\u001b[0m\u001b[0;34m\u001b[0m\u001b[0m\n\u001b[0;32m-> 3458\u001b[0;31m             \u001b[0mindexer\u001b[0m \u001b[0;34m=\u001b[0m \u001b[0mself\u001b[0m\u001b[0;34m.\u001b[0m\u001b[0mcolumns\u001b[0m\u001b[0;34m.\u001b[0m\u001b[0mget_loc\u001b[0m\u001b[0;34m(\u001b[0m\u001b[0mkey\u001b[0m\u001b[0;34m)\u001b[0m\u001b[0;34m\u001b[0m\u001b[0;34m\u001b[0m\u001b[0m\n\u001b[0m\u001b[1;32m   3459\u001b[0m             \u001b[0;32mif\u001b[0m \u001b[0mis_integer\u001b[0m\u001b[0;34m(\u001b[0m\u001b[0mindexer\u001b[0m\u001b[0;34m)\u001b[0m\u001b[0;34m:\u001b[0m\u001b[0;34m\u001b[0m\u001b[0;34m\u001b[0m\u001b[0m\n\u001b[1;32m   3460\u001b[0m                 \u001b[0mindexer\u001b[0m \u001b[0;34m=\u001b[0m \u001b[0;34m[\u001b[0m\u001b[0mindexer\u001b[0m\u001b[0;34m]\u001b[0m\u001b[0;34m\u001b[0m\u001b[0;34m\u001b[0m\u001b[0m\n",
      "\u001b[0;32m~/opt/anaconda3/lib/python3.9/site-packages/pandas/core/indexes/range.py\u001b[0m in \u001b[0;36mget_loc\u001b[0;34m(self, key, method, tolerance)\u001b[0m\n\u001b[1;32m    386\u001b[0m                 \u001b[0;32mexcept\u001b[0m \u001b[0mValueError\u001b[0m \u001b[0;32mas\u001b[0m \u001b[0merr\u001b[0m\u001b[0;34m:\u001b[0m\u001b[0;34m\u001b[0m\u001b[0;34m\u001b[0m\u001b[0m\n\u001b[1;32m    387\u001b[0m                     \u001b[0;32mraise\u001b[0m \u001b[0mKeyError\u001b[0m\u001b[0;34m(\u001b[0m\u001b[0mkey\u001b[0m\u001b[0;34m)\u001b[0m \u001b[0;32mfrom\u001b[0m \u001b[0merr\u001b[0m\u001b[0;34m\u001b[0m\u001b[0;34m\u001b[0m\u001b[0m\n\u001b[0;32m--> 388\u001b[0;31m             \u001b[0;32mraise\u001b[0m \u001b[0mKeyError\u001b[0m\u001b[0;34m(\u001b[0m\u001b[0mkey\u001b[0m\u001b[0;34m)\u001b[0m\u001b[0;34m\u001b[0m\u001b[0;34m\u001b[0m\u001b[0m\n\u001b[0m\u001b[1;32m    389\u001b[0m         \u001b[0;32mreturn\u001b[0m \u001b[0msuper\u001b[0m\u001b[0;34m(\u001b[0m\u001b[0;34m)\u001b[0m\u001b[0;34m.\u001b[0m\u001b[0mget_loc\u001b[0m\u001b[0;34m(\u001b[0m\u001b[0mkey\u001b[0m\u001b[0;34m,\u001b[0m \u001b[0mmethod\u001b[0m\u001b[0;34m=\u001b[0m\u001b[0mmethod\u001b[0m\u001b[0;34m,\u001b[0m \u001b[0mtolerance\u001b[0m\u001b[0;34m=\u001b[0m\u001b[0mtolerance\u001b[0m\u001b[0;34m)\u001b[0m\u001b[0;34m\u001b[0m\u001b[0;34m\u001b[0m\u001b[0m\n\u001b[1;32m    390\u001b[0m \u001b[0;34m\u001b[0m\u001b[0m\n",
      "\u001b[0;31mKeyError\u001b[0m: (29, 0)"
     ]
    }
   ],
   "source": [
    "crime\n",
    "x = pd.DataFrame(kmeans.cluster_centers_)\n",
    "x [i,0]\n",
    "\n",
    "y = kmeans.cluster_centers_\n",
    "y[0,0]\n",
    "y"
   ]
  },
  {
   "cell_type": "code",
   "execution_count": 147,
   "metadata": {},
   "outputs": [],
   "source": [
    "kmeans = KMeans(n_clusters=2, random_state=0).fit(centroids)\n",
    "## kmeans.labels_\n",
    "#array([1, 1, 1, 0, 0, 0], dtype=int32)\n",
    "## kmeans.predict([[0, 0], [12, 3]])\n",
    "#array([1, 0], dtype=int32)\n",
    "## kmeans.cluster_centers_\n",
    "#array([[10.,  2.],\n",
    "#       [ 1.,  2.]])"
   ]
  },
  {
   "cell_type": "code",
   "execution_count": 144,
   "metadata": {},
   "outputs": [
    {
     "data": {
      "text/plain": [
       "<matplotlib.collections.PathCollection at 0x12e0d0df0>"
      ]
     },
     "execution_count": 144,
     "metadata": {},
     "output_type": "execute_result"
    },
    {
     "data": {
      "image/png": "[encoded data removed]",
      "text/plain": [
       "<Figure size 432x288 with 1 Axes>"
      ]
     },
     "metadata": {
      "needs_background": "light"
     },
     "output_type": "display_data"
    }
   ],
   "source": [
    "plt.scatter(crime.crime_x, crime.crime_y)"
   ]
  },
  {
   "cell_type": "code",
   "execution_count": 14,
   "metadata": {},
   "outputs": [],
   "source": [
    "for row, month in crime.month.items():\n",
    "    if month == 1:\n",
    "        axes[0,0].plot(crime.iloc[row,2], crime.iloc[row,3], '*b')\n",
    "        axes[0,0].set_title('Jan')"
   ]
  },
  {
   "cell_type": "code",
   "execution_count": 15,
   "metadata": {},
   "outputs": [
    {
     "ename": "SyntaxError",
     "evalue": "invalid syntax (2217641722.py, line 14)",
     "output_type": "error",
     "traceback": [
      "\u001b[0;36m  File \u001b[0;32m\"/var/folders/wq/t7rcncjj6s956tl_y8_y18080000gn/T/ipykernel_4131/2217641722.py\"\u001b[0;36m, line \u001b[0;32m14\u001b[0m\n\u001b[0;31m    \"\"\"Computes the distances from every source point to every destination point.\u001b[0m\n\u001b[0m    ^\u001b[0m\n\u001b[0;31mSyntaxError\u001b[0m\u001b[0;31m:\u001b[0m invalid syntax\n"
     ]
    }
   ],
   "source": [
    "def compute_distances(src_x, src_y, dst_x, dst_y):\n",
    "    for row, vio in crime.violent.items():\n",
    "        if vio == 0:\n",
    "            distance = ((schools_x[0] - houses_x[i])**2 + \n",
    "                        (schools_y[0] - houses_y[i])**2)**0.5\n",
    "\n",
    "\n",
    "                    \n",
    "\n",
    "for row, vio in crime.violent.items():\n",
    "        if vio == 1:\n",
    "            np.sqrt(crime\n",
    "    \n",
    "    \"\"\"Computes the distances from every source point to every destination point.\n",
    "    \n",
    "    Args:\n",
    "        src_x, src_y (numpy.ndarray): the x and y coordinates for source points.\n",
    "            Denote the length of each array as dim_src.\n",
    "        dst_x, dst_y (numpy.ndarray): the x and y coordinates for destination points.\n",
    "            Denote the length of each array as dim_dst.\n",
    "        \n",
    "    Returns:\n",
    "        numpy.ndarray: a dim_src by dim_dst numpy array containing the distances.\n",
    "    \"\"\"\n",
    "    # TODO: COMPLETE THIS FUNCTION\n",
    "    pass\n",
    "\n",
    "\n",
    "# TODO: USING THE FUNCTION, ANSWER THE QUESTION HERE"
   ]
  },
  {
   "cell_type": "markdown",
   "metadata": {},
   "source": [
    "[TODO: ANSWER THE QUESTION HERE]"
   ]
  },
  {
   "cell_type": "markdown",
   "metadata": {},
   "source": [
    "## Introducing the `.` in Python\n",
    "### Namespace\n",
    "\n",
    "I think of name space as literally a \"name space\": we create a space for every name (variable names, class names, function names) that is defined in our current environment. Namespace is like a dictionary, a mapping between names and objects - it helps python understand what we mean when we type certain names. If we were to put all the names together in the global namespace (like R does) and make them easily accessible, we can potentially create chaos. What if popular keywords such as `filter`, are claimed by multiple packages (this is true in R)? How would R then know which function to call, and how would we know which function we are calling (we sometimes don't!). This can be very error prone.\n",
    "\n",
    "Python's approach to reducing overcrowding in these \"name spaces\" is to let each package have their own namespaces, and we can access their namespaces by using the dot notation, so `numpy.array()` means: the `array()` function in the `numpy` module. There can also be submodules (`numpy.random.random()` means the `random()` function in the `random` submodule in the `numpy` module). This leads to somewhat more verbose but much clearer and more predictable codes, which is particularly important for a multi-purpose language like Python (imagine how many packages would define their own `open()` function!)."
   ]
  },
  {
   "cell_type": "code",
   "execution_count": null,
   "metadata": {},
   "outputs": [],
   "source": [
    "# a really useful Jupyter Notebook magic command is %who\n",
    "# it will list all the names that are defined in the current environment\n",
    "%who\n",
    "# notice that the reserved keywords in core Python are not listed here"
   ]
  },
  {
   "cell_type": "code",
   "execution_count": null,
   "metadata": {},
   "outputs": [],
   "source": [
    "# the python command to do this is dir()\n",
    "dir()\n",
    "# you will notice that the outputs from here are messier\n",
    "# and many internal variables are exposed\n",
    "# because a lot is happening as Jupyter Notebook\n",
    "# hosts this very nice environment for you to work in\n",
    "# notice that the reserved keywords in core Python are not listed here\n",
    "# but you can see them with `dir(__builtins__)`\n",
    "# and they are still directly accessible to you"
   ]
  },
  {
   "cell_type": "code",
   "execution_count": null,
   "metadata": {},
   "outputs": [],
   "source": [
    "# I don't like df1 since it is a temporary variable\n",
    "# let's delete it\n",
    "del(df1)"
   ]
  },
  {
   "cell_type": "markdown",
   "metadata": {},
   "source": [
    "### Object Oriented Programming\n",
    "What is object oriented programming (OOP)? It is a paradigm where objects are at the center of the design of the language, not only representing the data, but in the overall structure of the program as well. It is often contrasted with functional programming, where functions are at the center.\n",
    "\n",
    "Python is an object oriented language, whereas some other languages, such as R and Matlab, are more functional (in the sense that most scripts that we see in R/Matlab are more functional). Both R and Matlab are growing in the OOP direction, though, and both support the OOP paradigm.\n",
    "\n",
    "In Python, there are many `class`es of `object`s. Each `class` has many `attribute`s and `method`s. An attribute is a \"field\" that stores data within the object, and a method is like a function, but defined solely on this particular class. A feature of objects is that an object's procedures can access and often modify the data fields of the object with which they are associated (objects have a notion of `self`), which essentially means, altering the persistent \"state\" of the object.\n",
    "\n",
    "For example, suppose we have a data frame `df` (assuming that `df` is an `instance` of the `class` `pandas.DataFrame`), and we want to sort the rows based on its values in a certain column `order`. In Python, we would do this\n",
    "\n",
    "```python\n",
    "df.sort_values(by='order', inplace=True)\n",
    "```\n",
    "\n",
    "The dot between `df` and `sort_values()` denotes that the latter is a method of the former. So this is essentially saying that we take the object `df`, and we change the data within that object by calling the method `sort_values()`. Notice that we did not pass `df` to `sort_values()` in an argument! So how did the function know what it is supposed to perform the operation on? It implicitly remembers its \"parent\" (there is a strong convention in Python to call its \"parent\", the object, `self`).\n",
    "\n",
    "This would normally not be done in functional programming languages, such as R. In R (tidyverse), we would do this\n",
    "\n",
    "```R\n",
    "df = dplyr::arrange(df, order)\n",
    "```\n",
    "\n",
    "Notice that we have to tell the function `arrange()` that we want it to perform sorting on `df`, the first argument that we passed into the function. This is sometimes called a \"pure\" function: it does not alter the input, create any \"side effects\" (do anything other than generating the output), and all it does is returning the output.\n",
    "\n",
    "This may seem like a subtle difference at first, but it profoundly impacts the way that codes are structured in these programming languages. As we spend more and more time working in Python, and as we approach problems that are more and more complicated, this will become more obvious.\n",
    "\n",
    "All the Python modules are written in an object oriented manner. For example, `pandas` has a couple of important classes: `pandas.Series` and `pandas.DataFrame`, each of these have many, many methods that you can take advantage of to organize and modify your data frames. Note that all modifications are by default not in place (a new object is returned and the original object is not modified) unless the user specified `inplace=True`.\n",
    "\n",
    "### Reading Documentation\n",
    "\n",
    "Now let's try to read the pandas [official documentation](https://pandas.pydata.org/pandas-docs/stable/reference/index.html).\n",
    "\n",
    "Browse the webpage and click on [general functions](https://pandas.pydata.org/pandas-docs/stable/reference/general_functions.html). These are the \"pure\" functions that pandas defined. You would call them like this: `pd.concat()`.\n",
    "\n",
    "Click on `concat()` and you will see this:\n",
    "\n",
    "```python\n",
    "pandas.concat(objs, axis=0, join='outer', join_axes=None, ignore_index=False, keys=None, levels=None, names=None, verify_integrity=False, sort=None, copy=True)\n",
    "```\n",
    "\n",
    "Lots of arguments! This is typical as pandas is a versatile package. The parameters without default values (`objs`) are the ones that you must pass arguments for (otherwise an error will be raised). If you want to override a default value, you can do that by passing that argument into the function, e.g., `pd.concat(df1, df2, axis=1)`. The documentation should explain what parameter does what.\n",
    "\n",
    "Now, browse the home webpage and click on [DataFrame](https://pandas.pydata.org/pandas-docs/stable/reference/frame.html), which is perhaps the most important class in pandas. Click on [Constructor](https://pandas.pydata.org/pandas-docs/stable/reference/api/pandas.DataFrame.html) - this explains how you could create a new `pandas.DataFrame` instance. Scroll down and you'll see that all the attributes and methods are listed. Attributes can be accessed through the dot notation (e.g., `df.columns` gives a list of column names). Methods can be called also using the dot notation (e.g, `df.describe()` describes the dataset). Click on any attribute or method to see the documentation of those, along with some examples.\n",
    "\n",
    "From now on, we will not be providing as many hints and explanations as before, as we will be assuming that you know how to find and read documentation."
   ]
  },
  {
   "cell_type": "markdown",
   "metadata": {},
   "source": [
    "## 2. Identifying Cholera Infection Hotspots\n",
    "The dataset `Lab3_cholera.p` contains the location of cholera cases during an outbreak (the sample was collected over one month). Your job is to identify cholera hotspots so that public health workers can figure out where the pathogens are coming from. To do this, you will have to estimate the intensity of cholera cases over the entire region (for values of x ranging from 1-10 and values of y ranging from -10 to +10).\n",
    "\n",
    "We will not use only the quadrat or kernel estimation techniques that we learned in class. Instead, we'll use a simple hybrid of the two. Imagine drawing a grid with lines at each integer value in x and at each integer value in y (this looks like a normal grid). We will go to each location $\\overrightarrow{\\underset{\\cdot}{c}}$ where these lines intersect and we will construct an estimate for the rate at which cholera cases arise (the infection rate) at that location $\\lambda(\\overrightarrow{\\underset{\\cdot}{c}})$ by using a kernel estimate.\n",
    "\n",
    "The kernel we'll use is sometimes called the \"uniform kernel\" because it assigns all observations uniform weight so long as they are within a certain cutoff distance $h$ (the cutoff distance is the bandwidth for this particular kernel). Imagine that we are standing at a point $\\overrightarrow{\\underset{\\cdot}{c}}$, a lattice point on our grid. We draw a circle of radius $h$ around our location. If any events occur within that circle, we count those events and assign them to our location $\\overrightarrow{\\underset{\\cdot}{c}}$ as an infection. However, because the infection rate $\\lambda(\\overrightarrow{\\underset{\\cdot}{c}})$ describes $\\frac{infections}{area}$, we must adjust this count for the area we are examining. In the case of this uniform kernel, the area we examine covers $\\pi \\times h^2$ with uniform weight, so we divide our infection count by this area to compute the rate of infection per unit area. We'll look for infection hotspots by plotting these infection rate estimates in a bubble plot, with larger bubbles depicting higher infection rates."
   ]
  },
  {
   "cell_type": "markdown",
   "metadata": {},
   "source": [
    "**2.1.**\n",
    "\n",
    "Begin by making sure that you understand the procedure. We will look at the set of points $\\overrightarrow{\\underset{\\cdot}{s}}=[x,y]$ where we use each pairwise combinations from the two sets\n",
    "$$x \\in \\{1,2,3,...,10\\}$$\n",
    "$$y \\in \\{-10,-9,-8,...,10\\}$$\n",
    "(Hint: you may want to draw this grid on scrap paper.) For each $\\overrightarrow{\\underset{\\cdot}{s}}$, we compute the Euclidean distance to the location of each cholera infection in the dataset. We then generate a new vector that is the weighted count of infections for $\\overrightarrow{\\underset{\\cdot}{s}}$, where the weights are determined by each infection site's distance from $\\overrightarrow{\\underset{\\cdot}{s}}$. The weights are determined by the kernel function, which in this case is the uniform kernel:\n",
    "\n",
    "$$\n",
    "\\kappa_{unif}\\left(\\frac{dist(\\overrightarrow{\\underset{\\cdot}{s}}, \\overrightarrow{\\underset{\\cdot}{s_{inf\\_site}}})}{h}\\right)=\\mathbf{1}\\left[ \\left(\\frac{dist(\\overrightarrow{\\underset{\\cdot}{s}}, \\overrightarrow{\\underset{\\cdot}{s_{inf\\_site}}})}{h}\\right) < 1 \\right] \\times \\frac{1}{\\pi}\n",
    "$$\n",
    "\n",
    "Where $dist(\\cdot)$ is the distance function, $\\overrightarrow{\\underset{\\cdot}{s}}_{inf\\_site}$ is the site of an infection event and $\\mathbf{1}[\\cdot]$ is the indicator function that is one if the statement in brackets is true. All this equation says is that an infection event is given a weight of one if its distance to the lattice point is less than $h$ (or equivalently that the distance divided by $h$ is less than one). The factor $\\frac{1}{\\pi}$ is just there to account for the circular structure of the area we are examining, as described above. (Hint: you may want to draw the shape of this kernel function on a sheet of scrap paper, where the horizontal axis is the distance from $\\overrightarrow{\\underset{\\cdot}{s}}$ and the vertical axis is $\\kappa$). Just like normal kernel estimation that we covered in class, we then estimate the infection rate at $\\overrightarrow{\\underset{\\cdot}{s}}$ by summing up these weighted values for all of the infection sites, which we index by $j$:\n",
    "$$\n",
    "\\hat{\\lambda}(\\overrightarrow{\\underset{\\cdot}{s}}) = \\sum_{j=1}^{N}\\left[ \\frac{1}{h^{2}}\\times \\kappa_{unif}\\left(\\frac{dist(\\overrightarrow{\\underset{\\cdot}{s}}, \\overrightarrow{\\underset{\\cdot}{s_{inf\\_site\\;j}}})}{h}\\right)\\right]\n",
    "$$\n",
    "which after subsitution and a little simplification looks less intimidating:\n",
    "$$\n",
    "\\hat{\\lambda}(\\overrightarrow{\\underset{\\cdot}{s}}) =\\frac{1}{\\pi h^{2}} \\times \\sum_{j=1}^{N} \\mathbf{1}\\left[ dist(\\overrightarrow{\\underset{\\cdot}{s}}, \\overrightarrow{\\underset{\\cdot}{s_{inf\\_site\\; j}}})< h \\right]\n",
    "$$\n",
    "The estimate for the infection rate at a location is just sum of several 1's and 0's, scaled by the area of a circle. The main challenge is to figure out which infection events to count as a 1 and which to count as a 0, which we do by measuring the distance to each event.\n",
    "\n",
    "Write a script that estimates $\\hat{\\lambda}(\\overrightarrow{\\underset{\\cdot}{s}})$ at each lattice point using the approach above. Some tips:\n",
    "\n",
    "* You should write your script so that the bandwidth variable `h` is defined once and only once, and you then just refer to this variable at subsequent points in the script (so you can easily change the bandwidth). In your first run, use `h=2`. This means we assign an infection to a lattice point if it's less than 2 units away.\n",
    "* In Python you can get the constant $\\pi$ by just typing `np.pi`. In your code, you can use `np.pi` as if it were a variable.\n",
    "* Use the function that you wrote for problem 1, and thank your past self for writing a generalizable function!\n",
    "* In order to use the function that you wrote, you need to change how you represent your lattice point coordinates. Think about what form of input the function takes in, and how to construct that input. You may need to use `numpy.meshgrid()` and `numpy.ndarray.flatten()`.\n",
    "* By default, logical and arithmetic operators in Python are executed on each element of a matrix/array, rather than on the entire matrix as a whole (matrix multiplication and exponentiation are also operations that Python performs, but you need to call other functions to do that). If you use these element-wise operations, Python returns a matrix that this the same size as the original. For example, if you type `a > 0`, python will check each element of `a` and give this element a value of `True` if it is positive and `False` otherwise. If `a` and `b` are vectors (`numpy.ndarray`) of the same size, then `a * b` means Python should multiply the first element in `a` by the first element in `b` and return this value into the first element of the new vector. It will then multiply the second element in `a` by the second element in `b`, and so on. If you type `a ** 2`, then each element in `a` is squared, rather than the entire matrix being matrix-multiplied against itself."
   ]
  },
  {
   "cell_type": "code",
   "execution_count": 16,
   "metadata": {},
   "outputs": [
    {
     "data": {
      "text/plain": [
       "[<matplotlib.lines.Line2D at 0x1234bb6d0>]"
      ]
     },
     "execution_count": 16,
     "metadata": {},
     "output_type": "execute_result"
    },
    {
     "data": {
      "image/png": "[encoded data removed]",
      "text/plain": [
       "<Figure size 432x288 with 1 Axes>"
      ]
     },
     "metadata": {
      "needs_background": "light"
     },
     "output_type": "display_data"
    }
   ],
   "source": [
    "# TODO: LOAD DATA, CONSTRUCT THE GRID, COMPUTE DISTANCES HERE\n",
    "ch = pd.read_pickle('Lab3_cholera.p')\n",
    "ch = pd.DataFrame(ch)\n",
    "ch\n",
    "\n",
    "x, y = np.meshgrid(range(1, 11), range(-10, 11))\n",
    "x, y = x.flatten(), y.flatten()\n",
    "\n",
    "plt.plot(ch.cholera_x, ch.cholera_y,'*c')\n",
    "plt.plot(x,y,'k+')"
   ]
  },
  {
   "cell_type": "code",
   "execution_count": 49,
   "metadata": {},
   "outputs": [],
   "source": [
    "def compute_distance(x0, y0, x1, y1):\n",
    "    dist = ((x0 - x1) ** 2 + (y0 - y1) ** 2) ** 0.5\n",
    "    return(dist)"
   ]
  },
  {
   "cell_type": "code",
   "execution_count": 50,
   "metadata": {},
   "outputs": [],
   "source": [
    "def lambda_function(x, y):    # calc the lambda from lattice point to observations\n",
    "    distance = [compute_distance(x, y, ch.cholera_x[i], ch.cholera_y[i]) for i in range(10) ]\n",
    "    distance = np.asarray(distance)\n",
    "    list_bools = distance < 2\n",
    "    lambda_est = (1/(np.pi * (2 ** 2))) * np.sum(list_bools)\n",
    "    return(lambda_est)"
   ]
  },
  {
   "cell_type": "code",
   "execution_count": 51,
   "metadata": {},
   "outputs": [
    {
     "data": {
      "text/plain": [
       "array([[0.        , 0.        , 0.        , 0.        , 0.        ,\n",
       "        0.        , 0.        , 0.        , 0.        , 0.        ,\n",
       "        0.        , 0.        , 0.        , 0.        , 0.        ,\n",
       "        0.        , 0.        , 0.        , 0.        , 0.        ],\n",
       "       [0.        , 0.        , 0.        , 0.        , 0.        ,\n",
       "        0.        , 0.        , 0.        , 0.        , 0.        ,\n",
       "        0.        , 0.        , 0.        , 0.        , 0.        ,\n",
       "        0.        , 0.        , 0.        , 0.        , 0.        ],\n",
       "       [0.07957747, 0.        , 0.        , 0.        , 0.        ,\n",
       "        0.        , 0.        , 0.        , 0.        , 0.        ,\n",
       "        0.        , 0.        , 0.        , 0.        , 0.        ,\n",
       "        0.        , 0.        , 0.        , 0.        , 0.        ],\n",
       "       [0.07957747, 0.        , 0.        , 0.        , 0.        ,\n",
       "        0.        , 0.        , 0.        , 0.        , 0.        ,\n",
       "        0.        , 0.        , 0.        , 0.        , 0.        ,\n",
       "        0.        , 0.        , 0.        , 0.        , 0.        ],\n",
       "       [0.23873241, 0.07957747, 0.07957747, 0.07957747, 0.07957747,\n",
       "        0.07957747, 0.07957747, 0.        , 0.        , 0.        ,\n",
       "        0.        , 0.        , 0.        , 0.        , 0.        ,\n",
       "        0.        , 0.        , 0.        , 0.        , 0.        ],\n",
       "       [0.15915494, 0.15915494, 0.07957747, 0.07957747, 0.07957747,\n",
       "        0.07957747, 0.07957747, 0.        , 0.        , 0.        ,\n",
       "        0.        , 0.        , 0.        , 0.        , 0.        ,\n",
       "        0.        , 0.        , 0.        , 0.        , 0.        ],\n",
       "       [0.15915494, 0.15915494, 0.15915494, 0.15915494, 0.15915494,\n",
       "        0.07957747, 0.15915494, 0.07957747, 0.        , 0.        ,\n",
       "        0.        , 0.        , 0.        , 0.        , 0.        ,\n",
       "        0.        , 0.        , 0.        , 0.        , 0.        ],\n",
       "       [0.23873241, 0.        , 0.07957747, 0.07957747, 0.15915494,\n",
       "        0.15915494, 0.07957747, 0.07957747, 0.15915494, 0.07957747,\n",
       "        0.07957747, 0.        , 0.        , 0.        , 0.        ,\n",
       "        0.        , 0.        , 0.        , 0.        , 0.        ],\n",
       "       [0.07957747, 0.        , 0.07957747, 0.07957747, 0.07957747,\n",
       "        0.07957747, 0.07957747, 0.07957747, 0.15915494, 0.07957747,\n",
       "        0.07957747, 0.07957747, 0.        , 0.        , 0.        ,\n",
       "        0.        , 0.        , 0.        , 0.        , 0.        ],\n",
       "       [0.07957747, 0.        , 0.        , 0.07957747, 0.        ,\n",
       "        0.        , 0.07957747, 0.07957747, 0.15915494, 0.07957747,\n",
       "        0.07957747, 0.07957747, 0.        , 0.        , 0.        ,\n",
       "        0.        , 0.        , 0.        , 0.        , 0.        ]])"
      ]
     },
     "execution_count": 51,
     "metadata": {},
     "output_type": "execute_result"
    }
   ],
   "source": [
    "mrx = np.zeros((10, 20))\n",
    "for i in range(10):\n",
    "    for j in range(20):\n",
    "        mrx[i, j] = lambda_function(i + 1, j + 1)     \n",
    "mrx"
   ]
  },
  {
   "cell_type": "markdown",
   "metadata": {},
   "source": [
    "$$\n",
    "\\hat{\\lambda}(\\overrightarrow{\\underset{\\cdot}{s}}) =\\frac{1}{\\pi h^{2}} \\times \\sum_{j=1}^{N} \\mathbf{1}\\left[ dist(\\overrightarrow{\\underset{\\cdot}{s}}, \\overrightarrow{\\underset{\\cdot}{s_{inf\\_site\\; j}}})< h \\right]\n",
    "$$\n",
    "\n",
    "Now we will compute the distance from each observation to all other observations, rather than the distance from a lattice point to all other observations. (That is why you see $j \\neq i $).Note that the K-function is a 'function' of h, the radius parameter."
   ]
  },
  {
   "cell_type": "code",
   "execution_count": 72,
   "metadata": {},
   "outputs": [
    {
     "name": "stdout",
     "output_type": "stream",
     "text": [
      "10 100\n",
      "11 110\n",
      "12 120\n"
     ]
    },
    {
     "data": {
      "text/html": [
       "<div>\n",
       "<style scoped>\n",
       "    .dataframe tbody tr th:only-of-type {\n",
       "        vertical-align: middle;\n",
       "    }\n",
       "\n",
       "    .dataframe tbody tr th {\n",
       "        vertical-align: top;\n",
       "    }\n",
       "\n",
       "    .dataframe thead th {\n",
       "        text-align: right;\n",
       "    }\n",
       "</style>\n",
       "<table border=\"1\" class=\"dataframe\">\n",
       "  <thead>\n",
       "    <tr style=\"text-align: right;\">\n",
       "      <th></th>\n",
       "      <th>cholera_x</th>\n",
       "      <th>cholera_y</th>\n",
       "    </tr>\n",
       "  </thead>\n",
       "  <tbody>\n",
       "    <tr>\n",
       "      <th>0</th>\n",
       "      <td>6.688217</td>\n",
       "      <td>0.363243</td>\n",
       "    </tr>\n",
       "    <tr>\n",
       "      <th>1</th>\n",
       "      <td>4.498754</td>\n",
       "      <td>-4.692313</td>\n",
       "    </tr>\n",
       "    <tr>\n",
       "      <th>2</th>\n",
       "      <td>8.010573</td>\n",
       "      <td>4.097698</td>\n",
       "    </tr>\n",
       "    <tr>\n",
       "      <th>3</th>\n",
       "      <td>6.104897</td>\n",
       "      <td>1.350635</td>\n",
       "    </tr>\n",
       "    <tr>\n",
       "      <th>4</th>\n",
       "      <td>4.237294</td>\n",
       "      <td>-0.563315</td>\n",
       "    </tr>\n",
       "    <tr>\n",
       "      <th>5</th>\n",
       "      <td>4.626301</td>\n",
       "      <td>-1.804172</td>\n",
       "    </tr>\n",
       "    <tr>\n",
       "      <th>6</th>\n",
       "      <td>9.376972</td>\n",
       "      <td>10.286034</td>\n",
       "    </tr>\n",
       "    <tr>\n",
       "      <th>7</th>\n",
       "      <td>9.126372</td>\n",
       "      <td>-0.518592</td>\n",
       "    </tr>\n",
       "    <tr>\n",
       "      <th>8</th>\n",
       "      <td>6.055992</td>\n",
       "      <td>5.329449</td>\n",
       "    </tr>\n",
       "    <tr>\n",
       "      <th>9</th>\n",
       "      <td>8.794103</td>\n",
       "      <td>7.684525</td>\n",
       "    </tr>\n",
       "    <tr>\n",
       "      <th>10</th>\n",
       "      <td>3.230826</td>\n",
       "      <td>1.009970</td>\n",
       "    </tr>\n",
       "    <tr>\n",
       "      <th>11</th>\n",
       "      <td>7.720065</td>\n",
       "      <td>-0.290174</td>\n",
       "    </tr>\n",
       "    <tr>\n",
       "      <th>12</th>\n",
       "      <td>3.519856</td>\n",
       "      <td>-1.937993</td>\n",
       "    </tr>\n",
       "    <tr>\n",
       "      <th>13</th>\n",
       "      <td>3.118011</td>\n",
       "      <td>0.128817</td>\n",
       "    </tr>\n",
       "    <tr>\n",
       "      <th>14</th>\n",
       "      <td>8.092633</td>\n",
       "      <td>6.641320</td>\n",
       "    </tr>\n",
       "    <tr>\n",
       "      <th>15</th>\n",
       "      <td>5.248930</td>\n",
       "      <td>-2.093197</td>\n",
       "    </tr>\n",
       "    <tr>\n",
       "      <th>16</th>\n",
       "      <td>3.636155</td>\n",
       "      <td>-0.565995</td>\n",
       "    </tr>\n",
       "    <tr>\n",
       "      <th>17</th>\n",
       "      <td>6.390979</td>\n",
       "      <td>-0.884527</td>\n",
       "    </tr>\n",
       "    <tr>\n",
       "      <th>18</th>\n",
       "      <td>1.940163</td>\n",
       "      <td>3.049580</td>\n",
       "    </tr>\n",
       "    <tr>\n",
       "      <th>19</th>\n",
       "      <td>7.317664</td>\n",
       "      <td>-0.657305</td>\n",
       "    </tr>\n",
       "    <tr>\n",
       "      <th>20</th>\n",
       "      <td>2.628733</td>\n",
       "      <td>1.003194</td>\n",
       "    </tr>\n",
       "    <tr>\n",
       "      <th>21</th>\n",
       "      <td>2.381207</td>\n",
       "      <td>3.613251</td>\n",
       "    </tr>\n",
       "    <tr>\n",
       "      <th>22</th>\n",
       "      <td>5.223553</td>\n",
       "      <td>-1.384200</td>\n",
       "    </tr>\n",
       "    <tr>\n",
       "      <th>23</th>\n",
       "      <td>8.094660</td>\n",
       "      <td>-4.607215</td>\n",
       "    </tr>\n",
       "    <tr>\n",
       "      <th>24</th>\n",
       "      <td>4.230917</td>\n",
       "      <td>-1.441186</td>\n",
       "    </tr>\n",
       "    <tr>\n",
       "      <th>25</th>\n",
       "      <td>6.271259</td>\n",
       "      <td>-1.851074</td>\n",
       "    </tr>\n",
       "    <tr>\n",
       "      <th>26</th>\n",
       "      <td>1.801542</td>\n",
       "      <td>2.795403</td>\n",
       "    </tr>\n",
       "    <tr>\n",
       "      <th>27</th>\n",
       "      <td>6.574928</td>\n",
       "      <td>5.264816</td>\n",
       "    </tr>\n",
       "    <tr>\n",
       "      <th>28</th>\n",
       "      <td>2.968447</td>\n",
       "      <td>2.260126</td>\n",
       "    </tr>\n",
       "    <tr>\n",
       "      <th>29</th>\n",
       "      <td>9.892512</td>\n",
       "      <td>-6.817861</td>\n",
       "    </tr>\n",
       "  </tbody>\n",
       "</table>\n",
       "</div>"
      ],
      "text/plain": [
       "    cholera_x  cholera_y\n",
       "0    6.688217   0.363243\n",
       "1    4.498754  -4.692313\n",
       "2    8.010573   4.097698\n",
       "3    6.104897   1.350635\n",
       "4    4.237294  -0.563315\n",
       "5    4.626301  -1.804172\n",
       "6    9.376972  10.286034\n",
       "7    9.126372  -0.518592\n",
       "8    6.055992   5.329449\n",
       "9    8.794103   7.684525\n",
       "10   3.230826   1.009970\n",
       "11   7.720065  -0.290174\n",
       "12   3.519856  -1.937993\n",
       "13   3.118011   0.128817\n",
       "14   8.092633   6.641320\n",
       "15   5.248930  -2.093197\n",
       "16   3.636155  -0.565995\n",
       "17   6.390979  -0.884527\n",
       "18   1.940163   3.049580\n",
       "19   7.317664  -0.657305\n",
       "20   2.628733   1.003194\n",
       "21   2.381207   3.613251\n",
       "22   5.223553  -1.384200\n",
       "23   8.094660  -4.607215\n",
       "24   4.230917  -1.441186\n",
       "25   6.271259  -1.851074\n",
       "26   1.801542   2.795403\n",
       "27   6.574928   5.264816\n",
       "28   2.968447   2.260126\n",
       "29   9.892512  -6.817861"
      ]
     },
     "execution_count": 72,
     "metadata": {},
     "output_type": "execute_result"
    }
   ],
   "source": [
    "df = pd.DataFrame({'c1': [10, 11, 12], 'c2': [100, 110, 120]})\n",
    "df = df.reset_index()  # make sure indexes pair with number of rows\n",
    "\n",
    "for index, row in df.iterrows():\n",
    "    print(row['c1'], row['c2'])\n",
    "\n",
    "ch"
   ]
  },
  {
   "cell_type": "code",
   "execution_count": 79,
   "metadata": {},
   "outputs": [
    {
     "name": "stdout",
     "output_type": "stream",
     "text": [
      "0.36324290945961846\n",
      "-4.692312691857573\n",
      "4.097697809159184\n",
      "1.350634651097812\n",
      "-0.5633151862224319\n",
      "-1.8041723374966867\n",
      "10.286033577391121\n",
      "-0.5185917477721513\n",
      "5.3294488834946465\n",
      "7.684525340266635\n",
      "1.0099697494367943\n",
      "-0.29017350378325935\n",
      "-1.937993311301006\n",
      "0.12881674897580672\n",
      "6.641319902010743\n",
      "-2.0931968244092856\n",
      "-0.5659954021106361\n",
      "-0.8845269333719048\n",
      "3.0495804915936215\n",
      "-0.6573045284333707\n",
      "1.0031944344114025\n",
      "3.613251323029232\n",
      "-1.384200201633595\n",
      "-4.607215383182897\n",
      "-1.441185754436884\n",
      "-1.8510741442667196\n",
      "2.795402806928476\n",
      "5.264816452090782\n",
      "2.26012647467836\n",
      "-6.817860554498401\n"
     ]
    },
    {
     "ename": "AttributeError",
     "evalue": "'numpy.float64' object has no attribute 'iloc'",
     "output_type": "error",
     "traceback": [
      "\u001b[0;31m---------------------------------------------------------------------------\u001b[0m",
      "\u001b[0;31mAttributeError\u001b[0m                            Traceback (most recent call last)",
      "\u001b[0;32m/var/folders/wq/t7rcncjj6s956tl_y8_y18080000gn/T/ipykernel_4131/400684444.py\u001b[0m in \u001b[0;36m<module>\u001b[0;34m\u001b[0m\n\u001b[1;32m      1\u001b[0m \u001b[0;32mfor\u001b[0m \u001b[0mrow\u001b[0m\u001b[0;34m,\u001b[0m \u001b[0mcol\u001b[0m \u001b[0;32min\u001b[0m \u001b[0mch\u001b[0m\u001b[0;34m.\u001b[0m\u001b[0miterrows\u001b[0m\u001b[0;34m(\u001b[0m\u001b[0;34m)\u001b[0m\u001b[0;34m:\u001b[0m\u001b[0;34m\u001b[0m\u001b[0;34m\u001b[0m\u001b[0m\n\u001b[1;32m      2\u001b[0m     \u001b[0mprint\u001b[0m\u001b[0;34m(\u001b[0m\u001b[0mcol\u001b[0m\u001b[0;34m[\u001b[0m\u001b[0;34m'cholera_y'\u001b[0m\u001b[0;34m]\u001b[0m\u001b[0;34m)\u001b[0m\u001b[0;34m\u001b[0m\u001b[0;34m\u001b[0m\u001b[0m\n\u001b[0;32m----> 3\u001b[0;31m \u001b[0mcol\u001b[0m\u001b[0;34m[\u001b[0m\u001b[0;34m'cholera_y'\u001b[0m\u001b[0;34m]\u001b[0m\u001b[0;34m.\u001b[0m\u001b[0miloc\u001b[0m\u001b[0;34m[\u001b[0m\u001b[0;36m1\u001b[0m\u001b[0;34m]\u001b[0m\u001b[0;34m\u001b[0m\u001b[0;34m\u001b[0m\u001b[0m\n\u001b[0m",
      "\u001b[0;31mAttributeError\u001b[0m: 'numpy.float64' object has no attribute 'iloc'"
     ]
    }
   ],
   "source": [
    "for row, col in ch.iterrows():\n",
    "    print(col['cholera_y'])\n",
    "col['cholera_y'].iloc[1]"
   ]
  },
  {
   "cell_type": "code",
   "execution_count": 70,
   "metadata": {},
   "outputs": [
    {
     "name": "stdout",
     "output_type": "stream",
     "text": [
      "6.688217437065518\n",
      "4.498753871943377\n",
      "8.010572789047314\n",
      "6.104896728694161\n",
      "4.237293884883748\n",
      "4.6263006241933455\n",
      "9.376972036700037\n",
      "9.126372357263\n",
      "6.055991602840258\n",
      "8.794102732664902\n",
      "3.2308259297201825\n",
      "7.720065265320368\n",
      "3.5198561071544674\n",
      "3.1180106307126865\n",
      "8.09263258444663\n",
      "5.248929784256045\n",
      "3.636155403988565\n",
      "6.390978997248732\n",
      "1.9401631711147893\n",
      "7.317664166852738\n",
      "2.628732905988377\n",
      "2.38120673839304\n",
      "5.2235525710125685\n",
      "8.094659825265381\n",
      "4.230916947949569\n",
      "6.271259356636298\n",
      "1.8015424250956136\n",
      "6.574927945068152\n",
      "2.968447476229974\n",
      "9.892511508494874\n"
     ]
    }
   ],
   "source": [
    "for row, col in ch.iterrows():\n",
    "    print(col['cholera_x'])"
   ]
  },
  {
   "cell_type": "code",
   "execution_count": 39,
   "metadata": {},
   "outputs": [
    {
     "data": {
      "text/html": [
       "<div>\n",
       "<style scoped>\n",
       "    .dataframe tbody tr th:only-of-type {\n",
       "        vertical-align: middle;\n",
       "    }\n",
       "\n",
       "    .dataframe tbody tr th {\n",
       "        vertical-align: top;\n",
       "    }\n",
       "\n",
       "    .dataframe thead th {\n",
       "        text-align: right;\n",
       "    }\n",
       "</style>\n",
       "<table border=\"1\" class=\"dataframe\">\n",
       "  <thead>\n",
       "    <tr style=\"text-align: right;\">\n",
       "      <th></th>\n",
       "      <th>cholera_x</th>\n",
       "      <th>cholera_y</th>\n",
       "    </tr>\n",
       "  </thead>\n",
       "  <tbody>\n",
       "    <tr>\n",
       "      <th>0</th>\n",
       "      <td>6.688217</td>\n",
       "      <td>0.363243</td>\n",
       "    </tr>\n",
       "    <tr>\n",
       "      <th>1</th>\n",
       "      <td>4.498754</td>\n",
       "      <td>-4.692313</td>\n",
       "    </tr>\n",
       "    <tr>\n",
       "      <th>2</th>\n",
       "      <td>8.010573</td>\n",
       "      <td>4.097698</td>\n",
       "    </tr>\n",
       "  </tbody>\n",
       "</table>\n",
       "</div>"
      ],
      "text/plain": [
       "   cholera_x  cholera_y\n",
       "0   6.688217   0.363243\n",
       "1   4.498754  -4.692313\n",
       "2   8.010573   4.097698"
      ]
     },
     "execution_count": 39,
     "metadata": {},
     "output_type": "execute_result"
    }
   ],
   "source": [
    "ch.head(3)\n",
    "\n",
    "for i in range(10):\n",
    "    for j in range(20):\n",
    "        mrx[i, j] = lambda_function(i + 1, j + 1) "
   ]
  },
  {
   "cell_type": "code",
   "execution_count": 47,
   "metadata": {},
   "outputs": [
    {
     "name": "stdout",
     "output_type": "stream",
     "text": [
      "0     6.688217\n",
      "1     4.498754\n",
      "2     8.010573\n",
      "3     6.104897\n",
      "4     4.237294\n",
      "5     4.626301\n",
      "6     9.376972\n",
      "7     9.126372\n",
      "8     6.055992\n",
      "9     8.794103\n",
      "10    3.230826\n",
      "11    7.720065\n",
      "12    3.519856\n",
      "13    3.118011\n",
      "14    8.092633\n",
      "15    5.248930\n",
      "16    3.636155\n",
      "17    6.390979\n",
      "18    1.940163\n",
      "19    7.317664\n",
      "20    2.628733\n",
      "21    2.381207\n",
      "22    5.223553\n",
      "23    8.094660\n",
      "24    4.230917\n",
      "25    6.271259\n",
      "26    1.801542\n",
      "27    6.574928\n",
      "28    2.968447\n",
      "29    9.892512\n",
      "Name: cholera_x, dtype: float64\n",
      "0      0.363243\n",
      "1     -4.692313\n",
      "2      4.097698\n",
      "3      1.350635\n",
      "4     -0.563315\n",
      "5     -1.804172\n",
      "6     10.286034\n",
      "7     -0.518592\n",
      "8      5.329449\n",
      "9      7.684525\n",
      "10     1.009970\n",
      "11    -0.290174\n",
      "12    -1.937993\n",
      "13     0.128817\n",
      "14     6.641320\n",
      "15    -2.093197\n",
      "16    -0.565995\n",
      "17    -0.884527\n",
      "18     3.049580\n",
      "19    -0.657305\n",
      "20     1.003194\n",
      "21     3.613251\n",
      "22    -1.384200\n",
      "23    -4.607215\n",
      "24    -1.441186\n",
      "25    -1.851074\n",
      "26     2.795403\n",
      "27     5.264816\n",
      "28     2.260126\n",
      "29    -6.817861\n",
      "Name: cholera_y, dtype: float64\n"
     ]
    }
   ],
   "source": [
    "for key, val in ch.iteritems():\n",
    "    print(val)"
   ]
  },
  {
   "cell_type": "code",
   "execution_count": 32,
   "metadata": {},
   "outputs": [
    {
     "name": "stdout",
     "output_type": "stream",
     "text": [
      "HIIIIII\n",
      "0\n",
      "cholera_x    6.688217\n",
      "cholera_y    0.363243\n",
      "Name: 0, dtype: float64\n",
      "-------\n",
      "HIIIIII\n",
      "1\n",
      "cholera_x    4.498754\n",
      "cholera_y   -4.692313\n",
      "Name: 1, dtype: float64\n",
      "-------\n",
      "HIIIIII\n",
      "2\n",
      "cholera_x    8.010573\n",
      "cholera_y    4.097698\n",
      "Name: 2, dtype: float64\n",
      "-------\n",
      "HIIIIII\n",
      "3\n",
      "cholera_x    6.104897\n",
      "cholera_y    1.350635\n",
      "Name: 3, dtype: float64\n",
      "-------\n",
      "HIIIIII\n",
      "4\n",
      "cholera_x    4.237294\n",
      "cholera_y   -0.563315\n",
      "Name: 4, dtype: float64\n",
      "-------\n",
      "HIIIIII\n",
      "5\n",
      "cholera_x    4.626301\n",
      "cholera_y   -1.804172\n",
      "Name: 5, dtype: float64\n",
      "-------\n",
      "HIIIIII\n",
      "6\n",
      "cholera_x     9.376972\n",
      "cholera_y    10.286034\n",
      "Name: 6, dtype: float64\n",
      "-------\n",
      "HIIIIII\n",
      "7\n",
      "cholera_x    9.126372\n",
      "cholera_y   -0.518592\n",
      "Name: 7, dtype: float64\n",
      "-------\n",
      "HIIIIII\n",
      "8\n",
      "cholera_x    6.055992\n",
      "cholera_y    5.329449\n",
      "Name: 8, dtype: float64\n",
      "-------\n",
      "HIIIIII\n",
      "9\n",
      "cholera_x    8.794103\n",
      "cholera_y    7.684525\n",
      "Name: 9, dtype: float64\n",
      "-------\n",
      "HIIIIII\n",
      "10\n",
      "cholera_x    3.230826\n",
      "cholera_y    1.009970\n",
      "Name: 10, dtype: float64\n",
      "-------\n",
      "HIIIIII\n",
      "11\n",
      "cholera_x    7.720065\n",
      "cholera_y   -0.290174\n",
      "Name: 11, dtype: float64\n",
      "-------\n",
      "HIIIIII\n",
      "12\n",
      "cholera_x    3.519856\n",
      "cholera_y   -1.937993\n",
      "Name: 12, dtype: float64\n",
      "-------\n",
      "HIIIIII\n",
      "13\n",
      "cholera_x    3.118011\n",
      "cholera_y    0.128817\n",
      "Name: 13, dtype: float64\n",
      "-------\n",
      "HIIIIII\n",
      "14\n",
      "cholera_x    8.092633\n",
      "cholera_y    6.641320\n",
      "Name: 14, dtype: float64\n",
      "-------\n",
      "HIIIIII\n",
      "15\n",
      "cholera_x    5.248930\n",
      "cholera_y   -2.093197\n",
      "Name: 15, dtype: float64\n",
      "-------\n",
      "HIIIIII\n",
      "16\n",
      "cholera_x    3.636155\n",
      "cholera_y   -0.565995\n",
      "Name: 16, dtype: float64\n",
      "-------\n",
      "HIIIIII\n",
      "17\n",
      "cholera_x    6.390979\n",
      "cholera_y   -0.884527\n",
      "Name: 17, dtype: float64\n",
      "-------\n",
      "HIIIIII\n",
      "18\n",
      "cholera_x    1.940163\n",
      "cholera_y    3.049580\n",
      "Name: 18, dtype: float64\n",
      "-------\n",
      "HIIIIII\n",
      "19\n",
      "cholera_x    7.317664\n",
      "cholera_y   -0.657305\n",
      "Name: 19, dtype: float64\n",
      "-------\n",
      "HIIIIII\n",
      "20\n",
      "cholera_x    2.628733\n",
      "cholera_y    1.003194\n",
      "Name: 20, dtype: float64\n",
      "-------\n",
      "HIIIIII\n",
      "21\n",
      "cholera_x    2.381207\n",
      "cholera_y    3.613251\n",
      "Name: 21, dtype: float64\n",
      "-------\n",
      "HIIIIII\n",
      "22\n",
      "cholera_x    5.223553\n",
      "cholera_y   -1.384200\n",
      "Name: 22, dtype: float64\n",
      "-------\n",
      "HIIIIII\n",
      "23\n",
      "cholera_x    8.094660\n",
      "cholera_y   -4.607215\n",
      "Name: 23, dtype: float64\n",
      "-------\n",
      "HIIIIII\n",
      "24\n",
      "cholera_x    4.230917\n",
      "cholera_y   -1.441186\n",
      "Name: 24, dtype: float64\n",
      "-------\n",
      "HIIIIII\n",
      "25\n",
      "cholera_x    6.271259\n",
      "cholera_y   -1.851074\n",
      "Name: 25, dtype: float64\n",
      "-------\n",
      "HIIIIII\n",
      "26\n",
      "cholera_x    1.801542\n",
      "cholera_y    2.795403\n",
      "Name: 26, dtype: float64\n",
      "-------\n",
      "HIIIIII\n",
      "27\n",
      "cholera_x    6.574928\n",
      "cholera_y    5.264816\n",
      "Name: 27, dtype: float64\n",
      "-------\n",
      "HIIIIII\n",
      "28\n",
      "cholera_x    2.968447\n",
      "cholera_y    2.260126\n",
      "Name: 28, dtype: float64\n",
      "-------\n",
      "HIIIIII\n",
      "29\n",
      "cholera_x    9.892512\n",
      "cholera_y   -6.817861\n",
      "Name: 29, dtype: float64\n",
      "-------\n"
     ]
    }
   ],
   "source": [
    "compute_distance(ch.iloc[1,0], ch.iloc[2,0], ch.iloc[1,1], ch.iloc[2,1])\n",
    "\n",
    "for i,j in ch.iterrows():\n",
    "    print(\"HIIIIII\")\n",
    "    print(i)\n",
    "    print(j)\n",
    "    print(\"-------\")\n",
    "#    compute_distance(ch.iloc[i,0], ch.iloc[(i+1),0], ch.iloc[j,1], ch[(j+1),1])"
   ]
  },
  {
   "cell_type": "code",
   "execution_count": null,
   "metadata": {},
   "outputs": [],
   "source": [
    "# h = 2\n",
    "def foo():\n",
    "    for i in range(0,20):\n",
    "        for j in range(0,10):\n",
    "            if compute_distance(ch.iloc[i,0], ch.iloc[i+1,0], ch.iloc[j,1], ch[j+1,1]) < 2:\n",
    "                return 1\n",
    "foo()      \n",
    "#             print('k')\n",
    "#         else:\n",
    "#             pass"
   ]
  },
  {
   "cell_type": "code",
   "execution_count": null,
   "metadata": {},
   "outputs": [],
   "source": []
  },
  {
   "cell_type": "code",
   "execution_count": null,
   "metadata": {},
   "outputs": [],
   "source": [
    "ch.head(3)"
   ]
  },
  {
   "cell_type": "code",
   "execution_count": null,
   "metadata": {},
   "outputs": [],
   "source": [
    "ch.iloc[1,1]"
   ]
  },
  {
   "cell_type": "code",
   "execution_count": null,
   "metadata": {},
   "outputs": [],
   "source": [
    "# define bandwidth\n",
    "h = 2\n",
    "# TODO: CALCULATE YOUR lambdas HERE"
   ]
  },
  {
   "cell_type": "markdown",
   "metadata": {},
   "source": [
    "**2.2.**\n",
    "\n",
    "**2.2.1.**\n",
    "\n",
    "Once you have computed the infection rate at a lattice point, plot it in the bubble plot map. If a lattice point has a non-zero infection rate, plot a red dot. We want to make the dot larger where there are more infections, so we tell Python to set the marker size property to be proportional to `lambas`. Adjust the aesthetics of the graph to make it readable. Hint: use `plt.scatter()` and take advantage of the `s` (size) parameter.\n",
    "\n",
    "**2.2.2.**\n",
    "Overlay the locations of the actual infection events using a different marker (that doesn't change size). Do you think this approach identifies the spatial distribution of infection risk well?"
   ]
  },
  {
   "cell_type": "code",
   "execution_count": null,
   "metadata": {},
   "outputs": [],
   "source": [
    "# TODO: PLOT YOUR MAP HERE"
   ]
  },
  {
   "cell_type": "markdown",
   "metadata": {},
   "source": [
    "[TODO: ANSWER THE QUESTION HERE]"
   ]
  },
  {
   "cell_type": "markdown",
   "metadata": {},
   "source": [
    "**2.3.**\n",
    "\n",
    "**Rerun your code, but change the bandwidth to `h=1`. Rerun it again but use `h=3`. Turn in both of these maps. How do your three estimates for infection rates compare? Why? What is the advantage or disadvantage of using a larger bandwidth? Do the different bandwidths identify the same infection hotspots?**"
   ]
  },
  {
   "cell_type": "code",
   "execution_count": null,
   "metadata": {},
   "outputs": [],
   "source": [
    "# TODO: PLOT YOUR MAP FOR h=1 HERE\n",
    "h = 1"
   ]
  },
  {
   "cell_type": "code",
   "execution_count": null,
   "metadata": {},
   "outputs": [],
   "source": [
    "# TODO: PLOT YOUR MAP FOR h=3 HERE\n",
    "h = 3"
   ]
  },
  {
   "cell_type": "markdown",
   "metadata": {},
   "source": [
    "[TODO: ANSWER THE QUESTION HERE]"
   ]
  },
  {
   "cell_type": "markdown",
   "metadata": {},
   "source": [
    "## 3. Let's Go Fishing: Simulating Poisson Clustering\n",
    "Here you will generate synthetic data that will simulate a Poisson point process (PPP). You'll then compute the K-function for several of your simulations to evaluate the clustering of data in a Poisson point process."
   ]
  },
  {
   "cell_type": "markdown",
   "metadata": {},
   "source": [
    "**3.1.**\n",
    "\n",
    "Consider the space $0<x<10$ and $0<y<10$. This space has an area of 100. Suppose we have a homogenous PPP that generates 120 events on average over this area. What is $\\lambda$? What does this number mean?"
   ]
  },
  {
   "cell_type": "code",
   "execution_count": null,
   "metadata": {},
   "outputs": [],
   "source": [
    "# [TODO: Answer the question here]"
   ]
  },
  {
   "cell_type": "markdown",
   "metadata": {},
   "source": [
    "**3.2. Let's simulate this PPP.**\n",
    "\n",
    "**3.2.1.**\n",
    "\n",
    "Since the total number of events $z$ must follow a Poisson distribution, draw a random number from this distribution. Since the expected number of events is 120, draw the random variable $z$ using the function `np.random.poisson(lam=120)`."
   ]
  },
  {
   "cell_type": "markdown",
   "metadata": {},
   "source": [
    "**3.2.2.**\n",
    "\n",
    "The location of these z events are completely random over the area we are considering, so we can draw their x and y locations from a uniform distribution that goes from zero to ten. Since x and y are uncorrelated, draw these random variables (actually vectors) separately with the function `np.random.random`. We now have the locations of observations for a single simulated realization of our PPP. Plot the observations from this realization."
   ]
  },
  {
   "cell_type": "markdown",
   "metadata": {},
   "source": [
    "**3.2.3.**\n",
    "\n",
    "Repeat this process 3 times. Each time you will draw a new value for z, x and y. How do they compare to one another? Are you surprised?\n",
    "\n",
    "Hint: to repeat this process 3 times, you will want to write a for loop with `range(3)`, some would write `for i in range(3):` but we don't actually need to store `i` because we don't need to keep track of the number of simulations already run. Python has a very nice feature called throwaway variable `_`, and you could write `for _ in range(3):` so that the `_` variable is thrown away. This is not only memory efficient but also syntactically clear. The readers of these codes will know \"oh, you are not planning to do anything with this variable\"."
   ]
  },
  {
   "cell_type": "code",
   "execution_count": null,
   "metadata": {},
   "outputs": [],
   "source": [
    "# TODO: WRITE YOUR CODES HERE"
   ]
  },
  {
   "cell_type": "markdown",
   "metadata": {},
   "source": [
    "[TODO: ANSWER THE QUESTION HERE]"
   ]
  },
  {
   "cell_type": "markdown",
   "metadata": {},
   "source": [
    "**3.3.**\n",
    "\n",
    "Write a script to compute the K-function for one of these realizations (or a new one). The procedure you will use is closely related to the calculations you did in the cholera example above, although there are some important differences.\n",
    "\n",
    "* One difference is that you will be computing the distance from each observation to all other observations, rather than the distance from a lattice point to all other observations. The formula is as below\n",
    "$$\\hat{K}(h) = \\frac{1}{z\\lambda}(\\sum_{i=1}^z \\sum_{j \\neq i} \\mathbf{1}\\{D(\\overrightarrow{\\underset{\\cdot}{s_i}}, \\overrightarrow{\\underset{\\cdot}{s_j}}) < h\\})$$\n",
    "* Another difference is that you will average your results over all points (why there is a double summation instead of just one) and output a graph of $K(h)$. Your final results is not a map but a function $K$ defined over distances $h$.\n",
    "* For more on computing the K-function, see Lloyd 7.4.2.\n",
    "\n",
    "Compute $K(h)$ for the integer values of $h=\\{1,2,3...,7\\}$. You don't need to try and compute every value in between. You can plot the K-function as a line using `plt.plot(h, K, '-')` (this interpolates for you). Overlay on this figure a plot of ${\\pi \\times h^2}$ using a different color (recall that this is the expected K-function for a PPP). How do they compare and why?\n",
    "\n",
    "Notes: What we've done in the above blocks is copy-pasting lots of codes. Copy-pasting code is in general a bad practice and is strongly discouraged: (1) What if you want to change something about your codes (e.g., you realized later on that there is a bug somewhere)? You would need to fix it multiple times. (2) What if someone else (most likely your future self) wants to read your codes and understand what you were doing? They would then have to read the same block of codes over and over again (and wonder about whether there are small changes made to each copy).\n",
    "\n",
    "What is encouraged, then, is to write functions. Functions keep your codes organized, easy to maintain, and recycleable. In earlier labs we will be nudging you to write functions by writing the docstrings for you, and in later labs we expect that you will be writing functions on your own."
   ]
  },
  {
   "cell_type": "code",
   "execution_count": null,
   "metadata": {},
   "outputs": [],
   "source": [
    "def K(h, new=True, z=None, x=None, y=None):\n",
    "    \"\"\"Calculates the K function for different bandwidths.\n",
    "    \n",
    "    Args:\n",
    "        h (numpy.ndarray): an array of bandwidths.\n",
    "        new (bool): whether a new simulation should be carried out.\n",
    "            if False, x, y, z arguments need to be supplied.\n",
    "        x, y (numpy.ndarray): arrays containing x, y coordinates of the events.\n",
    "        z (int): number of events in a realization of the simulation\n",
    "    \n",
    "    Returns:\n",
    "        numpy.ndarray: a array of K(h), of the same length as h.\n",
    "    \"\"\"\n",
    "    # these bool inputs (flags) control the behavior of the function\n",
    "    # allowing you to write functions that, for example,\n",
    "    # take different kinds of input\n",
    "    if new:\n",
    "        # TODO: WRITE CODES HERE TO COMPLETE THE SECTION\n",
    "        pass\n",
    "    # TODO: COMPLETE THIS FUNCTION\n",
    "\n",
    "\n",
    "# TODO: USING THE FUNCTION, ANSWER THE QUESTION HERE"
   ]
  },
  {
   "cell_type": "markdown",
   "metadata": {},
   "source": [
    "[TODO: ANSWER THE QUESTION HERE]"
   ]
  },
  {
   "cell_type": "markdown",
   "metadata": {},
   "source": [
    "**3.4.**\n",
    "\n",
    "**3.4.1.**\n",
    "\n",
    "Now expand your script to simulate the PPP fifty times and calculate the K-function each time. Don't bother storing the $x$ and $y$ values to each simulation, just store the values of $K(h)$. Plot all 50 estimates for $K(h)$ on a single plot using a single color. Again, overlay on this figure a plot of $\\pi \\times h^2$ using a different color. **How do they compare and why?**"
   ]
  },
  {
   "cell_type": "markdown",
   "metadata": {},
   "source": [
    "**3.4.2.**\n",
    "\n",
    "The dataset `Lab3_poisson_test_data.p` contains location data from a different point process. We want to test if it is more or less clustered than a PPP. Compute the K-function for this dataset at the same values for $h$. Plot this K-function overlaid with your earlier plot of 50 K-functions from the simulated PPP (using a third color). **Does the testing data look more, less or similarly clustered to the PPP data?** Plot a map of the testing data to check whether your interpretation makes intuitive sense or not."
   ]
  },
  {
   "cell_type": "code",
   "execution_count": null,
   "metadata": {},
   "outputs": [],
   "source": [
    "# TODO: WRITE YOUR CODES HERE"
   ]
  },
  {
   "cell_type": "code",
   "execution_count": null,
   "metadata": {},
   "outputs": [],
   "source": [
    "# TODO: PLOT TEST DATA HERE"
   ]
  },
  {
   "cell_type": "markdown",
   "metadata": {},
   "source": [
    "[TODO: ANSWER THE QUESTIONS HERE]"
   ]
  },
  {
   "cell_type": "markdown",
   "metadata": {},
   "source": [
    "## Congratulations!\n",
    "You've finished this lab!\n",
    "\n",
    "* **Please list everyone you worked on this assignment with outside of public Piazza discussions.**"
   ]
  }
 ],
 "metadata": {
  "kernelspec": {
   "display_name": "Python 3 (ipykernel)",
   "language": "python",
   "name": "python3"
  },
  "language_info": {
   "codemirror_mode": {
    "name": "ipython",
    "version": 3
   },
   "file_extension": ".py",
   "mimetype": "text/x-python",
   "name": "python",
   "nbconvert_exporter": "python",
   "pygments_lexer": "ipython3",
   "version": "3.9.7"
  }
 },
 "nbformat": 4,
 "nbformat_minor": 4
}
