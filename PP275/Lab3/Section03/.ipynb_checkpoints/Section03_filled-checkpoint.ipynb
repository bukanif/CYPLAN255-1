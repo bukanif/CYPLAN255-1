{
 "cells": [
  {
   "cell_type": "markdown",
   "metadata": {
    "tags": []
   },
   "source": [
    "# Section 3: `pandas`, `pickles`, and Lambda functions\n",
    "\n",
    "GSIs: Simon Greenhill & Hikari Murayama\n",
    "\n",
    "Fall 2022\n",
    "\n",
    "<font size='1'> *Notebook originally created by Jaecheol Lee"
   ]
  },
  {
   "cell_type": "markdown",
   "metadata": {},
   "source": [
    "### Plan for Today\n",
    "\n",
    "1. `pandas`\n",
    "2. `pickles`\n",
    "3. $\\lambda$ calculation\n",
    "$$\n",
    "\\hat{\\lambda}(\\overrightarrow{\\underset{\\cdot}{s}}) =\\frac{1}{\\pi h^{2}} \\times \\sum_{j=1}^{N} \\mathbf{1}\\left[ dist(\\overrightarrow{\\underset{\\cdot}{s}}, \\overrightarrow{\\underset{\\cdot}{s_{inf\\_site\\; j}}})< h \\right]\n",
    "$$\n",
    "4. K function\n",
    "$$\\hat{K}(h) = \\frac{1}{z\\lambda}(\\sum_{i=1}^z \\sum_{j \\neq i} \\mathbf{1}\\{D(\\overrightarrow{\\underset{\\cdot}{s_i}}, \\overrightarrow{\\underset{\\cdot}{s_j}}) < h\\})$$"
   ]
  },
  {
   "cell_type": "markdown",
   "metadata": {},
   "source": [
    "## Import Packages"
   ]
  },
  {
   "cell_type": "code",
   "execution_count": 1,
   "metadata": {},
   "outputs": [],
   "source": [
    "import pickle\n",
    "import numpy as np\n",
    "import pandas as pd\n",
    "import matplotlib.pyplot as plt\n",
    "%matplotlib inline"
   ]
  },
  {
   "cell_type": "markdown",
   "metadata": {},
   "source": [
    "## 1. `pandas`"
   ]
  },
  {
   "cell_type": "markdown",
   "metadata": {
    "tags": []
   },
   "source": [
    "### We will introduce pandas. Why pandas?\n",
    "1. The most native and powerful Python library to handle real-world tabular data (as in an Excel spreadsheet).\n",
    "\n",
    "\n",
    "2. Efficiency: Many of the low-level algorithms have been extensively optimized. Handles large data frames.\n",
    "\n",
    "\n",
    "3. Mostly intuitive syntax, despite being a bit clunky at times.\n"
   ]
  },
  {
   "cell_type": "markdown",
   "metadata": {},
   "source": [
    "### 1-1. Loading and Inspecing Data"
   ]
  },
  {
   "cell_type": "code",
   "execution_count": 2,
   "metadata": {},
   "outputs": [
    {
     "data": {
      "text/plain": [
       "pandas.core.frame.DataFrame"
      ]
     },
     "execution_count": 2,
     "metadata": {},
     "output_type": "execute_result"
    }
   ],
   "source": [
    "# When you load crime.csv in the same \n",
    "df = pd.read_csv('crime.csv')\n",
    "type(df)"
   ]
  },
  {
   "cell_type": "code",
   "execution_count": 3,
   "metadata": {},
   "outputs": [
    {
     "data": {
      "text/html": [
       "<div>\n",
       "<style scoped>\n",
       "    .dataframe tbody tr th:only-of-type {\n",
       "        vertical-align: middle;\n",
       "    }\n",
       "\n",
       "    .dataframe tbody tr th {\n",
       "        vertical-align: top;\n",
       "    }\n",
       "\n",
       "    .dataframe thead th {\n",
       "        text-align: right;\n",
       "    }\n",
       "</style>\n",
       "<table border=\"1\" class=\"dataframe\">\n",
       "  <thead>\n",
       "    <tr style=\"text-align: right;\">\n",
       "      <th></th>\n",
       "      <th>sepal_length</th>\n",
       "      <th>sepal_width</th>\n",
       "      <th>petal_length</th>\n",
       "      <th>petal_width</th>\n",
       "      <th>species</th>\n",
       "    </tr>\n",
       "  </thead>\n",
       "  <tbody>\n",
       "    <tr>\n",
       "      <th>0</th>\n",
       "      <td>5.1</td>\n",
       "      <td>3.5</td>\n",
       "      <td>1.4</td>\n",
       "      <td>0.2</td>\n",
       "      <td>setosa</td>\n",
       "    </tr>\n",
       "    <tr>\n",
       "      <th>1</th>\n",
       "      <td>4.9</td>\n",
       "      <td>3.0</td>\n",
       "      <td>1.4</td>\n",
       "      <td>0.2</td>\n",
       "      <td>setosa</td>\n",
       "    </tr>\n",
       "    <tr>\n",
       "      <th>2</th>\n",
       "      <td>4.7</td>\n",
       "      <td>3.2</td>\n",
       "      <td>1.3</td>\n",
       "      <td>0.2</td>\n",
       "      <td>setosa</td>\n",
       "    </tr>\n",
       "    <tr>\n",
       "      <th>3</th>\n",
       "      <td>4.6</td>\n",
       "      <td>3.1</td>\n",
       "      <td>1.5</td>\n",
       "      <td>0.2</td>\n",
       "      <td>setosa</td>\n",
       "    </tr>\n",
       "    <tr>\n",
       "      <th>4</th>\n",
       "      <td>5.0</td>\n",
       "      <td>3.6</td>\n",
       "      <td>1.4</td>\n",
       "      <td>0.2</td>\n",
       "      <td>setosa</td>\n",
       "    </tr>\n",
       "    <tr>\n",
       "      <th>...</th>\n",
       "      <td>...</td>\n",
       "      <td>...</td>\n",
       "      <td>...</td>\n",
       "      <td>...</td>\n",
       "      <td>...</td>\n",
       "    </tr>\n",
       "    <tr>\n",
       "      <th>145</th>\n",
       "      <td>6.7</td>\n",
       "      <td>3.0</td>\n",
       "      <td>5.2</td>\n",
       "      <td>2.3</td>\n",
       "      <td>virginica</td>\n",
       "    </tr>\n",
       "    <tr>\n",
       "      <th>146</th>\n",
       "      <td>6.3</td>\n",
       "      <td>2.5</td>\n",
       "      <td>5.0</td>\n",
       "      <td>1.9</td>\n",
       "      <td>virginica</td>\n",
       "    </tr>\n",
       "    <tr>\n",
       "      <th>147</th>\n",
       "      <td>6.5</td>\n",
       "      <td>3.0</td>\n",
       "      <td>5.2</td>\n",
       "      <td>2.0</td>\n",
       "      <td>virginica</td>\n",
       "    </tr>\n",
       "    <tr>\n",
       "      <th>148</th>\n",
       "      <td>6.2</td>\n",
       "      <td>3.4</td>\n",
       "      <td>5.4</td>\n",
       "      <td>2.3</td>\n",
       "      <td>virginica</td>\n",
       "    </tr>\n",
       "    <tr>\n",
       "      <th>149</th>\n",
       "      <td>5.9</td>\n",
       "      <td>3.0</td>\n",
       "      <td>5.1</td>\n",
       "      <td>1.8</td>\n",
       "      <td>virginica</td>\n",
       "    </tr>\n",
       "  </tbody>\n",
       "</table>\n",
       "<p>150 rows × 5 columns</p>\n",
       "</div>"
      ],
      "text/plain": [
       "     sepal_length  sepal_width  petal_length  petal_width    species\n",
       "0             5.1          3.5           1.4          0.2     setosa\n",
       "1             4.9          3.0           1.4          0.2     setosa\n",
       "2             4.7          3.2           1.3          0.2     setosa\n",
       "3             4.6          3.1           1.5          0.2     setosa\n",
       "4             5.0          3.6           1.4          0.2     setosa\n",
       "..            ...          ...           ...          ...        ...\n",
       "145           6.7          3.0           5.2          2.3  virginica\n",
       "146           6.3          2.5           5.0          1.9  virginica\n",
       "147           6.5          3.0           5.2          2.0  virginica\n",
       "148           6.2          3.4           5.4          2.3  virginica\n",
       "149           5.9          3.0           5.1          1.8  virginica\n",
       "\n",
       "[150 rows x 5 columns]"
      ]
     },
     "execution_count": 3,
     "metadata": {},
     "output_type": "execute_result"
    }
   ],
   "source": [
    "# We can also import web files\n",
    "# iris.csv from https://github.com/mwaskom/seaborn-data/\n",
    "# Note that the url below is a bit different\n",
    "iris = pd.read_csv('https://raw.githubusercontent.com/mwaskom/seaborn-data/master/iris.csv')\n",
    "type(iris)\n",
    "iris"
   ]
  },
  {
   "cell_type": "code",
   "execution_count": 4,
   "metadata": {
    "scrolled": true
   },
   "outputs": [
    {
     "data": {
      "text/html": [
       "<div>\n",
       "<style scoped>\n",
       "    .dataframe tbody tr th:only-of-type {\n",
       "        vertical-align: middle;\n",
       "    }\n",
       "\n",
       "    .dataframe tbody tr th {\n",
       "        vertical-align: top;\n",
       "    }\n",
       "\n",
       "    .dataframe thead th {\n",
       "        text-align: right;\n",
       "    }\n",
       "</style>\n",
       "<table border=\"1\" class=\"dataframe\">\n",
       "  <thead>\n",
       "    <tr style=\"text-align: right;\">\n",
       "      <th></th>\n",
       "      <th>incident_id</th>\n",
       "      <th>type</th>\n",
       "      <th>lat</th>\n",
       "      <th>lon</th>\n",
       "    </tr>\n",
       "  </thead>\n",
       "  <tbody>\n",
       "    <tr>\n",
       "      <th>0</th>\n",
       "      <td>2020-00049667</td>\n",
       "      <td>ROBBERY</td>\n",
       "      <td>37.865137</td>\n",
       "      <td>-122.260614</td>\n",
       "    </tr>\n",
       "    <tr>\n",
       "      <th>1</th>\n",
       "      <td>2020-00049522</td>\n",
       "      <td>ASSAULT</td>\n",
       "      <td>37.867621</td>\n",
       "      <td>-122.260844</td>\n",
       "    </tr>\n",
       "    <tr>\n",
       "      <th>2</th>\n",
       "      <td>2020-00049500</td>\n",
       "      <td>BURGLARY AUTO</td>\n",
       "      <td>37.869658</td>\n",
       "      <td>-122.267919</td>\n",
       "    </tr>\n",
       "    <tr>\n",
       "      <th>3</th>\n",
       "      <td>2020-00049505</td>\n",
       "      <td>ROBBERY</td>\n",
       "      <td>37.874252</td>\n",
       "      <td>-122.267559</td>\n",
       "    </tr>\n",
       "    <tr>\n",
       "      <th>4</th>\n",
       "      <td>2020-00049352</td>\n",
       "      <td>THEFT</td>\n",
       "      <td>NaN</td>\n",
       "      <td>NaN</td>\n",
       "    </tr>\n",
       "  </tbody>\n",
       "</table>\n",
       "</div>"
      ],
      "text/plain": [
       "     incident_id           type        lat         lon\n",
       "0  2020-00049667        ROBBERY  37.865137 -122.260614\n",
       "1  2020-00049522        ASSAULT  37.867621 -122.260844\n",
       "2  2020-00049500  BURGLARY AUTO  37.869658 -122.267919\n",
       "3  2020-00049505        ROBBERY  37.874252 -122.267559\n",
       "4  2020-00049352          THEFT        NaN         NaN"
      ]
     },
     "execution_count": 4,
     "metadata": {},
     "output_type": "execute_result"
    }
   ],
   "source": [
    "# Let's see the data\n",
    "df "
   ]
  },
  {
   "cell_type": "code",
   "execution_count": 5,
   "metadata": {},
   "outputs": [
    {
     "data": {
      "text/plain": [
       "Index(['incident_id', 'type', 'lat', 'lon'], dtype='object')"
      ]
     },
     "execution_count": 5,
     "metadata": {},
     "output_type": "execute_result"
    }
   ],
   "source": [
    "# Check the column names using .columns method\n",
    "df.columns"
   ]
  },
  {
   "cell_type": "code",
   "execution_count": 6,
   "metadata": {},
   "outputs": [
    {
     "data": {
      "text/plain": [
       "(5, 4)"
      ]
     },
     "execution_count": 6,
     "metadata": {},
     "output_type": "execute_result"
    }
   ],
   "source": [
    "# What is the dimension (rows #, columns #) of df? \n",
    "df.shape"
   ]
  },
  {
   "cell_type": "code",
   "execution_count": 7,
   "metadata": {
    "scrolled": true
   },
   "outputs": [
    {
     "data": {
      "text/html": [
       "<div>\n",
       "<style scoped>\n",
       "    .dataframe tbody tr th:only-of-type {\n",
       "        vertical-align: middle;\n",
       "    }\n",
       "\n",
       "    .dataframe tbody tr th {\n",
       "        vertical-align: top;\n",
       "    }\n",
       "\n",
       "    .dataframe thead th {\n",
       "        text-align: right;\n",
       "    }\n",
       "</style>\n",
       "<table border=\"1\" class=\"dataframe\">\n",
       "  <thead>\n",
       "    <tr style=\"text-align: right;\">\n",
       "      <th></th>\n",
       "      <th>lat</th>\n",
       "      <th>lon</th>\n",
       "    </tr>\n",
       "  </thead>\n",
       "  <tbody>\n",
       "    <tr>\n",
       "      <th>count</th>\n",
       "      <td>4.000000</td>\n",
       "      <td>4.000000</td>\n",
       "    </tr>\n",
       "    <tr>\n",
       "      <th>mean</th>\n",
       "      <td>37.869167</td>\n",
       "      <td>-122.264234</td>\n",
       "    </tr>\n",
       "    <tr>\n",
       "      <th>std</th>\n",
       "      <td>0.003861</td>\n",
       "      <td>0.004051</td>\n",
       "    </tr>\n",
       "    <tr>\n",
       "      <th>min</th>\n",
       "      <td>37.865137</td>\n",
       "      <td>-122.267919</td>\n",
       "    </tr>\n",
       "    <tr>\n",
       "      <th>25%</th>\n",
       "      <td>37.867000</td>\n",
       "      <td>-122.267649</td>\n",
       "    </tr>\n",
       "    <tr>\n",
       "      <th>50%</th>\n",
       "      <td>37.868640</td>\n",
       "      <td>-122.264202</td>\n",
       "    </tr>\n",
       "    <tr>\n",
       "      <th>75%</th>\n",
       "      <td>37.870807</td>\n",
       "      <td>-122.260787</td>\n",
       "    </tr>\n",
       "    <tr>\n",
       "      <th>max</th>\n",
       "      <td>37.874252</td>\n",
       "      <td>-122.260614</td>\n",
       "    </tr>\n",
       "  </tbody>\n",
       "</table>\n",
       "</div>"
      ],
      "text/plain": [
       "             lat         lon\n",
       "count   4.000000    4.000000\n",
       "mean   37.869167 -122.264234\n",
       "std     0.003861    0.004051\n",
       "min    37.865137 -122.267919\n",
       "25%    37.867000 -122.267649\n",
       "50%    37.868640 -122.264202\n",
       "75%    37.870807 -122.260787\n",
       "max    37.874252 -122.260614"
      ]
     },
     "execution_count": 7,
     "metadata": {},
     "output_type": "execute_result"
    }
   ],
   "source": [
    "# Summarize statistics of a pandas.dataframe using .describe method\n",
    "df.describe()"
   ]
  },
  {
   "cell_type": "code",
   "execution_count": 8,
   "metadata": {},
   "outputs": [
    {
     "data": {
      "text/html": [
       "<div>\n",
       "<style scoped>\n",
       "    .dataframe tbody tr th:only-of-type {\n",
       "        vertical-align: middle;\n",
       "    }\n",
       "\n",
       "    .dataframe tbody tr th {\n",
       "        vertical-align: top;\n",
       "    }\n",
       "\n",
       "    .dataframe thead th {\n",
       "        text-align: right;\n",
       "    }\n",
       "</style>\n",
       "<table border=\"1\" class=\"dataframe\">\n",
       "  <thead>\n",
       "    <tr style=\"text-align: right;\">\n",
       "      <th></th>\n",
       "      <th>incident_id</th>\n",
       "      <th>type</th>\n",
       "      <th>lat</th>\n",
       "      <th>lon</th>\n",
       "      <th>year</th>\n",
       "    </tr>\n",
       "  </thead>\n",
       "  <tbody>\n",
       "    <tr>\n",
       "      <th>0</th>\n",
       "      <td>2020-00049667</td>\n",
       "      <td>ROBBERY</td>\n",
       "      <td>37.865137</td>\n",
       "      <td>-122.260614</td>\n",
       "      <td>2020</td>\n",
       "    </tr>\n",
       "    <tr>\n",
       "      <th>1</th>\n",
       "      <td>2020-00049522</td>\n",
       "      <td>ASSAULT</td>\n",
       "      <td>37.867621</td>\n",
       "      <td>-122.260844</td>\n",
       "      <td>2020</td>\n",
       "    </tr>\n",
       "    <tr>\n",
       "      <th>2</th>\n",
       "      <td>2020-00049500</td>\n",
       "      <td>BURGLARY AUTO</td>\n",
       "      <td>37.869658</td>\n",
       "      <td>-122.267919</td>\n",
       "      <td>2020</td>\n",
       "    </tr>\n",
       "    <tr>\n",
       "      <th>3</th>\n",
       "      <td>2020-00049505</td>\n",
       "      <td>ROBBERY</td>\n",
       "      <td>37.874252</td>\n",
       "      <td>-122.267559</td>\n",
       "      <td>2020</td>\n",
       "    </tr>\n",
       "    <tr>\n",
       "      <th>4</th>\n",
       "      <td>2020-00049352</td>\n",
       "      <td>THEFT</td>\n",
       "      <td>NaN</td>\n",
       "      <td>NaN</td>\n",
       "      <td>2020</td>\n",
       "    </tr>\n",
       "  </tbody>\n",
       "</table>\n",
       "</div>"
      ],
      "text/plain": [
       "     incident_id           type        lat         lon  year\n",
       "0  2020-00049667        ROBBERY  37.865137 -122.260614  2020\n",
       "1  2020-00049522        ASSAULT  37.867621 -122.260844  2020\n",
       "2  2020-00049500  BURGLARY AUTO  37.869658 -122.267919  2020\n",
       "3  2020-00049505        ROBBERY  37.874252 -122.267559  2020\n",
       "4  2020-00049352          THEFT        NaN         NaN  2020"
      ]
     },
     "execution_count": 8,
     "metadata": {},
     "output_type": "execute_result"
    }
   ],
   "source": [
    "# Say I want to add a new year column\n",
    "# We can now add it to our dataframe as a new column\n",
    "df['year'] = [2020,2020,2020,2020,2020]\n",
    "df"
   ]
  },
  {
   "cell_type": "code",
   "execution_count": 9,
   "metadata": {},
   "outputs": [
    {
     "data": {
      "text/html": [
       "<div>\n",
       "<style scoped>\n",
       "    .dataframe tbody tr th:only-of-type {\n",
       "        vertical-align: middle;\n",
       "    }\n",
       "\n",
       "    .dataframe tbody tr th {\n",
       "        vertical-align: top;\n",
       "    }\n",
       "\n",
       "    .dataframe thead th {\n",
       "        text-align: right;\n",
       "    }\n",
       "</style>\n",
       "<table border=\"1\" class=\"dataframe\">\n",
       "  <thead>\n",
       "    <tr style=\"text-align: right;\">\n",
       "      <th></th>\n",
       "      <th>incident_id</th>\n",
       "      <th>type</th>\n",
       "      <th>lat</th>\n",
       "      <th>lon</th>\n",
       "    </tr>\n",
       "  </thead>\n",
       "  <tbody>\n",
       "    <tr>\n",
       "      <th>0</th>\n",
       "      <td>2020-00049667</td>\n",
       "      <td>ROBBERY</td>\n",
       "      <td>37.865137</td>\n",
       "      <td>-122.260614</td>\n",
       "    </tr>\n",
       "    <tr>\n",
       "      <th>1</th>\n",
       "      <td>2020-00049522</td>\n",
       "      <td>ASSAULT</td>\n",
       "      <td>37.867621</td>\n",
       "      <td>-122.260844</td>\n",
       "    </tr>\n",
       "    <tr>\n",
       "      <th>2</th>\n",
       "      <td>2020-00049500</td>\n",
       "      <td>BURGLARY AUTO</td>\n",
       "      <td>37.869658</td>\n",
       "      <td>-122.267919</td>\n",
       "    </tr>\n",
       "    <tr>\n",
       "      <th>3</th>\n",
       "      <td>2020-00049505</td>\n",
       "      <td>ROBBERY</td>\n",
       "      <td>37.874252</td>\n",
       "      <td>-122.267559</td>\n",
       "    </tr>\n",
       "    <tr>\n",
       "      <th>4</th>\n",
       "      <td>2020-00049352</td>\n",
       "      <td>THEFT</td>\n",
       "      <td>NaN</td>\n",
       "      <td>NaN</td>\n",
       "    </tr>\n",
       "  </tbody>\n",
       "</table>\n",
       "</div>"
      ],
      "text/plain": [
       "     incident_id           type        lat         lon\n",
       "0  2020-00049667        ROBBERY  37.865137 -122.260614\n",
       "1  2020-00049522        ASSAULT  37.867621 -122.260844\n",
       "2  2020-00049500  BURGLARY AUTO  37.869658 -122.267919\n",
       "3  2020-00049505        ROBBERY  37.874252 -122.267559\n",
       "4  2020-00049352          THEFT        NaN         NaN"
      ]
     },
     "execution_count": 9,
     "metadata": {},
     "output_type": "execute_result"
    }
   ],
   "source": [
    "# We can drop a column\n",
    "# axis 1: is column (axis =0 would be a row)\n",
    "# inplace = True is needed for assignment\n",
    "df.drop(['year'], axis = 1, inplace = True)\n",
    "df"
   ]
  },
  {
   "cell_type": "code",
   "execution_count": 10,
   "metadata": {},
   "outputs": [
    {
     "data": {
      "text/html": [
       "<div>\n",
       "<style scoped>\n",
       "    .dataframe tbody tr th:only-of-type {\n",
       "        vertical-align: middle;\n",
       "    }\n",
       "\n",
       "    .dataframe tbody tr th {\n",
       "        vertical-align: top;\n",
       "    }\n",
       "\n",
       "    .dataframe thead th {\n",
       "        text-align: right;\n",
       "    }\n",
       "</style>\n",
       "<table border=\"1\" class=\"dataframe\">\n",
       "  <thead>\n",
       "    <tr style=\"text-align: right;\">\n",
       "      <th></th>\n",
       "      <th>incident_id</th>\n",
       "      <th>type</th>\n",
       "      <th>lat</th>\n",
       "      <th>lon</th>\n",
       "    </tr>\n",
       "  </thead>\n",
       "  <tbody>\n",
       "    <tr>\n",
       "      <th>1</th>\n",
       "      <td>2020-00049522</td>\n",
       "      <td>ASSAULT</td>\n",
       "      <td>37.867621</td>\n",
       "      <td>-122.260844</td>\n",
       "    </tr>\n",
       "    <tr>\n",
       "      <th>2</th>\n",
       "      <td>2020-00049500</td>\n",
       "      <td>BURGLARY AUTO</td>\n",
       "      <td>37.869658</td>\n",
       "      <td>-122.267919</td>\n",
       "    </tr>\n",
       "    <tr>\n",
       "      <th>3</th>\n",
       "      <td>2020-00049505</td>\n",
       "      <td>ROBBERY</td>\n",
       "      <td>37.874252</td>\n",
       "      <td>-122.267559</td>\n",
       "    </tr>\n",
       "    <tr>\n",
       "      <th>4</th>\n",
       "      <td>2020-00049352</td>\n",
       "      <td>THEFT</td>\n",
       "      <td>NaN</td>\n",
       "      <td>NaN</td>\n",
       "    </tr>\n",
       "  </tbody>\n",
       "</table>\n",
       "</div>"
      ],
      "text/plain": [
       "     incident_id           type        lat         lon\n",
       "1  2020-00049522        ASSAULT  37.867621 -122.260844\n",
       "2  2020-00049500  BURGLARY AUTO  37.869658 -122.267919\n",
       "3  2020-00049505        ROBBERY  37.874252 -122.267559\n",
       "4  2020-00049352          THEFT        NaN         NaN"
      ]
     },
     "execution_count": 10,
     "metadata": {},
     "output_type": "execute_result"
    }
   ],
   "source": [
    "# Now let's drop the first row\n",
    "df.drop([0], axis = 0, inplace = True)\n",
    "df"
   ]
  },
  {
   "cell_type": "code",
   "execution_count": 11,
   "metadata": {},
   "outputs": [
    {
     "data": {
      "text/html": [
       "<div>\n",
       "<style scoped>\n",
       "    .dataframe tbody tr th:only-of-type {\n",
       "        vertical-align: middle;\n",
       "    }\n",
       "\n",
       "    .dataframe tbody tr th {\n",
       "        vertical-align: top;\n",
       "    }\n",
       "\n",
       "    .dataframe thead th {\n",
       "        text-align: right;\n",
       "    }\n",
       "</style>\n",
       "<table border=\"1\" class=\"dataframe\">\n",
       "  <thead>\n",
       "    <tr style=\"text-align: right;\">\n",
       "      <th></th>\n",
       "      <th>incident_id</th>\n",
       "      <th>type</th>\n",
       "      <th>lat</th>\n",
       "      <th>lon</th>\n",
       "    </tr>\n",
       "  </thead>\n",
       "  <tbody>\n",
       "    <tr>\n",
       "      <th>0</th>\n",
       "      <td>2020-00049667</td>\n",
       "      <td>ROBBERY</td>\n",
       "      <td>37.865137</td>\n",
       "      <td>-122.260614</td>\n",
       "    </tr>\n",
       "    <tr>\n",
       "      <th>1</th>\n",
       "      <td>2020-00049522</td>\n",
       "      <td>ASSAULT</td>\n",
       "      <td>37.867621</td>\n",
       "      <td>-122.260844</td>\n",
       "    </tr>\n",
       "    <tr>\n",
       "      <th>2</th>\n",
       "      <td>2020-00049500</td>\n",
       "      <td>BURGLARY AUTO</td>\n",
       "      <td>37.869658</td>\n",
       "      <td>-122.267919</td>\n",
       "    </tr>\n",
       "    <tr>\n",
       "      <th>3</th>\n",
       "      <td>2020-00049505</td>\n",
       "      <td>ROBBERY</td>\n",
       "      <td>37.874252</td>\n",
       "      <td>-122.267559</td>\n",
       "    </tr>\n",
       "    <tr>\n",
       "      <th>4</th>\n",
       "      <td>2020-00049352</td>\n",
       "      <td>THEFT</td>\n",
       "      <td>NaN</td>\n",
       "      <td>NaN</td>\n",
       "    </tr>\n",
       "  </tbody>\n",
       "</table>\n",
       "</div>"
      ],
      "text/plain": [
       "     incident_id           type        lat         lon\n",
       "0  2020-00049667        ROBBERY  37.865137 -122.260614\n",
       "1  2020-00049522        ASSAULT  37.867621 -122.260844\n",
       "2  2020-00049500  BURGLARY AUTO  37.869658 -122.267919\n",
       "3  2020-00049505        ROBBERY  37.874252 -122.267559\n",
       "4  2020-00049352          THEFT        NaN         NaN"
      ]
     },
     "execution_count": 11,
     "metadata": {},
     "output_type": "execute_result"
    }
   ],
   "source": [
    "# When you load crime.csv in the same \n",
    "df = pd.read_csv('crime.csv')\n",
    "df"
   ]
  },
  {
   "cell_type": "markdown",
   "metadata": {},
   "source": [
    "<div class=\"alert alert-block alert-info\">\n",
    "<b>Your turn!</b> \n",
    "\n",
    "1. What is the third column in our dataframe?\n",
    "2. Create a new column where you have the incident id without the year prefix\n",
    "    \n",
    "</div>"
   ]
  },
  {
   "cell_type": "code",
   "execution_count": 12,
   "metadata": {},
   "outputs": [
    {
     "name": "stdout",
     "output_type": "stream",
     "text": [
      "lat\n"
     ]
    }
   ],
   "source": [
    "# Your code here\n",
    "print(df.columns[2])\n",
    "\n",
    "df['id'] = ['00049667', '00049522', '00049500', '00049505', '00049352']"
   ]
  },
  {
   "cell_type": "markdown",
   "metadata": {
    "tags": []
   },
   "source": [
    "### 1-2. `pandas` indexing"
   ]
  },
  {
   "cell_type": "markdown",
   "metadata": {},
   "source": [
    "1. “Pandas is a best friend to a data scientist, and index is the invisible soul behind pandas.”\n",
    "2. Indexing is crucial to performing many key operations, including selecting, grouping and merging data.\n",
    "3. The idea: Every observation should be uniquely identified by one or several variables (can be integer, string or datetime object, etc.). Every row and column has a ‘name’: row: df.index and column: df.columns"
   ]
  },
  {
   "cell_type": "markdown",
   "metadata": {},
   "source": [
    "Two preferred approaches\n",
    "\n",
    "- indexing by label: `df.loc[]`\n",
    "\n",
    "- indexing by position: `df.iloc[]`\n",
    "\n",
    "Also common (indexing as if indexing a dictionary):\n",
    "\n",
    "- `df[‘type’]` gives a pandas Series\n",
    "\n",
    "- `df[[‘type’]]` or `df[[‘lat’, ‘lon’]]` gives a `pandas` DataFrame"
   ]
  },
  {
   "cell_type": "code",
   "execution_count": 13,
   "metadata": {},
   "outputs": [
    {
     "data": {
      "text/plain": [
       "incident_id    2020-00049667\n",
       "type                 ROBBERY\n",
       "lat                37.865137\n",
       "lon              -122.260614\n",
       "id                  00049667\n",
       "Name: 0, dtype: object"
      ]
     },
     "execution_count": 13,
     "metadata": {},
     "output_type": "execute_result"
    }
   ],
   "source": [
    "# Before setting the index, the basic syntax is df.loc[row_number, col_label]\n",
    "# Only the first row\n",
    "df.loc[0, :]"
   ]
  },
  {
   "cell_type": "code",
   "execution_count": 14,
   "metadata": {},
   "outputs": [
    {
     "data": {
      "text/plain": [
       "'ROBBERY'"
      ]
     },
     "execution_count": 14,
     "metadata": {},
     "output_type": "execute_result"
    }
   ],
   "source": [
    "# The first row, 'type' column\n",
    "df.loc[0, 'type']"
   ]
  },
  {
   "cell_type": "code",
   "execution_count": 15,
   "metadata": {},
   "outputs": [
    {
     "data": {
      "text/plain": [
       "0          ROBBERY\n",
       "1          ASSAULT\n",
       "2    BURGLARY AUTO\n",
       "3          ROBBERY\n",
       "4            THEFT\n",
       "Name: type, dtype: object"
      ]
     },
     "execution_count": 15,
     "metadata": {},
     "output_type": "execute_result"
    }
   ],
   "source": [
    "# Only 'type' column\n",
    "df.loc[:, 'type']"
   ]
  },
  {
   "cell_type": "code",
   "execution_count": 16,
   "metadata": {},
   "outputs": [
    {
     "data": {
      "text/html": [
       "<div>\n",
       "<style scoped>\n",
       "    .dataframe tbody tr th:only-of-type {\n",
       "        vertical-align: middle;\n",
       "    }\n",
       "\n",
       "    .dataframe tbody tr th {\n",
       "        vertical-align: top;\n",
       "    }\n",
       "\n",
       "    .dataframe thead th {\n",
       "        text-align: right;\n",
       "    }\n",
       "</style>\n",
       "<table border=\"1\" class=\"dataframe\">\n",
       "  <thead>\n",
       "    <tr style=\"text-align: right;\">\n",
       "      <th></th>\n",
       "      <th>type</th>\n",
       "      <th>lat</th>\n",
       "      <th>lon</th>\n",
       "      <th>id</th>\n",
       "    </tr>\n",
       "    <tr>\n",
       "      <th>incident_id</th>\n",
       "      <th></th>\n",
       "      <th></th>\n",
       "      <th></th>\n",
       "      <th></th>\n",
       "    </tr>\n",
       "  </thead>\n",
       "  <tbody>\n",
       "    <tr>\n",
       "      <th>2020-00049667</th>\n",
       "      <td>ROBBERY</td>\n",
       "      <td>37.865137</td>\n",
       "      <td>-122.260614</td>\n",
       "      <td>00049667</td>\n",
       "    </tr>\n",
       "    <tr>\n",
       "      <th>2020-00049522</th>\n",
       "      <td>ASSAULT</td>\n",
       "      <td>37.867621</td>\n",
       "      <td>-122.260844</td>\n",
       "      <td>00049522</td>\n",
       "    </tr>\n",
       "    <tr>\n",
       "      <th>2020-00049500</th>\n",
       "      <td>BURGLARY AUTO</td>\n",
       "      <td>37.869658</td>\n",
       "      <td>-122.267919</td>\n",
       "      <td>00049500</td>\n",
       "    </tr>\n",
       "    <tr>\n",
       "      <th>2020-00049505</th>\n",
       "      <td>ROBBERY</td>\n",
       "      <td>37.874252</td>\n",
       "      <td>-122.267559</td>\n",
       "      <td>00049505</td>\n",
       "    </tr>\n",
       "    <tr>\n",
       "      <th>2020-00049352</th>\n",
       "      <td>THEFT</td>\n",
       "      <td>NaN</td>\n",
       "      <td>NaN</td>\n",
       "      <td>00049352</td>\n",
       "    </tr>\n",
       "  </tbody>\n",
       "</table>\n",
       "</div>"
      ],
      "text/plain": [
       "                        type        lat         lon        id\n",
       "incident_id                                                  \n",
       "2020-00049667        ROBBERY  37.865137 -122.260614  00049667\n",
       "2020-00049522        ASSAULT  37.867621 -122.260844  00049522\n",
       "2020-00049500  BURGLARY AUTO  37.869658 -122.267919  00049500\n",
       "2020-00049505        ROBBERY  37.874252 -122.267559  00049505\n",
       "2020-00049352          THEFT        NaN         NaN  00049352"
      ]
     },
     "execution_count": 16,
     "metadata": {},
     "output_type": "execute_result"
    }
   ],
   "source": [
    "# After setting the index, the basic syntax is df.loc[row_label, col_label] \n",
    "df.set_index('incident_id', inplace=True)\n",
    "\n",
    "df"
   ]
  },
  {
   "cell_type": "code",
   "execution_count": 17,
   "metadata": {},
   "outputs": [
    {
     "data": {
      "text/html": [
       "<div>\n",
       "<style scoped>\n",
       "    .dataframe tbody tr th:only-of-type {\n",
       "        vertical-align: middle;\n",
       "    }\n",
       "\n",
       "    .dataframe tbody tr th {\n",
       "        vertical-align: top;\n",
       "    }\n",
       "\n",
       "    .dataframe thead th {\n",
       "        text-align: right;\n",
       "    }\n",
       "</style>\n",
       "<table border=\"1\" class=\"dataframe\">\n",
       "  <thead>\n",
       "    <tr style=\"text-align: right;\">\n",
       "      <th></th>\n",
       "      <th>lat</th>\n",
       "    </tr>\n",
       "    <tr>\n",
       "      <th>incident_id</th>\n",
       "      <th></th>\n",
       "    </tr>\n",
       "  </thead>\n",
       "  <tbody>\n",
       "    <tr>\n",
       "      <th>2020-00049500</th>\n",
       "      <td>37.869658</td>\n",
       "    </tr>\n",
       "  </tbody>\n",
       "</table>\n",
       "</div>"
      ],
      "text/plain": [
       "                     lat\n",
       "incident_id             \n",
       "2020-00049500  37.869658"
      ]
     },
     "execution_count": 17,
     "metadata": {},
     "output_type": "execute_result"
    }
   ],
   "source": [
    "# Depending on how you index, the object type will be different \n",
    "\n",
    "df.loc['2020-00049500', :] # a Series \n",
    "df.loc['2020-00049500', 'lat'] # a number \n",
    "df.loc[['2020-00049500'], 'lat'] # a Series \n",
    "df.loc[['2020-00049500'], ['lat']] # a DataFrame "
   ]
  },
  {
   "cell_type": "code",
   "execution_count": 18,
   "metadata": {},
   "outputs": [
    {
     "data": {
      "text/html": [
       "<div>\n",
       "<style scoped>\n",
       "    .dataframe tbody tr th:only-of-type {\n",
       "        vertical-align: middle;\n",
       "    }\n",
       "\n",
       "    .dataframe tbody tr th {\n",
       "        vertical-align: top;\n",
       "    }\n",
       "\n",
       "    .dataframe thead th {\n",
       "        text-align: right;\n",
       "    }\n",
       "</style>\n",
       "<table border=\"1\" class=\"dataframe\">\n",
       "  <thead>\n",
       "    <tr style=\"text-align: right;\">\n",
       "      <th></th>\n",
       "      <th>type</th>\n",
       "      <th>lat</th>\n",
       "      <th>lon</th>\n",
       "      <th>id</th>\n",
       "    </tr>\n",
       "    <tr>\n",
       "      <th>incident_id</th>\n",
       "      <th></th>\n",
       "      <th></th>\n",
       "      <th></th>\n",
       "      <th></th>\n",
       "    </tr>\n",
       "  </thead>\n",
       "  <tbody>\n",
       "    <tr>\n",
       "      <th>2020-00049667</th>\n",
       "      <td>ROBBERY</td>\n",
       "      <td>37.865137</td>\n",
       "      <td>-122.260614</td>\n",
       "      <td>00049667</td>\n",
       "    </tr>\n",
       "    <tr>\n",
       "      <th>2020-00049505</th>\n",
       "      <td>ROBBERY</td>\n",
       "      <td>37.874252</td>\n",
       "      <td>-122.267559</td>\n",
       "      <td>00049505</td>\n",
       "    </tr>\n",
       "  </tbody>\n",
       "</table>\n",
       "</div>"
      ],
      "text/plain": [
       "                  type        lat         lon        id\n",
       "incident_id                                            \n",
       "2020-00049667  ROBBERY  37.865137 -122.260614  00049667\n",
       "2020-00049505  ROBBERY  37.874252 -122.267559  00049505"
      ]
     },
     "execution_count": 18,
     "metadata": {},
     "output_type": "execute_result"
    }
   ],
   "source": [
    "# loc takes many different input types such as boolean sequence\n",
    "df.loc[[True, True, True, False, False], :] \n",
    "df.loc[df['type'] == 'ROBBERY', :]"
   ]
  },
  {
   "cell_type": "code",
   "execution_count": 19,
   "metadata": {},
   "outputs": [
    {
     "data": {
      "text/html": [
       "<div>\n",
       "<style scoped>\n",
       "    .dataframe tbody tr th:only-of-type {\n",
       "        vertical-align: middle;\n",
       "    }\n",
       "\n",
       "    .dataframe tbody tr th {\n",
       "        vertical-align: top;\n",
       "    }\n",
       "\n",
       "    .dataframe thead th {\n",
       "        text-align: right;\n",
       "    }\n",
       "</style>\n",
       "<table border=\"1\" class=\"dataframe\">\n",
       "  <thead>\n",
       "    <tr style=\"text-align: right;\">\n",
       "      <th></th>\n",
       "      <th>lon</th>\n",
       "    </tr>\n",
       "    <tr>\n",
       "      <th>incident_id</th>\n",
       "      <th></th>\n",
       "    </tr>\n",
       "  </thead>\n",
       "  <tbody>\n",
       "    <tr>\n",
       "      <th>2020-00049667</th>\n",
       "      <td>-122.260614</td>\n",
       "    </tr>\n",
       "    <tr>\n",
       "      <th>2020-00049522</th>\n",
       "      <td>-122.260844</td>\n",
       "    </tr>\n",
       "  </tbody>\n",
       "</table>\n",
       "</div>"
      ],
      "text/plain": [
       "                      lon\n",
       "incident_id              \n",
       "2020-00049667 -122.260614\n",
       "2020-00049522 -122.260844"
      ]
     },
     "execution_count": 19,
     "metadata": {},
     "output_type": "execute_result"
    }
   ],
   "source": [
    "# You can index a data by using numbers\n",
    "# The basic syntax is df.iloc[row_pos, col_pos]\n",
    "df.iloc[0, :]\n",
    "df.iloc[[0, 1], [2]]\n",
    "# You cannot mix label based and position based indexing \n",
    "# e.g., df.iloc[0, 'lat']"
   ]
  },
  {
   "cell_type": "code",
   "execution_count": 20,
   "metadata": {
    "scrolled": true
   },
   "outputs": [
    {
     "data": {
      "text/html": [
       "<div>\n",
       "<style scoped>\n",
       "    .dataframe tbody tr th:only-of-type {\n",
       "        vertical-align: middle;\n",
       "    }\n",
       "\n",
       "    .dataframe tbody tr th {\n",
       "        vertical-align: top;\n",
       "    }\n",
       "\n",
       "    .dataframe thead th {\n",
       "        text-align: right;\n",
       "    }\n",
       "</style>\n",
       "<table border=\"1\" class=\"dataframe\">\n",
       "  <thead>\n",
       "    <tr style=\"text-align: right;\">\n",
       "      <th></th>\n",
       "      <th>type</th>\n",
       "      <th>lat</th>\n",
       "    </tr>\n",
       "    <tr>\n",
       "      <th>incident_id</th>\n",
       "      <th></th>\n",
       "      <th></th>\n",
       "    </tr>\n",
       "  </thead>\n",
       "  <tbody>\n",
       "    <tr>\n",
       "      <th>2020-00049667</th>\n",
       "      <td>ROBBERY</td>\n",
       "      <td>37.865137</td>\n",
       "    </tr>\n",
       "    <tr>\n",
       "      <th>2020-00049522</th>\n",
       "      <td>ASSAULT</td>\n",
       "      <td>37.867621</td>\n",
       "    </tr>\n",
       "    <tr>\n",
       "      <th>2020-00049500</th>\n",
       "      <td>BURGLARY AUTO</td>\n",
       "      <td>37.869658</td>\n",
       "    </tr>\n",
       "    <tr>\n",
       "      <th>2020-00049505</th>\n",
       "      <td>ROBBERY</td>\n",
       "      <td>37.874252</td>\n",
       "    </tr>\n",
       "    <tr>\n",
       "      <th>2020-00049352</th>\n",
       "      <td>THEFT</td>\n",
       "      <td>NaN</td>\n",
       "    </tr>\n",
       "  </tbody>\n",
       "</table>\n",
       "</div>"
      ],
      "text/plain": [
       "                        type        lat\n",
       "incident_id                            \n",
       "2020-00049667        ROBBERY  37.865137\n",
       "2020-00049522        ASSAULT  37.867621\n",
       "2020-00049500  BURGLARY AUTO  37.869658\n",
       "2020-00049505        ROBBERY  37.874252\n",
       "2020-00049352          THEFT        NaN"
      ]
     },
     "execution_count": 20,
     "metadata": {},
     "output_type": "execute_result"
    }
   ],
   "source": [
    "# The simplest way? When you want to use only some columns:\n",
    "# One column\n",
    "df['type']\n",
    "\n",
    "## Two columns: list of column names\n",
    "df[['type', 'lat']]"
   ]
  },
  {
   "cell_type": "code",
   "execution_count": 21,
   "metadata": {},
   "outputs": [
    {
     "data": {
      "text/html": [
       "<div>\n",
       "<style scoped>\n",
       "    .dataframe tbody tr th:only-of-type {\n",
       "        vertical-align: middle;\n",
       "    }\n",
       "\n",
       "    .dataframe tbody tr th {\n",
       "        vertical-align: top;\n",
       "    }\n",
       "\n",
       "    .dataframe thead th {\n",
       "        text-align: right;\n",
       "    }\n",
       "</style>\n",
       "<table border=\"1\" class=\"dataframe\">\n",
       "  <thead>\n",
       "    <tr style=\"text-align: right;\">\n",
       "      <th></th>\n",
       "      <th>type</th>\n",
       "      <th>lat</th>\n",
       "      <th>lon</th>\n",
       "      <th>id</th>\n",
       "    </tr>\n",
       "    <tr>\n",
       "      <th>incident_id</th>\n",
       "      <th></th>\n",
       "      <th></th>\n",
       "      <th></th>\n",
       "      <th></th>\n",
       "    </tr>\n",
       "  </thead>\n",
       "  <tbody>\n",
       "    <tr>\n",
       "      <th>2020-00049667</th>\n",
       "      <td>ROBBERY</td>\n",
       "      <td>37.865137</td>\n",
       "      <td>-122.260614</td>\n",
       "      <td>00049667</td>\n",
       "    </tr>\n",
       "    <tr>\n",
       "      <th>2020-00049522</th>\n",
       "      <td>ASSAULT</td>\n",
       "      <td>37.867621</td>\n",
       "      <td>-122.260844</td>\n",
       "      <td>00049522</td>\n",
       "    </tr>\n",
       "    <tr>\n",
       "      <th>2020-00049500</th>\n",
       "      <td>BURGLARY AUTO</td>\n",
       "      <td>37.869658</td>\n",
       "      <td>-122.267919</td>\n",
       "      <td>00049500</td>\n",
       "    </tr>\n",
       "    <tr>\n",
       "      <th>2020-00049505</th>\n",
       "      <td>ROBBERY</td>\n",
       "      <td>37.874252</td>\n",
       "      <td>-122.267559</td>\n",
       "      <td>00049505</td>\n",
       "    </tr>\n",
       "    <tr>\n",
       "      <th>2020-00049352</th>\n",
       "      <td>THEFT</td>\n",
       "      <td>NaN</td>\n",
       "      <td>NaN</td>\n",
       "      <td>00049352</td>\n",
       "    </tr>\n",
       "  </tbody>\n",
       "</table>\n",
       "</div>"
      ],
      "text/plain": [
       "                        type        lat         lon        id\n",
       "incident_id                                                  \n",
       "2020-00049667        ROBBERY  37.865137 -122.260614  00049667\n",
       "2020-00049522        ASSAULT  37.867621 -122.260844  00049522\n",
       "2020-00049500  BURGLARY AUTO  37.869658 -122.267919  00049500\n",
       "2020-00049505        ROBBERY  37.874252 -122.267559  00049505\n",
       "2020-00049352          THEFT        NaN         NaN  00049352"
      ]
     },
     "execution_count": 21,
     "metadata": {},
     "output_type": "execute_result"
    }
   ],
   "source": [
    "df"
   ]
  },
  {
   "cell_type": "code",
   "execution_count": 22,
   "metadata": {},
   "outputs": [
    {
     "data": {
      "text/plain": [
       "Index(['2020-00049667', '2020-00049522', '2020-00049500', '2020-00049505',\n",
       "       '2020-00049352'],\n",
       "      dtype='object', name='incident_id')"
      ]
     },
     "execution_count": 22,
     "metadata": {},
     "output_type": "execute_result"
    }
   ],
   "source": [
    "df.index"
   ]
  },
  {
   "cell_type": "markdown",
   "metadata": {},
   "source": [
    "<div class=\"alert alert-block alert-info\">\n",
    "<b>Your turn!</b> \n",
    "\n",
    "1. Filter your dataframe to only include those that are BURGLARY AUTO\n",
    "\n",
    "2. Return the longitude of the crime with incident id 2020-00049352\n",
    " \n",
    "    \n",
    "</div>"
   ]
  },
  {
   "cell_type": "code",
   "execution_count": 23,
   "metadata": {},
   "outputs": [
    {
     "name": "stdout",
     "output_type": "stream",
     "text": [
      "                        type        lat         lon        id\n",
      "incident_id                                                  \n",
      "2020-00049500  BURGLARY AUTO  37.869658 -122.267919  00049500\n",
      "               lon\n",
      "incident_id       \n",
      "2020-00049352  NaN\n"
     ]
    }
   ],
   "source": [
    "# Your code here\n",
    "# Your code here\n",
    "print(df.loc[df['type']=='BURGLARY AUTO'])\n",
    "\n",
    "print(df.loc[['2020-00049352'], ['lon']])"
   ]
  },
  {
   "cell_type": "markdown",
   "metadata": {
    "tags": []
   },
   "source": [
    "#### Missing Data\n",
    "\n",
    "In the real world, you'll encounter dataframes that contain missing information. You'll need to know how to deal with these."
   ]
  },
  {
   "cell_type": "code",
   "execution_count": 24,
   "metadata": {},
   "outputs": [
    {
     "data": {
      "text/html": [
       "<div>\n",
       "<style scoped>\n",
       "    .dataframe tbody tr th:only-of-type {\n",
       "        vertical-align: middle;\n",
       "    }\n",
       "\n",
       "    .dataframe tbody tr th {\n",
       "        vertical-align: top;\n",
       "    }\n",
       "\n",
       "    .dataframe thead th {\n",
       "        text-align: right;\n",
       "    }\n",
       "</style>\n",
       "<table border=\"1\" class=\"dataframe\">\n",
       "  <thead>\n",
       "    <tr style=\"text-align: right;\">\n",
       "      <th></th>\n",
       "      <th>type</th>\n",
       "      <th>lat</th>\n",
       "      <th>lon</th>\n",
       "      <th>id</th>\n",
       "    </tr>\n",
       "    <tr>\n",
       "      <th>incident_id</th>\n",
       "      <th></th>\n",
       "      <th></th>\n",
       "      <th></th>\n",
       "      <th></th>\n",
       "    </tr>\n",
       "  </thead>\n",
       "  <tbody>\n",
       "    <tr>\n",
       "      <th>2020-00049667</th>\n",
       "      <td>ROBBERY</td>\n",
       "      <td>37.865137</td>\n",
       "      <td>-122.260614</td>\n",
       "      <td>00049667</td>\n",
       "    </tr>\n",
       "    <tr>\n",
       "      <th>2020-00049522</th>\n",
       "      <td>ASSAULT</td>\n",
       "      <td>37.867621</td>\n",
       "      <td>-122.260844</td>\n",
       "      <td>00049522</td>\n",
       "    </tr>\n",
       "    <tr>\n",
       "      <th>2020-00049500</th>\n",
       "      <td>BURGLARY AUTO</td>\n",
       "      <td>37.869658</td>\n",
       "      <td>-122.267919</td>\n",
       "      <td>00049500</td>\n",
       "    </tr>\n",
       "    <tr>\n",
       "      <th>2020-00049505</th>\n",
       "      <td>ROBBERY</td>\n",
       "      <td>37.874252</td>\n",
       "      <td>-122.267559</td>\n",
       "      <td>00049505</td>\n",
       "    </tr>\n",
       "  </tbody>\n",
       "</table>\n",
       "</div>"
      ],
      "text/plain": [
       "                        type        lat         lon        id\n",
       "incident_id                                                  \n",
       "2020-00049667        ROBBERY  37.865137 -122.260614  00049667\n",
       "2020-00049522        ASSAULT  37.867621 -122.260844  00049522\n",
       "2020-00049500  BURGLARY AUTO  37.869658 -122.267919  00049500\n",
       "2020-00049505        ROBBERY  37.874252 -122.267559  00049505"
      ]
     },
     "execution_count": 24,
     "metadata": {},
     "output_type": "execute_result"
    }
   ],
   "source": [
    "# Drop the missing data\n",
    "df.dropna(how = 'any') # inplace argument is False by default"
   ]
  },
  {
   "cell_type": "code",
   "execution_count": 25,
   "metadata": {},
   "outputs": [
    {
     "data": {
      "text/html": [
       "<div>\n",
       "<style scoped>\n",
       "    .dataframe tbody tr th:only-of-type {\n",
       "        vertical-align: middle;\n",
       "    }\n",
       "\n",
       "    .dataframe tbody tr th {\n",
       "        vertical-align: top;\n",
       "    }\n",
       "\n",
       "    .dataframe thead th {\n",
       "        text-align: right;\n",
       "    }\n",
       "</style>\n",
       "<table border=\"1\" class=\"dataframe\">\n",
       "  <thead>\n",
       "    <tr style=\"text-align: right;\">\n",
       "      <th></th>\n",
       "      <th>type</th>\n",
       "      <th>lat</th>\n",
       "      <th>lon</th>\n",
       "      <th>id</th>\n",
       "    </tr>\n",
       "    <tr>\n",
       "      <th>incident_id</th>\n",
       "      <th></th>\n",
       "      <th></th>\n",
       "      <th></th>\n",
       "      <th></th>\n",
       "    </tr>\n",
       "  </thead>\n",
       "  <tbody>\n",
       "    <tr>\n",
       "      <th>2020-00049667</th>\n",
       "      <td>False</td>\n",
       "      <td>False</td>\n",
       "      <td>False</td>\n",
       "      <td>False</td>\n",
       "    </tr>\n",
       "    <tr>\n",
       "      <th>2020-00049522</th>\n",
       "      <td>False</td>\n",
       "      <td>False</td>\n",
       "      <td>False</td>\n",
       "      <td>False</td>\n",
       "    </tr>\n",
       "    <tr>\n",
       "      <th>2020-00049500</th>\n",
       "      <td>False</td>\n",
       "      <td>False</td>\n",
       "      <td>False</td>\n",
       "      <td>False</td>\n",
       "    </tr>\n",
       "    <tr>\n",
       "      <th>2020-00049505</th>\n",
       "      <td>False</td>\n",
       "      <td>False</td>\n",
       "      <td>False</td>\n",
       "      <td>False</td>\n",
       "    </tr>\n",
       "    <tr>\n",
       "      <th>2020-00049352</th>\n",
       "      <td>False</td>\n",
       "      <td>True</td>\n",
       "      <td>True</td>\n",
       "      <td>False</td>\n",
       "    </tr>\n",
       "  </tbody>\n",
       "</table>\n",
       "</div>"
      ],
      "text/plain": [
       "                type    lat    lon     id\n",
       "incident_id                              \n",
       "2020-00049667  False  False  False  False\n",
       "2020-00049522  False  False  False  False\n",
       "2020-00049500  False  False  False  False\n",
       "2020-00049505  False  False  False  False\n",
       "2020-00049352  False   True   True  False"
      ]
     },
     "execution_count": 25,
     "metadata": {},
     "output_type": "execute_result"
    }
   ],
   "source": [
    "# Which are None elements?\n",
    "pd.isna(df) "
   ]
  },
  {
   "cell_type": "code",
   "execution_count": 26,
   "metadata": {},
   "outputs": [
    {
     "data": {
      "text/plain": [
       "incident_id\n",
       "2020-00049667    False\n",
       "2020-00049522    False\n",
       "2020-00049500    False\n",
       "2020-00049505    False\n",
       "2020-00049352     True\n",
       "Name: lat, dtype: bool"
      ]
     },
     "execution_count": 26,
     "metadata": {},
     "output_type": "execute_result"
    }
   ],
   "source": [
    "df['lat'].isna() "
   ]
  },
  {
   "cell_type": "code",
   "execution_count": 27,
   "metadata": {},
   "outputs": [
    {
     "data": {
      "text/plain": [
       "incident_id\n",
       "2020-00049667     True\n",
       "2020-00049522     True\n",
       "2020-00049500     True\n",
       "2020-00049505     True\n",
       "2020-00049352    False\n",
       "Name: lat, dtype: bool"
      ]
     },
     "execution_count": 27,
     "metadata": {},
     "output_type": "execute_result"
    }
   ],
   "source": [
    "df['lat'].notna()"
   ]
  },
  {
   "cell_type": "markdown",
   "metadata": {
    "tags": []
   },
   "source": [
    "#### String Manipulations\n",
    "\n",
    "Perhaps you know that there is valuable inormation in a variable you already have. The same way we manipulate objects that aren't in a dataframe, you can do for variables in a dataframe."
   ]
  },
  {
   "cell_type": "code",
   "execution_count": 28,
   "metadata": {},
   "outputs": [
    {
     "data": {
      "text/html": [
       "<div>\n",
       "<style scoped>\n",
       "    .dataframe tbody tr th:only-of-type {\n",
       "        vertical-align: middle;\n",
       "    }\n",
       "\n",
       "    .dataframe tbody tr th {\n",
       "        vertical-align: top;\n",
       "    }\n",
       "\n",
       "    .dataframe thead th {\n",
       "        text-align: right;\n",
       "    }\n",
       "</style>\n",
       "<table border=\"1\" class=\"dataframe\">\n",
       "  <thead>\n",
       "    <tr style=\"text-align: right;\">\n",
       "      <th></th>\n",
       "      <th>type</th>\n",
       "      <th>lat</th>\n",
       "      <th>lon</th>\n",
       "      <th>id</th>\n",
       "      <th>incident_id0</th>\n",
       "      <th>incident_id1</th>\n",
       "    </tr>\n",
       "    <tr>\n",
       "      <th>incident_id</th>\n",
       "      <th></th>\n",
       "      <th></th>\n",
       "      <th></th>\n",
       "      <th></th>\n",
       "      <th></th>\n",
       "      <th></th>\n",
       "    </tr>\n",
       "  </thead>\n",
       "  <tbody>\n",
       "    <tr>\n",
       "      <th>2020-00049667</th>\n",
       "      <td>ROBBERY</td>\n",
       "      <td>37.865137</td>\n",
       "      <td>-122.260614</td>\n",
       "      <td>00049667</td>\n",
       "      <td>2020</td>\n",
       "      <td>00049667</td>\n",
       "    </tr>\n",
       "    <tr>\n",
       "      <th>2020-00049522</th>\n",
       "      <td>ASSAULT</td>\n",
       "      <td>37.867621</td>\n",
       "      <td>-122.260844</td>\n",
       "      <td>00049522</td>\n",
       "      <td>2020</td>\n",
       "      <td>00049522</td>\n",
       "    </tr>\n",
       "    <tr>\n",
       "      <th>2020-00049500</th>\n",
       "      <td>BURGLARY AUTO</td>\n",
       "      <td>37.869658</td>\n",
       "      <td>-122.267919</td>\n",
       "      <td>00049500</td>\n",
       "      <td>2020</td>\n",
       "      <td>00049500</td>\n",
       "    </tr>\n",
       "    <tr>\n",
       "      <th>2020-00049505</th>\n",
       "      <td>ROBBERY</td>\n",
       "      <td>37.874252</td>\n",
       "      <td>-122.267559</td>\n",
       "      <td>00049505</td>\n",
       "      <td>2020</td>\n",
       "      <td>00049505</td>\n",
       "    </tr>\n",
       "    <tr>\n",
       "      <th>2020-00049352</th>\n",
       "      <td>THEFT</td>\n",
       "      <td>NaN</td>\n",
       "      <td>NaN</td>\n",
       "      <td>00049352</td>\n",
       "      <td>2020</td>\n",
       "      <td>00049352</td>\n",
       "    </tr>\n",
       "  </tbody>\n",
       "</table>\n",
       "</div>"
      ],
      "text/plain": [
       "                        type        lat         lon        id incident_id0  \\\n",
       "incident_id                                                                  \n",
       "2020-00049667        ROBBERY  37.865137 -122.260614  00049667         2020   \n",
       "2020-00049522        ASSAULT  37.867621 -122.260844  00049522         2020   \n",
       "2020-00049500  BURGLARY AUTO  37.869658 -122.267919  00049500         2020   \n",
       "2020-00049505        ROBBERY  37.874252 -122.267559  00049505         2020   \n",
       "2020-00049352          THEFT        NaN         NaN  00049352         2020   \n",
       "\n",
       "              incident_id1  \n",
       "incident_id                 \n",
       "2020-00049667     00049667  \n",
       "2020-00049522     00049522  \n",
       "2020-00049500     00049500  \n",
       "2020-00049505     00049505  \n",
       "2020-00049352     00049352  "
      ]
     },
     "execution_count": 28,
     "metadata": {},
     "output_type": "execute_result"
    }
   ],
   "source": [
    "df['type'].str.lower()\n",
    "df['incident_id0'] = df.index.str.split('-').str[0] \n",
    "df['incident_id1'] = df.index.str.split('-').str[1] \n",
    "df['type'].str.match('THEFT')\n",
    "df"
   ]
  },
  {
   "cell_type": "markdown",
   "metadata": {},
   "source": [
    "#### Grouping and Summarizing\n",
    "\n",
    "These are good to know when you want some highlevel information on your data"
   ]
  },
  {
   "cell_type": "code",
   "execution_count": 29,
   "metadata": {},
   "outputs": [
    {
     "data": {
      "text/html": [
       "<div>\n",
       "<style scoped>\n",
       "    .dataframe tbody tr th:only-of-type {\n",
       "        vertical-align: middle;\n",
       "    }\n",
       "\n",
       "    .dataframe tbody tr th {\n",
       "        vertical-align: top;\n",
       "    }\n",
       "\n",
       "    .dataframe thead th {\n",
       "        text-align: right;\n",
       "    }\n",
       "</style>\n",
       "<table border=\"1\" class=\"dataframe\">\n",
       "  <thead>\n",
       "    <tr style=\"text-align: right;\">\n",
       "      <th></th>\n",
       "      <th>lat</th>\n",
       "      <th>lon</th>\n",
       "    </tr>\n",
       "    <tr>\n",
       "      <th>type</th>\n",
       "      <th></th>\n",
       "      <th></th>\n",
       "    </tr>\n",
       "  </thead>\n",
       "  <tbody>\n",
       "    <tr>\n",
       "      <th>ASSAULT</th>\n",
       "      <td>37.867621</td>\n",
       "      <td>-122.260844</td>\n",
       "    </tr>\n",
       "    <tr>\n",
       "      <th>BURGLARY AUTO</th>\n",
       "      <td>37.869658</td>\n",
       "      <td>-122.267919</td>\n",
       "    </tr>\n",
       "    <tr>\n",
       "      <th>ROBBERY</th>\n",
       "      <td>37.869694</td>\n",
       "      <td>-122.264087</td>\n",
       "    </tr>\n",
       "    <tr>\n",
       "      <th>THEFT</th>\n",
       "      <td>NaN</td>\n",
       "      <td>NaN</td>\n",
       "    </tr>\n",
       "  </tbody>\n",
       "</table>\n",
       "</div>"
      ],
      "text/plain": [
       "                     lat         lon\n",
       "type                                \n",
       "ASSAULT        37.867621 -122.260844\n",
       "BURGLARY AUTO  37.869658 -122.267919\n",
       "ROBBERY        37.869694 -122.264087\n",
       "THEFT                NaN         NaN"
      ]
     },
     "execution_count": 29,
     "metadata": {},
     "output_type": "execute_result"
    }
   ],
   "source": [
    "# import numpy as np\n",
    "grouped = df.groupby('type')\n",
    "\n",
    "# the following two are equivalent \n",
    "grouped.mean() \n",
    "grouped.aggregate(np.mean)"
   ]
  },
  {
   "cell_type": "markdown",
   "metadata": {},
   "source": [
    "#### Merging datasets\n",
    "There are instances where your data might exist in two different dataframes, but you have a unique identifier between the two.  You can use this to merge two dataframes together.\n",
    "\n",
    "![merge](https://miro.medium.com/max/1400/1*7a9Tzz6z8H6Cy7PRhHiJGQ.png)\n"
   ]
  },
  {
   "cell_type": "code",
   "execution_count": 30,
   "metadata": {},
   "outputs": [],
   "source": [
    "# Theoretically you could do this with another crime dataset like its outlined here\n",
    "# df_to_join = pd.read_csv('another_crime_dataset.csv') \n",
    "# pd.merge(df, df_to_join, on='type', how='left') \n",
    "# pd.merge(df, df_to_join, on='type', how='right') \n",
    "# pd.merge(df, df_to_join, on='type', how='inner') \n",
    "# pd.merge(df, df_to_join, on='type', how='outer')"
   ]
  },
  {
   "cell_type": "markdown",
   "metadata": {},
   "source": [
    "<div class=\"alert alert-block alert-info\">\n",
    "<b>Your turn!</b> \n",
    "\n",
    "Say you have two tables A and B\n",
    "    \n",
    "Table A:\n",
    "\n",
    "| id | population_humans |\n",
    "| --- | --- | \n",
    "| 1 | 100|\n",
    "| 2 | 100|\n",
    "| 4 | 50|\n",
    "| 5 | 3|\n",
    "\n",
    "Table B:\n",
    "\n",
    "| id | population_dogs |\n",
    "| --- | --- | \n",
    "| 1 | 120 |\n",
    "| 2 | 3000|\n",
    "| 3 | 5|\n",
    "    \n",
    "\n",
    "\n",
    "If A is your left datframe, and B is your right dataframe, how many rows would you have when you\n",
    "1. Do a left join\n",
    "2. Do a right join\n",
    "3. Do an inner join\n",
    "4. Do an outer join\n",
    "    \n",
    "</div>\n",
    "\n",
    "\n",
    "    "
   ]
  },
  {
   "cell_type": "code",
   "execution_count": 31,
   "metadata": {},
   "outputs": [],
   "source": [
    "# You answer here\n",
    "# Left join would have 4 rows\n",
    "# Right join would have 3 rows\n",
    "# Inner join would have 2 rows\n",
    "# Outer join would have 5 rows"
   ]
  },
  {
   "cell_type": "markdown",
   "metadata": {},
   "source": [
    "## 2. `pickle`\n",
    "\n",
    "You'll see in Lab 3 that you need to open a pickle file. We'll briefly discuss what it is, how to open it, and how to save it."
   ]
  },
  {
   "cell_type": "code",
   "execution_count": 32,
   "metadata": {},
   "outputs": [],
   "source": [
    "import pickle\n",
    "# the with statement opens the file, and then (silently) <<< closes it >>>\n",
    "# 'rb' stands for 'r'eading mode and 'b'inary mode (pickle saves objects into a byte stream)\n",
    "# f is called a file handle. Think of it as a pointer to the file\n",
    "# it doesn't have to be f, of course, name it whatever you like\n",
    "# there is a convention to name it f, though\n",
    "with open('Lab2_houses.p', 'rb') as f:\n",
    "\n",
    "    # we load the file by calling pickle.load()\n",
    "    # and then assign it to d, which is a short name that we gave to this dict\n",
    "    d = pickle.load(f)\n",
    "    # here (at the end of the with statement), python silently <<< closed the file >>>\n",
    "\n",
    "# f = open('Lab2_houses.p', 'rb')\n",
    "# d = pickle.load(f)"
   ]
  },
  {
   "cell_type": "markdown",
   "metadata": {},
   "source": [
    "##### What does it mean by 'closing the file'?"
   ]
  },
  {
   "cell_type": "code",
   "execution_count": 33,
   "metadata": {},
   "outputs": [
    {
     "data": {
      "text/plain": [
       "[popenfile(path='/Users/hikarimurayama/.ipython/profile_default/history.sqlite', fd=63),\n",
       " popenfile(path='/Users/hikarimurayama/.ipython/profile_default/history.sqlite', fd=64)]"
      ]
     },
     "execution_count": 33,
     "metadata": {},
     "output_type": "execute_result"
    }
   ],
   "source": [
    "# This is for checking the list of files which are open at the moment\n",
    "# You don't need to run this, but you can install psutil if you want to try this. \n",
    "import psutil\n",
    "proc = psutil.Process()\n",
    "proc.open_files()"
   ]
  },
  {
   "cell_type": "code",
   "execution_count": 34,
   "metadata": {},
   "outputs": [],
   "source": [
    "# The above cell is the same as below:\n",
    "test = open('Lab2_houses.p', 'rb')\n",
    "d2 = pickle.load(test)"
   ]
  },
  {
   "cell_type": "code",
   "execution_count": 35,
   "metadata": {},
   "outputs": [
    {
     "data": {
      "text/plain": [
       "[popenfile(path='/Users/hikarimurayama/.ipython/profile_default/history.sqlite', fd=63),\n",
       " popenfile(path='/Users/hikarimurayama/.ipython/profile_default/history.sqlite', fd=64),\n",
       " popenfile(path='/Users/hikarimurayama/Documents/repos/pp275fa22/Sections/Section03/Lab2_houses.p', fd=78)]"
      ]
     },
     "execution_count": 35,
     "metadata": {},
     "output_type": "execute_result"
    }
   ],
   "source": [
    "# Check the list of files\n",
    "proc.open_files()"
   ]
  },
  {
   "cell_type": "code",
   "execution_count": 36,
   "metadata": {},
   "outputs": [
    {
     "data": {
      "text/plain": [
       "[popenfile(path='/Users/hikarimurayama/.ipython/profile_default/history.sqlite', fd=63),\n",
       " popenfile(path='/Users/hikarimurayama/.ipython/profile_default/history.sqlite', fd=64)]"
      ]
     },
     "execution_count": 36,
     "metadata": {},
     "output_type": "execute_result"
    }
   ],
   "source": [
    "# Check the list of files after closing object test. \n",
    "test.close()\n",
    "proc.open_files()"
   ]
  },
  {
   "cell_type": "markdown",
   "metadata": {
    "tags": []
   },
   "source": [
    "##### The reasons we should 'close' files:\n",
    "(from https://stackoverflow.com/questions/25070854/why-should-i-close-files-in-python)\n",
    "1. It can slow down your program. Too many things open, and thus more used space in the RAM, will impact performance.\n",
    "2. For the most part, many changes to files in python do not go into effect until after the file is closed, so if your script edits, leaves open, and reads a file, it won't see the edits.\n",
    "3. You could, theoretically, run in to limits of how many files you can have open.\n",
    "\n",
    "**Using `with open` closes the file automatically!**"
   ]
  },
  {
   "cell_type": "markdown",
   "metadata": {},
   "source": [
    "### 3. Lambda calculation"
   ]
  },
  {
   "cell_type": "markdown",
   "metadata": {},
   "source": [
    "$$\n",
    "\\hat{\\lambda}(\\overrightarrow{\\underset{\\cdot}{s}}) =\\frac{1}{\\pi h^{2}} \\times \\sum_{j=1}^{N} \\mathbf{1}\\left[ dist(\\overrightarrow{\\underset{\\cdot}{s}}, \\overrightarrow{\\underset{\\cdot}{s_{inf\\_site\\; j}}})< h \\right]\n",
    "$$\n",
    "\n",
    "In Lab 3, we'll construct an estimate for the rate at which cholera cases arise (the infection rate) at each location on a lattice by using a kernel estimate. This is calcualted using the above equation."
   ]
  },
  {
   "cell_type": "markdown",
   "metadata": {},
   "source": [
    "#### 3-1. An example"
   ]
  },
  {
   "cell_type": "code",
   "execution_count": 37,
   "metadata": {},
   "outputs": [
    {
     "data": {
      "text/plain": [
       "(array([6.96469186, 2.86139335, 2.26851454, 5.51314769, 7.1946897 ,\n",
       "        4.2310646 , 9.80764198, 6.84829739, 4.80931901, 3.92117518]),\n",
       " array([3.43178016, 7.29049707, 4.38572245, 0.59677897, 3.98044255,\n",
       "        7.37995406, 1.8249173 , 1.75451756, 5.31551374, 5.31827587]))"
      ]
     },
     "execution_count": 37,
     "metadata": {},
     "output_type": "execute_result"
    }
   ],
   "source": [
    "# For getting the same result\n",
    "np.random.seed(123)\n",
    "\n",
    "# Random events\n",
    "x_coords = np.random.random(10) * 10\n",
    "y_coords = np.random.random(10) * 10\n",
    "\n",
    "x_coords, y_coords"
   ]
  },
  {
   "cell_type": "code",
   "execution_count": 38,
   "metadata": {},
   "outputs": [
    {
     "data": {
      "text/plain": [
       "array([6.96469186, 2.86139335, 2.26851454, 5.51314769, 7.1946897 ,\n",
       "       4.2310646 , 9.80764198, 6.84829739, 4.80931901, 3.92117518])"
      ]
     },
     "execution_count": 38,
     "metadata": {},
     "output_type": "execute_result"
    }
   ],
   "source": [
    "x_coords"
   ]
  },
  {
   "cell_type": "code",
   "execution_count": 39,
   "metadata": {},
   "outputs": [
    {
     "data": {
      "text/plain": [
       "array([3.43178016, 7.29049707, 4.38572245, 0.59677897, 3.98044255,\n",
       "       7.37995406, 1.8249173 , 1.75451756, 5.31551374, 5.31827587])"
      ]
     },
     "execution_count": 39,
     "metadata": {},
     "output_type": "execute_result"
    }
   ],
   "source": [
    "y_coords"
   ]
  },
  {
   "cell_type": "code",
   "execution_count": 40,
   "metadata": {},
   "outputs": [
    {
     "data": {
      "text/plain": [
       "[<matplotlib.lines.Line2D at 0x7fdc7c12d310>]"
      ]
     },
     "execution_count": 40,
     "metadata": {},
     "output_type": "execute_result"
    },
    {
     "data": {
      "image/png": "[encoded data removed]",
      "text/plain": [
       "<Figure size 432x288 with 1 Axes>"
      ]
     },
     "metadata": {
      "needs_background": "light"
     },
     "output_type": "display_data"
    }
   ],
   "source": [
    "# Plot the x_coords and the y_coords\n",
    "plt.plot(x_coords, y_coords, 'r*')\n",
    "plt.plot(3, 3, 'ko')"
   ]
  },
  {
   "cell_type": "code",
   "execution_count": 41,
   "metadata": {},
   "outputs": [],
   "source": [
    "# Define a function to calculate the distance between two points\n",
    "def compute_distance(x0, y0, x1, y1):\n",
    "    dist = ((x0 - x1) ** 2 + (y0 - y1) ** 2) ** 0.5\n",
    "    return(dist)"
   ]
  },
  {
   "cell_type": "code",
   "execution_count": 42,
   "metadata": {
    "scrolled": true
   },
   "outputs": [
    {
     "data": {
      "text/plain": [
       "[3.988134353395788,\n",
       " 4.292735368526105,\n",
       " 1.5669389535402976,\n",
       " 3.477266549132929,\n",
       " 4.307747585644503,\n",
       " 4.549672251566546,\n",
       " 6.908314463123846,\n",
       " 4.044826235402923,\n",
       " 2.938577746168872,\n",
       " 2.4945874868884568]"
      ]
     },
     "execution_count": 42,
     "metadata": {},
     "output_type": "execute_result"
    }
   ],
   "source": [
    "# Calculate the distance between the events and a point x = 3, y = 3\n",
    "distance = [ compute_distance(3, 3, x_coords[i], y_coords[i]) for i in range(10) ]\n",
    "distance"
   ]
  },
  {
   "cell_type": "code",
   "execution_count": 43,
   "metadata": {},
   "outputs": [
    {
     "data": {
      "text/plain": [
       "array([False, False,  True, False, False, False, False, False, False,\n",
       "       False])"
      ]
     },
     "execution_count": 43,
     "metadata": {},
     "output_type": "execute_result"
    }
   ],
   "source": [
    "# Calculate the number of cases where the distance < 2\n",
    "# Strategy: Get the list of boolean and sum it up!\n",
    "# Does this work?\n",
    "# distance < 2\n",
    "\n",
    "# What can we do?\n",
    "distance = np.array(distance)\n",
    "# or distance = np.asarray(distance)\n",
    "distance < 2\n",
    "list_bools = distance < 2\n",
    "list_bools"
   ]
  },
  {
   "cell_type": "markdown",
   "metadata": {},
   "source": [
    "$$\n",
    "\\hat{\\lambda}(\\overrightarrow{\\underset{\\cdot}{s}}) =\\frac{1}{\\pi h^{2}} \\times \\sum_{j=1}^{N} \\mathbf{1}\\left[ dist(\\overrightarrow{\\underset{\\cdot}{s}}, \\overrightarrow{\\underset{\\cdot}{s_{inf\\_site\\; j}}})< h \\right]\n",
    "$$"
   ]
  },
  {
   "cell_type": "code",
   "execution_count": 44,
   "metadata": {
    "scrolled": true
   },
   "outputs": [
    {
     "data": {
      "text/plain": [
       "0.07957747154594767"
      ]
     },
     "execution_count": 44,
     "metadata": {},
     "output_type": "execute_result"
    }
   ],
   "source": [
    "# Calculate the lambda given a point x = 3, y = 3 and the parameter h = 2\n",
    "lambda_est = (1/(np.pi * (2 ** 2))) * np.sum(list_bools)\n",
    "lambda_est"
   ]
  },
  {
   "cell_type": "markdown",
   "metadata": {},
   "source": [
    "#### Don't be confused with a lambda function! "
   ]
  },
  {
   "cell_type": "markdown",
   "metadata": {},
   "source": [
    "1. A lambda function is a small anonymous function (defined without a name).\n",
    "2. A lambda function can take any number of arguments, but can only have one expression."
   ]
  },
  {
   "cell_type": "markdown",
   "metadata": {},
   "source": [
    "##### Why do we use lambda functions? \n",
    "https://stackoverflow.com/questions/890128/why-are-python-lambdas-useful"
   ]
  },
  {
   "cell_type": "code",
   "execution_count": 45,
   "metadata": {},
   "outputs": [
    {
     "data": {
      "text/plain": [
       "12"
      ]
     },
     "execution_count": 45,
     "metadata": {},
     "output_type": "execute_result"
    }
   ],
   "source": [
    "# lambda is a one-line function:\n",
    "x = lambda a : a + 10\n",
    "x(2)"
   ]
  },
  {
   "cell_type": "code",
   "execution_count": 46,
   "metadata": {},
   "outputs": [],
   "source": [
    "# Equivalent to the lambda above\n",
    "def x(a):\n",
    "    a + 10\n",
    "\n",
    "x(2)"
   ]
  },
  {
   "cell_type": "markdown",
   "metadata": {},
   "source": [
    "#### 3-2. With np.meshgrid function and np.ndarray.flatten method"
   ]
  },
  {
   "cell_type": "markdown",
   "metadata": {},
   "source": [
    "#### Objective: Calculate the lambda for each point in a 10 X 10 grid."
   ]
  },
  {
   "cell_type": "code",
   "execution_count": 47,
   "metadata": {},
   "outputs": [
    {
     "data": {
      "text/plain": [
       "(array([[ 1,  2,  3,  4,  5,  6,  7,  8,  9, 10],\n",
       "        [ 1,  2,  3,  4,  5,  6,  7,  8,  9, 10],\n",
       "        [ 1,  2,  3,  4,  5,  6,  7,  8,  9, 10],\n",
       "        [ 1,  2,  3,  4,  5,  6,  7,  8,  9, 10],\n",
       "        [ 1,  2,  3,  4,  5,  6,  7,  8,  9, 10],\n",
       "        [ 1,  2,  3,  4,  5,  6,  7,  8,  9, 10],\n",
       "        [ 1,  2,  3,  4,  5,  6,  7,  8,  9, 10],\n",
       "        [ 1,  2,  3,  4,  5,  6,  7,  8,  9, 10],\n",
       "        [ 1,  2,  3,  4,  5,  6,  7,  8,  9, 10],\n",
       "        [ 1,  2,  3,  4,  5,  6,  7,  8,  9, 10]]),\n",
       " array([[ 1,  1,  1,  1,  1,  1,  1,  1,  1,  1],\n",
       "        [ 2,  2,  2,  2,  2,  2,  2,  2,  2,  2],\n",
       "        [ 3,  3,  3,  3,  3,  3,  3,  3,  3,  3],\n",
       "        [ 4,  4,  4,  4,  4,  4,  4,  4,  4,  4],\n",
       "        [ 5,  5,  5,  5,  5,  5,  5,  5,  5,  5],\n",
       "        [ 6,  6,  6,  6,  6,  6,  6,  6,  6,  6],\n",
       "        [ 7,  7,  7,  7,  7,  7,  7,  7,  7,  7],\n",
       "        [ 8,  8,  8,  8,  8,  8,  8,  8,  8,  8],\n",
       "        [ 9,  9,  9,  9,  9,  9,  9,  9,  9,  9],\n",
       "        [10, 10, 10, 10, 10, 10, 10, 10, 10, 10]]))"
      ]
     },
     "execution_count": 47,
     "metadata": {},
     "output_type": "execute_result"
    }
   ],
   "source": [
    "# How can we make a 10 X 10 grid?\n",
    "# (The coordinates starts from (1, 1) and ends at (10, 10)\n",
    "# Use np.meshgrid\n",
    "x, y = np.meshgrid(range(1, 11), range(1, 11))\n",
    "# If we draw... \n",
    "x, y"
   ]
  },
  {
   "cell_type": "code",
   "execution_count": 48,
   "metadata": {},
   "outputs": [
    {
     "data": {
      "text/plain": [
       "array([ 1,  2,  3,  4,  5,  6,  7,  8,  9, 10,  1,  2,  3,  4,  5,  6,  7,\n",
       "        8,  9, 10,  1,  2,  3,  4,  5,  6,  7,  8,  9, 10,  1,  2,  3,  4,\n",
       "        5,  6,  7,  8,  9, 10,  1,  2,  3,  4,  5,  6,  7,  8,  9, 10,  1,\n",
       "        2,  3,  4,  5,  6,  7,  8,  9, 10,  1,  2,  3,  4,  5,  6,  7,  8,\n",
       "        9, 10,  1,  2,  3,  4,  5,  6,  7,  8,  9, 10,  1,  2,  3,  4,  5,\n",
       "        6,  7,  8,  9, 10,  1,  2,  3,  4,  5,  6,  7,  8,  9, 10])"
      ]
     },
     "execution_count": 48,
     "metadata": {},
     "output_type": "execute_result"
    }
   ],
   "source": [
    "# How can we get all the coordinates?\n",
    "x, y = x.flatten(), y.flatten()\n",
    "x"
   ]
  },
  {
   "cell_type": "code",
   "execution_count": 49,
   "metadata": {},
   "outputs": [
    {
     "data": {
      "text/plain": [
       "array([ 1,  1,  1,  1,  1,  1,  1,  1,  1,  1,  2,  2,  2,  2,  2,  2,  2,\n",
       "        2,  2,  2,  3,  3,  3,  3,  3,  3,  3,  3,  3,  3,  4,  4,  4,  4,\n",
       "        4,  4,  4,  4,  4,  4,  5,  5,  5,  5,  5,  5,  5,  5,  5,  5,  6,\n",
       "        6,  6,  6,  6,  6,  6,  6,  6,  6,  7,  7,  7,  7,  7,  7,  7,  7,\n",
       "        7,  7,  8,  8,  8,  8,  8,  8,  8,  8,  8,  8,  9,  9,  9,  9,  9,\n",
       "        9,  9,  9,  9,  9, 10, 10, 10, 10, 10, 10, 10, 10, 10, 10])"
      ]
     },
     "execution_count": 49,
     "metadata": {},
     "output_type": "execute_result"
    }
   ],
   "source": [
    "y"
   ]
  },
  {
   "cell_type": "code",
   "execution_count": 50,
   "metadata": {
    "scrolled": true
   },
   "outputs": [
    {
     "name": "stdout",
     "output_type": "stream",
     "text": [
      "(1, 1)\n",
      "(2, 1)\n",
      "(3, 1)\n",
      "(4, 1)\n",
      "(5, 1)\n",
      "(6, 1)\n",
      "(7, 1)\n",
      "(8, 1)\n",
      "(9, 1)\n",
      "(10, 1)\n",
      "(1, 2)\n",
      "(2, 2)\n",
      "(3, 2)\n",
      "(4, 2)\n",
      "(5, 2)\n",
      "(6, 2)\n",
      "(7, 2)\n",
      "(8, 2)\n",
      "(9, 2)\n",
      "(10, 2)\n",
      "(1, 3)\n",
      "(2, 3)\n",
      "(3, 3)\n",
      "(4, 3)\n",
      "(5, 3)\n",
      "(6, 3)\n",
      "(7, 3)\n",
      "(8, 3)\n",
      "(9, 3)\n",
      "(10, 3)\n",
      "(1, 4)\n",
      "(2, 4)\n",
      "(3, 4)\n",
      "(4, 4)\n",
      "(5, 4)\n",
      "(6, 4)\n",
      "(7, 4)\n",
      "(8, 4)\n",
      "(9, 4)\n",
      "(10, 4)\n",
      "(1, 5)\n",
      "(2, 5)\n",
      "(3, 5)\n",
      "(4, 5)\n",
      "(5, 5)\n",
      "(6, 5)\n",
      "(7, 5)\n",
      "(8, 5)\n",
      "(9, 5)\n",
      "(10, 5)\n",
      "(1, 6)\n",
      "(2, 6)\n",
      "(3, 6)\n",
      "(4, 6)\n",
      "(5, 6)\n",
      "(6, 6)\n",
      "(7, 6)\n",
      "(8, 6)\n",
      "(9, 6)\n",
      "(10, 6)\n",
      "(1, 7)\n",
      "(2, 7)\n",
      "(3, 7)\n",
      "(4, 7)\n",
      "(5, 7)\n",
      "(6, 7)\n",
      "(7, 7)\n",
      "(8, 7)\n",
      "(9, 7)\n",
      "(10, 7)\n",
      "(1, 8)\n",
      "(2, 8)\n",
      "(3, 8)\n",
      "(4, 8)\n",
      "(5, 8)\n",
      "(6, 8)\n",
      "(7, 8)\n",
      "(8, 8)\n",
      "(9, 8)\n",
      "(10, 8)\n",
      "(1, 9)\n",
      "(2, 9)\n",
      "(3, 9)\n",
      "(4, 9)\n",
      "(5, 9)\n",
      "(6, 9)\n",
      "(7, 9)\n",
      "(8, 9)\n",
      "(9, 9)\n",
      "(10, 9)\n",
      "(1, 10)\n",
      "(2, 10)\n",
      "(3, 10)\n",
      "(4, 10)\n",
      "(5, 10)\n",
      "(6, 10)\n",
      "(7, 10)\n",
      "(8, 10)\n",
      "(9, 10)\n",
      "(10, 10)\n"
     ]
    }
   ],
   "source": [
    "for i in range(100):\n",
    "    print((x[i], y[i]))"
   ]
  },
  {
   "cell_type": "code",
   "execution_count": 51,
   "metadata": {},
   "outputs": [
    {
     "data": {
      "text/plain": [
       "[<matplotlib.lines.Line2D at 0x7fdc7c24b490>]"
      ]
     },
     "execution_count": 51,
     "metadata": {},
     "output_type": "execute_result"
    },
    {
     "data": {
      "image/png": "[encoded data removed]",
      "text/plain": [
       "<Figure size 432x288 with 1 Axes>"
      ]
     },
     "metadata": {
      "needs_background": "light"
     },
     "output_type": "display_data"
    }
   ],
   "source": [
    "# Plot the events (x_coords, y_coords) and the x, y coordinates in one plot.\n",
    "# With different markers\n",
    "plt.plot(x_coords, y_coords, 'ro')\n",
    "plt.plot(x, y, 'k+')"
   ]
  },
  {
   "cell_type": "markdown",
   "metadata": {},
   "source": [
    "<div class=\"alert alert-block alert-info\">\n",
    "<b>Your turn!</b> \n",
    "\n",
    "Make a matrix of lambdas for all the locations!\n",
    "    \n",
    "Note: There are tons of ways to do this!\n",
    "</div>"
   ]
  },
  {
   "cell_type": "markdown",
   "metadata": {},
   "source": [
    "$$\n",
    "\\hat{\\lambda}(\\overrightarrow{\\underset{\\cdot}{s}}) =\\frac{1}{\\pi h^{2}} \\times \\sum_{j=1}^{N} \\mathbf{1}\\left[ dist(\\overrightarrow{\\underset{\\cdot}{s}}, \\overrightarrow{\\underset{\\cdot}{s_{inf\\_site\\; j}}})< h \\right]\n",
    "$$"
   ]
  },
  {
   "cell_type": "code",
   "execution_count": 52,
   "metadata": {},
   "outputs": [],
   "source": [
    "# Define a function to calculate the lambda given a point\n",
    "def lambda_function(x, y):\n",
    "    distance = [ compute_distance(x, y, x_coords[i], y_coords[i]) for i in range(10) ]\n",
    "    distance = np.asarray(distance)\n",
    "    list_bools = distance < 2\n",
    "    lambda_est = (1/(np.pi * (2 ** 2))) * np.sum(list_bools)\n",
    "    return(lambda_est)"
   ]
  },
  {
   "cell_type": "code",
   "execution_count": 53,
   "metadata": {},
   "outputs": [
    {
     "data": {
      "text/plain": [
       "array([[0.        , 0.        , 0.07957747, 0.07957747, 0.07957747,\n",
       "        0.        , 0.07957747, 0.07957747, 0.        , 0.        ],\n",
       "       [0.        , 0.        , 0.07957747, 0.07957747, 0.15915494,\n",
       "        0.15915494, 0.07957747, 0.07957747, 0.07957747, 0.        ],\n",
       "       [0.        , 0.        , 0.07957747, 0.15915494, 0.23873241,\n",
       "        0.39788736, 0.23873241, 0.15915494, 0.07957747, 0.        ],\n",
       "       [0.07957747, 0.        , 0.        , 0.23873241, 0.23873241,\n",
       "        0.31830989, 0.31830989, 0.15915494, 0.07957747, 0.        ],\n",
       "       [0.15915494, 0.15915494, 0.        , 0.15915494, 0.15915494,\n",
       "        0.23873241, 0.23873241, 0.07957747, 0.07957747, 0.        ],\n",
       "       [0.15915494, 0.23873241, 0.23873241, 0.23873241, 0.23873241,\n",
       "        0.07957747, 0.07957747, 0.07957747, 0.        , 0.        ],\n",
       "       [0.15915494, 0.23873241, 0.23873241, 0.15915494, 0.15915494,\n",
       "        0.        , 0.        , 0.        , 0.        , 0.        ],\n",
       "       [0.15915494, 0.23873241, 0.23873241, 0.15915494, 0.15915494,\n",
       "        0.        , 0.        , 0.        , 0.        , 0.        ],\n",
       "       [0.07957747, 0.07957747, 0.07957747, 0.07957747, 0.        ,\n",
       "        0.        , 0.        , 0.        , 0.        , 0.        ],\n",
       "       [0.07957747, 0.07957747, 0.07957747, 0.        , 0.        ,\n",
       "        0.        , 0.        , 0.        , 0.        , 0.        ]])"
      ]
     },
     "execution_count": 53,
     "metadata": {},
     "output_type": "execute_result"
    }
   ],
   "source": [
    "# Make a matrix of lambdas for all the locations\n",
    "# utilizing the function above and a double loop\n",
    "matrix = np.zeros((10, 10))\n",
    "\n",
    "for i in range(10):\n",
    "    for j in range(10):\n",
    "        matrix[i, j] = lambda_function(i + 1, j + 1)\n",
    "        \n",
    "matrix\n"
   ]
  },
  {
   "cell_type": "code",
   "execution_count": 54,
   "metadata": {},
   "outputs": [],
   "source": [
    "# Here's a lso a List comprehension version?\n",
    "# list_comp = [ expression_for_i for i in range(10) ]\n",
    "matrix_lc = [ [ lambda_function(i + 1, j + 1) for j in range(10) ] for i in range(10) ]"
   ]
  },
  {
   "cell_type": "code",
   "execution_count": 55,
   "metadata": {},
   "outputs": [
    {
     "data": {
      "text/plain": [
       "100"
      ]
     },
     "execution_count": 55,
     "metadata": {},
     "output_type": "execute_result"
    }
   ],
   "source": [
    "# Double check they're all the same\n",
    "np.sum(matrix_lc == matrix)"
   ]
  },
  {
   "cell_type": "markdown",
   "metadata": {},
   "source": [
    "### 4. Understanding K-function"
   ]
  },
  {
   "cell_type": "markdown",
   "metadata": {},
   "source": [
    "$$\\hat{K}(h) = \\frac{1}{z\\lambda}(\\sum_{i=1}^z \\sum_{j \\neq i} \\mathbf{1}\\{D(\\overrightarrow{\\underset{\\cdot}{s_i}}, \\overrightarrow{\\underset{\\cdot}{s_j}}) < h\\})$$\n",
    "\n",
    "Now we will compute the distance from each observation to all other observations, rather than the distance from a lattice point to all other observations. (That is why you see $j \\neq i $).Note that the K-function is a 'function' of h, the radius parameter."
   ]
  },
  {
   "cell_type": "code",
   "execution_count": 57,
   "metadata": {
    "scrolled": true
   },
   "outputs": [
    {
     "data": {
      "text/plain": [
       "12.0"
      ]
     },
     "execution_count": 57,
     "metadata": {},
     "output_type": "execute_result"
    }
   ],
   "source": [
    "# Assume that the lambda parameter is 0.1.\n",
    "# z is the number of occurrences. \n",
    "# Calculate the K for x_coords and y_coords\n",
    "\n",
    "matrix_k = np.zeros((10, 10))\n",
    "\n",
    "for i in range(10):\n",
    "    for j in range(10):\n",
    "        matrix_k[i, j] = compute_distance(x_coords[i], y_coords[i],\n",
    "                                          x_coords[j], y_coords[j])\n",
    "\n",
    "(np.sum(matrix_k < 2) - 10) / (10 * 0.1)\n",
    "\n"
   ]
  },
  {
   "cell_type": "code",
   "execution_count": 58,
   "metadata": {},
   "outputs": [
    {
     "data": {
      "text/plain": [
       "array([[0.        , 5.63265078, 4.7920859 , 3.184998  , 0.59491968,\n",
       "        4.80216567, 3.26563526, 1.68129638, 2.8625311 , 3.58076246],\n",
       "       [5.63265078, 0.        , 2.96466202, 7.19983772, 5.45288164,\n",
       "        1.37258948, 8.8387178 , 6.82220441, 2.77398154, 2.23892698],\n",
       "       [4.7920859 , 2.96466202, 0.        , 4.98836015, 4.94281838,\n",
       "        3.58008739, 7.96217091, 5.28182261, 2.70558667, 1.89761511],\n",
       "       [3.184998  , 7.19983772, 4.98836015, 0.        , 3.77846037,\n",
       "        6.90327468, 4.46665479, 1.76719647, 4.77093625, 4.98266088],\n",
       "       [0.59491968, 5.45288164, 4.94281838, 3.77846037, 0.        ,\n",
       "        4.50996144, 3.3873011 , 2.25271607, 2.73357063, 3.53633925],\n",
       "       [4.80216567, 1.37258948, 3.58008739, 6.90327468, 4.50996144,\n",
       "        0.        , 7.87125458, 6.20446962, 2.14389645, 2.08483774],\n",
       "       [3.26563526, 8.8387178 , 7.96217091, 4.46665479, 3.3873011 ,\n",
       "        7.87125458, 0.        , 2.96018185, 6.09651507, 6.8450015 ],\n",
       "       [1.68129638, 6.82220441, 5.28182261, 1.76719647, 2.25271607,\n",
       "        6.20446962, 2.96018185, 0.        , 4.10342864, 4.61176947],\n",
       "       [2.8625311 , 2.77398154, 2.70558667, 4.77093625, 2.73357063,\n",
       "        2.14389645, 6.09651507, 4.10342864, 0.        , 0.88814813],\n",
       "       [3.58076246, 2.23892698, 1.89761511, 4.98266088, 3.53633925,\n",
       "        2.08483774, 6.8450015 , 4.61176947, 0.88814813, 0.        ]])"
      ]
     },
     "execution_count": 58,
     "metadata": {},
     "output_type": "execute_result"
    }
   ],
   "source": [
    "matrix_k"
   ]
  }
 ],
 "metadata": {
  "kernelspec": {
   "display_name": "Python 3 (ipykernel)",
   "language": "python",
   "name": "python3"
  },
  "language_info": {
   "codemirror_mode": {
    "name": "ipython",
    "version": 3
   },
   "file_extension": ".py",
   "mimetype": "text/x-python",
   "name": "python",
   "nbconvert_exporter": "python",
   "pygments_lexer": "ipython3",
   "version": "3.9.7"
  }
 },
 "nbformat": 4,
 "nbformat_minor": 4
}
